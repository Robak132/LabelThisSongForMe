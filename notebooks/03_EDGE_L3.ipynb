{
 "cells": [
  {
   "cell_type": "code",
   "execution_count": 3,
   "metadata": {},
   "outputs": [
    {
     "name": "stderr",
     "output_type": "stream",
     "text": [
      "/home/robak/miniconda3/envs/music-tagging/lib/python3.7/site-packages/librosa/core/audio.py:161: UserWarning: PySoundFile failed. Trying audioread instead.\n",
      "  warnings.warn('PySoundFile failed. Trying audioread instead.')\n",
      "2022-12-17 17:14:30.078949: I tensorflow/core/platform/cpu_feature_guard.cc:142] Your CPU supports instructions that this TensorFlow binary was not compiled to use: AVX2 AVX512F FMA\n",
      "2022-12-17 17:14:30.083511: I tensorflow/core/platform/profile_utils/cpu_utils.cc:94] CPU Frequency: 2687995000 Hz\n",
      "2022-12-17 17:14:30.085071: I tensorflow/compiler/xla/service/service.cc:168] XLA service 0x55e2e6fc6510 executing computations on platform Host. Devices:\n",
      "2022-12-17 17:14:30.085093: I tensorflow/compiler/xla/service/service.cc:175]   StreamExecutor device (0): Host, Default Version\n"
     ]
    },
    {
     "name": "stdout",
     "output_type": "stream",
     "text": [
      "tracking <tf.Variable 'melspectrogram_1/real_kernels:0' shape=(2048, 1, 1, 1025) dtype=float32> dft_real_kernels\n",
      "tracking <tf.Variable 'melspectrogram_1/imag_kernels:0' shape=(2048, 1, 1, 1025) dtype=float32> dft_imag_kernels\n",
      "tracking <tf.Variable 'melspectrogram_1/Variable:0' shape=(1025, 256) dtype=float32> freq2mel\n",
      "288/288 [==============================] - 38s 133ms/step\n"
     ]
    }
   ],
   "source": [
    "import edgel3\n",
    "import librosa\n",
    "\n",
    "audio, sr = librosa.load('../data/mtat/mp3/0/american_bach_soloists-j_s__bach__cantatas_volume_v-01-gleichwie_der_regen_und_schnee_vom_himmel_fallt_bwv_18_i_sinfonia-0-29.mp3')\n",
    "import edgel3\n",
    "import numpy as np\n",
    "\n",
    "model = edgel3.models.load_embedding_model(model_type='sparse', retrain_type='ft', sparsity=53.5)\n",
    "\n",
    "audio_filepath = '/path/to/file.wav'\n",
    "\n",
    "# Save the embedding output to '/path/to/file.npz'\n",
    "edgel3.process_file(audio_filepath, model=model)\n",
    "\n",
    "# Saves the embedding output to '/path/to/file_suffix.npz'\n",
    "edgel3.process_file(audio_filepath, model=model, suffix='suffix')\n",
    "\n",
    "# Saves the embedding output to `/different/dir/file_suffix.npz`\n",
    "edgel3.process_file(audio_filepath, model=model, output_dir='/different/dir', suffix='suffix')"
   ]
  },
  {
   "cell_type": "code",
   "execution_count": 4,
   "metadata": {},
   "outputs": [
    {
     "data": {
      "text/plain": [
       "array([[0.17621362, 0.10878129, 0.19085039, ..., 0.26651797, 0.38839582,\n",
       "        0.15896559],\n",
       "       [0.18645473, 0.12313303, 0.28164962, ..., 0.360698  , 0.521071  ,\n",
       "        0.17472488],\n",
       "       [0.18270923, 0.10688521, 0.5011443 , ..., 0.58338994, 0.67198247,\n",
       "        0.1898571 ],\n",
       "       ...,\n",
       "       [0.18794155, 0.1871508 , 0.5551349 , ..., 0.6217424 , 0.5211083 ,\n",
       "        0.19698855],\n",
       "       [0.16426426, 0.16838007, 0.5534545 , ..., 0.60408616, 0.5560153 ,\n",
       "        0.20114915],\n",
       "       [0.17053938, 0.1731574 , 0.55187565, ..., 0.6092128 , 0.5263782 ,\n",
       "        0.26689142]], dtype=float32)"
      ]
     },
     "execution_count": 4,
     "metadata": {},
     "output_type": "execute_result"
    }
   ],
   "source": [
    "emb"
   ]
  },
  {
   "cell_type": "code",
   "execution_count": null,
   "metadata": {},
   "outputs": [],
   "source": []
  }
 ],
 "metadata": {
  "kernelspec": {
   "display_name": "Python 3 (ipykernel)",
   "language": "python",
   "name": "python3"
  },
  "language_info": {
   "codemirror_mode": {
    "name": "ipython",
    "version": 3
   },
   "file_extension": ".py",
   "mimetype": "text/x-python",
   "name": "python",
   "nbconvert_exporter": "python",
   "pygments_lexer": "ipython3",
   "version": "3.7.12"
  }
 },
 "nbformat": 4,
 "nbformat_minor": 1
}