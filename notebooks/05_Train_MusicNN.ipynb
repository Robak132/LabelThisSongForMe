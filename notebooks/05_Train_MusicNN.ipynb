{
 "cells": [
  {
   "cell_type": "code",
   "execution_count": 1,
   "metadata": {
    "collapsed": true
   },
   "outputs": [
    {
     "data": {
      "text/plain": "'/mnt/c/Users/kubar/Documents/Sem7/labelthissongforme/notebooks'"
     },
     "execution_count": 1,
     "metadata": {},
     "output_type": "execute_result"
    }
   ],
   "source": [
    "%pwd"
   ]
  },
  {
   "cell_type": "code",
   "execution_count": 2,
   "outputs": [],
   "source": [
    "import os\n",
    "import random\n",
    "import numpy as np\n",
    "import torch\n",
    "import pathlib\n",
    "\n",
    "from external.model import Musicnn\n",
    "from models.preprocessor import PreProcessor\n",
    "from models.common import Config\n",
    "from models.trainer import Trainer\n",
    "from models.tester import Tester"
   ],
   "metadata": {
    "collapsed": false
   }
  },
  {
   "cell_type": "code",
   "execution_count": 3,
   "outputs": [],
   "source": [
    "config = Config(model=Musicnn(n_class=10),\n",
    "                # preprocessor=PreProcessor(input_path=\"../data/mtat/mp3\", output_path=\"../data/mtat/npy\", suffix=\"npy\", sr=16000),\n",
    "                # preprocessor=OpenL3PreProcessor(input_path=\"../data/mtat/mp3\", output_path=\"../data/mtat/emb\", suffix=\"npy\", sr=16000),\n",
    "                n_epochs=10,\n",
    "                batch_size=16,\n",
    "                lr=1e-4,\n",
    "                model_save_path=\"../models\",\n",
    "                data_path='../data',\n",
    "                log_step=100,\n",
    "                sr=16000,\n",
    "                input_length=3 * 16000,\n",
    "                tags_path=\"../split/mtat-10/tags.npy\",\n",
    "                train_path=\"../split/mtat-10/train.npy\",\n",
    "                valid_path=\"../split/mtat-10/valid.npy\",\n",
    "                test_path=\"../split/mtat-10/test.npy\",\n",
    "                binary_path=\"../split/mtat-10/binary.npy\")"
   ],
   "metadata": {
    "collapsed": false
   }
  },
  {
   "cell_type": "code",
   "execution_count": null,
   "outputs": [],
   "source": [
    "def set_seed(seed: int = 42) -> None:\n",
    "    np.random.seed(seed)\n",
    "    random.seed(seed)\n",
    "    torch.manual_seed(seed)\n",
    "    torch.cuda.manual_seed(seed)\n",
    "    # Set a fixed value for the hash seed\n",
    "    os.environ[\"PYTHONHASHSEED\"] = str(seed)\n",
    "    print(f\"Random seed set as {seed}\")\n",
    "\n",
    "set_seed(123456)"
   ],
   "metadata": {
    "collapsed": false
   }
  },
  {
   "cell_type": "code",
   "execution_count": null,
   "outputs": [
    {
     "name": "stdout",
     "output_type": "stream",
     "text": [
      "[2023-03-18 12:56:13] Trainer initialised with CUDA: True\n"
     ]
    },
    {
     "name": "stderr",
     "output_type": "stream",
     "text": [
      "2023-03-18 12:56:20.440626: I tensorflow/core/platform/cpu_feature_guard.cc:193] This TensorFlow binary is optimized with oneAPI Deep Neural Network Library (oneDNN) to use the following CPU instructions in performance-critical operations:  AVX2 AVX512F AVX512_VNNI FMA\n",
      "To enable them in other operations, rebuild TensorFlow with the appropriate compiler flags.\n",
      "2023-03-18 12:56:21.091191: I tensorflow/core/util/port.cc:104] oneDNN custom operations are on. You may see slightly different numerical results due to floating-point round-off errors from different computation orders. To turn them off, set the environment variable `TF_ENABLE_ONEDNN_OPTS=0`.\n",
      "2023-03-18 12:56:22.246629: W tensorflow/compiler/xla/stream_executor/platform/default/dso_loader.cc:64] Could not load dynamic library 'libnvinfer.so.7'; dlerror: libnvinfer.so.7: cannot open shared object file: No such file or directory\n",
      "2023-03-18 12:56:22.246841: W tensorflow/compiler/xla/stream_executor/platform/default/dso_loader.cc:64] Could not load dynamic library 'libnvinfer_plugin.so.7'; dlerror: libnvinfer_plugin.so.7: cannot open shared object file: No such file or directory\n",
      "2023-03-18 12:56:22.246850: W tensorflow/compiler/tf2tensorrt/utils/py_utils.cc:38] TF-TRT Warning: Cannot dlopen some TensorRT libraries. If you would like to use Nvidia GPU with TensorRT, please make sure the missing libraries mentioned above are installed properly.\n"
     ]
    },
    {
     "name": "stdout",
     "output_type": "stream",
     "text": [
      "[2023-03-18 12:56:23] Tester initialised with CUDA: True and mode: VALID\n",
      "[2023-03-18 12:57:12] Epoch [1/10] Iter [100/772] Loss/train: 0.5164 Elapsed: 0:00:49.355027\n",
      "[2023-03-18 12:57:49] Epoch [1/10] Iter [200/772] Loss/train: 0.4318 Elapsed: 0:01:26.288187\n",
      "[2023-03-18 12:58:27] Epoch [1/10] Iter [300/772] Loss/train: 0.3613 Elapsed: 0:02:04.492626\n",
      "[2023-03-18 12:59:04] Epoch [1/10] Iter [400/772] Loss/train: 0.4516 Elapsed: 0:02:40.851715\n",
      "[2023-03-18 12:59:43] Epoch [1/10] Iter [500/772] Loss/train: 0.3373 Elapsed: 0:03:20.478147\n",
      "[2023-03-18 13:00:56] Epoch [1/10] Iter [600/772] Loss/train: 0.3332 Elapsed: 0:04:33.611942\n",
      "[2023-03-18 13:01:35] Epoch [1/10] Iter [700/772] Loss/train: 0.3381 Elapsed: 0:05:12.303828\n"
     ]
    },
    {
     "name": "stderr",
     "output_type": "stream",
     "text": [
      "100%|██████████| 2470/2470 [03:32<00:00, 11.61it/s]\n"
     ]
    },
    {
     "name": "stdout",
     "output_type": "stream",
     "text": [
      "[2023-03-18 13:05:38] Loss/valid: 0.3442\n",
      "[2023-03-18 13:05:38] AUC/ROC: 0.8672\n",
      "[2023-03-18 13:05:38] AUC/PR: 0.6158\n",
      "[2023-03-18 13:05:38] Found new best model\n",
      "[2023-03-18 13:06:14] Epoch [2/10] Iter [100/772] Loss/train: 0.3637 Elapsed: 0:09:50.873364\n",
      "[2023-03-18 13:06:50] Epoch [2/10] Iter [200/772] Loss/train: 0.3895 Elapsed: 0:10:27.699323\n",
      "[2023-03-18 13:07:27] Epoch [2/10] Iter [300/772] Loss/train: 0.3390 Elapsed: 0:11:04.287218\n",
      "[2023-03-18 13:08:10] Epoch [2/10] Iter [400/772] Loss/train: 0.3028 Elapsed: 0:11:47.036676\n",
      "[2023-03-18 13:09:53] Epoch [2/10] Iter [500/772] Loss/train: 0.3266 Elapsed: 0:13:30.798438\n",
      "[2023-03-18 13:10:33] Epoch [2/10] Iter [600/772] Loss/train: 0.3113 Elapsed: 0:14:10.626447\n",
      "[2023-03-18 13:11:12] Epoch [2/10] Iter [700/772] Loss/train: 0.2719 Elapsed: 0:14:49.329381\n"
     ]
    },
    {
     "name": "stderr",
     "output_type": "stream",
     "text": [
      "100%|██████████| 2470/2470 [03:40<00:00, 11.20it/s]\n"
     ]
    },
    {
     "name": "stdout",
     "output_type": "stream",
     "text": [
      "[2023-03-18 13:15:22] Loss/valid: 0.3342\n",
      "[2023-03-18 13:15:22] AUC/ROC: 0.8752\n",
      "[2023-03-18 13:15:22] AUC/PR: 0.6333\n",
      "[2023-03-18 13:15:22] Found new best model\n",
      "[2023-03-18 13:16:02] Epoch [3/10] Iter [100/772] Loss/train: 0.3490 Elapsed: 0:19:38.900868\n",
      "[2023-03-18 13:16:42] Epoch [3/10] Iter [200/772] Loss/train: 0.3036 Elapsed: 0:20:19.022369\n",
      "[2023-03-18 13:17:19] Epoch [3/10] Iter [300/772] Loss/train: 0.3148 Elapsed: 0:20:56.122666\n",
      "[2023-03-18 13:18:00] Epoch [3/10] Iter [400/772] Loss/train: 0.3667 Elapsed: 0:21:37.092527\n",
      "[2023-03-18 13:18:41] Epoch [3/10] Iter [500/772] Loss/train: 0.3544 Elapsed: 0:22:18.647959\n",
      "[2023-03-18 13:19:22] Epoch [3/10] Iter [600/772] Loss/train: 0.3183 Elapsed: 0:22:59.313223\n",
      "[2023-03-18 13:19:59] Epoch [3/10] Iter [700/772] Loss/train: 0.2924 Elapsed: 0:23:36.780818\n"
     ]
    },
    {
     "name": "stderr",
     "output_type": "stream",
     "text": [
      "100%|██████████| 2470/2470 [03:42<00:00, 11.11it/s]\n"
     ]
    },
    {
     "name": "stdout",
     "output_type": "stream",
     "text": [
      "[2023-03-18 13:24:10] Loss/valid: 0.3201\n",
      "[2023-03-18 13:24:10] AUC/ROC: 0.8882\n",
      "[2023-03-18 13:24:10] AUC/PR: 0.6599\n",
      "[2023-03-18 13:24:10] Found new best model\n",
      "[2023-03-18 13:24:55] Epoch [4/10] Iter [100/772] Loss/train: 0.4078 Elapsed: 0:28:32.405434\n",
      "[2023-03-18 13:25:32] Epoch [4/10] Iter [200/772] Loss/train: 0.3542 Elapsed: 0:29:09.309790\n",
      "[2023-03-18 13:26:09] Epoch [4/10] Iter [300/772] Loss/train: 0.2825 Elapsed: 0:29:46.293193\n",
      "[2023-03-18 13:26:45] Epoch [4/10] Iter [400/772] Loss/train: 0.3201 Elapsed: 0:30:22.808953\n",
      "[2023-03-18 13:27:19] Epoch [4/10] Iter [500/772] Loss/train: 0.2920 Elapsed: 0:30:56.761729\n",
      "[2023-03-18 13:27:53] Epoch [4/10] Iter [600/772] Loss/train: 0.2884 Elapsed: 0:31:30.603987\n",
      "[2023-03-18 13:28:28] Epoch [4/10] Iter [700/772] Loss/train: 0.3815 Elapsed: 0:32:05.142026\n"
     ]
    },
    {
     "name": "stderr",
     "output_type": "stream",
     "text": [
      " 44%|████▍     | 1095/2470 [01:32<01:55, 11.85it/s]"
     ]
    }
   ],
   "source": [
    "trainer = Trainer(config)\n",
    "trainer.train()"
   ],
   "metadata": {
    "collapsed": false,
    "pycharm": {
     "is_executing": true
    }
   }
  },
  {
   "cell_type": "code",
   "execution_count": null,
   "outputs": [],
   "source": [
    "tester = Tester(config, trainer.model_file_name)\n",
    "tester.test()"
   ],
   "metadata": {
    "collapsed": false,
    "pycharm": {
     "is_executing": true
    }
   }
  }
 ],
 "metadata": {
  "kernelspec": {
   "display_name": "Python 3",
   "language": "python",
   "name": "python3"
  },
  "language_info": {
   "codemirror_mode": {
    "name": "ipython",
    "version": 2
   },
   "file_extension": ".py",
   "mimetype": "text/x-python",
   "name": "python",
   "nbconvert_exporter": "python",
   "pygments_lexer": "ipython2",
   "version": "2.7.6"
  }
 },
 "nbformat": 4,
 "nbformat_minor": 0
}
