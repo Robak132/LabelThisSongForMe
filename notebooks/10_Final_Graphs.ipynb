{
 "cells": [
  {
   "cell_type": "code",
   "execution_count": 5,
   "metadata": {
    "collapsed": true,
    "ExecuteTime": {
     "start_time": "2023-05-01T20:08:11.289602Z",
     "end_time": "2023-05-01T20:08:11.293602Z"
    }
   },
   "outputs": [],
   "source": [
    "import pandas as pd\n",
    "import plotly.express as px\n",
    "\n",
    "results = {\n",
    "    \"Musicnn-10\": [0.6602, 0.9199, 0.7263],\n",
    "    \"OpenL3-10\": [0.7008, 0.9379, 0.7576],\n",
    "    \"Musicnn-20\": [0.5294, 0.9224, 0.6089],\n",
    "    \"OpenL3-20\": [0.6008, 0.9347, 0.6580]\n",
    "}"
   ]
  },
  {
   "cell_type": "code",
   "execution_count": 11,
   "outputs": [
    {
     "data": {
      "text/plain": "            f1_score  roc_auc  pr_auc\nMusicnn-10    0.6602   0.9199  0.7263\nOpenL3-10     0.7008   0.9379  0.7576\nMusicnn-20    0.5294   0.9224  0.6089\nOpenL3-20     0.6008   0.9347  0.6580",
      "text/html": "<div>\n<style scoped>\n    .dataframe tbody tr th:only-of-type {\n        vertical-align: middle;\n    }\n\n    .dataframe tbody tr th {\n        vertical-align: top;\n    }\n\n    .dataframe thead th {\n        text-align: right;\n    }\n</style>\n<table border=\"1\" class=\"dataframe\">\n  <thead>\n    <tr style=\"text-align: right;\">\n      <th></th>\n      <th>f1_score</th>\n      <th>roc_auc</th>\n      <th>pr_auc</th>\n    </tr>\n  </thead>\n  <tbody>\n    <tr>\n      <th>Musicnn-10</th>\n      <td>0.6602</td>\n      <td>0.9199</td>\n      <td>0.7263</td>\n    </tr>\n    <tr>\n      <th>OpenL3-10</th>\n      <td>0.7008</td>\n      <td>0.9379</td>\n      <td>0.7576</td>\n    </tr>\n    <tr>\n      <th>Musicnn-20</th>\n      <td>0.5294</td>\n      <td>0.9224</td>\n      <td>0.6089</td>\n    </tr>\n    <tr>\n      <th>OpenL3-20</th>\n      <td>0.6008</td>\n      <td>0.9347</td>\n      <td>0.6580</td>\n    </tr>\n  </tbody>\n</table>\n</div>"
     },
     "execution_count": 11,
     "metadata": {},
     "output_type": "execute_result"
    }
   ],
   "source": [
    "df = pd.DataFrame.from_dict(results, orient=\"index\", columns=['f1_score', \"roc_auc\", \"pr_auc\"])\n",
    "df"
   ],
   "metadata": {
    "collapsed": false,
    "ExecuteTime": {
     "start_time": "2023-05-01T20:10:08.134063Z",
     "end_time": "2023-05-01T20:10:08.182559Z"
    }
   }
  },
  {
   "cell_type": "code",
   "execution_count": 42,
   "outputs": [
    {
     "data": {
      "application/vnd.plotly.v1+json": {
       "data": [
        {
         "name": "F1 Score",
         "orientation": "h",
         "text": [
          0.6602,
          0.7008,
          0.5294,
          0.6008
         ],
         "x": [
          0.6602,
          0.7008,
          0.5294,
          0.6008
         ],
         "y": [
          "Musicnn-10",
          "OpenL3-10",
          "Musicnn-20",
          "OpenL3-20"
         ],
         "type": "bar",
         "xaxis": "x",
         "yaxis": "y"
        },
        {
         "name": "Area under ROC curve",
         "orientation": "h",
         "text": [
          0.9199,
          0.9379,
          0.9224,
          0.9347
         ],
         "x": [
          0.9199,
          0.9379,
          0.9224,
          0.9347
         ],
         "y": [
          "Musicnn-10",
          "OpenL3-10",
          "Musicnn-20",
          "OpenL3-20"
         ],
         "type": "bar",
         "xaxis": "x2",
         "yaxis": "y2"
        },
        {
         "name": "Area under PR curve",
         "orientation": "h",
         "text": [
          0.7263,
          0.7576,
          0.6089,
          0.658
         ],
         "x": [
          0.7263,
          0.7576,
          0.6089,
          0.658
         ],
         "y": [
          "Musicnn-10",
          "OpenL3-10",
          "Musicnn-20",
          "OpenL3-20"
         ],
         "type": "bar",
         "xaxis": "x3",
         "yaxis": "y3"
        }
       ],
       "layout": {
        "template": {
         "data": {
          "barpolar": [
           {
            "marker": {
             "line": {
              "color": "white",
              "width": 0.5
             },
             "pattern": {
              "fillmode": "overlay",
              "size": 10,
              "solidity": 0.2
             }
            },
            "type": "barpolar"
           }
          ],
          "bar": [
           {
            "error_x": {
             "color": "#2a3f5f"
            },
            "error_y": {
             "color": "#2a3f5f"
            },
            "marker": {
             "line": {
              "color": "white",
              "width": 0.5
             },
             "pattern": {
              "fillmode": "overlay",
              "size": 10,
              "solidity": 0.2
             }
            },
            "type": "bar"
           }
          ],
          "carpet": [
           {
            "aaxis": {
             "endlinecolor": "#2a3f5f",
             "gridcolor": "#C8D4E3",
             "linecolor": "#C8D4E3",
             "minorgridcolor": "#C8D4E3",
             "startlinecolor": "#2a3f5f"
            },
            "baxis": {
             "endlinecolor": "#2a3f5f",
             "gridcolor": "#C8D4E3",
             "linecolor": "#C8D4E3",
             "minorgridcolor": "#C8D4E3",
             "startlinecolor": "#2a3f5f"
            },
            "type": "carpet"
           }
          ],
          "choropleth": [
           {
            "colorbar": {
             "outlinewidth": 0,
             "ticks": ""
            },
            "type": "choropleth"
           }
          ],
          "contourcarpet": [
           {
            "colorbar": {
             "outlinewidth": 0,
             "ticks": ""
            },
            "type": "contourcarpet"
           }
          ],
          "contour": [
           {
            "colorbar": {
             "outlinewidth": 0,
             "ticks": ""
            },
            "colorscale": [
             [
              0.0,
              "#0d0887"
             ],
             [
              0.1111111111111111,
              "#46039f"
             ],
             [
              0.2222222222222222,
              "#7201a8"
             ],
             [
              0.3333333333333333,
              "#9c179e"
             ],
             [
              0.4444444444444444,
              "#bd3786"
             ],
             [
              0.5555555555555556,
              "#d8576b"
             ],
             [
              0.6666666666666666,
              "#ed7953"
             ],
             [
              0.7777777777777778,
              "#fb9f3a"
             ],
             [
              0.8888888888888888,
              "#fdca26"
             ],
             [
              1.0,
              "#f0f921"
             ]
            ],
            "type": "contour"
           }
          ],
          "heatmapgl": [
           {
            "colorbar": {
             "outlinewidth": 0,
             "ticks": ""
            },
            "colorscale": [
             [
              0.0,
              "#0d0887"
             ],
             [
              0.1111111111111111,
              "#46039f"
             ],
             [
              0.2222222222222222,
              "#7201a8"
             ],
             [
              0.3333333333333333,
              "#9c179e"
             ],
             [
              0.4444444444444444,
              "#bd3786"
             ],
             [
              0.5555555555555556,
              "#d8576b"
             ],
             [
              0.6666666666666666,
              "#ed7953"
             ],
             [
              0.7777777777777778,
              "#fb9f3a"
             ],
             [
              0.8888888888888888,
              "#fdca26"
             ],
             [
              1.0,
              "#f0f921"
             ]
            ],
            "type": "heatmapgl"
           }
          ],
          "heatmap": [
           {
            "colorbar": {
             "outlinewidth": 0,
             "ticks": ""
            },
            "colorscale": [
             [
              0.0,
              "#0d0887"
             ],
             [
              0.1111111111111111,
              "#46039f"
             ],
             [
              0.2222222222222222,
              "#7201a8"
             ],
             [
              0.3333333333333333,
              "#9c179e"
             ],
             [
              0.4444444444444444,
              "#bd3786"
             ],
             [
              0.5555555555555556,
              "#d8576b"
             ],
             [
              0.6666666666666666,
              "#ed7953"
             ],
             [
              0.7777777777777778,
              "#fb9f3a"
             ],
             [
              0.8888888888888888,
              "#fdca26"
             ],
             [
              1.0,
              "#f0f921"
             ]
            ],
            "type": "heatmap"
           }
          ],
          "histogram2dcontour": [
           {
            "colorbar": {
             "outlinewidth": 0,
             "ticks": ""
            },
            "colorscale": [
             [
              0.0,
              "#0d0887"
             ],
             [
              0.1111111111111111,
              "#46039f"
             ],
             [
              0.2222222222222222,
              "#7201a8"
             ],
             [
              0.3333333333333333,
              "#9c179e"
             ],
             [
              0.4444444444444444,
              "#bd3786"
             ],
             [
              0.5555555555555556,
              "#d8576b"
             ],
             [
              0.6666666666666666,
              "#ed7953"
             ],
             [
              0.7777777777777778,
              "#fb9f3a"
             ],
             [
              0.8888888888888888,
              "#fdca26"
             ],
             [
              1.0,
              "#f0f921"
             ]
            ],
            "type": "histogram2dcontour"
           }
          ],
          "histogram2d": [
           {
            "colorbar": {
             "outlinewidth": 0,
             "ticks": ""
            },
            "colorscale": [
             [
              0.0,
              "#0d0887"
             ],
             [
              0.1111111111111111,
              "#46039f"
             ],
             [
              0.2222222222222222,
              "#7201a8"
             ],
             [
              0.3333333333333333,
              "#9c179e"
             ],
             [
              0.4444444444444444,
              "#bd3786"
             ],
             [
              0.5555555555555556,
              "#d8576b"
             ],
             [
              0.6666666666666666,
              "#ed7953"
             ],
             [
              0.7777777777777778,
              "#fb9f3a"
             ],
             [
              0.8888888888888888,
              "#fdca26"
             ],
             [
              1.0,
              "#f0f921"
             ]
            ],
            "type": "histogram2d"
           }
          ],
          "histogram": [
           {
            "marker": {
             "pattern": {
              "fillmode": "overlay",
              "size": 10,
              "solidity": 0.2
             }
            },
            "type": "histogram"
           }
          ],
          "mesh3d": [
           {
            "colorbar": {
             "outlinewidth": 0,
             "ticks": ""
            },
            "type": "mesh3d"
           }
          ],
          "parcoords": [
           {
            "line": {
             "colorbar": {
              "outlinewidth": 0,
              "ticks": ""
             }
            },
            "type": "parcoords"
           }
          ],
          "pie": [
           {
            "automargin": true,
            "type": "pie"
           }
          ],
          "scatter3d": [
           {
            "line": {
             "colorbar": {
              "outlinewidth": 0,
              "ticks": ""
             }
            },
            "marker": {
             "colorbar": {
              "outlinewidth": 0,
              "ticks": ""
             }
            },
            "type": "scatter3d"
           }
          ],
          "scattercarpet": [
           {
            "marker": {
             "colorbar": {
              "outlinewidth": 0,
              "ticks": ""
             }
            },
            "type": "scattercarpet"
           }
          ],
          "scattergeo": [
           {
            "marker": {
             "colorbar": {
              "outlinewidth": 0,
              "ticks": ""
             }
            },
            "type": "scattergeo"
           }
          ],
          "scattergl": [
           {
            "marker": {
             "colorbar": {
              "outlinewidth": 0,
              "ticks": ""
             }
            },
            "type": "scattergl"
           }
          ],
          "scattermapbox": [
           {
            "marker": {
             "colorbar": {
              "outlinewidth": 0,
              "ticks": ""
             }
            },
            "type": "scattermapbox"
           }
          ],
          "scatterpolargl": [
           {
            "marker": {
             "colorbar": {
              "outlinewidth": 0,
              "ticks": ""
             }
            },
            "type": "scatterpolargl"
           }
          ],
          "scatterpolar": [
           {
            "marker": {
             "colorbar": {
              "outlinewidth": 0,
              "ticks": ""
             }
            },
            "type": "scatterpolar"
           }
          ],
          "scatter": [
           {
            "fillpattern": {
             "fillmode": "overlay",
             "size": 10,
             "solidity": 0.2
            },
            "type": "scatter"
           }
          ],
          "scatterternary": [
           {
            "marker": {
             "colorbar": {
              "outlinewidth": 0,
              "ticks": ""
             }
            },
            "type": "scatterternary"
           }
          ],
          "surface": [
           {
            "colorbar": {
             "outlinewidth": 0,
             "ticks": ""
            },
            "colorscale": [
             [
              0.0,
              "#0d0887"
             ],
             [
              0.1111111111111111,
              "#46039f"
             ],
             [
              0.2222222222222222,
              "#7201a8"
             ],
             [
              0.3333333333333333,
              "#9c179e"
             ],
             [
              0.4444444444444444,
              "#bd3786"
             ],
             [
              0.5555555555555556,
              "#d8576b"
             ],
             [
              0.6666666666666666,
              "#ed7953"
             ],
             [
              0.7777777777777778,
              "#fb9f3a"
             ],
             [
              0.8888888888888888,
              "#fdca26"
             ],
             [
              1.0,
              "#f0f921"
             ]
            ],
            "type": "surface"
           }
          ],
          "table": [
           {
            "cells": {
             "fill": {
              "color": "#EBF0F8"
             },
             "line": {
              "color": "white"
             }
            },
            "header": {
             "fill": {
              "color": "#C8D4E3"
             },
             "line": {
              "color": "white"
             }
            },
            "type": "table"
           }
          ]
         },
         "layout": {
          "annotationdefaults": {
           "arrowcolor": "#2a3f5f",
           "arrowhead": 0,
           "arrowwidth": 1
          },
          "autotypenumbers": "strict",
          "coloraxis": {
           "colorbar": {
            "outlinewidth": 0,
            "ticks": ""
           }
          },
          "colorscale": {
           "diverging": [
            [
             0,
             "#8e0152"
            ],
            [
             0.1,
             "#c51b7d"
            ],
            [
             0.2,
             "#de77ae"
            ],
            [
             0.3,
             "#f1b6da"
            ],
            [
             0.4,
             "#fde0ef"
            ],
            [
             0.5,
             "#f7f7f7"
            ],
            [
             0.6,
             "#e6f5d0"
            ],
            [
             0.7,
             "#b8e186"
            ],
            [
             0.8,
             "#7fbc41"
            ],
            [
             0.9,
             "#4d9221"
            ],
            [
             1,
             "#276419"
            ]
           ],
           "sequential": [
            [
             0.0,
             "#0d0887"
            ],
            [
             0.1111111111111111,
             "#46039f"
            ],
            [
             0.2222222222222222,
             "#7201a8"
            ],
            [
             0.3333333333333333,
             "#9c179e"
            ],
            [
             0.4444444444444444,
             "#bd3786"
            ],
            [
             0.5555555555555556,
             "#d8576b"
            ],
            [
             0.6666666666666666,
             "#ed7953"
            ],
            [
             0.7777777777777778,
             "#fb9f3a"
            ],
            [
             0.8888888888888888,
             "#fdca26"
            ],
            [
             1.0,
             "#f0f921"
            ]
           ],
           "sequentialminus": [
            [
             0.0,
             "#0d0887"
            ],
            [
             0.1111111111111111,
             "#46039f"
            ],
            [
             0.2222222222222222,
             "#7201a8"
            ],
            [
             0.3333333333333333,
             "#9c179e"
            ],
            [
             0.4444444444444444,
             "#bd3786"
            ],
            [
             0.5555555555555556,
             "#d8576b"
            ],
            [
             0.6666666666666666,
             "#ed7953"
            ],
            [
             0.7777777777777778,
             "#fb9f3a"
            ],
            [
             0.8888888888888888,
             "#fdca26"
            ],
            [
             1.0,
             "#f0f921"
            ]
           ]
          },
          "colorway": [
           "#636efa",
           "#EF553B",
           "#00cc96",
           "#ab63fa",
           "#FFA15A",
           "#19d3f3",
           "#FF6692",
           "#B6E880",
           "#FF97FF",
           "#FECB52"
          ],
          "font": {
           "color": "#2a3f5f"
          },
          "geo": {
           "bgcolor": "white",
           "lakecolor": "white",
           "landcolor": "white",
           "showlakes": true,
           "showland": true,
           "subunitcolor": "#C8D4E3"
          },
          "hoverlabel": {
           "align": "left"
          },
          "hovermode": "closest",
          "mapbox": {
           "style": "light"
          },
          "paper_bgcolor": "white",
          "plot_bgcolor": "white",
          "polar": {
           "angularaxis": {
            "gridcolor": "#EBF0F8",
            "linecolor": "#EBF0F8",
            "ticks": ""
           },
           "bgcolor": "white",
           "radialaxis": {
            "gridcolor": "#EBF0F8",
            "linecolor": "#EBF0F8",
            "ticks": ""
           }
          },
          "scene": {
           "xaxis": {
            "backgroundcolor": "white",
            "gridcolor": "#DFE8F3",
            "gridwidth": 2,
            "linecolor": "#EBF0F8",
            "showbackground": true,
            "ticks": "",
            "zerolinecolor": "#EBF0F8"
           },
           "yaxis": {
            "backgroundcolor": "white",
            "gridcolor": "#DFE8F3",
            "gridwidth": 2,
            "linecolor": "#EBF0F8",
            "showbackground": true,
            "ticks": "",
            "zerolinecolor": "#EBF0F8"
           },
           "zaxis": {
            "backgroundcolor": "white",
            "gridcolor": "#DFE8F3",
            "gridwidth": 2,
            "linecolor": "#EBF0F8",
            "showbackground": true,
            "ticks": "",
            "zerolinecolor": "#EBF0F8"
           }
          },
          "shapedefaults": {
           "line": {
            "color": "#2a3f5f"
           }
          },
          "ternary": {
           "aaxis": {
            "gridcolor": "#DFE8F3",
            "linecolor": "#A2B1C6",
            "ticks": ""
           },
           "baxis": {
            "gridcolor": "#DFE8F3",
            "linecolor": "#A2B1C6",
            "ticks": ""
           },
           "bgcolor": "white",
           "caxis": {
            "gridcolor": "#DFE8F3",
            "linecolor": "#A2B1C6",
            "ticks": ""
           }
          },
          "title": {
           "x": 0.05
          },
          "xaxis": {
           "automargin": true,
           "gridcolor": "#EBF0F8",
           "linecolor": "#EBF0F8",
           "ticks": "",
           "title": {
            "standoff": 15
           },
           "zerolinecolor": "#EBF0F8",
           "zerolinewidth": 2
          },
          "yaxis": {
           "automargin": true,
           "gridcolor": "#EBF0F8",
           "linecolor": "#EBF0F8",
           "ticks": "",
           "title": {
            "standoff": 15
           },
           "zerolinecolor": "#EBF0F8",
           "zerolinewidth": 2
          }
         }
        },
        "xaxis": {
         "anchor": "y",
         "domain": [
          0.0,
          1.0
         ]
        },
        "yaxis": {
         "anchor": "x",
         "domain": [
          0.7333333333333333,
          1.0
         ]
        },
        "xaxis2": {
         "anchor": "y2",
         "domain": [
          0.0,
          1.0
         ]
        },
        "yaxis2": {
         "anchor": "x2",
         "domain": [
          0.36666666666666664,
          0.6333333333333333
         ]
        },
        "xaxis3": {
         "anchor": "y3",
         "domain": [
          0.0,
          1.0
         ]
        },
        "yaxis3": {
         "anchor": "x3",
         "domain": [
          0.0,
          0.26666666666666666
         ]
        },
        "title": {
         "text": "Porównanie skuteczności modeli",
         "x": 0.5
        }
       },
       "config": {
        "plotlyServerURL": "https://plot.ly"
       }
      },
      "text/html": "<div>                            <div id=\"5b000087-7622-4d7e-b80d-92e09787cc4a\" class=\"plotly-graph-div\" style=\"height:525px; width:100%;\"></div>            <script type=\"text/javascript\">                require([\"plotly\"], function(Plotly) {                    window.PLOTLYENV=window.PLOTLYENV || {};                                    if (document.getElementById(\"5b000087-7622-4d7e-b80d-92e09787cc4a\")) {                    Plotly.newPlot(                        \"5b000087-7622-4d7e-b80d-92e09787cc4a\",                        [{\"name\":\"F1 Score\",\"orientation\":\"h\",\"text\":[0.6602,0.7008,0.5294,0.6008],\"x\":[0.6602,0.7008,0.5294,0.6008],\"y\":[\"Musicnn-10\",\"OpenL3-10\",\"Musicnn-20\",\"OpenL3-20\"],\"type\":\"bar\",\"xaxis\":\"x\",\"yaxis\":\"y\"},{\"name\":\"Area under ROC curve\",\"orientation\":\"h\",\"text\":[0.9199,0.9379,0.9224,0.9347],\"x\":[0.9199,0.9379,0.9224,0.9347],\"y\":[\"Musicnn-10\",\"OpenL3-10\",\"Musicnn-20\",\"OpenL3-20\"],\"type\":\"bar\",\"xaxis\":\"x2\",\"yaxis\":\"y2\"},{\"name\":\"Area under PR curve\",\"orientation\":\"h\",\"text\":[0.7263,0.7576,0.6089,0.658],\"x\":[0.7263,0.7576,0.6089,0.658],\"y\":[\"Musicnn-10\",\"OpenL3-10\",\"Musicnn-20\",\"OpenL3-20\"],\"type\":\"bar\",\"xaxis\":\"x3\",\"yaxis\":\"y3\"}],                        {\"template\":{\"data\":{\"barpolar\":[{\"marker\":{\"line\":{\"color\":\"white\",\"width\":0.5},\"pattern\":{\"fillmode\":\"overlay\",\"size\":10,\"solidity\":0.2}},\"type\":\"barpolar\"}],\"bar\":[{\"error_x\":{\"color\":\"#2a3f5f\"},\"error_y\":{\"color\":\"#2a3f5f\"},\"marker\":{\"line\":{\"color\":\"white\",\"width\":0.5},\"pattern\":{\"fillmode\":\"overlay\",\"size\":10,\"solidity\":0.2}},\"type\":\"bar\"}],\"carpet\":[{\"aaxis\":{\"endlinecolor\":\"#2a3f5f\",\"gridcolor\":\"#C8D4E3\",\"linecolor\":\"#C8D4E3\",\"minorgridcolor\":\"#C8D4E3\",\"startlinecolor\":\"#2a3f5f\"},\"baxis\":{\"endlinecolor\":\"#2a3f5f\",\"gridcolor\":\"#C8D4E3\",\"linecolor\":\"#C8D4E3\",\"minorgridcolor\":\"#C8D4E3\",\"startlinecolor\":\"#2a3f5f\"},\"type\":\"carpet\"}],\"choropleth\":[{\"colorbar\":{\"outlinewidth\":0,\"ticks\":\"\"},\"type\":\"choropleth\"}],\"contourcarpet\":[{\"colorbar\":{\"outlinewidth\":0,\"ticks\":\"\"},\"type\":\"contourcarpet\"}],\"contour\":[{\"colorbar\":{\"outlinewidth\":0,\"ticks\":\"\"},\"colorscale\":[[0.0,\"#0d0887\"],[0.1111111111111111,\"#46039f\"],[0.2222222222222222,\"#7201a8\"],[0.3333333333333333,\"#9c179e\"],[0.4444444444444444,\"#bd3786\"],[0.5555555555555556,\"#d8576b\"],[0.6666666666666666,\"#ed7953\"],[0.7777777777777778,\"#fb9f3a\"],[0.8888888888888888,\"#fdca26\"],[1.0,\"#f0f921\"]],\"type\":\"contour\"}],\"heatmapgl\":[{\"colorbar\":{\"outlinewidth\":0,\"ticks\":\"\"},\"colorscale\":[[0.0,\"#0d0887\"],[0.1111111111111111,\"#46039f\"],[0.2222222222222222,\"#7201a8\"],[0.3333333333333333,\"#9c179e\"],[0.4444444444444444,\"#bd3786\"],[0.5555555555555556,\"#d8576b\"],[0.6666666666666666,\"#ed7953\"],[0.7777777777777778,\"#fb9f3a\"],[0.8888888888888888,\"#fdca26\"],[1.0,\"#f0f921\"]],\"type\":\"heatmapgl\"}],\"heatmap\":[{\"colorbar\":{\"outlinewidth\":0,\"ticks\":\"\"},\"colorscale\":[[0.0,\"#0d0887\"],[0.1111111111111111,\"#46039f\"],[0.2222222222222222,\"#7201a8\"],[0.3333333333333333,\"#9c179e\"],[0.4444444444444444,\"#bd3786\"],[0.5555555555555556,\"#d8576b\"],[0.6666666666666666,\"#ed7953\"],[0.7777777777777778,\"#fb9f3a\"],[0.8888888888888888,\"#fdca26\"],[1.0,\"#f0f921\"]],\"type\":\"heatmap\"}],\"histogram2dcontour\":[{\"colorbar\":{\"outlinewidth\":0,\"ticks\":\"\"},\"colorscale\":[[0.0,\"#0d0887\"],[0.1111111111111111,\"#46039f\"],[0.2222222222222222,\"#7201a8\"],[0.3333333333333333,\"#9c179e\"],[0.4444444444444444,\"#bd3786\"],[0.5555555555555556,\"#d8576b\"],[0.6666666666666666,\"#ed7953\"],[0.7777777777777778,\"#fb9f3a\"],[0.8888888888888888,\"#fdca26\"],[1.0,\"#f0f921\"]],\"type\":\"histogram2dcontour\"}],\"histogram2d\":[{\"colorbar\":{\"outlinewidth\":0,\"ticks\":\"\"},\"colorscale\":[[0.0,\"#0d0887\"],[0.1111111111111111,\"#46039f\"],[0.2222222222222222,\"#7201a8\"],[0.3333333333333333,\"#9c179e\"],[0.4444444444444444,\"#bd3786\"],[0.5555555555555556,\"#d8576b\"],[0.6666666666666666,\"#ed7953\"],[0.7777777777777778,\"#fb9f3a\"],[0.8888888888888888,\"#fdca26\"],[1.0,\"#f0f921\"]],\"type\":\"histogram2d\"}],\"histogram\":[{\"marker\":{\"pattern\":{\"fillmode\":\"overlay\",\"size\":10,\"solidity\":0.2}},\"type\":\"histogram\"}],\"mesh3d\":[{\"colorbar\":{\"outlinewidth\":0,\"ticks\":\"\"},\"type\":\"mesh3d\"}],\"parcoords\":[{\"line\":{\"colorbar\":{\"outlinewidth\":0,\"ticks\":\"\"}},\"type\":\"parcoords\"}],\"pie\":[{\"automargin\":true,\"type\":\"pie\"}],\"scatter3d\":[{\"line\":{\"colorbar\":{\"outlinewidth\":0,\"ticks\":\"\"}},\"marker\":{\"colorbar\":{\"outlinewidth\":0,\"ticks\":\"\"}},\"type\":\"scatter3d\"}],\"scattercarpet\":[{\"marker\":{\"colorbar\":{\"outlinewidth\":0,\"ticks\":\"\"}},\"type\":\"scattercarpet\"}],\"scattergeo\":[{\"marker\":{\"colorbar\":{\"outlinewidth\":0,\"ticks\":\"\"}},\"type\":\"scattergeo\"}],\"scattergl\":[{\"marker\":{\"colorbar\":{\"outlinewidth\":0,\"ticks\":\"\"}},\"type\":\"scattergl\"}],\"scattermapbox\":[{\"marker\":{\"colorbar\":{\"outlinewidth\":0,\"ticks\":\"\"}},\"type\":\"scattermapbox\"}],\"scatterpolargl\":[{\"marker\":{\"colorbar\":{\"outlinewidth\":0,\"ticks\":\"\"}},\"type\":\"scatterpolargl\"}],\"scatterpolar\":[{\"marker\":{\"colorbar\":{\"outlinewidth\":0,\"ticks\":\"\"}},\"type\":\"scatterpolar\"}],\"scatter\":[{\"fillpattern\":{\"fillmode\":\"overlay\",\"size\":10,\"solidity\":0.2},\"type\":\"scatter\"}],\"scatterternary\":[{\"marker\":{\"colorbar\":{\"outlinewidth\":0,\"ticks\":\"\"}},\"type\":\"scatterternary\"}],\"surface\":[{\"colorbar\":{\"outlinewidth\":0,\"ticks\":\"\"},\"colorscale\":[[0.0,\"#0d0887\"],[0.1111111111111111,\"#46039f\"],[0.2222222222222222,\"#7201a8\"],[0.3333333333333333,\"#9c179e\"],[0.4444444444444444,\"#bd3786\"],[0.5555555555555556,\"#d8576b\"],[0.6666666666666666,\"#ed7953\"],[0.7777777777777778,\"#fb9f3a\"],[0.8888888888888888,\"#fdca26\"],[1.0,\"#f0f921\"]],\"type\":\"surface\"}],\"table\":[{\"cells\":{\"fill\":{\"color\":\"#EBF0F8\"},\"line\":{\"color\":\"white\"}},\"header\":{\"fill\":{\"color\":\"#C8D4E3\"},\"line\":{\"color\":\"white\"}},\"type\":\"table\"}]},\"layout\":{\"annotationdefaults\":{\"arrowcolor\":\"#2a3f5f\",\"arrowhead\":0,\"arrowwidth\":1},\"autotypenumbers\":\"strict\",\"coloraxis\":{\"colorbar\":{\"outlinewidth\":0,\"ticks\":\"\"}},\"colorscale\":{\"diverging\":[[0,\"#8e0152\"],[0.1,\"#c51b7d\"],[0.2,\"#de77ae\"],[0.3,\"#f1b6da\"],[0.4,\"#fde0ef\"],[0.5,\"#f7f7f7\"],[0.6,\"#e6f5d0\"],[0.7,\"#b8e186\"],[0.8,\"#7fbc41\"],[0.9,\"#4d9221\"],[1,\"#276419\"]],\"sequential\":[[0.0,\"#0d0887\"],[0.1111111111111111,\"#46039f\"],[0.2222222222222222,\"#7201a8\"],[0.3333333333333333,\"#9c179e\"],[0.4444444444444444,\"#bd3786\"],[0.5555555555555556,\"#d8576b\"],[0.6666666666666666,\"#ed7953\"],[0.7777777777777778,\"#fb9f3a\"],[0.8888888888888888,\"#fdca26\"],[1.0,\"#f0f921\"]],\"sequentialminus\":[[0.0,\"#0d0887\"],[0.1111111111111111,\"#46039f\"],[0.2222222222222222,\"#7201a8\"],[0.3333333333333333,\"#9c179e\"],[0.4444444444444444,\"#bd3786\"],[0.5555555555555556,\"#d8576b\"],[0.6666666666666666,\"#ed7953\"],[0.7777777777777778,\"#fb9f3a\"],[0.8888888888888888,\"#fdca26\"],[1.0,\"#f0f921\"]]},\"colorway\":[\"#636efa\",\"#EF553B\",\"#00cc96\",\"#ab63fa\",\"#FFA15A\",\"#19d3f3\",\"#FF6692\",\"#B6E880\",\"#FF97FF\",\"#FECB52\"],\"font\":{\"color\":\"#2a3f5f\"},\"geo\":{\"bgcolor\":\"white\",\"lakecolor\":\"white\",\"landcolor\":\"white\",\"showlakes\":true,\"showland\":true,\"subunitcolor\":\"#C8D4E3\"},\"hoverlabel\":{\"align\":\"left\"},\"hovermode\":\"closest\",\"mapbox\":{\"style\":\"light\"},\"paper_bgcolor\":\"white\",\"plot_bgcolor\":\"white\",\"polar\":{\"angularaxis\":{\"gridcolor\":\"#EBF0F8\",\"linecolor\":\"#EBF0F8\",\"ticks\":\"\"},\"bgcolor\":\"white\",\"radialaxis\":{\"gridcolor\":\"#EBF0F8\",\"linecolor\":\"#EBF0F8\",\"ticks\":\"\"}},\"scene\":{\"xaxis\":{\"backgroundcolor\":\"white\",\"gridcolor\":\"#DFE8F3\",\"gridwidth\":2,\"linecolor\":\"#EBF0F8\",\"showbackground\":true,\"ticks\":\"\",\"zerolinecolor\":\"#EBF0F8\"},\"yaxis\":{\"backgroundcolor\":\"white\",\"gridcolor\":\"#DFE8F3\",\"gridwidth\":2,\"linecolor\":\"#EBF0F8\",\"showbackground\":true,\"ticks\":\"\",\"zerolinecolor\":\"#EBF0F8\"},\"zaxis\":{\"backgroundcolor\":\"white\",\"gridcolor\":\"#DFE8F3\",\"gridwidth\":2,\"linecolor\":\"#EBF0F8\",\"showbackground\":true,\"ticks\":\"\",\"zerolinecolor\":\"#EBF0F8\"}},\"shapedefaults\":{\"line\":{\"color\":\"#2a3f5f\"}},\"ternary\":{\"aaxis\":{\"gridcolor\":\"#DFE8F3\",\"linecolor\":\"#A2B1C6\",\"ticks\":\"\"},\"baxis\":{\"gridcolor\":\"#DFE8F3\",\"linecolor\":\"#A2B1C6\",\"ticks\":\"\"},\"bgcolor\":\"white\",\"caxis\":{\"gridcolor\":\"#DFE8F3\",\"linecolor\":\"#A2B1C6\",\"ticks\":\"\"}},\"title\":{\"x\":0.05},\"xaxis\":{\"automargin\":true,\"gridcolor\":\"#EBF0F8\",\"linecolor\":\"#EBF0F8\",\"ticks\":\"\",\"title\":{\"standoff\":15},\"zerolinecolor\":\"#EBF0F8\",\"zerolinewidth\":2},\"yaxis\":{\"automargin\":true,\"gridcolor\":\"#EBF0F8\",\"linecolor\":\"#EBF0F8\",\"ticks\":\"\",\"title\":{\"standoff\":15},\"zerolinecolor\":\"#EBF0F8\",\"zerolinewidth\":2}}},\"xaxis\":{\"anchor\":\"y\",\"domain\":[0.0,1.0]},\"yaxis\":{\"anchor\":\"x\",\"domain\":[0.7333333333333333,1.0]},\"xaxis2\":{\"anchor\":\"y2\",\"domain\":[0.0,1.0]},\"yaxis2\":{\"anchor\":\"x2\",\"domain\":[0.36666666666666664,0.6333333333333333]},\"xaxis3\":{\"anchor\":\"y3\",\"domain\":[0.0,1.0]},\"yaxis3\":{\"anchor\":\"x3\",\"domain\":[0.0,0.26666666666666666]},\"title\":{\"text\":\"Por\\u00f3wnanie skuteczno\\u015bci modeli\",\"x\":0.5}},                        {\"responsive\": true}                    ).then(function(){\n                            \nvar gd = document.getElementById('5b000087-7622-4d7e-b80d-92e09787cc4a');\nvar x = new MutationObserver(function (mutations, observer) {{\n        var display = window.getComputedStyle(gd).display;\n        if (!display || display === 'none') {{\n            console.log([gd, 'removed!']);\n            Plotly.purge(gd);\n            observer.disconnect();\n        }}\n}});\n\n// Listen for the removal of the full notebook cells\nvar notebookContainer = gd.closest('#notebook-container');\nif (notebookContainer) {{\n    x.observe(notebookContainer, {childList: true});\n}}\n\n// Listen for the clearing of the current output cell\nvar outputEl = gd.closest('.output');\nif (outputEl) {{\n    x.observe(outputEl, {childList: true});\n}}\n\n                        })                };                });            </script>        </div>"
     },
     "metadata": {},
     "output_type": "display_data"
    }
   ],
   "source": [
    "from plotly.subplots import make_subplots\n",
    "import plotly.graph_objects as go\n",
    "\n",
    "fig = make_subplots(rows=3, cols=1)\n",
    "fig.add_trace(go.Bar(name='F1 Score', y=df.index, x=df[\"f1_score\"], orientation=\"h\", text=df[\"f1_score\"]), row=1, col=1),\n",
    "fig.add_trace(go.Bar(name='Area under ROC curve', y=df.index, x=df[\"roc_auc\"], orientation=\"h\", text=df[\"roc_auc\"]), row=2, col=1)\n",
    "fig.add_trace(go.Bar(name='Area under PR curve', y=df.index, x=df[\"pr_auc\"], orientation=\"h\", text=df[\"pr_auc\"]), row=3, col=1)\n",
    "fig.update_layout(({\"title\": {\"text\":\"Porównanie skuteczności modeli\", \"x\": 0.5},\n",
    "               \"template\": \"plotly_white\"}))\n",
    "# Change the bar mode\n",
    "fig.show()\n",
    "ig.write_image(\"images/fig5.png\", width=750, height=500)"
   ],
   "metadata": {
    "collapsed": false,
    "ExecuteTime": {
     "start_time": "2023-05-01T20:26:22.276982Z",
     "end_time": "2023-05-01T20:26:22.351819Z"
    }
   }
  },
  {
   "cell_type": "code",
   "execution_count": 11,
   "outputs": [
    {
     "name": "stdout",
     "output_type": "stream",
     "text": [
      "2023-04-26-05-33-15.pth\n",
      "[2023-05-02 13:57:51] Tester initialised with CUDA: True and mode: TEST\n"
     ]
    },
    {
     "name": "stderr",
     "output_type": "stream",
     "text": [
      "100%|██████████| 1648/1648 [02:14<00:00, 12.29it/s]\n"
     ]
    },
    {
     "name": "stdout",
     "output_type": "stream",
     "text": [
      "[2023-05-02 14:00:06] Loss/Valid: 0.2972\n",
      "[2023-05-02 14:00:06] F1 Score: 0.6602\n",
      "[2023-05-02 14:00:06] AUC/ROC: 0.9199\n",
      "[2023-05-02 14:00:06] AUC/PR: 0.7263\n",
      "{'guitar': {'precision': 0.6733001658374793, 'recall': 0.8583509513742071, 'f1-score': 0.754646840148699, 'support': 473}, 'classical': {'precision': 0.6274509803921569, 'recall': 0.9433106575963719, 'f1-score': 0.7536231884057971, 'support': 441}, 'slow': {'precision': 0.6063218390804598, 'recall': 0.5314861460957179, 'f1-score': 0.5664429530201344, 'support': 397}, 'techno': {'precision': 0.6879795396419437, 'recall': 0.9087837837837838, 'f1-score': 0.7831149927219796, 'support': 296}, 'strings': {'precision': 0.6065573770491803, 'recall': 0.5174825174825175, 'f1-score': 0.5584905660377358, 'support': 286}, 'drums': {'precision': 0.5691699604743083, 'recall': 0.5647058823529412, 'f1-score': 0.5669291338582677, 'support': 255}, 'electronic': {'precision': 0.5922619047619048, 'recall': 0.6958041958041958, 'f1-score': 0.6398713826366561, 'support': 286}, 'rock': {'precision': 0.7380073800738007, 'recall': 0.8771929824561403, 'f1-score': 0.8016032064128257, 'support': 228}, 'fast': {'precision': 0.5287356321839081, 'recall': 0.42201834862385323, 'f1-score': 0.4693877551020409, 'support': 218}, 'piano': {'precision': 0.7964071856287425, 'recall': 0.6363636363636364, 'f1-score': 0.7074468085106382, 'support': 209}, 'micro avg': {'precision': 0.6428985507246376, 'recall': 0.7180317254775008, 'f1-score': 0.6783911913136565, 'support': 3089}, 'macro avg': {'precision': 0.6426191965123884, 'recall': 0.6955499101933365, 'f1-score': 0.6601556826854774, 'support': 3089}, 'weighted avg': {'precision': 0.640177527171017, 'recall': 0.7180317254775008, 'f1-score': 0.6688969125217925, 'support': 3089}, 'samples avg': {'precision': 0.6818163430420712, 'recall': 0.764138349514563, 'f1-score': 0.6723849976883958, 'support': 3089}}\n",
      "2023-04-25-23-57-55.pth\n",
      "[2023-05-02 14:00:06] Tester initialised with CUDA: True and mode: TEST\n"
     ]
    },
    {
     "name": "stderr",
     "output_type": "stream",
     "text": [
      "100%|██████████| 1972/1972 [02:34<00:00, 12.76it/s]"
     ]
    },
    {
     "name": "stdout",
     "output_type": "stream",
     "text": [
      "[2023-05-02 14:02:41] Loss/Valid: 0.2229\n",
      "[2023-05-02 14:02:41] F1 Score: 0.5294\n",
      "[2023-05-02 14:02:41] AUC/ROC: 0.9224\n",
      "[2023-05-02 14:02:41] AUC/PR: 0.6089\n",
      "{'guitar': {'precision': 0.7045454545454546, 'recall': 0.779874213836478, 'f1-score': 0.7402985074626866, 'support': 477}, 'classical': {'precision': 0.5971337579617835, 'recall': 0.8680555555555556, 'f1-score': 0.7075471698113207, 'support': 432}, 'slow': {'precision': 0.47593582887700536, 'recall': 0.5042492917847026, 'f1-score': 0.48968363136176063, 'support': 353}, 'techno': {'precision': 0.6265060240963856, 'recall': 0.8754208754208754, 'f1-score': 0.7303370786516853, 'support': 297}, 'strings': {'precision': 0.5095785440613027, 'recall': 0.51953125, 'f1-score': 0.5145067698259188, 'support': 256}, 'drums': {'precision': 0.5241935483870968, 'recall': 0.5579399141630901, 'f1-score': 0.5405405405405405, 'support': 233}, 'electronic': {'precision': 0.49838187702265374, 'recall': 0.5789473684210527, 'f1-score': 0.5356521739130435, 'support': 266}, 'rock': {'precision': 0.7735849056603774, 'recall': 0.8541666666666666, 'f1-score': 0.811881188118812, 'support': 240}, 'fast': {'precision': 0.6176470588235294, 'recall': 0.35443037974683544, 'f1-score': 0.450402144772118, 'support': 237}, 'piano': {'precision': 0.7687861271676301, 'recall': 0.6551724137931034, 'f1-score': 0.7074468085106383, 'support': 203}, 'ambient': {'precision': 0.62890625, 'recall': 0.7815533980582524, 'f1-score': 0.696969696969697, 'support': 206}, 'beat': {'precision': 0.5274725274725275, 'recall': 0.5393258426966292, 'f1-score': 0.5333333333333333, 'support': 178}, 'violin': {'precision': 0.6563876651982379, 'recall': 0.8465909090909091, 'f1-score': 0.739454094292804, 'support': 176}, 'vocal': {'precision': 0.2727272727272727, 'recall': 0.017142857142857144, 'f1-score': 0.03225806451612904, 'support': 175}, 'synth': {'precision': 0.5833333333333334, 'recall': 0.07368421052631578, 'f1-score': 0.1308411214953271, 'support': 190}, 'female': {'precision': 0.48214285714285715, 'recall': 0.3724137931034483, 'f1-score': 0.42023346303501946, 'support': 145}, 'indian': {'precision': 0.5673758865248227, 'recall': 0.6106870229007634, 'f1-score': 0.5882352941176471, 'support': 131}, 'opera': {'precision': 0.7100591715976331, 'recall': 0.975609756097561, 'f1-score': 0.8219178082191779, 'support': 123}, 'male': {'precision': 0.4205607476635514, 'recall': 0.375, 'f1-score': 0.39647577092511016, 'support': 120}, 'singing': {'precision': 1.0, 'recall': 0.0, 'f1-score': 0.0, 'support': 114}, 'micro avg': {'precision': 0.601401664476566, 'recall': 0.6032513181019332, 'f1-score': 0.602325071287563, 'support': 4552}, 'macro avg': {'precision': 0.5972629419131728, 'recall': 0.5569897859502548, 'f1-score': 0.5294007329936384, 'support': 4552}, 'weighted avg': {'precision': 0.5964287906934749, 'recall': 0.6032513181019332, 'f1-score': 0.5667237471415602, 'support': 4552}, 'samples avg': {'precision': 0.6423138220805563, 'recall': 0.6567323481116584, 'f1-score': 0.5903282681933798, 'support': 4552}}\n"
     ]
    },
    {
     "name": "stderr",
     "output_type": "stream",
     "text": [
      "\n"
     ]
    }
   ],
   "source": [
    "from sklearn.metrics import classification_report\n",
    "import numpy as np\n",
    "from components.tester import Tester\n",
    "from external.musicnn import Musicnn\n",
    "from components.config import Config\n",
    "\n",
    "data = [\n",
    "    [10, \"2023-04-26-05-33-15.pth\"],\n",
    "    [20, \"2023-04-25-23-57-55.pth\"]\n",
    "]\n",
    "results = []\n",
    "\n",
    "for n, model_filename in data:\n",
    "    musicnn_config = Config(model=Musicnn(n_class=n), model_filename_path=\"../models\", data_path='../data',\n",
    "                            dataset_split_path=\"../split\", dataset_name=f\"mtat-{n}\")\n",
    "    print(model_filename)\n",
    "\n",
    "    tester = Tester(musicnn_config, model_filename=model_filename)\n",
    "    stats = tester.test()\n",
    "    est_bin_array = np.where(stats.est_array >= 0.5, 1, 0)\n",
    "    raport = classification_report(stats.gt_array, est_bin_array, target_names=list(tester.predictor.tags), output_dict=True, zero_division=1)\n",
    "    print(raport)\n",
    "    results.append(raport)"
   ],
   "metadata": {
    "collapsed": false,
    "ExecuteTime": {
     "start_time": "2023-05-02T13:57:51.809214Z",
     "end_time": "2023-05-02T14:02:41.026363Z"
    }
   }
  },
  {
   "cell_type": "code",
   "execution_count": 12,
   "outputs": [
    {
     "data": {
      "text/plain": "{'guitar': {'precision': 0.6733001658374793,\n  'recall': 0.8583509513742071,\n  'f1-score': 0.754646840148699,\n  'support': 473},\n 'classical': {'precision': 0.6274509803921569,\n  'recall': 0.9433106575963719,\n  'f1-score': 0.7536231884057971,\n  'support': 441},\n 'slow': {'precision': 0.6063218390804598,\n  'recall': 0.5314861460957179,\n  'f1-score': 0.5664429530201344,\n  'support': 397},\n 'techno': {'precision': 0.6879795396419437,\n  'recall': 0.9087837837837838,\n  'f1-score': 0.7831149927219796,\n  'support': 296},\n 'strings': {'precision': 0.6065573770491803,\n  'recall': 0.5174825174825175,\n  'f1-score': 0.5584905660377358,\n  'support': 286},\n 'drums': {'precision': 0.5691699604743083,\n  'recall': 0.5647058823529412,\n  'f1-score': 0.5669291338582677,\n  'support': 255},\n 'electronic': {'precision': 0.5922619047619048,\n  'recall': 0.6958041958041958,\n  'f1-score': 0.6398713826366561,\n  'support': 286},\n 'rock': {'precision': 0.7380073800738007,\n  'recall': 0.8771929824561403,\n  'f1-score': 0.8016032064128257,\n  'support': 228},\n 'fast': {'precision': 0.5287356321839081,\n  'recall': 0.42201834862385323,\n  'f1-score': 0.4693877551020409,\n  'support': 218},\n 'piano': {'precision': 0.7964071856287425,\n  'recall': 0.6363636363636364,\n  'f1-score': 0.7074468085106382,\n  'support': 209},\n 'micro avg': {'precision': 0.6428985507246376,\n  'recall': 0.7180317254775008,\n  'f1-score': 0.6783911913136565,\n  'support': 3089},\n 'macro avg': {'precision': 0.6426191965123884,\n  'recall': 0.6955499101933365,\n  'f1-score': 0.6601556826854774,\n  'support': 3089},\n 'weighted avg': {'precision': 0.640177527171017,\n  'recall': 0.7180317254775008,\n  'f1-score': 0.6688969125217925,\n  'support': 3089},\n 'samples avg': {'precision': 0.6818163430420712,\n  'recall': 0.764138349514563,\n  'f1-score': 0.6723849976883958,\n  'support': 3089}}"
     },
     "execution_count": 12,
     "metadata": {},
     "output_type": "execute_result"
    }
   ],
   "source": [
    "results[0]"
   ],
   "metadata": {
    "collapsed": false,
    "ExecuteTime": {
     "start_time": "2023-05-02T14:02:41.027373Z",
     "end_time": "2023-05-02T14:02:41.030365Z"
    }
   }
  },
  {
   "cell_type": "code",
   "execution_count": 51,
   "outputs": [],
   "source": [
    "import pandas as pd\n",
    "df10 = pd.DataFrame.from_dict(results[0])\n",
    "df10 = df10.drop(columns=[\"micro avg\", \"macro avg\", \"weighted avg\", \"samples avg\"], index=[\"support\"])\n",
    "df10 = df10.T\n",
    "\n",
    "df20 = pd.DataFrame.from_dict(results[1])\n",
    "df20 = df20.drop(columns=[\"micro avg\", \"macro avg\", \"weighted avg\", \"samples avg\"], index=[\"support\"])\n",
    "df20 = df20.T"
   ],
   "metadata": {
    "collapsed": false,
    "ExecuteTime": {
     "start_time": "2023-05-02T14:27:07.798656Z",
     "end_time": "2023-05-02T14:27:07.806658Z"
    }
   }
  },
  {
   "cell_type": "code",
   "execution_count": 52,
   "outputs": [
    {
     "data": {
      "text/plain": "            precision    recall  f1-score\nguitar       0.673300  0.858351  0.754647\nclassical    0.627451  0.943311  0.753623\nslow         0.606322  0.531486  0.566443\ntechno       0.687980  0.908784  0.783115\nstrings      0.606557  0.517483  0.558491\ndrums        0.569170  0.564706  0.566929\nelectronic   0.592262  0.695804  0.639871\nrock         0.738007  0.877193  0.801603\nfast         0.528736  0.422018  0.469388\npiano        0.796407  0.636364  0.707447",
      "text/html": "<div>\n<style scoped>\n    .dataframe tbody tr th:only-of-type {\n        vertical-align: middle;\n    }\n\n    .dataframe tbody tr th {\n        vertical-align: top;\n    }\n\n    .dataframe thead th {\n        text-align: right;\n    }\n</style>\n<table border=\"1\" class=\"dataframe\">\n  <thead>\n    <tr style=\"text-align: right;\">\n      <th></th>\n      <th>precision</th>\n      <th>recall</th>\n      <th>f1-score</th>\n    </tr>\n  </thead>\n  <tbody>\n    <tr>\n      <th>guitar</th>\n      <td>0.673300</td>\n      <td>0.858351</td>\n      <td>0.754647</td>\n    </tr>\n    <tr>\n      <th>classical</th>\n      <td>0.627451</td>\n      <td>0.943311</td>\n      <td>0.753623</td>\n    </tr>\n    <tr>\n      <th>slow</th>\n      <td>0.606322</td>\n      <td>0.531486</td>\n      <td>0.566443</td>\n    </tr>\n    <tr>\n      <th>techno</th>\n      <td>0.687980</td>\n      <td>0.908784</td>\n      <td>0.783115</td>\n    </tr>\n    <tr>\n      <th>strings</th>\n      <td>0.606557</td>\n      <td>0.517483</td>\n      <td>0.558491</td>\n    </tr>\n    <tr>\n      <th>drums</th>\n      <td>0.569170</td>\n      <td>0.564706</td>\n      <td>0.566929</td>\n    </tr>\n    <tr>\n      <th>electronic</th>\n      <td>0.592262</td>\n      <td>0.695804</td>\n      <td>0.639871</td>\n    </tr>\n    <tr>\n      <th>rock</th>\n      <td>0.738007</td>\n      <td>0.877193</td>\n      <td>0.801603</td>\n    </tr>\n    <tr>\n      <th>fast</th>\n      <td>0.528736</td>\n      <td>0.422018</td>\n      <td>0.469388</td>\n    </tr>\n    <tr>\n      <th>piano</th>\n      <td>0.796407</td>\n      <td>0.636364</td>\n      <td>0.707447</td>\n    </tr>\n  </tbody>\n</table>\n</div>"
     },
     "execution_count": 52,
     "metadata": {},
     "output_type": "execute_result"
    }
   ],
   "source": [
    "df10"
   ],
   "metadata": {
    "collapsed": false,
    "ExecuteTime": {
     "start_time": "2023-05-02T14:27:08.145570Z",
     "end_time": "2023-05-02T14:27:08.243660Z"
    }
   }
  },
  {
   "cell_type": "code",
   "execution_count": 53,
   "outputs": [
    {
     "data": {
      "text/plain": "            precision    recall  f1-score\nguitar       0.704545  0.779874  0.740299\nclassical    0.597134  0.868056  0.707547\nslow         0.475936  0.504249  0.489684\ntechno       0.626506  0.875421  0.730337\nstrings      0.509579  0.519531  0.514507\ndrums        0.524194  0.557940  0.540541\nelectronic   0.498382  0.578947  0.535652\nrock         0.773585  0.854167  0.811881\nfast         0.617647  0.354430  0.450402\npiano        0.768786  0.655172  0.707447\nambient      0.628906  0.781553  0.696970\nbeat         0.527473  0.539326  0.533333\nviolin       0.656388  0.846591  0.739454\nvocal        0.272727  0.017143  0.032258\nsynth        0.583333  0.073684  0.130841\nfemale       0.482143  0.372414  0.420233\nindian       0.567376  0.610687  0.588235\nopera        0.710059  0.975610  0.821918\nmale         0.420561  0.375000  0.396476\nsinging      1.000000  0.000000  0.000000",
      "text/html": "<div>\n<style scoped>\n    .dataframe tbody tr th:only-of-type {\n        vertical-align: middle;\n    }\n\n    .dataframe tbody tr th {\n        vertical-align: top;\n    }\n\n    .dataframe thead th {\n        text-align: right;\n    }\n</style>\n<table border=\"1\" class=\"dataframe\">\n  <thead>\n    <tr style=\"text-align: right;\">\n      <th></th>\n      <th>precision</th>\n      <th>recall</th>\n      <th>f1-score</th>\n    </tr>\n  </thead>\n  <tbody>\n    <tr>\n      <th>guitar</th>\n      <td>0.704545</td>\n      <td>0.779874</td>\n      <td>0.740299</td>\n    </tr>\n    <tr>\n      <th>classical</th>\n      <td>0.597134</td>\n      <td>0.868056</td>\n      <td>0.707547</td>\n    </tr>\n    <tr>\n      <th>slow</th>\n      <td>0.475936</td>\n      <td>0.504249</td>\n      <td>0.489684</td>\n    </tr>\n    <tr>\n      <th>techno</th>\n      <td>0.626506</td>\n      <td>0.875421</td>\n      <td>0.730337</td>\n    </tr>\n    <tr>\n      <th>strings</th>\n      <td>0.509579</td>\n      <td>0.519531</td>\n      <td>0.514507</td>\n    </tr>\n    <tr>\n      <th>drums</th>\n      <td>0.524194</td>\n      <td>0.557940</td>\n      <td>0.540541</td>\n    </tr>\n    <tr>\n      <th>electronic</th>\n      <td>0.498382</td>\n      <td>0.578947</td>\n      <td>0.535652</td>\n    </tr>\n    <tr>\n      <th>rock</th>\n      <td>0.773585</td>\n      <td>0.854167</td>\n      <td>0.811881</td>\n    </tr>\n    <tr>\n      <th>fast</th>\n      <td>0.617647</td>\n      <td>0.354430</td>\n      <td>0.450402</td>\n    </tr>\n    <tr>\n      <th>piano</th>\n      <td>0.768786</td>\n      <td>0.655172</td>\n      <td>0.707447</td>\n    </tr>\n    <tr>\n      <th>ambient</th>\n      <td>0.628906</td>\n      <td>0.781553</td>\n      <td>0.696970</td>\n    </tr>\n    <tr>\n      <th>beat</th>\n      <td>0.527473</td>\n      <td>0.539326</td>\n      <td>0.533333</td>\n    </tr>\n    <tr>\n      <th>violin</th>\n      <td>0.656388</td>\n      <td>0.846591</td>\n      <td>0.739454</td>\n    </tr>\n    <tr>\n      <th>vocal</th>\n      <td>0.272727</td>\n      <td>0.017143</td>\n      <td>0.032258</td>\n    </tr>\n    <tr>\n      <th>synth</th>\n      <td>0.583333</td>\n      <td>0.073684</td>\n      <td>0.130841</td>\n    </tr>\n    <tr>\n      <th>female</th>\n      <td>0.482143</td>\n      <td>0.372414</td>\n      <td>0.420233</td>\n    </tr>\n    <tr>\n      <th>indian</th>\n      <td>0.567376</td>\n      <td>0.610687</td>\n      <td>0.588235</td>\n    </tr>\n    <tr>\n      <th>opera</th>\n      <td>0.710059</td>\n      <td>0.975610</td>\n      <td>0.821918</td>\n    </tr>\n    <tr>\n      <th>male</th>\n      <td>0.420561</td>\n      <td>0.375000</td>\n      <td>0.396476</td>\n    </tr>\n    <tr>\n      <th>singing</th>\n      <td>1.000000</td>\n      <td>0.000000</td>\n      <td>0.000000</td>\n    </tr>\n  </tbody>\n</table>\n</div>"
     },
     "execution_count": 53,
     "metadata": {},
     "output_type": "execute_result"
    }
   ],
   "source": [
    "df20"
   ],
   "metadata": {
    "collapsed": false,
    "ExecuteTime": {
     "start_time": "2023-05-02T14:27:08.627622Z",
     "end_time": "2023-05-02T14:27:08.632629Z"
    }
   }
  },
  {
   "cell_type": "code",
   "execution_count": 83,
   "outputs": [
    {
     "data": {
      "application/vnd.plotly.v1+json": {
       "data": [
        {
         "orientation": "v",
         "text": [
          0.4694,
          0.5585,
          0.5664,
          0.5669,
          0.6399,
          0.7074,
          0.7536,
          0.7546,
          0.7831,
          0.8016
         ],
         "x": [
          "fast",
          "strings",
          "slow",
          "drums",
          "electronic",
          "piano",
          "classical",
          "guitar",
          "techno",
          "rock"
         ],
         "y": [
          0.4693877551020409,
          0.5584905660377358,
          0.5664429530201344,
          0.5669291338582677,
          0.6398713826366561,
          0.7074468085106382,
          0.7536231884057971,
          0.754646840148699,
          0.7831149927219796,
          0.8016032064128257
         ],
         "type": "bar",
         "xaxis": "x",
         "yaxis": "y"
        },
        {
         "orientation": "v",
         "text": [
          0.5287,
          0.5692,
          0.5923,
          0.6063,
          0.6066,
          0.6275,
          0.6733,
          0.688,
          0.738,
          0.7964
         ],
         "x": [
          "fast",
          "drums",
          "electronic",
          "slow",
          "strings",
          "classical",
          "guitar",
          "techno",
          "rock",
          "piano"
         ],
         "y": [
          0.5287356321839081,
          0.5691699604743083,
          0.5922619047619048,
          0.6063218390804598,
          0.6065573770491803,
          0.6274509803921569,
          0.6733001658374793,
          0.6879795396419437,
          0.7380073800738007,
          0.7964071856287425
         ],
         "type": "bar",
         "xaxis": "x3",
         "yaxis": "y3"
        },
        {
         "orientation": "v",
         "text": [
          0.422,
          0.5175,
          0.5315,
          0.5647,
          0.6364,
          0.6958,
          0.8584,
          0.8772,
          0.9088,
          0.9433
         ],
         "x": [
          "fast",
          "strings",
          "slow",
          "drums",
          "piano",
          "electronic",
          "guitar",
          "rock",
          "techno",
          "classical"
         ],
         "y": [
          0.42201834862385323,
          0.5174825174825175,
          0.5314861460957179,
          0.5647058823529412,
          0.6363636363636364,
          0.6958041958041958,
          0.8583509513742071,
          0.8771929824561403,
          0.9087837837837838,
          0.9433106575963719
         ],
         "type": "bar",
         "xaxis": "x5",
         "yaxis": "y5"
        },
        {
         "orientation": "v",
         "text": [
          0.0,
          0.0323,
          0.1308,
          0.3965,
          0.4202,
          0.4504,
          0.4897,
          0.5145,
          0.5333,
          0.5357,
          0.5405,
          0.5882,
          0.697,
          0.7074,
          0.7075,
          0.7303,
          0.7395,
          0.7403,
          0.8119,
          0.8219
         ],
         "x": [
          "singing",
          "vocal",
          "synth",
          "male",
          "female",
          "fast",
          "slow",
          "strings",
          "beat",
          "electronic",
          "drums",
          "indian",
          "ambient",
          "piano",
          "classical",
          "techno",
          "violin",
          "guitar",
          "rock",
          "opera"
         ],
         "y": [
          0.0,
          0.03225806451612904,
          0.1308411214953271,
          0.39647577092511016,
          0.42023346303501946,
          0.450402144772118,
          0.48968363136176063,
          0.5145067698259188,
          0.5333333333333333,
          0.5356521739130435,
          0.5405405405405405,
          0.5882352941176471,
          0.696969696969697,
          0.7074468085106383,
          0.7075471698113207,
          0.7303370786516853,
          0.739454094292804,
          0.7402985074626866,
          0.811881188118812,
          0.8219178082191779
         ],
         "type": "bar",
         "xaxis": "x2",
         "yaxis": "y2"
        },
        {
         "orientation": "v",
         "text": [
          0.2727,
          0.4206,
          0.4759,
          0.4821,
          0.4984,
          0.5096,
          0.5242,
          0.5275,
          0.5674,
          0.5833,
          0.5971,
          0.6176,
          0.6265,
          0.6289,
          0.6564,
          0.7045,
          0.7101,
          0.7688,
          0.7736,
          1.0
         ],
         "x": [
          "vocal",
          "male",
          "slow",
          "female",
          "electronic",
          "strings",
          "drums",
          "beat",
          "indian",
          "synth",
          "classical",
          "fast",
          "techno",
          "ambient",
          "violin",
          "guitar",
          "opera",
          "piano",
          "rock",
          "singing"
         ],
         "y": [
          0.2727272727272727,
          0.4205607476635514,
          0.47593582887700536,
          0.48214285714285715,
          0.49838187702265374,
          0.5095785440613027,
          0.5241935483870968,
          0.5274725274725275,
          0.5673758865248227,
          0.5833333333333334,
          0.5971337579617835,
          0.6176470588235294,
          0.6265060240963856,
          0.62890625,
          0.6563876651982379,
          0.7045454545454546,
          0.7100591715976331,
          0.7687861271676301,
          0.7735849056603774,
          1.0
         ],
         "type": "bar",
         "xaxis": "x4",
         "yaxis": "y4"
        },
        {
         "orientation": "v",
         "text": [
          0.0,
          0.0171,
          0.0737,
          0.3544,
          0.3724,
          0.375,
          0.5042,
          0.5195,
          0.5393,
          0.5579,
          0.5789,
          0.6107,
          0.6552,
          0.7799,
          0.7816,
          0.8466,
          0.8542,
          0.8681,
          0.8754,
          0.9756
         ],
         "x": [
          "singing",
          "vocal",
          "synth",
          "fast",
          "female",
          "male",
          "slow",
          "strings",
          "beat",
          "drums",
          "electronic",
          "indian",
          "piano",
          "guitar",
          "ambient",
          "violin",
          "rock",
          "classical",
          "techno",
          "opera"
         ],
         "y": [
          0.0,
          0.017142857142857144,
          0.07368421052631578,
          0.35443037974683544,
          0.3724137931034483,
          0.375,
          0.5042492917847026,
          0.51953125,
          0.5393258426966292,
          0.5579399141630901,
          0.5789473684210527,
          0.6106870229007634,
          0.6551724137931034,
          0.779874213836478,
          0.7815533980582524,
          0.8465909090909091,
          0.8541666666666666,
          0.8680555555555556,
          0.8754208754208754,
          0.975609756097561
         ],
         "type": "bar",
         "xaxis": "x6",
         "yaxis": "y6"
        }
       ],
       "layout": {
        "template": {
         "data": {
          "barpolar": [
           {
            "marker": {
             "line": {
              "color": "white",
              "width": 0.5
             },
             "pattern": {
              "fillmode": "overlay",
              "size": 10,
              "solidity": 0.2
             }
            },
            "type": "barpolar"
           }
          ],
          "bar": [
           {
            "error_x": {
             "color": "#2a3f5f"
            },
            "error_y": {
             "color": "#2a3f5f"
            },
            "marker": {
             "line": {
              "color": "white",
              "width": 0.5
             },
             "pattern": {
              "fillmode": "overlay",
              "size": 10,
              "solidity": 0.2
             }
            },
            "type": "bar"
           }
          ],
          "carpet": [
           {
            "aaxis": {
             "endlinecolor": "#2a3f5f",
             "gridcolor": "#C8D4E3",
             "linecolor": "#C8D4E3",
             "minorgridcolor": "#C8D4E3",
             "startlinecolor": "#2a3f5f"
            },
            "baxis": {
             "endlinecolor": "#2a3f5f",
             "gridcolor": "#C8D4E3",
             "linecolor": "#C8D4E3",
             "minorgridcolor": "#C8D4E3",
             "startlinecolor": "#2a3f5f"
            },
            "type": "carpet"
           }
          ],
          "choropleth": [
           {
            "colorbar": {
             "outlinewidth": 0,
             "ticks": ""
            },
            "type": "choropleth"
           }
          ],
          "contourcarpet": [
           {
            "colorbar": {
             "outlinewidth": 0,
             "ticks": ""
            },
            "type": "contourcarpet"
           }
          ],
          "contour": [
           {
            "colorbar": {
             "outlinewidth": 0,
             "ticks": ""
            },
            "colorscale": [
             [
              0.0,
              "#0d0887"
             ],
             [
              0.1111111111111111,
              "#46039f"
             ],
             [
              0.2222222222222222,
              "#7201a8"
             ],
             [
              0.3333333333333333,
              "#9c179e"
             ],
             [
              0.4444444444444444,
              "#bd3786"
             ],
             [
              0.5555555555555556,
              "#d8576b"
             ],
             [
              0.6666666666666666,
              "#ed7953"
             ],
             [
              0.7777777777777778,
              "#fb9f3a"
             ],
             [
              0.8888888888888888,
              "#fdca26"
             ],
             [
              1.0,
              "#f0f921"
             ]
            ],
            "type": "contour"
           }
          ],
          "heatmapgl": [
           {
            "colorbar": {
             "outlinewidth": 0,
             "ticks": ""
            },
            "colorscale": [
             [
              0.0,
              "#0d0887"
             ],
             [
              0.1111111111111111,
              "#46039f"
             ],
             [
              0.2222222222222222,
              "#7201a8"
             ],
             [
              0.3333333333333333,
              "#9c179e"
             ],
             [
              0.4444444444444444,
              "#bd3786"
             ],
             [
              0.5555555555555556,
              "#d8576b"
             ],
             [
              0.6666666666666666,
              "#ed7953"
             ],
             [
              0.7777777777777778,
              "#fb9f3a"
             ],
             [
              0.8888888888888888,
              "#fdca26"
             ],
             [
              1.0,
              "#f0f921"
             ]
            ],
            "type": "heatmapgl"
           }
          ],
          "heatmap": [
           {
            "colorbar": {
             "outlinewidth": 0,
             "ticks": ""
            },
            "colorscale": [
             [
              0.0,
              "#0d0887"
             ],
             [
              0.1111111111111111,
              "#46039f"
             ],
             [
              0.2222222222222222,
              "#7201a8"
             ],
             [
              0.3333333333333333,
              "#9c179e"
             ],
             [
              0.4444444444444444,
              "#bd3786"
             ],
             [
              0.5555555555555556,
              "#d8576b"
             ],
             [
              0.6666666666666666,
              "#ed7953"
             ],
             [
              0.7777777777777778,
              "#fb9f3a"
             ],
             [
              0.8888888888888888,
              "#fdca26"
             ],
             [
              1.0,
              "#f0f921"
             ]
            ],
            "type": "heatmap"
           }
          ],
          "histogram2dcontour": [
           {
            "colorbar": {
             "outlinewidth": 0,
             "ticks": ""
            },
            "colorscale": [
             [
              0.0,
              "#0d0887"
             ],
             [
              0.1111111111111111,
              "#46039f"
             ],
             [
              0.2222222222222222,
              "#7201a8"
             ],
             [
              0.3333333333333333,
              "#9c179e"
             ],
             [
              0.4444444444444444,
              "#bd3786"
             ],
             [
              0.5555555555555556,
              "#d8576b"
             ],
             [
              0.6666666666666666,
              "#ed7953"
             ],
             [
              0.7777777777777778,
              "#fb9f3a"
             ],
             [
              0.8888888888888888,
              "#fdca26"
             ],
             [
              1.0,
              "#f0f921"
             ]
            ],
            "type": "histogram2dcontour"
           }
          ],
          "histogram2d": [
           {
            "colorbar": {
             "outlinewidth": 0,
             "ticks": ""
            },
            "colorscale": [
             [
              0.0,
              "#0d0887"
             ],
             [
              0.1111111111111111,
              "#46039f"
             ],
             [
              0.2222222222222222,
              "#7201a8"
             ],
             [
              0.3333333333333333,
              "#9c179e"
             ],
             [
              0.4444444444444444,
              "#bd3786"
             ],
             [
              0.5555555555555556,
              "#d8576b"
             ],
             [
              0.6666666666666666,
              "#ed7953"
             ],
             [
              0.7777777777777778,
              "#fb9f3a"
             ],
             [
              0.8888888888888888,
              "#fdca26"
             ],
             [
              1.0,
              "#f0f921"
             ]
            ],
            "type": "histogram2d"
           }
          ],
          "histogram": [
           {
            "marker": {
             "pattern": {
              "fillmode": "overlay",
              "size": 10,
              "solidity": 0.2
             }
            },
            "type": "histogram"
           }
          ],
          "mesh3d": [
           {
            "colorbar": {
             "outlinewidth": 0,
             "ticks": ""
            },
            "type": "mesh3d"
           }
          ],
          "parcoords": [
           {
            "line": {
             "colorbar": {
              "outlinewidth": 0,
              "ticks": ""
             }
            },
            "type": "parcoords"
           }
          ],
          "pie": [
           {
            "automargin": true,
            "type": "pie"
           }
          ],
          "scatter3d": [
           {
            "line": {
             "colorbar": {
              "outlinewidth": 0,
              "ticks": ""
             }
            },
            "marker": {
             "colorbar": {
              "outlinewidth": 0,
              "ticks": ""
             }
            },
            "type": "scatter3d"
           }
          ],
          "scattercarpet": [
           {
            "marker": {
             "colorbar": {
              "outlinewidth": 0,
              "ticks": ""
             }
            },
            "type": "scattercarpet"
           }
          ],
          "scattergeo": [
           {
            "marker": {
             "colorbar": {
              "outlinewidth": 0,
              "ticks": ""
             }
            },
            "type": "scattergeo"
           }
          ],
          "scattergl": [
           {
            "marker": {
             "colorbar": {
              "outlinewidth": 0,
              "ticks": ""
             }
            },
            "type": "scattergl"
           }
          ],
          "scattermapbox": [
           {
            "marker": {
             "colorbar": {
              "outlinewidth": 0,
              "ticks": ""
             }
            },
            "type": "scattermapbox"
           }
          ],
          "scatterpolargl": [
           {
            "marker": {
             "colorbar": {
              "outlinewidth": 0,
              "ticks": ""
             }
            },
            "type": "scatterpolargl"
           }
          ],
          "scatterpolar": [
           {
            "marker": {
             "colorbar": {
              "outlinewidth": 0,
              "ticks": ""
             }
            },
            "type": "scatterpolar"
           }
          ],
          "scatter": [
           {
            "fillpattern": {
             "fillmode": "overlay",
             "size": 10,
             "solidity": 0.2
            },
            "type": "scatter"
           }
          ],
          "scatterternary": [
           {
            "marker": {
             "colorbar": {
              "outlinewidth": 0,
              "ticks": ""
             }
            },
            "type": "scatterternary"
           }
          ],
          "surface": [
           {
            "colorbar": {
             "outlinewidth": 0,
             "ticks": ""
            },
            "colorscale": [
             [
              0.0,
              "#0d0887"
             ],
             [
              0.1111111111111111,
              "#46039f"
             ],
             [
              0.2222222222222222,
              "#7201a8"
             ],
             [
              0.3333333333333333,
              "#9c179e"
             ],
             [
              0.4444444444444444,
              "#bd3786"
             ],
             [
              0.5555555555555556,
              "#d8576b"
             ],
             [
              0.6666666666666666,
              "#ed7953"
             ],
             [
              0.7777777777777778,
              "#fb9f3a"
             ],
             [
              0.8888888888888888,
              "#fdca26"
             ],
             [
              1.0,
              "#f0f921"
             ]
            ],
            "type": "surface"
           }
          ],
          "table": [
           {
            "cells": {
             "fill": {
              "color": "#EBF0F8"
             },
             "line": {
              "color": "white"
             }
            },
            "header": {
             "fill": {
              "color": "#C8D4E3"
             },
             "line": {
              "color": "white"
             }
            },
            "type": "table"
           }
          ]
         },
         "layout": {
          "annotationdefaults": {
           "arrowcolor": "#2a3f5f",
           "arrowhead": 0,
           "arrowwidth": 1
          },
          "autotypenumbers": "strict",
          "coloraxis": {
           "colorbar": {
            "outlinewidth": 0,
            "ticks": ""
           }
          },
          "colorscale": {
           "diverging": [
            [
             0,
             "#8e0152"
            ],
            [
             0.1,
             "#c51b7d"
            ],
            [
             0.2,
             "#de77ae"
            ],
            [
             0.3,
             "#f1b6da"
            ],
            [
             0.4,
             "#fde0ef"
            ],
            [
             0.5,
             "#f7f7f7"
            ],
            [
             0.6,
             "#e6f5d0"
            ],
            [
             0.7,
             "#b8e186"
            ],
            [
             0.8,
             "#7fbc41"
            ],
            [
             0.9,
             "#4d9221"
            ],
            [
             1,
             "#276419"
            ]
           ],
           "sequential": [
            [
             0.0,
             "#0d0887"
            ],
            [
             0.1111111111111111,
             "#46039f"
            ],
            [
             0.2222222222222222,
             "#7201a8"
            ],
            [
             0.3333333333333333,
             "#9c179e"
            ],
            [
             0.4444444444444444,
             "#bd3786"
            ],
            [
             0.5555555555555556,
             "#d8576b"
            ],
            [
             0.6666666666666666,
             "#ed7953"
            ],
            [
             0.7777777777777778,
             "#fb9f3a"
            ],
            [
             0.8888888888888888,
             "#fdca26"
            ],
            [
             1.0,
             "#f0f921"
            ]
           ],
           "sequentialminus": [
            [
             0.0,
             "#0d0887"
            ],
            [
             0.1111111111111111,
             "#46039f"
            ],
            [
             0.2222222222222222,
             "#7201a8"
            ],
            [
             0.3333333333333333,
             "#9c179e"
            ],
            [
             0.4444444444444444,
             "#bd3786"
            ],
            [
             0.5555555555555556,
             "#d8576b"
            ],
            [
             0.6666666666666666,
             "#ed7953"
            ],
            [
             0.7777777777777778,
             "#fb9f3a"
            ],
            [
             0.8888888888888888,
             "#fdca26"
            ],
            [
             1.0,
             "#f0f921"
            ]
           ]
          },
          "colorway": [
           "#636efa",
           "#EF553B",
           "#00cc96",
           "#ab63fa",
           "#FFA15A",
           "#19d3f3",
           "#FF6692",
           "#B6E880",
           "#FF97FF",
           "#FECB52"
          ],
          "font": {
           "color": "#2a3f5f"
          },
          "geo": {
           "bgcolor": "white",
           "lakecolor": "white",
           "landcolor": "white",
           "showlakes": true,
           "showland": true,
           "subunitcolor": "#C8D4E3"
          },
          "hoverlabel": {
           "align": "left"
          },
          "hovermode": "closest",
          "mapbox": {
           "style": "light"
          },
          "paper_bgcolor": "white",
          "plot_bgcolor": "white",
          "polar": {
           "angularaxis": {
            "gridcolor": "#EBF0F8",
            "linecolor": "#EBF0F8",
            "ticks": ""
           },
           "bgcolor": "white",
           "radialaxis": {
            "gridcolor": "#EBF0F8",
            "linecolor": "#EBF0F8",
            "ticks": ""
           }
          },
          "scene": {
           "xaxis": {
            "backgroundcolor": "white",
            "gridcolor": "#DFE8F3",
            "gridwidth": 2,
            "linecolor": "#EBF0F8",
            "showbackground": true,
            "ticks": "",
            "zerolinecolor": "#EBF0F8"
           },
           "yaxis": {
            "backgroundcolor": "white",
            "gridcolor": "#DFE8F3",
            "gridwidth": 2,
            "linecolor": "#EBF0F8",
            "showbackground": true,
            "ticks": "",
            "zerolinecolor": "#EBF0F8"
           },
           "zaxis": {
            "backgroundcolor": "white",
            "gridcolor": "#DFE8F3",
            "gridwidth": 2,
            "linecolor": "#EBF0F8",
            "showbackground": true,
            "ticks": "",
            "zerolinecolor": "#EBF0F8"
           }
          },
          "shapedefaults": {
           "line": {
            "color": "#2a3f5f"
           }
          },
          "ternary": {
           "aaxis": {
            "gridcolor": "#DFE8F3",
            "linecolor": "#A2B1C6",
            "ticks": ""
           },
           "baxis": {
            "gridcolor": "#DFE8F3",
            "linecolor": "#A2B1C6",
            "ticks": ""
           },
           "bgcolor": "white",
           "caxis": {
            "gridcolor": "#DFE8F3",
            "linecolor": "#A2B1C6",
            "ticks": ""
           }
          },
          "title": {
           "x": 0.05
          },
          "xaxis": {
           "automargin": true,
           "gridcolor": "#EBF0F8",
           "linecolor": "#EBF0F8",
           "ticks": "",
           "title": {
            "standoff": 15
           },
           "zerolinecolor": "#EBF0F8",
           "zerolinewidth": 2
          },
          "yaxis": {
           "automargin": true,
           "gridcolor": "#EBF0F8",
           "linecolor": "#EBF0F8",
           "ticks": "",
           "title": {
            "standoff": 15
           },
           "zerolinecolor": "#EBF0F8",
           "zerolinewidth": 2
          }
         }
        },
        "xaxis": {
         "anchor": "y",
         "domain": [
          0.0,
          0.45
         ]
        },
        "yaxis": {
         "anchor": "x",
         "domain": [
          0.7777777777777778,
          1.0
         ]
        },
        "xaxis2": {
         "anchor": "y2",
         "domain": [
          0.55,
          1.0
         ]
        },
        "yaxis2": {
         "anchor": "x2",
         "domain": [
          0.7777777777777778,
          1.0
         ]
        },
        "xaxis3": {
         "anchor": "y3",
         "domain": [
          0.0,
          0.45
         ]
        },
        "yaxis3": {
         "anchor": "x3",
         "domain": [
          0.3888888888888889,
          0.6111111111111112
         ]
        },
        "xaxis4": {
         "anchor": "y4",
         "domain": [
          0.55,
          1.0
         ]
        },
        "yaxis4": {
         "anchor": "x4",
         "domain": [
          0.3888888888888889,
          0.6111111111111112
         ]
        },
        "xaxis5": {
         "anchor": "y5",
         "domain": [
          0.0,
          0.45
         ]
        },
        "yaxis5": {
         "anchor": "x5",
         "domain": [
          0.0,
          0.22222222222222224
         ]
        },
        "xaxis6": {
         "anchor": "y6",
         "domain": [
          0.55,
          1.0
         ]
        },
        "yaxis6": {
         "anchor": "x6",
         "domain": [
          0.0,
          0.22222222222222224
         ]
        },
        "annotations": [
         {
          "font": {
           "size": 16
          },
          "showarrow": false,
          "text": "F1 Score",
          "x": 0.225,
          "xanchor": "center",
          "xref": "paper",
          "y": 1.0,
          "yanchor": "bottom",
          "yref": "paper"
         },
         {
          "font": {
           "size": 16
          },
          "showarrow": false,
          "text": "F1 Score",
          "x": 0.775,
          "xanchor": "center",
          "xref": "paper",
          "y": 1.0,
          "yanchor": "bottom",
          "yref": "paper"
         },
         {
          "font": {
           "size": 16
          },
          "showarrow": false,
          "text": "Precision",
          "x": 0.225,
          "xanchor": "center",
          "xref": "paper",
          "y": 0.6111111111111112,
          "yanchor": "bottom",
          "yref": "paper"
         },
         {
          "font": {
           "size": 16
          },
          "showarrow": false,
          "text": "Precision",
          "x": 0.775,
          "xanchor": "center",
          "xref": "paper",
          "y": 0.6111111111111112,
          "yanchor": "bottom",
          "yref": "paper"
         },
         {
          "font": {
           "size": 16
          },
          "showarrow": false,
          "text": "Recall",
          "x": 0.225,
          "xanchor": "center",
          "xref": "paper",
          "y": 0.22222222222222224,
          "yanchor": "bottom",
          "yref": "paper"
         },
         {
          "font": {
           "size": 16
          },
          "showarrow": false,
          "text": "Recall",
          "x": 0.775,
          "xanchor": "center",
          "xref": "paper",
          "y": 0.22222222222222224,
          "yanchor": "bottom",
          "yref": "paper"
         }
        ],
        "title": {
         "text": "Analiza wsparcia dla etykiet (Musicnn)",
         "x": 0.5
        },
        "showlegend": false
       },
       "config": {
        "plotlyServerURL": "https://plot.ly"
       }
      },
      "text/html": "<div>                            <div id=\"5aaaff40-8b00-4b2b-9e24-e977b93b0197\" class=\"plotly-graph-div\" style=\"height:525px; width:100%;\"></div>            <script type=\"text/javascript\">                require([\"plotly\"], function(Plotly) {                    window.PLOTLYENV=window.PLOTLYENV || {};                                    if (document.getElementById(\"5aaaff40-8b00-4b2b-9e24-e977b93b0197\")) {                    Plotly.newPlot(                        \"5aaaff40-8b00-4b2b-9e24-e977b93b0197\",                        [{\"orientation\":\"v\",\"text\":[0.4694,0.5585,0.5664,0.5669,0.6399,0.7074,0.7536,0.7546,0.7831,0.8016],\"x\":[\"fast\",\"strings\",\"slow\",\"drums\",\"electronic\",\"piano\",\"classical\",\"guitar\",\"techno\",\"rock\"],\"y\":[0.4693877551020409,0.5584905660377358,0.5664429530201344,0.5669291338582677,0.6398713826366561,0.7074468085106382,0.7536231884057971,0.754646840148699,0.7831149927219796,0.8016032064128257],\"type\":\"bar\",\"xaxis\":\"x\",\"yaxis\":\"y\"},{\"orientation\":\"v\",\"text\":[0.5287,0.5692,0.5923,0.6063,0.6066,0.6275,0.6733,0.688,0.738,0.7964],\"x\":[\"fast\",\"drums\",\"electronic\",\"slow\",\"strings\",\"classical\",\"guitar\",\"techno\",\"rock\",\"piano\"],\"y\":[0.5287356321839081,0.5691699604743083,0.5922619047619048,0.6063218390804598,0.6065573770491803,0.6274509803921569,0.6733001658374793,0.6879795396419437,0.7380073800738007,0.7964071856287425],\"type\":\"bar\",\"xaxis\":\"x3\",\"yaxis\":\"y3\"},{\"orientation\":\"v\",\"text\":[0.422,0.5175,0.5315,0.5647,0.6364,0.6958,0.8584,0.8772,0.9088,0.9433],\"x\":[\"fast\",\"strings\",\"slow\",\"drums\",\"piano\",\"electronic\",\"guitar\",\"rock\",\"techno\",\"classical\"],\"y\":[0.42201834862385323,0.5174825174825175,0.5314861460957179,0.5647058823529412,0.6363636363636364,0.6958041958041958,0.8583509513742071,0.8771929824561403,0.9087837837837838,0.9433106575963719],\"type\":\"bar\",\"xaxis\":\"x5\",\"yaxis\":\"y5\"},{\"orientation\":\"v\",\"text\":[0.0,0.0323,0.1308,0.3965,0.4202,0.4504,0.4897,0.5145,0.5333,0.5357,0.5405,0.5882,0.697,0.7074,0.7075,0.7303,0.7395,0.7403,0.8119,0.8219],\"x\":[\"singing\",\"vocal\",\"synth\",\"male\",\"female\",\"fast\",\"slow\",\"strings\",\"beat\",\"electronic\",\"drums\",\"indian\",\"ambient\",\"piano\",\"classical\",\"techno\",\"violin\",\"guitar\",\"rock\",\"opera\"],\"y\":[0.0,0.03225806451612904,0.1308411214953271,0.39647577092511016,0.42023346303501946,0.450402144772118,0.48968363136176063,0.5145067698259188,0.5333333333333333,0.5356521739130435,0.5405405405405405,0.5882352941176471,0.696969696969697,0.7074468085106383,0.7075471698113207,0.7303370786516853,0.739454094292804,0.7402985074626866,0.811881188118812,0.8219178082191779],\"type\":\"bar\",\"xaxis\":\"x2\",\"yaxis\":\"y2\"},{\"orientation\":\"v\",\"text\":[0.2727,0.4206,0.4759,0.4821,0.4984,0.5096,0.5242,0.5275,0.5674,0.5833,0.5971,0.6176,0.6265,0.6289,0.6564,0.7045,0.7101,0.7688,0.7736,1.0],\"x\":[\"vocal\",\"male\",\"slow\",\"female\",\"electronic\",\"strings\",\"drums\",\"beat\",\"indian\",\"synth\",\"classical\",\"fast\",\"techno\",\"ambient\",\"violin\",\"guitar\",\"opera\",\"piano\",\"rock\",\"singing\"],\"y\":[0.2727272727272727,0.4205607476635514,0.47593582887700536,0.48214285714285715,0.49838187702265374,0.5095785440613027,0.5241935483870968,0.5274725274725275,0.5673758865248227,0.5833333333333334,0.5971337579617835,0.6176470588235294,0.6265060240963856,0.62890625,0.6563876651982379,0.7045454545454546,0.7100591715976331,0.7687861271676301,0.7735849056603774,1.0],\"type\":\"bar\",\"xaxis\":\"x4\",\"yaxis\":\"y4\"},{\"orientation\":\"v\",\"text\":[0.0,0.0171,0.0737,0.3544,0.3724,0.375,0.5042,0.5195,0.5393,0.5579,0.5789,0.6107,0.6552,0.7799,0.7816,0.8466,0.8542,0.8681,0.8754,0.9756],\"x\":[\"singing\",\"vocal\",\"synth\",\"fast\",\"female\",\"male\",\"slow\",\"strings\",\"beat\",\"drums\",\"electronic\",\"indian\",\"piano\",\"guitar\",\"ambient\",\"violin\",\"rock\",\"classical\",\"techno\",\"opera\"],\"y\":[0.0,0.017142857142857144,0.07368421052631578,0.35443037974683544,0.3724137931034483,0.375,0.5042492917847026,0.51953125,0.5393258426966292,0.5579399141630901,0.5789473684210527,0.6106870229007634,0.6551724137931034,0.779874213836478,0.7815533980582524,0.8465909090909091,0.8541666666666666,0.8680555555555556,0.8754208754208754,0.975609756097561],\"type\":\"bar\",\"xaxis\":\"x6\",\"yaxis\":\"y6\"}],                        {\"template\":{\"data\":{\"barpolar\":[{\"marker\":{\"line\":{\"color\":\"white\",\"width\":0.5},\"pattern\":{\"fillmode\":\"overlay\",\"size\":10,\"solidity\":0.2}},\"type\":\"barpolar\"}],\"bar\":[{\"error_x\":{\"color\":\"#2a3f5f\"},\"error_y\":{\"color\":\"#2a3f5f\"},\"marker\":{\"line\":{\"color\":\"white\",\"width\":0.5},\"pattern\":{\"fillmode\":\"overlay\",\"size\":10,\"solidity\":0.2}},\"type\":\"bar\"}],\"carpet\":[{\"aaxis\":{\"endlinecolor\":\"#2a3f5f\",\"gridcolor\":\"#C8D4E3\",\"linecolor\":\"#C8D4E3\",\"minorgridcolor\":\"#C8D4E3\",\"startlinecolor\":\"#2a3f5f\"},\"baxis\":{\"endlinecolor\":\"#2a3f5f\",\"gridcolor\":\"#C8D4E3\",\"linecolor\":\"#C8D4E3\",\"minorgridcolor\":\"#C8D4E3\",\"startlinecolor\":\"#2a3f5f\"},\"type\":\"carpet\"}],\"choropleth\":[{\"colorbar\":{\"outlinewidth\":0,\"ticks\":\"\"},\"type\":\"choropleth\"}],\"contourcarpet\":[{\"colorbar\":{\"outlinewidth\":0,\"ticks\":\"\"},\"type\":\"contourcarpet\"}],\"contour\":[{\"colorbar\":{\"outlinewidth\":0,\"ticks\":\"\"},\"colorscale\":[[0.0,\"#0d0887\"],[0.1111111111111111,\"#46039f\"],[0.2222222222222222,\"#7201a8\"],[0.3333333333333333,\"#9c179e\"],[0.4444444444444444,\"#bd3786\"],[0.5555555555555556,\"#d8576b\"],[0.6666666666666666,\"#ed7953\"],[0.7777777777777778,\"#fb9f3a\"],[0.8888888888888888,\"#fdca26\"],[1.0,\"#f0f921\"]],\"type\":\"contour\"}],\"heatmapgl\":[{\"colorbar\":{\"outlinewidth\":0,\"ticks\":\"\"},\"colorscale\":[[0.0,\"#0d0887\"],[0.1111111111111111,\"#46039f\"],[0.2222222222222222,\"#7201a8\"],[0.3333333333333333,\"#9c179e\"],[0.4444444444444444,\"#bd3786\"],[0.5555555555555556,\"#d8576b\"],[0.6666666666666666,\"#ed7953\"],[0.7777777777777778,\"#fb9f3a\"],[0.8888888888888888,\"#fdca26\"],[1.0,\"#f0f921\"]],\"type\":\"heatmapgl\"}],\"heatmap\":[{\"colorbar\":{\"outlinewidth\":0,\"ticks\":\"\"},\"colorscale\":[[0.0,\"#0d0887\"],[0.1111111111111111,\"#46039f\"],[0.2222222222222222,\"#7201a8\"],[0.3333333333333333,\"#9c179e\"],[0.4444444444444444,\"#bd3786\"],[0.5555555555555556,\"#d8576b\"],[0.6666666666666666,\"#ed7953\"],[0.7777777777777778,\"#fb9f3a\"],[0.8888888888888888,\"#fdca26\"],[1.0,\"#f0f921\"]],\"type\":\"heatmap\"}],\"histogram2dcontour\":[{\"colorbar\":{\"outlinewidth\":0,\"ticks\":\"\"},\"colorscale\":[[0.0,\"#0d0887\"],[0.1111111111111111,\"#46039f\"],[0.2222222222222222,\"#7201a8\"],[0.3333333333333333,\"#9c179e\"],[0.4444444444444444,\"#bd3786\"],[0.5555555555555556,\"#d8576b\"],[0.6666666666666666,\"#ed7953\"],[0.7777777777777778,\"#fb9f3a\"],[0.8888888888888888,\"#fdca26\"],[1.0,\"#f0f921\"]],\"type\":\"histogram2dcontour\"}],\"histogram2d\":[{\"colorbar\":{\"outlinewidth\":0,\"ticks\":\"\"},\"colorscale\":[[0.0,\"#0d0887\"],[0.1111111111111111,\"#46039f\"],[0.2222222222222222,\"#7201a8\"],[0.3333333333333333,\"#9c179e\"],[0.4444444444444444,\"#bd3786\"],[0.5555555555555556,\"#d8576b\"],[0.6666666666666666,\"#ed7953\"],[0.7777777777777778,\"#fb9f3a\"],[0.8888888888888888,\"#fdca26\"],[1.0,\"#f0f921\"]],\"type\":\"histogram2d\"}],\"histogram\":[{\"marker\":{\"pattern\":{\"fillmode\":\"overlay\",\"size\":10,\"solidity\":0.2}},\"type\":\"histogram\"}],\"mesh3d\":[{\"colorbar\":{\"outlinewidth\":0,\"ticks\":\"\"},\"type\":\"mesh3d\"}],\"parcoords\":[{\"line\":{\"colorbar\":{\"outlinewidth\":0,\"ticks\":\"\"}},\"type\":\"parcoords\"}],\"pie\":[{\"automargin\":true,\"type\":\"pie\"}],\"scatter3d\":[{\"line\":{\"colorbar\":{\"outlinewidth\":0,\"ticks\":\"\"}},\"marker\":{\"colorbar\":{\"outlinewidth\":0,\"ticks\":\"\"}},\"type\":\"scatter3d\"}],\"scattercarpet\":[{\"marker\":{\"colorbar\":{\"outlinewidth\":0,\"ticks\":\"\"}},\"type\":\"scattercarpet\"}],\"scattergeo\":[{\"marker\":{\"colorbar\":{\"outlinewidth\":0,\"ticks\":\"\"}},\"type\":\"scattergeo\"}],\"scattergl\":[{\"marker\":{\"colorbar\":{\"outlinewidth\":0,\"ticks\":\"\"}},\"type\":\"scattergl\"}],\"scattermapbox\":[{\"marker\":{\"colorbar\":{\"outlinewidth\":0,\"ticks\":\"\"}},\"type\":\"scattermapbox\"}],\"scatterpolargl\":[{\"marker\":{\"colorbar\":{\"outlinewidth\":0,\"ticks\":\"\"}},\"type\":\"scatterpolargl\"}],\"scatterpolar\":[{\"marker\":{\"colorbar\":{\"outlinewidth\":0,\"ticks\":\"\"}},\"type\":\"scatterpolar\"}],\"scatter\":[{\"fillpattern\":{\"fillmode\":\"overlay\",\"size\":10,\"solidity\":0.2},\"type\":\"scatter\"}],\"scatterternary\":[{\"marker\":{\"colorbar\":{\"outlinewidth\":0,\"ticks\":\"\"}},\"type\":\"scatterternary\"}],\"surface\":[{\"colorbar\":{\"outlinewidth\":0,\"ticks\":\"\"},\"colorscale\":[[0.0,\"#0d0887\"],[0.1111111111111111,\"#46039f\"],[0.2222222222222222,\"#7201a8\"],[0.3333333333333333,\"#9c179e\"],[0.4444444444444444,\"#bd3786\"],[0.5555555555555556,\"#d8576b\"],[0.6666666666666666,\"#ed7953\"],[0.7777777777777778,\"#fb9f3a\"],[0.8888888888888888,\"#fdca26\"],[1.0,\"#f0f921\"]],\"type\":\"surface\"}],\"table\":[{\"cells\":{\"fill\":{\"color\":\"#EBF0F8\"},\"line\":{\"color\":\"white\"}},\"header\":{\"fill\":{\"color\":\"#C8D4E3\"},\"line\":{\"color\":\"white\"}},\"type\":\"table\"}]},\"layout\":{\"annotationdefaults\":{\"arrowcolor\":\"#2a3f5f\",\"arrowhead\":0,\"arrowwidth\":1},\"autotypenumbers\":\"strict\",\"coloraxis\":{\"colorbar\":{\"outlinewidth\":0,\"ticks\":\"\"}},\"colorscale\":{\"diverging\":[[0,\"#8e0152\"],[0.1,\"#c51b7d\"],[0.2,\"#de77ae\"],[0.3,\"#f1b6da\"],[0.4,\"#fde0ef\"],[0.5,\"#f7f7f7\"],[0.6,\"#e6f5d0\"],[0.7,\"#b8e186\"],[0.8,\"#7fbc41\"],[0.9,\"#4d9221\"],[1,\"#276419\"]],\"sequential\":[[0.0,\"#0d0887\"],[0.1111111111111111,\"#46039f\"],[0.2222222222222222,\"#7201a8\"],[0.3333333333333333,\"#9c179e\"],[0.4444444444444444,\"#bd3786\"],[0.5555555555555556,\"#d8576b\"],[0.6666666666666666,\"#ed7953\"],[0.7777777777777778,\"#fb9f3a\"],[0.8888888888888888,\"#fdca26\"],[1.0,\"#f0f921\"]],\"sequentialminus\":[[0.0,\"#0d0887\"],[0.1111111111111111,\"#46039f\"],[0.2222222222222222,\"#7201a8\"],[0.3333333333333333,\"#9c179e\"],[0.4444444444444444,\"#bd3786\"],[0.5555555555555556,\"#d8576b\"],[0.6666666666666666,\"#ed7953\"],[0.7777777777777778,\"#fb9f3a\"],[0.8888888888888888,\"#fdca26\"],[1.0,\"#f0f921\"]]},\"colorway\":[\"#636efa\",\"#EF553B\",\"#00cc96\",\"#ab63fa\",\"#FFA15A\",\"#19d3f3\",\"#FF6692\",\"#B6E880\",\"#FF97FF\",\"#FECB52\"],\"font\":{\"color\":\"#2a3f5f\"},\"geo\":{\"bgcolor\":\"white\",\"lakecolor\":\"white\",\"landcolor\":\"white\",\"showlakes\":true,\"showland\":true,\"subunitcolor\":\"#C8D4E3\"},\"hoverlabel\":{\"align\":\"left\"},\"hovermode\":\"closest\",\"mapbox\":{\"style\":\"light\"},\"paper_bgcolor\":\"white\",\"plot_bgcolor\":\"white\",\"polar\":{\"angularaxis\":{\"gridcolor\":\"#EBF0F8\",\"linecolor\":\"#EBF0F8\",\"ticks\":\"\"},\"bgcolor\":\"white\",\"radialaxis\":{\"gridcolor\":\"#EBF0F8\",\"linecolor\":\"#EBF0F8\",\"ticks\":\"\"}},\"scene\":{\"xaxis\":{\"backgroundcolor\":\"white\",\"gridcolor\":\"#DFE8F3\",\"gridwidth\":2,\"linecolor\":\"#EBF0F8\",\"showbackground\":true,\"ticks\":\"\",\"zerolinecolor\":\"#EBF0F8\"},\"yaxis\":{\"backgroundcolor\":\"white\",\"gridcolor\":\"#DFE8F3\",\"gridwidth\":2,\"linecolor\":\"#EBF0F8\",\"showbackground\":true,\"ticks\":\"\",\"zerolinecolor\":\"#EBF0F8\"},\"zaxis\":{\"backgroundcolor\":\"white\",\"gridcolor\":\"#DFE8F3\",\"gridwidth\":2,\"linecolor\":\"#EBF0F8\",\"showbackground\":true,\"ticks\":\"\",\"zerolinecolor\":\"#EBF0F8\"}},\"shapedefaults\":{\"line\":{\"color\":\"#2a3f5f\"}},\"ternary\":{\"aaxis\":{\"gridcolor\":\"#DFE8F3\",\"linecolor\":\"#A2B1C6\",\"ticks\":\"\"},\"baxis\":{\"gridcolor\":\"#DFE8F3\",\"linecolor\":\"#A2B1C6\",\"ticks\":\"\"},\"bgcolor\":\"white\",\"caxis\":{\"gridcolor\":\"#DFE8F3\",\"linecolor\":\"#A2B1C6\",\"ticks\":\"\"}},\"title\":{\"x\":0.05},\"xaxis\":{\"automargin\":true,\"gridcolor\":\"#EBF0F8\",\"linecolor\":\"#EBF0F8\",\"ticks\":\"\",\"title\":{\"standoff\":15},\"zerolinecolor\":\"#EBF0F8\",\"zerolinewidth\":2},\"yaxis\":{\"automargin\":true,\"gridcolor\":\"#EBF0F8\",\"linecolor\":\"#EBF0F8\",\"ticks\":\"\",\"title\":{\"standoff\":15},\"zerolinecolor\":\"#EBF0F8\",\"zerolinewidth\":2}}},\"xaxis\":{\"anchor\":\"y\",\"domain\":[0.0,0.45]},\"yaxis\":{\"anchor\":\"x\",\"domain\":[0.7777777777777778,1.0]},\"xaxis2\":{\"anchor\":\"y2\",\"domain\":[0.55,1.0]},\"yaxis2\":{\"anchor\":\"x2\",\"domain\":[0.7777777777777778,1.0]},\"xaxis3\":{\"anchor\":\"y3\",\"domain\":[0.0,0.45]},\"yaxis3\":{\"anchor\":\"x3\",\"domain\":[0.3888888888888889,0.6111111111111112]},\"xaxis4\":{\"anchor\":\"y4\",\"domain\":[0.55,1.0]},\"yaxis4\":{\"anchor\":\"x4\",\"domain\":[0.3888888888888889,0.6111111111111112]},\"xaxis5\":{\"anchor\":\"y5\",\"domain\":[0.0,0.45]},\"yaxis5\":{\"anchor\":\"x5\",\"domain\":[0.0,0.22222222222222224]},\"xaxis6\":{\"anchor\":\"y6\",\"domain\":[0.55,1.0]},\"yaxis6\":{\"anchor\":\"x6\",\"domain\":[0.0,0.22222222222222224]},\"annotations\":[{\"font\":{\"size\":16},\"showarrow\":false,\"text\":\"F1 Score\",\"x\":0.225,\"xanchor\":\"center\",\"xref\":\"paper\",\"y\":1.0,\"yanchor\":\"bottom\",\"yref\":\"paper\"},{\"font\":{\"size\":16},\"showarrow\":false,\"text\":\"F1 Score\",\"x\":0.775,\"xanchor\":\"center\",\"xref\":\"paper\",\"y\":1.0,\"yanchor\":\"bottom\",\"yref\":\"paper\"},{\"font\":{\"size\":16},\"showarrow\":false,\"text\":\"Precision\",\"x\":0.225,\"xanchor\":\"center\",\"xref\":\"paper\",\"y\":0.6111111111111112,\"yanchor\":\"bottom\",\"yref\":\"paper\"},{\"font\":{\"size\":16},\"showarrow\":false,\"text\":\"Precision\",\"x\":0.775,\"xanchor\":\"center\",\"xref\":\"paper\",\"y\":0.6111111111111112,\"yanchor\":\"bottom\",\"yref\":\"paper\"},{\"font\":{\"size\":16},\"showarrow\":false,\"text\":\"Recall\",\"x\":0.225,\"xanchor\":\"center\",\"xref\":\"paper\",\"y\":0.22222222222222224,\"yanchor\":\"bottom\",\"yref\":\"paper\"},{\"font\":{\"size\":16},\"showarrow\":false,\"text\":\"Recall\",\"x\":0.775,\"xanchor\":\"center\",\"xref\":\"paper\",\"y\":0.22222222222222224,\"yanchor\":\"bottom\",\"yref\":\"paper\"}],\"title\":{\"text\":\"Analiza wsparcia dla etykiet (Musicnn)\",\"x\":0.5},\"showlegend\":false},                        {\"responsive\": true}                    ).then(function(){\n                            \nvar gd = document.getElementById('5aaaff40-8b00-4b2b-9e24-e977b93b0197');\nvar x = new MutationObserver(function (mutations, observer) {{\n        var display = window.getComputedStyle(gd).display;\n        if (!display || display === 'none') {{\n            console.log([gd, 'removed!']);\n            Plotly.purge(gd);\n            observer.disconnect();\n        }}\n}});\n\n// Listen for the removal of the full notebook cells\nvar notebookContainer = gd.closest('#notebook-container');\nif (notebookContainer) {{\n    x.observe(notebookContainer, {childList: true});\n}}\n\n// Listen for the clearing of the current output cell\nvar outputEl = gd.closest('.output');\nif (outputEl) {{\n    x.observe(outputEl, {childList: true});\n}}\n\n                        })                };                });            </script>        </div>"
     },
     "metadata": {},
     "output_type": "display_data"
    }
   ],
   "source": [
    "from plotly.subplots import make_subplots\n",
    "import plotly.graph_objects as go\n",
    "\n",
    "cols = 3\n",
    "fig = make_subplots(rows=3, cols=2, subplot_titles=(\"F1 Score\", \"F1 Score\", \"Precision\", \"Precision\", \"Recall\", \"Recall\"))\n",
    "values = [\"f1-score\", \"precision\", \"recall\"]\n",
    "data_frames = [df10, df20]\n",
    "\n",
    "for j in range(len(data_frames)):\n",
    "    data_frame = data_frames[j]\n",
    "    for i in range(len(values)):\n",
    "        value = values[i]\n",
    "        data_frame = data_frame.sort_values(by=value)\n",
    "        fig.add_trace(go.Bar(x=data_frame.index, y=data_frame[value], orientation=\"v\", text=round(data_frame[value], 4)), col=j+1, row=i+1)\n",
    "\n",
    "fig.update_layout(({\"title\": {\"text\": \"Analiza wsparcia dla etykiet (Musicnn)\", \"x\": 0.5},\n",
    "                    \"showlegend\": False,\n",
    "                    \"template\": \"plotly_white\"}))\n",
    "# Change the bar mode\n",
    "fig.show()\n",
    "fig.write_image(\"images/fig6.png\", width=800, height=950)"
   ],
   "metadata": {
    "collapsed": false,
    "ExecuteTime": {
     "start_time": "2023-05-02T15:36:15.705156Z",
     "end_time": "2023-05-02T15:36:15.906464Z"
    }
   }
  },
  {
   "cell_type": "code",
   "execution_count": 79,
   "outputs": [
    {
     "name": "stdout",
     "output_type": "stream",
     "text": [
      "Cannot use cuda for model, defaulting to cpu\n"
     ]
    },
    {
     "name": "stderr",
     "output_type": "stream",
     "text": [
      "100%|██████████| 1648/1648 [00:14<00:00, 117.29it/s]\n",
      "100%|██████████| 1648/1648 [12:14<00:00,  2.24it/s]\n"
     ]
    },
    {
     "name": "stdout",
     "output_type": "stream",
     "text": [
      "[2023-05-02 15:14:14] Loss/Valid: 0.0000\n",
      "[2023-05-02 15:14:14] F1 Score: 0.7008\n",
      "[2023-05-02 15:14:14] AUC/ROC: 0.9379\n",
      "[2023-05-02 15:14:14] AUC/PR: 0.7576\n",
      "{'guitar': {'precision': 0.8461538461538461, 'recall': 0.7674418604651163, 'f1-score': 0.8048780487804877, 'support': 473}, 'classical': {'precision': 0.8063829787234043, 'recall': 0.8594104308390023, 'f1-score': 0.83205268935236, 'support': 441}, 'slow': {'precision': 0.7782426778242678, 'recall': 0.46851385390428213, 'f1-score': 0.5849056603773585, 'support': 397}, 'techno': {'precision': 0.7961165048543689, 'recall': 0.831081081081081, 'f1-score': 0.8132231404958677, 'support': 296}, 'strings': {'precision': 0.7172995780590717, 'recall': 0.5944055944055944, 'f1-score': 0.6500956022944552, 'support': 286}, 'drums': {'precision': 0.7193877551020408, 'recall': 0.5529411764705883, 'f1-score': 0.6252771618625277, 'support': 255}, 'electronic': {'precision': 0.7230769230769231, 'recall': 0.493006993006993, 'f1-score': 0.5862785862785863, 'support': 286}, 'rock': {'precision': 0.9024390243902439, 'recall': 0.8114035087719298, 'f1-score': 0.8545034642032333, 'support': 228}, 'fast': {'precision': 0.5373134328358209, 'recall': 0.4954128440366973, 'f1-score': 0.5155131264916468, 'support': 218}, 'piano': {'precision': 0.8979591836734694, 'recall': 0.631578947368421, 'f1-score': 0.7415730337078653, 'support': 209}, 'micro avg': {'precision': 0.780441400304414, 'recall': 0.6639689219812237, 'f1-score': 0.7175091831380095, 'support': 3089}, 'macro avg': {'precision': 0.7724371904693457, 'recall': 0.6505196290349706, 'f1-score': 0.7008300513844389, 'support': 3089}, 'weighted avg': {'precision': 0.7790268512670031, 'recall': 0.6639689219812237, 'f1-score': 0.7108482549366929, 'support': 3089}, 'samples avg': {'precision': 0.8148665048543688, 'recall': 0.7112661812297735, 'f1-score': 0.7049742834026814, 'support': 3089}}\n",
      "Cannot use cuda for model, defaulting to cpu\n"
     ]
    },
    {
     "name": "stderr",
     "output_type": "stream",
     "text": [
      "100%|██████████| 1972/1972 [00:13<00:00, 141.72it/s]\n",
      "100%|██████████| 1972/1972 [17:54<00:00,  1.84it/s]"
     ]
    },
    {
     "name": "stdout",
     "output_type": "stream",
     "text": [
      "[2023-05-02 15:32:26] Loss/Valid: 0.0000\n",
      "[2023-05-02 15:32:26] F1 Score: 0.6009\n",
      "[2023-05-02 15:32:26] AUC/ROC: 0.9347\n",
      "[2023-05-02 15:32:26] AUC/PR: 0.6580\n",
      "{'guitar': {'precision': 0.8668341708542714, 'recall': 0.7232704402515723, 'f1-score': 0.7885714285714285, 'support': 477}, 'classical': {'precision': 0.7638888888888888, 'recall': 0.7638888888888888, 'f1-score': 0.763888888888889, 'support': 432}, 'slow': {'precision': 0.6700507614213198, 'recall': 0.37393767705382436, 'f1-score': 0.48000000000000004, 'support': 353}, 'techno': {'precision': 0.77, 'recall': 0.7777777777777778, 'f1-score': 0.7738693467336684, 'support': 297}, 'strings': {'precision': 0.6666666666666666, 'recall': 0.515625, 'f1-score': 0.5814977973568283, 'support': 256}, 'drums': {'precision': 0.5987654320987654, 'recall': 0.41630901287553645, 'f1-score': 0.4911392405063291, 'support': 233}, 'electronic': {'precision': 0.6705202312138728, 'recall': 0.43609022556390975, 'f1-score': 0.5284738041002277, 'support': 266}, 'rock': {'precision': 0.8744186046511628, 'recall': 0.7833333333333333, 'f1-score': 0.8263736263736264, 'support': 240}, 'fast': {'precision': 0.5833333333333334, 'recall': 0.5021097046413502, 'f1-score': 0.5396825396825397, 'support': 237}, 'piano': {'precision': 0.88, 'recall': 0.6502463054187192, 'f1-score': 0.7478753541076488, 'support': 203}, 'ambient': {'precision': 0.7440758293838863, 'recall': 0.7621359223300971, 'f1-score': 0.7529976019184652, 'support': 206}, 'beat': {'precision': 0.6148648648648649, 'recall': 0.5112359550561798, 'f1-score': 0.558282208588957, 'support': 178}, 'violin': {'precision': 0.7682926829268293, 'recall': 0.7159090909090909, 'f1-score': 0.7411764705882352, 'support': 176}, 'vocal': {'precision': 0.7272727272727273, 'recall': 0.22857142857142856, 'f1-score': 0.34782608695652173, 'support': 175}, 'synth': {'precision': 0.5555555555555556, 'recall': 0.2894736842105263, 'f1-score': 0.3806228373702422, 'support': 190}, 'female': {'precision': 0.703125, 'recall': 0.3103448275862069, 'f1-score': 0.430622009569378, 'support': 145}, 'indian': {'precision': 0.7641509433962265, 'recall': 0.6183206106870229, 'f1-score': 0.6835443037974684, 'support': 131}, 'opera': {'precision': 0.8244274809160306, 'recall': 0.8780487804878049, 'f1-score': 0.8503937007874016, 'support': 123}, 'male': {'precision': 0.5882352941176471, 'recall': 0.3333333333333333, 'f1-score': 0.42553191489361697, 'support': 120}, 'singing': {'precision': 0.625, 'recall': 0.21929824561403508, 'f1-score': 0.3246753246753246, 'support': 114}, 'micro avg': {'precision': 0.7368421052631579, 'recall': 0.5689806678383128, 'f1-score': 0.6421222263542828, 'support': 4552}, 'macro avg': {'precision': 0.7129739233781024, 'recall': 0.540463012229532, 'f1-score': 0.6008522242733398, 'support': 4552}, 'weighted avg': {'precision': 0.7249689703642768, 'recall': 0.5689806678383128, 'f1-score': 0.6261292282570614, 'support': 4552}, 'samples avg': {'precision': 0.7753296146044625, 'recall': 0.625068820631701, 'f1-score': 0.6217443898224833, 'support': 4552}}\n"
     ]
    },
    {
     "name": "stderr",
     "output_type": "stream",
     "text": [
      "\n"
     ]
    }
   ],
   "source": [
    "from components.common import Statistics\n",
    "import os\n",
    "import pathlib\n",
    "from tqdm import tqdm\n",
    "from sklearn.neighbors import KNeighborsClassifier\n",
    "from components.predictor import SklearnPredictor\n",
    "from sklearn.metrics import classification_report\n",
    "import numpy as np\n",
    "from components.config import Config\n",
    "\n",
    "data = [\n",
    "    [10, \"model.bin\"],\n",
    "    [20, \"model.bin\"]\n",
    "]\n",
    "openl3_results = []\n",
    "\n",
    "for n, model_filename in data:\n",
    "    musicnn_config = Config(model=Musicnn(n_class=n), model_filename_path=\"../models\", data_path='../data',\n",
    "                            dataset_split_path=\"../split\", dataset_name=f\"mtat-{n}\")\n",
    "    print(model_filename)\n",
    "\n",
    "    tester = Tester(musicnn_config, model_filename=model_filename)\n",
    "    stats = tester.test()\n",
    "    est_bin_array = np.where(stats.est_array >= 0.5, 1, 0)\n",
    "    raport = classification_report(stats.gt_array, est_bin_array, target_names=list(tester.predictor.tags), output_dict=True, zero_division=1)\n",
    "    print(raport)\n",
    "    openl3_results.append(raport)"
   ],
   "metadata": {
    "collapsed": false,
    "ExecuteTime": {
     "start_time": "2023-05-02T15:01:35.065899Z",
     "end_time": "2023-05-02T15:32:26.176154Z"
    }
   }
  },
  {
   "cell_type": "code",
   "execution_count": 80,
   "outputs": [],
   "source": [
    "import pandas as pd\n",
    "dfl310 = pd.DataFrame.from_dict(openl3_results[0])\n",
    "dfl310 = dfl310.drop(columns=[\"micro avg\", \"macro avg\", \"weighted avg\", \"samples avg\"], index=[\"support\"])\n",
    "dfl310 = dfl310.T\n",
    "\n",
    "dfl320 = pd.DataFrame.from_dict(openl3_results[1])\n",
    "dfl320 = dfl320.drop(columns=[\"micro avg\", \"macro avg\", \"weighted avg\", \"samples avg\"], index=[\"support\"])\n",
    "dfl320 = dfl320.T"
   ],
   "metadata": {
    "collapsed": false,
    "ExecuteTime": {
     "start_time": "2023-05-02T15:35:51.816515Z",
     "end_time": "2023-05-02T15:35:51.879757Z"
    }
   }
  },
  {
   "cell_type": "code",
   "execution_count": 85,
   "outputs": [
    {
     "data": {
      "application/vnd.plotly.v1+json": {
       "data": [
        {
         "orientation": "v",
         "text": [
          0.5155,
          0.5849,
          0.5863,
          0.6253,
          0.6501,
          0.7416,
          0.8049,
          0.8132,
          0.8321,
          0.8545
         ],
         "x": [
          "fast",
          "slow",
          "electronic",
          "drums",
          "strings",
          "piano",
          "guitar",
          "techno",
          "classical",
          "rock"
         ],
         "y": [
          0.5155131264916468,
          0.5849056603773585,
          0.5862785862785863,
          0.6252771618625277,
          0.6500956022944552,
          0.7415730337078653,
          0.8048780487804877,
          0.8132231404958677,
          0.83205268935236,
          0.8545034642032333
         ],
         "type": "bar",
         "xaxis": "x",
         "yaxis": "y"
        },
        {
         "orientation": "v",
         "text": [
          0.5373,
          0.7173,
          0.7194,
          0.7231,
          0.7782,
          0.7961,
          0.8064,
          0.8462,
          0.898,
          0.9024
         ],
         "x": [
          "fast",
          "strings",
          "drums",
          "electronic",
          "slow",
          "techno",
          "classical",
          "guitar",
          "piano",
          "rock"
         ],
         "y": [
          0.5373134328358209,
          0.7172995780590717,
          0.7193877551020408,
          0.7230769230769231,
          0.7782426778242678,
          0.7961165048543689,
          0.8063829787234043,
          0.8461538461538461,
          0.8979591836734694,
          0.9024390243902439
         ],
         "type": "bar",
         "xaxis": "x3",
         "yaxis": "y3"
        },
        {
         "orientation": "v",
         "text": [
          0.4685,
          0.493,
          0.4954,
          0.5529,
          0.5944,
          0.6316,
          0.7674,
          0.8114,
          0.8311,
          0.8594
         ],
         "x": [
          "slow",
          "electronic",
          "fast",
          "drums",
          "strings",
          "piano",
          "guitar",
          "rock",
          "techno",
          "classical"
         ],
         "y": [
          0.46851385390428213,
          0.493006993006993,
          0.4954128440366973,
          0.5529411764705883,
          0.5944055944055944,
          0.631578947368421,
          0.7674418604651163,
          0.8114035087719298,
          0.831081081081081,
          0.8594104308390023
         ],
         "type": "bar",
         "xaxis": "x5",
         "yaxis": "y5"
        },
        {
         "orientation": "v",
         "text": [
          0.3247,
          0.3478,
          0.3806,
          0.4255,
          0.4306,
          0.48,
          0.4911,
          0.5285,
          0.5397,
          0.5583,
          0.5815,
          0.6835,
          0.7412,
          0.7479,
          0.753,
          0.7639,
          0.7739,
          0.7886,
          0.8264,
          0.8504
         ],
         "x": [
          "singing",
          "vocal",
          "synth",
          "male",
          "female",
          "slow",
          "drums",
          "electronic",
          "fast",
          "beat",
          "strings",
          "indian",
          "violin",
          "piano",
          "ambient",
          "classical",
          "techno",
          "guitar",
          "rock",
          "opera"
         ],
         "y": [
          0.3246753246753246,
          0.34782608695652173,
          0.3806228373702422,
          0.42553191489361697,
          0.430622009569378,
          0.48000000000000004,
          0.4911392405063291,
          0.5284738041002277,
          0.5396825396825397,
          0.558282208588957,
          0.5814977973568283,
          0.6835443037974684,
          0.7411764705882352,
          0.7478753541076488,
          0.7529976019184652,
          0.763888888888889,
          0.7738693467336684,
          0.7885714285714285,
          0.8263736263736264,
          0.8503937007874016
         ],
         "type": "bar",
         "xaxis": "x2",
         "yaxis": "y2"
        },
        {
         "orientation": "v",
         "text": [
          0.5556,
          0.5833,
          0.5882,
          0.5988,
          0.6149,
          0.625,
          0.6667,
          0.6701,
          0.6705,
          0.7031,
          0.7273,
          0.7441,
          0.7639,
          0.7642,
          0.7683,
          0.77,
          0.8244,
          0.8668,
          0.8744,
          0.88
         ],
         "x": [
          "synth",
          "fast",
          "male",
          "drums",
          "beat",
          "singing",
          "strings",
          "slow",
          "electronic",
          "female",
          "vocal",
          "ambient",
          "classical",
          "indian",
          "violin",
          "techno",
          "opera",
          "guitar",
          "rock",
          "piano"
         ],
         "y": [
          0.5555555555555556,
          0.5833333333333334,
          0.5882352941176471,
          0.5987654320987654,
          0.6148648648648649,
          0.625,
          0.6666666666666666,
          0.6700507614213198,
          0.6705202312138728,
          0.703125,
          0.7272727272727273,
          0.7440758293838863,
          0.7638888888888888,
          0.7641509433962265,
          0.7682926829268293,
          0.77,
          0.8244274809160306,
          0.8668341708542714,
          0.8744186046511628,
          0.88
         ],
         "type": "bar",
         "xaxis": "x4",
         "yaxis": "y4"
        },
        {
         "orientation": "v",
         "text": [
          0.2193,
          0.2286,
          0.2895,
          0.3103,
          0.3333,
          0.3739,
          0.4163,
          0.4361,
          0.5021,
          0.5112,
          0.5156,
          0.6183,
          0.6502,
          0.7159,
          0.7233,
          0.7621,
          0.7639,
          0.7778,
          0.7833,
          0.878
         ],
         "x": [
          "singing",
          "vocal",
          "synth",
          "female",
          "male",
          "slow",
          "drums",
          "electronic",
          "fast",
          "beat",
          "strings",
          "indian",
          "piano",
          "violin",
          "guitar",
          "ambient",
          "classical",
          "techno",
          "rock",
          "opera"
         ],
         "y": [
          0.21929824561403508,
          0.22857142857142856,
          0.2894736842105263,
          0.3103448275862069,
          0.3333333333333333,
          0.37393767705382436,
          0.41630901287553645,
          0.43609022556390975,
          0.5021097046413502,
          0.5112359550561798,
          0.515625,
          0.6183206106870229,
          0.6502463054187192,
          0.7159090909090909,
          0.7232704402515723,
          0.7621359223300971,
          0.7638888888888888,
          0.7777777777777778,
          0.7833333333333333,
          0.8780487804878049
         ],
         "type": "bar",
         "xaxis": "x6",
         "yaxis": "y6"
        }
       ],
       "layout": {
        "template": {
         "data": {
          "barpolar": [
           {
            "marker": {
             "line": {
              "color": "white",
              "width": 0.5
             },
             "pattern": {
              "fillmode": "overlay",
              "size": 10,
              "solidity": 0.2
             }
            },
            "type": "barpolar"
           }
          ],
          "bar": [
           {
            "error_x": {
             "color": "#2a3f5f"
            },
            "error_y": {
             "color": "#2a3f5f"
            },
            "marker": {
             "line": {
              "color": "white",
              "width": 0.5
             },
             "pattern": {
              "fillmode": "overlay",
              "size": 10,
              "solidity": 0.2
             }
            },
            "type": "bar"
           }
          ],
          "carpet": [
           {
            "aaxis": {
             "endlinecolor": "#2a3f5f",
             "gridcolor": "#C8D4E3",
             "linecolor": "#C8D4E3",
             "minorgridcolor": "#C8D4E3",
             "startlinecolor": "#2a3f5f"
            },
            "baxis": {
             "endlinecolor": "#2a3f5f",
             "gridcolor": "#C8D4E3",
             "linecolor": "#C8D4E3",
             "minorgridcolor": "#C8D4E3",
             "startlinecolor": "#2a3f5f"
            },
            "type": "carpet"
           }
          ],
          "choropleth": [
           {
            "colorbar": {
             "outlinewidth": 0,
             "ticks": ""
            },
            "type": "choropleth"
           }
          ],
          "contourcarpet": [
           {
            "colorbar": {
             "outlinewidth": 0,
             "ticks": ""
            },
            "type": "contourcarpet"
           }
          ],
          "contour": [
           {
            "colorbar": {
             "outlinewidth": 0,
             "ticks": ""
            },
            "colorscale": [
             [
              0.0,
              "#0d0887"
             ],
             [
              0.1111111111111111,
              "#46039f"
             ],
             [
              0.2222222222222222,
              "#7201a8"
             ],
             [
              0.3333333333333333,
              "#9c179e"
             ],
             [
              0.4444444444444444,
              "#bd3786"
             ],
             [
              0.5555555555555556,
              "#d8576b"
             ],
             [
              0.6666666666666666,
              "#ed7953"
             ],
             [
              0.7777777777777778,
              "#fb9f3a"
             ],
             [
              0.8888888888888888,
              "#fdca26"
             ],
             [
              1.0,
              "#f0f921"
             ]
            ],
            "type": "contour"
           }
          ],
          "heatmapgl": [
           {
            "colorbar": {
             "outlinewidth": 0,
             "ticks": ""
            },
            "colorscale": [
             [
              0.0,
              "#0d0887"
             ],
             [
              0.1111111111111111,
              "#46039f"
             ],
             [
              0.2222222222222222,
              "#7201a8"
             ],
             [
              0.3333333333333333,
              "#9c179e"
             ],
             [
              0.4444444444444444,
              "#bd3786"
             ],
             [
              0.5555555555555556,
              "#d8576b"
             ],
             [
              0.6666666666666666,
              "#ed7953"
             ],
             [
              0.7777777777777778,
              "#fb9f3a"
             ],
             [
              0.8888888888888888,
              "#fdca26"
             ],
             [
              1.0,
              "#f0f921"
             ]
            ],
            "type": "heatmapgl"
           }
          ],
          "heatmap": [
           {
            "colorbar": {
             "outlinewidth": 0,
             "ticks": ""
            },
            "colorscale": [
             [
              0.0,
              "#0d0887"
             ],
             [
              0.1111111111111111,
              "#46039f"
             ],
             [
              0.2222222222222222,
              "#7201a8"
             ],
             [
              0.3333333333333333,
              "#9c179e"
             ],
             [
              0.4444444444444444,
              "#bd3786"
             ],
             [
              0.5555555555555556,
              "#d8576b"
             ],
             [
              0.6666666666666666,
              "#ed7953"
             ],
             [
              0.7777777777777778,
              "#fb9f3a"
             ],
             [
              0.8888888888888888,
              "#fdca26"
             ],
             [
              1.0,
              "#f0f921"
             ]
            ],
            "type": "heatmap"
           }
          ],
          "histogram2dcontour": [
           {
            "colorbar": {
             "outlinewidth": 0,
             "ticks": ""
            },
            "colorscale": [
             [
              0.0,
              "#0d0887"
             ],
             [
              0.1111111111111111,
              "#46039f"
             ],
             [
              0.2222222222222222,
              "#7201a8"
             ],
             [
              0.3333333333333333,
              "#9c179e"
             ],
             [
              0.4444444444444444,
              "#bd3786"
             ],
             [
              0.5555555555555556,
              "#d8576b"
             ],
             [
              0.6666666666666666,
              "#ed7953"
             ],
             [
              0.7777777777777778,
              "#fb9f3a"
             ],
             [
              0.8888888888888888,
              "#fdca26"
             ],
             [
              1.0,
              "#f0f921"
             ]
            ],
            "type": "histogram2dcontour"
           }
          ],
          "histogram2d": [
           {
            "colorbar": {
             "outlinewidth": 0,
             "ticks": ""
            },
            "colorscale": [
             [
              0.0,
              "#0d0887"
             ],
             [
              0.1111111111111111,
              "#46039f"
             ],
             [
              0.2222222222222222,
              "#7201a8"
             ],
             [
              0.3333333333333333,
              "#9c179e"
             ],
             [
              0.4444444444444444,
              "#bd3786"
             ],
             [
              0.5555555555555556,
              "#d8576b"
             ],
             [
              0.6666666666666666,
              "#ed7953"
             ],
             [
              0.7777777777777778,
              "#fb9f3a"
             ],
             [
              0.8888888888888888,
              "#fdca26"
             ],
             [
              1.0,
              "#f0f921"
             ]
            ],
            "type": "histogram2d"
           }
          ],
          "histogram": [
           {
            "marker": {
             "pattern": {
              "fillmode": "overlay",
              "size": 10,
              "solidity": 0.2
             }
            },
            "type": "histogram"
           }
          ],
          "mesh3d": [
           {
            "colorbar": {
             "outlinewidth": 0,
             "ticks": ""
            },
            "type": "mesh3d"
           }
          ],
          "parcoords": [
           {
            "line": {
             "colorbar": {
              "outlinewidth": 0,
              "ticks": ""
             }
            },
            "type": "parcoords"
           }
          ],
          "pie": [
           {
            "automargin": true,
            "type": "pie"
           }
          ],
          "scatter3d": [
           {
            "line": {
             "colorbar": {
              "outlinewidth": 0,
              "ticks": ""
             }
            },
            "marker": {
             "colorbar": {
              "outlinewidth": 0,
              "ticks": ""
             }
            },
            "type": "scatter3d"
           }
          ],
          "scattercarpet": [
           {
            "marker": {
             "colorbar": {
              "outlinewidth": 0,
              "ticks": ""
             }
            },
            "type": "scattercarpet"
           }
          ],
          "scattergeo": [
           {
            "marker": {
             "colorbar": {
              "outlinewidth": 0,
              "ticks": ""
             }
            },
            "type": "scattergeo"
           }
          ],
          "scattergl": [
           {
            "marker": {
             "colorbar": {
              "outlinewidth": 0,
              "ticks": ""
             }
            },
            "type": "scattergl"
           }
          ],
          "scattermapbox": [
           {
            "marker": {
             "colorbar": {
              "outlinewidth": 0,
              "ticks": ""
             }
            },
            "type": "scattermapbox"
           }
          ],
          "scatterpolargl": [
           {
            "marker": {
             "colorbar": {
              "outlinewidth": 0,
              "ticks": ""
             }
            },
            "type": "scatterpolargl"
           }
          ],
          "scatterpolar": [
           {
            "marker": {
             "colorbar": {
              "outlinewidth": 0,
              "ticks": ""
             }
            },
            "type": "scatterpolar"
           }
          ],
          "scatter": [
           {
            "fillpattern": {
             "fillmode": "overlay",
             "size": 10,
             "solidity": 0.2
            },
            "type": "scatter"
           }
          ],
          "scatterternary": [
           {
            "marker": {
             "colorbar": {
              "outlinewidth": 0,
              "ticks": ""
             }
            },
            "type": "scatterternary"
           }
          ],
          "surface": [
           {
            "colorbar": {
             "outlinewidth": 0,
             "ticks": ""
            },
            "colorscale": [
             [
              0.0,
              "#0d0887"
             ],
             [
              0.1111111111111111,
              "#46039f"
             ],
             [
              0.2222222222222222,
              "#7201a8"
             ],
             [
              0.3333333333333333,
              "#9c179e"
             ],
             [
              0.4444444444444444,
              "#bd3786"
             ],
             [
              0.5555555555555556,
              "#d8576b"
             ],
             [
              0.6666666666666666,
              "#ed7953"
             ],
             [
              0.7777777777777778,
              "#fb9f3a"
             ],
             [
              0.8888888888888888,
              "#fdca26"
             ],
             [
              1.0,
              "#f0f921"
             ]
            ],
            "type": "surface"
           }
          ],
          "table": [
           {
            "cells": {
             "fill": {
              "color": "#EBF0F8"
             },
             "line": {
              "color": "white"
             }
            },
            "header": {
             "fill": {
              "color": "#C8D4E3"
             },
             "line": {
              "color": "white"
             }
            },
            "type": "table"
           }
          ]
         },
         "layout": {
          "annotationdefaults": {
           "arrowcolor": "#2a3f5f",
           "arrowhead": 0,
           "arrowwidth": 1
          },
          "autotypenumbers": "strict",
          "coloraxis": {
           "colorbar": {
            "outlinewidth": 0,
            "ticks": ""
           }
          },
          "colorscale": {
           "diverging": [
            [
             0,
             "#8e0152"
            ],
            [
             0.1,
             "#c51b7d"
            ],
            [
             0.2,
             "#de77ae"
            ],
            [
             0.3,
             "#f1b6da"
            ],
            [
             0.4,
             "#fde0ef"
            ],
            [
             0.5,
             "#f7f7f7"
            ],
            [
             0.6,
             "#e6f5d0"
            ],
            [
             0.7,
             "#b8e186"
            ],
            [
             0.8,
             "#7fbc41"
            ],
            [
             0.9,
             "#4d9221"
            ],
            [
             1,
             "#276419"
            ]
           ],
           "sequential": [
            [
             0.0,
             "#0d0887"
            ],
            [
             0.1111111111111111,
             "#46039f"
            ],
            [
             0.2222222222222222,
             "#7201a8"
            ],
            [
             0.3333333333333333,
             "#9c179e"
            ],
            [
             0.4444444444444444,
             "#bd3786"
            ],
            [
             0.5555555555555556,
             "#d8576b"
            ],
            [
             0.6666666666666666,
             "#ed7953"
            ],
            [
             0.7777777777777778,
             "#fb9f3a"
            ],
            [
             0.8888888888888888,
             "#fdca26"
            ],
            [
             1.0,
             "#f0f921"
            ]
           ],
           "sequentialminus": [
            [
             0.0,
             "#0d0887"
            ],
            [
             0.1111111111111111,
             "#46039f"
            ],
            [
             0.2222222222222222,
             "#7201a8"
            ],
            [
             0.3333333333333333,
             "#9c179e"
            ],
            [
             0.4444444444444444,
             "#bd3786"
            ],
            [
             0.5555555555555556,
             "#d8576b"
            ],
            [
             0.6666666666666666,
             "#ed7953"
            ],
            [
             0.7777777777777778,
             "#fb9f3a"
            ],
            [
             0.8888888888888888,
             "#fdca26"
            ],
            [
             1.0,
             "#f0f921"
            ]
           ]
          },
          "colorway": [
           "#636efa",
           "#EF553B",
           "#00cc96",
           "#ab63fa",
           "#FFA15A",
           "#19d3f3",
           "#FF6692",
           "#B6E880",
           "#FF97FF",
           "#FECB52"
          ],
          "font": {
           "color": "#2a3f5f"
          },
          "geo": {
           "bgcolor": "white",
           "lakecolor": "white",
           "landcolor": "white",
           "showlakes": true,
           "showland": true,
           "subunitcolor": "#C8D4E3"
          },
          "hoverlabel": {
           "align": "left"
          },
          "hovermode": "closest",
          "mapbox": {
           "style": "light"
          },
          "paper_bgcolor": "white",
          "plot_bgcolor": "white",
          "polar": {
           "angularaxis": {
            "gridcolor": "#EBF0F8",
            "linecolor": "#EBF0F8",
            "ticks": ""
           },
           "bgcolor": "white",
           "radialaxis": {
            "gridcolor": "#EBF0F8",
            "linecolor": "#EBF0F8",
            "ticks": ""
           }
          },
          "scene": {
           "xaxis": {
            "backgroundcolor": "white",
            "gridcolor": "#DFE8F3",
            "gridwidth": 2,
            "linecolor": "#EBF0F8",
            "showbackground": true,
            "ticks": "",
            "zerolinecolor": "#EBF0F8"
           },
           "yaxis": {
            "backgroundcolor": "white",
            "gridcolor": "#DFE8F3",
            "gridwidth": 2,
            "linecolor": "#EBF0F8",
            "showbackground": true,
            "ticks": "",
            "zerolinecolor": "#EBF0F8"
           },
           "zaxis": {
            "backgroundcolor": "white",
            "gridcolor": "#DFE8F3",
            "gridwidth": 2,
            "linecolor": "#EBF0F8",
            "showbackground": true,
            "ticks": "",
            "zerolinecolor": "#EBF0F8"
           }
          },
          "shapedefaults": {
           "line": {
            "color": "#2a3f5f"
           }
          },
          "ternary": {
           "aaxis": {
            "gridcolor": "#DFE8F3",
            "linecolor": "#A2B1C6",
            "ticks": ""
           },
           "baxis": {
            "gridcolor": "#DFE8F3",
            "linecolor": "#A2B1C6",
            "ticks": ""
           },
           "bgcolor": "white",
           "caxis": {
            "gridcolor": "#DFE8F3",
            "linecolor": "#A2B1C6",
            "ticks": ""
           }
          },
          "title": {
           "x": 0.05
          },
          "xaxis": {
           "automargin": true,
           "gridcolor": "#EBF0F8",
           "linecolor": "#EBF0F8",
           "ticks": "",
           "title": {
            "standoff": 15
           },
           "zerolinecolor": "#EBF0F8",
           "zerolinewidth": 2
          },
          "yaxis": {
           "automargin": true,
           "gridcolor": "#EBF0F8",
           "linecolor": "#EBF0F8",
           "ticks": "",
           "title": {
            "standoff": 15
           },
           "zerolinecolor": "#EBF0F8",
           "zerolinewidth": 2
          }
         }
        },
        "xaxis": {
         "anchor": "y",
         "domain": [
          0.0,
          0.45
         ]
        },
        "yaxis": {
         "anchor": "x",
         "domain": [
          0.7777777777777778,
          1.0
         ]
        },
        "xaxis2": {
         "anchor": "y2",
         "domain": [
          0.55,
          1.0
         ]
        },
        "yaxis2": {
         "anchor": "x2",
         "domain": [
          0.7777777777777778,
          1.0
         ]
        },
        "xaxis3": {
         "anchor": "y3",
         "domain": [
          0.0,
          0.45
         ]
        },
        "yaxis3": {
         "anchor": "x3",
         "domain": [
          0.3888888888888889,
          0.6111111111111112
         ]
        },
        "xaxis4": {
         "anchor": "y4",
         "domain": [
          0.55,
          1.0
         ]
        },
        "yaxis4": {
         "anchor": "x4",
         "domain": [
          0.3888888888888889,
          0.6111111111111112
         ]
        },
        "xaxis5": {
         "anchor": "y5",
         "domain": [
          0.0,
          0.45
         ]
        },
        "yaxis5": {
         "anchor": "x5",
         "domain": [
          0.0,
          0.22222222222222224
         ]
        },
        "xaxis6": {
         "anchor": "y6",
         "domain": [
          0.55,
          1.0
         ]
        },
        "yaxis6": {
         "anchor": "x6",
         "domain": [
          0.0,
          0.22222222222222224
         ]
        },
        "annotations": [
         {
          "font": {
           "size": 16
          },
          "showarrow": false,
          "text": "F1 Score",
          "x": 0.225,
          "xanchor": "center",
          "xref": "paper",
          "y": 1.0,
          "yanchor": "bottom",
          "yref": "paper"
         },
         {
          "font": {
           "size": 16
          },
          "showarrow": false,
          "text": "F1 Score",
          "x": 0.775,
          "xanchor": "center",
          "xref": "paper",
          "y": 1.0,
          "yanchor": "bottom",
          "yref": "paper"
         },
         {
          "font": {
           "size": 16
          },
          "showarrow": false,
          "text": "Precision",
          "x": 0.225,
          "xanchor": "center",
          "xref": "paper",
          "y": 0.6111111111111112,
          "yanchor": "bottom",
          "yref": "paper"
         },
         {
          "font": {
           "size": 16
          },
          "showarrow": false,
          "text": "Precision",
          "x": 0.775,
          "xanchor": "center",
          "xref": "paper",
          "y": 0.6111111111111112,
          "yanchor": "bottom",
          "yref": "paper"
         },
         {
          "font": {
           "size": 16
          },
          "showarrow": false,
          "text": "Recall",
          "x": 0.225,
          "xanchor": "center",
          "xref": "paper",
          "y": 0.22222222222222224,
          "yanchor": "bottom",
          "yref": "paper"
         },
         {
          "font": {
           "size": 16
          },
          "showarrow": false,
          "text": "Recall",
          "x": 0.775,
          "xanchor": "center",
          "xref": "paper",
          "y": 0.22222222222222224,
          "yanchor": "bottom",
          "yref": "paper"
         }
        ],
        "title": {
         "text": "Analiza wsparcia dla etykiet (OpenL3 + K-nn)",
         "x": 0.5
        },
        "showlegend": false
       },
       "config": {
        "plotlyServerURL": "https://plot.ly"
       }
      },
      "text/html": "<div>                            <div id=\"7e8baa65-36d9-4077-aed2-2c3bc1fe3b06\" class=\"plotly-graph-div\" style=\"height:525px; width:100%;\"></div>            <script type=\"text/javascript\">                require([\"plotly\"], function(Plotly) {                    window.PLOTLYENV=window.PLOTLYENV || {};                                    if (document.getElementById(\"7e8baa65-36d9-4077-aed2-2c3bc1fe3b06\")) {                    Plotly.newPlot(                        \"7e8baa65-36d9-4077-aed2-2c3bc1fe3b06\",                        [{\"orientation\":\"v\",\"text\":[0.5155,0.5849,0.5863,0.6253,0.6501,0.7416,0.8049,0.8132,0.8321,0.8545],\"x\":[\"fast\",\"slow\",\"electronic\",\"drums\",\"strings\",\"piano\",\"guitar\",\"techno\",\"classical\",\"rock\"],\"y\":[0.5155131264916468,0.5849056603773585,0.5862785862785863,0.6252771618625277,0.6500956022944552,0.7415730337078653,0.8048780487804877,0.8132231404958677,0.83205268935236,0.8545034642032333],\"type\":\"bar\",\"xaxis\":\"x\",\"yaxis\":\"y\"},{\"orientation\":\"v\",\"text\":[0.5373,0.7173,0.7194,0.7231,0.7782,0.7961,0.8064,0.8462,0.898,0.9024],\"x\":[\"fast\",\"strings\",\"drums\",\"electronic\",\"slow\",\"techno\",\"classical\",\"guitar\",\"piano\",\"rock\"],\"y\":[0.5373134328358209,0.7172995780590717,0.7193877551020408,0.7230769230769231,0.7782426778242678,0.7961165048543689,0.8063829787234043,0.8461538461538461,0.8979591836734694,0.9024390243902439],\"type\":\"bar\",\"xaxis\":\"x3\",\"yaxis\":\"y3\"},{\"orientation\":\"v\",\"text\":[0.4685,0.493,0.4954,0.5529,0.5944,0.6316,0.7674,0.8114,0.8311,0.8594],\"x\":[\"slow\",\"electronic\",\"fast\",\"drums\",\"strings\",\"piano\",\"guitar\",\"rock\",\"techno\",\"classical\"],\"y\":[0.46851385390428213,0.493006993006993,0.4954128440366973,0.5529411764705883,0.5944055944055944,0.631578947368421,0.7674418604651163,0.8114035087719298,0.831081081081081,0.8594104308390023],\"type\":\"bar\",\"xaxis\":\"x5\",\"yaxis\":\"y5\"},{\"orientation\":\"v\",\"text\":[0.3247,0.3478,0.3806,0.4255,0.4306,0.48,0.4911,0.5285,0.5397,0.5583,0.5815,0.6835,0.7412,0.7479,0.753,0.7639,0.7739,0.7886,0.8264,0.8504],\"x\":[\"singing\",\"vocal\",\"synth\",\"male\",\"female\",\"slow\",\"drums\",\"electronic\",\"fast\",\"beat\",\"strings\",\"indian\",\"violin\",\"piano\",\"ambient\",\"classical\",\"techno\",\"guitar\",\"rock\",\"opera\"],\"y\":[0.3246753246753246,0.34782608695652173,0.3806228373702422,0.42553191489361697,0.430622009569378,0.48000000000000004,0.4911392405063291,0.5284738041002277,0.5396825396825397,0.558282208588957,0.5814977973568283,0.6835443037974684,0.7411764705882352,0.7478753541076488,0.7529976019184652,0.763888888888889,0.7738693467336684,0.7885714285714285,0.8263736263736264,0.8503937007874016],\"type\":\"bar\",\"xaxis\":\"x2\",\"yaxis\":\"y2\"},{\"orientation\":\"v\",\"text\":[0.5556,0.5833,0.5882,0.5988,0.6149,0.625,0.6667,0.6701,0.6705,0.7031,0.7273,0.7441,0.7639,0.7642,0.7683,0.77,0.8244,0.8668,0.8744,0.88],\"x\":[\"synth\",\"fast\",\"male\",\"drums\",\"beat\",\"singing\",\"strings\",\"slow\",\"electronic\",\"female\",\"vocal\",\"ambient\",\"classical\",\"indian\",\"violin\",\"techno\",\"opera\",\"guitar\",\"rock\",\"piano\"],\"y\":[0.5555555555555556,0.5833333333333334,0.5882352941176471,0.5987654320987654,0.6148648648648649,0.625,0.6666666666666666,0.6700507614213198,0.6705202312138728,0.703125,0.7272727272727273,0.7440758293838863,0.7638888888888888,0.7641509433962265,0.7682926829268293,0.77,0.8244274809160306,0.8668341708542714,0.8744186046511628,0.88],\"type\":\"bar\",\"xaxis\":\"x4\",\"yaxis\":\"y4\"},{\"orientation\":\"v\",\"text\":[0.2193,0.2286,0.2895,0.3103,0.3333,0.3739,0.4163,0.4361,0.5021,0.5112,0.5156,0.6183,0.6502,0.7159,0.7233,0.7621,0.7639,0.7778,0.7833,0.878],\"x\":[\"singing\",\"vocal\",\"synth\",\"female\",\"male\",\"slow\",\"drums\",\"electronic\",\"fast\",\"beat\",\"strings\",\"indian\",\"piano\",\"violin\",\"guitar\",\"ambient\",\"classical\",\"techno\",\"rock\",\"opera\"],\"y\":[0.21929824561403508,0.22857142857142856,0.2894736842105263,0.3103448275862069,0.3333333333333333,0.37393767705382436,0.41630901287553645,0.43609022556390975,0.5021097046413502,0.5112359550561798,0.515625,0.6183206106870229,0.6502463054187192,0.7159090909090909,0.7232704402515723,0.7621359223300971,0.7638888888888888,0.7777777777777778,0.7833333333333333,0.8780487804878049],\"type\":\"bar\",\"xaxis\":\"x6\",\"yaxis\":\"y6\"}],                        {\"template\":{\"data\":{\"barpolar\":[{\"marker\":{\"line\":{\"color\":\"white\",\"width\":0.5},\"pattern\":{\"fillmode\":\"overlay\",\"size\":10,\"solidity\":0.2}},\"type\":\"barpolar\"}],\"bar\":[{\"error_x\":{\"color\":\"#2a3f5f\"},\"error_y\":{\"color\":\"#2a3f5f\"},\"marker\":{\"line\":{\"color\":\"white\",\"width\":0.5},\"pattern\":{\"fillmode\":\"overlay\",\"size\":10,\"solidity\":0.2}},\"type\":\"bar\"}],\"carpet\":[{\"aaxis\":{\"endlinecolor\":\"#2a3f5f\",\"gridcolor\":\"#C8D4E3\",\"linecolor\":\"#C8D4E3\",\"minorgridcolor\":\"#C8D4E3\",\"startlinecolor\":\"#2a3f5f\"},\"baxis\":{\"endlinecolor\":\"#2a3f5f\",\"gridcolor\":\"#C8D4E3\",\"linecolor\":\"#C8D4E3\",\"minorgridcolor\":\"#C8D4E3\",\"startlinecolor\":\"#2a3f5f\"},\"type\":\"carpet\"}],\"choropleth\":[{\"colorbar\":{\"outlinewidth\":0,\"ticks\":\"\"},\"type\":\"choropleth\"}],\"contourcarpet\":[{\"colorbar\":{\"outlinewidth\":0,\"ticks\":\"\"},\"type\":\"contourcarpet\"}],\"contour\":[{\"colorbar\":{\"outlinewidth\":0,\"ticks\":\"\"},\"colorscale\":[[0.0,\"#0d0887\"],[0.1111111111111111,\"#46039f\"],[0.2222222222222222,\"#7201a8\"],[0.3333333333333333,\"#9c179e\"],[0.4444444444444444,\"#bd3786\"],[0.5555555555555556,\"#d8576b\"],[0.6666666666666666,\"#ed7953\"],[0.7777777777777778,\"#fb9f3a\"],[0.8888888888888888,\"#fdca26\"],[1.0,\"#f0f921\"]],\"type\":\"contour\"}],\"heatmapgl\":[{\"colorbar\":{\"outlinewidth\":0,\"ticks\":\"\"},\"colorscale\":[[0.0,\"#0d0887\"],[0.1111111111111111,\"#46039f\"],[0.2222222222222222,\"#7201a8\"],[0.3333333333333333,\"#9c179e\"],[0.4444444444444444,\"#bd3786\"],[0.5555555555555556,\"#d8576b\"],[0.6666666666666666,\"#ed7953\"],[0.7777777777777778,\"#fb9f3a\"],[0.8888888888888888,\"#fdca26\"],[1.0,\"#f0f921\"]],\"type\":\"heatmapgl\"}],\"heatmap\":[{\"colorbar\":{\"outlinewidth\":0,\"ticks\":\"\"},\"colorscale\":[[0.0,\"#0d0887\"],[0.1111111111111111,\"#46039f\"],[0.2222222222222222,\"#7201a8\"],[0.3333333333333333,\"#9c179e\"],[0.4444444444444444,\"#bd3786\"],[0.5555555555555556,\"#d8576b\"],[0.6666666666666666,\"#ed7953\"],[0.7777777777777778,\"#fb9f3a\"],[0.8888888888888888,\"#fdca26\"],[1.0,\"#f0f921\"]],\"type\":\"heatmap\"}],\"histogram2dcontour\":[{\"colorbar\":{\"outlinewidth\":0,\"ticks\":\"\"},\"colorscale\":[[0.0,\"#0d0887\"],[0.1111111111111111,\"#46039f\"],[0.2222222222222222,\"#7201a8\"],[0.3333333333333333,\"#9c179e\"],[0.4444444444444444,\"#bd3786\"],[0.5555555555555556,\"#d8576b\"],[0.6666666666666666,\"#ed7953\"],[0.7777777777777778,\"#fb9f3a\"],[0.8888888888888888,\"#fdca26\"],[1.0,\"#f0f921\"]],\"type\":\"histogram2dcontour\"}],\"histogram2d\":[{\"colorbar\":{\"outlinewidth\":0,\"ticks\":\"\"},\"colorscale\":[[0.0,\"#0d0887\"],[0.1111111111111111,\"#46039f\"],[0.2222222222222222,\"#7201a8\"],[0.3333333333333333,\"#9c179e\"],[0.4444444444444444,\"#bd3786\"],[0.5555555555555556,\"#d8576b\"],[0.6666666666666666,\"#ed7953\"],[0.7777777777777778,\"#fb9f3a\"],[0.8888888888888888,\"#fdca26\"],[1.0,\"#f0f921\"]],\"type\":\"histogram2d\"}],\"histogram\":[{\"marker\":{\"pattern\":{\"fillmode\":\"overlay\",\"size\":10,\"solidity\":0.2}},\"type\":\"histogram\"}],\"mesh3d\":[{\"colorbar\":{\"outlinewidth\":0,\"ticks\":\"\"},\"type\":\"mesh3d\"}],\"parcoords\":[{\"line\":{\"colorbar\":{\"outlinewidth\":0,\"ticks\":\"\"}},\"type\":\"parcoords\"}],\"pie\":[{\"automargin\":true,\"type\":\"pie\"}],\"scatter3d\":[{\"line\":{\"colorbar\":{\"outlinewidth\":0,\"ticks\":\"\"}},\"marker\":{\"colorbar\":{\"outlinewidth\":0,\"ticks\":\"\"}},\"type\":\"scatter3d\"}],\"scattercarpet\":[{\"marker\":{\"colorbar\":{\"outlinewidth\":0,\"ticks\":\"\"}},\"type\":\"scattercarpet\"}],\"scattergeo\":[{\"marker\":{\"colorbar\":{\"outlinewidth\":0,\"ticks\":\"\"}},\"type\":\"scattergeo\"}],\"scattergl\":[{\"marker\":{\"colorbar\":{\"outlinewidth\":0,\"ticks\":\"\"}},\"type\":\"scattergl\"}],\"scattermapbox\":[{\"marker\":{\"colorbar\":{\"outlinewidth\":0,\"ticks\":\"\"}},\"type\":\"scattermapbox\"}],\"scatterpolargl\":[{\"marker\":{\"colorbar\":{\"outlinewidth\":0,\"ticks\":\"\"}},\"type\":\"scatterpolargl\"}],\"scatterpolar\":[{\"marker\":{\"colorbar\":{\"outlinewidth\":0,\"ticks\":\"\"}},\"type\":\"scatterpolar\"}],\"scatter\":[{\"fillpattern\":{\"fillmode\":\"overlay\",\"size\":10,\"solidity\":0.2},\"type\":\"scatter\"}],\"scatterternary\":[{\"marker\":{\"colorbar\":{\"outlinewidth\":0,\"ticks\":\"\"}},\"type\":\"scatterternary\"}],\"surface\":[{\"colorbar\":{\"outlinewidth\":0,\"ticks\":\"\"},\"colorscale\":[[0.0,\"#0d0887\"],[0.1111111111111111,\"#46039f\"],[0.2222222222222222,\"#7201a8\"],[0.3333333333333333,\"#9c179e\"],[0.4444444444444444,\"#bd3786\"],[0.5555555555555556,\"#d8576b\"],[0.6666666666666666,\"#ed7953\"],[0.7777777777777778,\"#fb9f3a\"],[0.8888888888888888,\"#fdca26\"],[1.0,\"#f0f921\"]],\"type\":\"surface\"}],\"table\":[{\"cells\":{\"fill\":{\"color\":\"#EBF0F8\"},\"line\":{\"color\":\"white\"}},\"header\":{\"fill\":{\"color\":\"#C8D4E3\"},\"line\":{\"color\":\"white\"}},\"type\":\"table\"}]},\"layout\":{\"annotationdefaults\":{\"arrowcolor\":\"#2a3f5f\",\"arrowhead\":0,\"arrowwidth\":1},\"autotypenumbers\":\"strict\",\"coloraxis\":{\"colorbar\":{\"outlinewidth\":0,\"ticks\":\"\"}},\"colorscale\":{\"diverging\":[[0,\"#8e0152\"],[0.1,\"#c51b7d\"],[0.2,\"#de77ae\"],[0.3,\"#f1b6da\"],[0.4,\"#fde0ef\"],[0.5,\"#f7f7f7\"],[0.6,\"#e6f5d0\"],[0.7,\"#b8e186\"],[0.8,\"#7fbc41\"],[0.9,\"#4d9221\"],[1,\"#276419\"]],\"sequential\":[[0.0,\"#0d0887\"],[0.1111111111111111,\"#46039f\"],[0.2222222222222222,\"#7201a8\"],[0.3333333333333333,\"#9c179e\"],[0.4444444444444444,\"#bd3786\"],[0.5555555555555556,\"#d8576b\"],[0.6666666666666666,\"#ed7953\"],[0.7777777777777778,\"#fb9f3a\"],[0.8888888888888888,\"#fdca26\"],[1.0,\"#f0f921\"]],\"sequentialminus\":[[0.0,\"#0d0887\"],[0.1111111111111111,\"#46039f\"],[0.2222222222222222,\"#7201a8\"],[0.3333333333333333,\"#9c179e\"],[0.4444444444444444,\"#bd3786\"],[0.5555555555555556,\"#d8576b\"],[0.6666666666666666,\"#ed7953\"],[0.7777777777777778,\"#fb9f3a\"],[0.8888888888888888,\"#fdca26\"],[1.0,\"#f0f921\"]]},\"colorway\":[\"#636efa\",\"#EF553B\",\"#00cc96\",\"#ab63fa\",\"#FFA15A\",\"#19d3f3\",\"#FF6692\",\"#B6E880\",\"#FF97FF\",\"#FECB52\"],\"font\":{\"color\":\"#2a3f5f\"},\"geo\":{\"bgcolor\":\"white\",\"lakecolor\":\"white\",\"landcolor\":\"white\",\"showlakes\":true,\"showland\":true,\"subunitcolor\":\"#C8D4E3\"},\"hoverlabel\":{\"align\":\"left\"},\"hovermode\":\"closest\",\"mapbox\":{\"style\":\"light\"},\"paper_bgcolor\":\"white\",\"plot_bgcolor\":\"white\",\"polar\":{\"angularaxis\":{\"gridcolor\":\"#EBF0F8\",\"linecolor\":\"#EBF0F8\",\"ticks\":\"\"},\"bgcolor\":\"white\",\"radialaxis\":{\"gridcolor\":\"#EBF0F8\",\"linecolor\":\"#EBF0F8\",\"ticks\":\"\"}},\"scene\":{\"xaxis\":{\"backgroundcolor\":\"white\",\"gridcolor\":\"#DFE8F3\",\"gridwidth\":2,\"linecolor\":\"#EBF0F8\",\"showbackground\":true,\"ticks\":\"\",\"zerolinecolor\":\"#EBF0F8\"},\"yaxis\":{\"backgroundcolor\":\"white\",\"gridcolor\":\"#DFE8F3\",\"gridwidth\":2,\"linecolor\":\"#EBF0F8\",\"showbackground\":true,\"ticks\":\"\",\"zerolinecolor\":\"#EBF0F8\"},\"zaxis\":{\"backgroundcolor\":\"white\",\"gridcolor\":\"#DFE8F3\",\"gridwidth\":2,\"linecolor\":\"#EBF0F8\",\"showbackground\":true,\"ticks\":\"\",\"zerolinecolor\":\"#EBF0F8\"}},\"shapedefaults\":{\"line\":{\"color\":\"#2a3f5f\"}},\"ternary\":{\"aaxis\":{\"gridcolor\":\"#DFE8F3\",\"linecolor\":\"#A2B1C6\",\"ticks\":\"\"},\"baxis\":{\"gridcolor\":\"#DFE8F3\",\"linecolor\":\"#A2B1C6\",\"ticks\":\"\"},\"bgcolor\":\"white\",\"caxis\":{\"gridcolor\":\"#DFE8F3\",\"linecolor\":\"#A2B1C6\",\"ticks\":\"\"}},\"title\":{\"x\":0.05},\"xaxis\":{\"automargin\":true,\"gridcolor\":\"#EBF0F8\",\"linecolor\":\"#EBF0F8\",\"ticks\":\"\",\"title\":{\"standoff\":15},\"zerolinecolor\":\"#EBF0F8\",\"zerolinewidth\":2},\"yaxis\":{\"automargin\":true,\"gridcolor\":\"#EBF0F8\",\"linecolor\":\"#EBF0F8\",\"ticks\":\"\",\"title\":{\"standoff\":15},\"zerolinecolor\":\"#EBF0F8\",\"zerolinewidth\":2}}},\"xaxis\":{\"anchor\":\"y\",\"domain\":[0.0,0.45]},\"yaxis\":{\"anchor\":\"x\",\"domain\":[0.7777777777777778,1.0]},\"xaxis2\":{\"anchor\":\"y2\",\"domain\":[0.55,1.0]},\"yaxis2\":{\"anchor\":\"x2\",\"domain\":[0.7777777777777778,1.0]},\"xaxis3\":{\"anchor\":\"y3\",\"domain\":[0.0,0.45]},\"yaxis3\":{\"anchor\":\"x3\",\"domain\":[0.3888888888888889,0.6111111111111112]},\"xaxis4\":{\"anchor\":\"y4\",\"domain\":[0.55,1.0]},\"yaxis4\":{\"anchor\":\"x4\",\"domain\":[0.3888888888888889,0.6111111111111112]},\"xaxis5\":{\"anchor\":\"y5\",\"domain\":[0.0,0.45]},\"yaxis5\":{\"anchor\":\"x5\",\"domain\":[0.0,0.22222222222222224]},\"xaxis6\":{\"anchor\":\"y6\",\"domain\":[0.55,1.0]},\"yaxis6\":{\"anchor\":\"x6\",\"domain\":[0.0,0.22222222222222224]},\"annotations\":[{\"font\":{\"size\":16},\"showarrow\":false,\"text\":\"F1 Score\",\"x\":0.225,\"xanchor\":\"center\",\"xref\":\"paper\",\"y\":1.0,\"yanchor\":\"bottom\",\"yref\":\"paper\"},{\"font\":{\"size\":16},\"showarrow\":false,\"text\":\"F1 Score\",\"x\":0.775,\"xanchor\":\"center\",\"xref\":\"paper\",\"y\":1.0,\"yanchor\":\"bottom\",\"yref\":\"paper\"},{\"font\":{\"size\":16},\"showarrow\":false,\"text\":\"Precision\",\"x\":0.225,\"xanchor\":\"center\",\"xref\":\"paper\",\"y\":0.6111111111111112,\"yanchor\":\"bottom\",\"yref\":\"paper\"},{\"font\":{\"size\":16},\"showarrow\":false,\"text\":\"Precision\",\"x\":0.775,\"xanchor\":\"center\",\"xref\":\"paper\",\"y\":0.6111111111111112,\"yanchor\":\"bottom\",\"yref\":\"paper\"},{\"font\":{\"size\":16},\"showarrow\":false,\"text\":\"Recall\",\"x\":0.225,\"xanchor\":\"center\",\"xref\":\"paper\",\"y\":0.22222222222222224,\"yanchor\":\"bottom\",\"yref\":\"paper\"},{\"font\":{\"size\":16},\"showarrow\":false,\"text\":\"Recall\",\"x\":0.775,\"xanchor\":\"center\",\"xref\":\"paper\",\"y\":0.22222222222222224,\"yanchor\":\"bottom\",\"yref\":\"paper\"}],\"title\":{\"text\":\"Analiza wsparcia dla etykiet (OpenL3 + K-nn)\",\"x\":0.5},\"showlegend\":false},                        {\"responsive\": true}                    ).then(function(){\n                            \nvar gd = document.getElementById('7e8baa65-36d9-4077-aed2-2c3bc1fe3b06');\nvar x = new MutationObserver(function (mutations, observer) {{\n        var display = window.getComputedStyle(gd).display;\n        if (!display || display === 'none') {{\n            console.log([gd, 'removed!']);\n            Plotly.purge(gd);\n            observer.disconnect();\n        }}\n}});\n\n// Listen for the removal of the full notebook cells\nvar notebookContainer = gd.closest('#notebook-container');\nif (notebookContainer) {{\n    x.observe(notebookContainer, {childList: true});\n}}\n\n// Listen for the clearing of the current output cell\nvar outputEl = gd.closest('.output');\nif (outputEl) {{\n    x.observe(outputEl, {childList: true});\n}}\n\n                        })                };                });            </script>        </div>"
     },
     "metadata": {},
     "output_type": "display_data"
    }
   ],
   "source": [
    "from plotly.subplots import make_subplots\n",
    "import plotly.graph_objects as go\n",
    "\n",
    "cols = 3\n",
    "fig = make_subplots(rows=3, cols=2, subplot_titles=(\"F1 Score\", \"F1 Score\", \"Precision\", \"Precision\", \"Recall\", \"Recall\"))\n",
    "values = [\"f1-score\", \"precision\", \"recall\"]\n",
    "data_frames = [dfl310, dfl320]\n",
    "\n",
    "for j in range(len(data_frames)):\n",
    "    data_frame = data_frames[j]\n",
    "    for i in range(len(values)):\n",
    "        value = values[i]\n",
    "        data_frame = data_frame.sort_values(by=value)\n",
    "        fig.add_trace(go.Bar(x=data_frame.index, y=data_frame[value], orientation=\"v\", text=round(data_frame[value], 4)), col=j+1, row=i+1)\n",
    "\n",
    "fig.update_layout(({\"title\": {\"text\": \"Analiza wsparcia dla etykiet (OpenL3 + K-nn)\", \"x\": 0.5},\n",
    "                    \"showlegend\": False,\n",
    "                    \"template\": \"plotly_white\"}))\n",
    "# Change the bar mode\n",
    "fig.show()\n",
    "fig.write_image(\"images/fig7.png\", width=800, height=950)"
   ],
   "metadata": {
    "collapsed": false,
    "ExecuteTime": {
     "start_time": "2023-05-02T15:37:50.947335Z",
     "end_time": "2023-05-02T15:37:51.266334Z"
    }
   }
  },
  {
   "cell_type": "code",
   "execution_count": null,
   "outputs": [],
   "source": [],
   "metadata": {
    "collapsed": false
   }
  }
 ],
 "metadata": {
  "kernelspec": {
   "display_name": "Python 3",
   "language": "python",
   "name": "python3"
  },
  "language_info": {
   "codemirror_mode": {
    "name": "ipython",
    "version": 2
   },
   "file_extension": ".py",
   "mimetype": "text/x-python",
   "name": "python",
   "nbconvert_exporter": "python",
   "pygments_lexer": "ipython2",
   "version": "2.7.6"
  }
 },
 "nbformat": 4,
 "nbformat_minor": 0
}
