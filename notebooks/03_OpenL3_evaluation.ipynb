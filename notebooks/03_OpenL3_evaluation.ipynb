{
 "cells": [
  {
   "cell_type": "code",
   "execution_count": 11,
   "metadata": {
    "ExecuteTime": {
     "start_time": "2023-05-04T12:59:06.973402Z",
     "end_time": "2023-05-04T12:59:06.978204Z"
    }
   },
   "outputs": [],
   "source": [
    "import os\n",
    "import pathlib\n",
    "import random\n",
    "\n",
    "import numpy as np\n",
    "import torch\n",
    "from tqdm import tqdm\n",
    "\n",
    "from utils.common import load_file_lists"
   ]
  },
  {
   "cell_type": "code",
   "execution_count": 12,
   "outputs": [],
   "source": [
    "def create_features(split_path):\n",
    "    binary = {row[0]: row[1:] for row in np.load(os.path.join(split_path, \"binary.npy\"), allow_pickle=True)}\n",
    "    X_train = []\n",
    "    Y_train = []\n",
    "    test_data = load_file_lists([os.path.join(split_path, \"train.npy\"), os.path.join(split_path, \"valid.npy\")])\n",
    "    for idx, filename in tqdm(test_data):\n",
    "        filename = os.path.join(\"../data/mtat/emb\", str(pathlib.Path(filename).with_suffix(\".npy\")))\n",
    "        file_data = np.load(filename, allow_pickle=True).flatten()\n",
    "        X_train.append(file_data)\n",
    "        Y_train.append(binary[int(idx)])\n",
    "    X_train = np.array(X_train)\n",
    "    Y_train = np.array(Y_train)\n",
    "    return X_train, Y_train"
   ],
   "metadata": {
    "collapsed": false,
    "ExecuteTime": {
     "start_time": "2023-05-04T12:59:06.981796Z",
     "end_time": "2023-05-04T12:59:06.997645Z"
    }
   }
  },
  {
   "cell_type": "code",
   "execution_count": 13,
   "outputs": [],
   "source": [
    "def set_seed(seed: int = 42) -> None:\n",
    "    np.random.seed(seed)\n",
    "    random.seed(seed)\n",
    "    torch.manual_seed(seed)\n",
    "    torch.cuda.manual_seed(seed)\n",
    "    # Set a fixed value for the hash seed\n",
    "    os.environ[\"PYTHONHASHSEED\"] = str(seed)\n",
    "    print(f\"Random seed set as {seed}\")"
   ],
   "metadata": {
    "collapsed": false,
    "ExecuteTime": {
     "start_time": "2023-05-04T12:59:06.986644Z",
     "end_time": "2023-05-04T12:59:06.998645Z"
    }
   }
  },
  {
   "cell_type": "code",
   "execution_count": 14,
   "metadata": {
    "ExecuteTime": {
     "start_time": "2023-05-04T12:59:06.992747Z",
     "end_time": "2023-05-04T12:59:07.022092Z"
    }
   },
   "outputs": [
    {
     "name": "stdout",
     "output_type": "stream",
     "text": [
      "Random seed set as 123456\n"
     ]
    }
   ],
   "source": [
    "set_seed(123456)"
   ]
  },
  {
   "cell_type": "code",
   "execution_count": 15,
   "outputs": [
    {
     "name": "stderr",
     "output_type": "stream",
     "text": [
      "100%|██████████| 17746/17746 [02:37<00:00, 113.02it/s]\n"
     ]
    }
   ],
   "source": [
    "dataset_name = \"mtat-20\"\n",
    "split_path = \"../split\"\n",
    "features_path = \"../data/mtat/features/\"\n",
    "\n",
    "split_path = os.path.join(split_path, dataset_name)\n",
    "os.makedirs(split_path, exist_ok=True)\n",
    "X_train, Y_train = create_features(split_path)"
   ],
   "metadata": {
    "collapsed": false,
    "ExecuteTime": {
     "start_time": "2023-05-04T12:59:07.041092Z",
     "end_time": "2023-05-04T13:01:47.440463Z"
    }
   }
  },
  {
   "cell_type": "code",
   "execution_count": 16,
   "metadata": {
    "ExecuteTime": {
     "start_time": "2023-05-04T13:01:47.440463Z",
     "end_time": "2023-05-04T13:01:47.504871Z"
    }
   },
   "outputs": [
    {
     "data": {
      "text/plain": "array([[2.6140246 , 1.8475785 , 4.3649316 , ..., 1.1230563 , 3.333457  ,\n        2.867814  ],\n       [2.4309678 , 2.4298744 , 2.9125767 , ..., 1.5540198 , 3.5779722 ,\n        3.57896   ],\n       [2.5092711 , 2.2790258 , 2.4283175 , ..., 0.48853248, 3.4483852 ,\n        2.2871022 ],\n       ...,\n       [2.4309678 , 2.3061476 , 2.722368  , ..., 1.680212  , 3.0588841 ,\n        2.6399963 ],\n       [3.4527833 , 2.1705675 , 2.8483565 , ..., 1.5671974 , 3.0898876 ,\n        2.31349   ],\n       [2.4309678 , 3.3939528 , 3.5358424 , ..., 1.3863649 , 3.490217  ,\n        4.095427  ]], dtype=float32)"
     },
     "execution_count": 16,
     "metadata": {},
     "output_type": "execute_result"
    }
   ],
   "source": [
    "X_train"
   ]
  },
  {
   "cell_type": "code",
   "execution_count": 17,
   "metadata": {
    "ExecuteTime": {
     "start_time": "2023-05-04T13:01:47.510071Z",
     "end_time": "2023-05-04T13:01:47.512071Z"
    }
   },
   "outputs": [
    {
     "data": {
      "text/plain": "array([[0, 0, 0, ..., 0, 0, 0],\n       [1, 1, 1, ..., 0, 0, 0],\n       [0, 0, 0, ..., 1, 0, 0],\n       ...,\n       [0, 0, 0, ..., 0, 0, 0],\n       [0, 0, 0, ..., 0, 0, 0],\n       [1, 1, 0, ..., 0, 0, 0]])"
     },
     "execution_count": 17,
     "metadata": {},
     "output_type": "execute_result"
    }
   ],
   "source": [
    "Y_train"
   ]
  },
  {
   "cell_type": "code",
   "execution_count": 20,
   "outputs": [
    {
     "name": "stdout",
     "output_type": "stream",
     "text": [
      "[2023-05-04 13:09:37] Tester initialised with CUDA: False and mode: TEST\n",
      "Cannot use cuda for model, defaulting to cpu\n"
     ]
    },
    {
     "name": "stderr",
     "output_type": "stream",
     "text": [
      "100%|██████████| 1972/1972 [00:13<00:00, 151.50it/s]\n"
     ]
    },
    {
     "name": "stdout",
     "output_type": "stream",
     "text": [
      "[2023-05-04 13:12:15] F1 Score: 0.3023\n",
      "[2023-05-04 13:12:15] AUC/ROC: 0.9033\n",
      "[2023-05-04 13:12:15] AUC/PR: 0.5749\n"
     ]
    },
    {
     "name": "stderr",
     "output_type": "stream",
     "text": [
      "100%|██████████| 1972/1972 [00:13<00:00, 147.99it/s]\n"
     ]
    },
    {
     "name": "stdout",
     "output_type": "stream",
     "text": [
      "[2023-05-04 13:12:35] F1 Score: 0.3547\n",
      "[2023-05-04 13:12:35] AUC/ROC: 0.6436\n",
      "[2023-05-04 13:12:35] AUC/PR: 0.2215\n"
     ]
    },
    {
     "name": "stderr",
     "output_type": "stream",
     "text": [
      "100%|██████████| 1972/1972 [00:10<00:00, 185.49it/s]\n"
     ]
    },
    {
     "name": "stdout",
     "output_type": "stream",
     "text": [
      "[2023-05-04 13:13:12] F1 Score: 0.5121\n",
      "[2023-05-04 13:13:12] AUC/ROC: 0.8518\n",
      "[2023-05-04 13:13:12] AUC/PR: 0.5084\n"
     ]
    },
    {
     "name": "stderr",
     "output_type": "stream",
     "text": [
      "100%|██████████| 1972/1972 [00:12<00:00, 151.72it/s]\n"
     ]
    },
    {
     "name": "stdout",
     "output_type": "stream",
     "text": [
      "[2023-05-04 13:14:01] F1 Score: 0.0138\n",
      "[2023-05-04 13:14:01] AUC/ROC: 0.7805\n",
      "[2023-05-04 13:14:01] AUC/PR: 0.3197\n"
     ]
    }
   ],
   "source": [
    "from sklearn.exceptions import UndefinedMetricWarning\n",
    "from utils.config import Config\n",
    "from components.tester import SklearnTester\n",
    "from sklearn.ensemble import RandomForestClassifier\n",
    "from sklearn.tree import DecisionTreeClassifier\n",
    "from sklearn.neighbors import KNeighborsClassifier, RadiusNeighborsClassifier\n",
    "\n",
    "import warnings\n",
    "warnings.simplefilter(action='ignore', category=UndefinedMetricWarning)\n",
    "\n",
    "\n",
    "config = Config(model=None, model_filename_path=\"../models\", data_path='../data',\n",
    "                dataset_split_path=\"../split\", dataset_name=f\"mtat-20\")\n",
    "tester = SklearnTester(config)\n",
    "\n",
    "models = [\n",
    "    RandomForestClassifier(bootstrap=True,\n",
    "                           max_depth=20,\n",
    "                           max_features='sqrt',\n",
    "                           n_jobs=4,\n",
    "                           random_state=1,\n",
    "                           warm_start=True),\n",
    "    DecisionTreeClassifier(max_depth=20,\n",
    "                           max_features='sqrt',\n",
    "                           random_state=1),\n",
    "    KNeighborsClassifier(),\n",
    "    RadiusNeighborsClassifier(radius=100.)\n",
    "]\n",
    "for model in models:\n",
    "    model.fit(X_train, Y_train)\n",
    "    stats = tester.test(model)"
   ],
   "metadata": {
    "collapsed": false,
    "ExecuteTime": {
     "start_time": "2023-05-04T13:09:37.920153Z",
     "end_time": "2023-05-04T13:14:01.861708Z"
    }
   }
  },
  {
   "cell_type": "code",
   "execution_count": null,
   "outputs": [],
   "source": [],
   "metadata": {
    "collapsed": false
   }
  }
 ],
 "metadata": {
  "kernelspec": {
   "display_name": "Python 3 (ipykernel)",
   "language": "python",
   "name": "python3"
  },
  "language_info": {
   "codemirror_mode": {
    "name": "ipython",
    "version": 3
   },
   "file_extension": ".py",
   "mimetype": "text/x-python",
   "name": "python",
   "nbconvert_exporter": "python",
   "pygments_lexer": "ipython3",
   "version": "3.10.6"
  }
 },
 "nbformat": 4,
 "nbformat_minor": 1
}
