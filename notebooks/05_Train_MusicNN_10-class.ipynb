{
 "cells": [
  {
   "cell_type": "code",
   "execution_count": 1,
   "metadata": {
    "collapsed": true
   },
   "outputs": [
    {
     "data": {
      "text/plain": "'/mnt/c/Users/kubar/Documents/Sem7/labelthissongforme/notebooks'"
     },
     "execution_count": 1,
     "metadata": {},
     "output_type": "execute_result"
    }
   ],
   "source": [
    "%pwd"
   ]
  },
  {
   "cell_type": "code",
   "execution_count": 2,
   "outputs": [],
   "source": [
    "import os\n",
    "import random\n",
    "import numpy as np\n",
    "import torch\n",
    "import pathlib\n",
    "\n",
    "from external.musicnn import Musicnn\n",
    "from components.preprocessor import PreProcessor\n",
    "from components.common import Config\n",
    "from components.trainer import Trainer\n",
    "from components.tester import Tester"
   ],
   "metadata": {
    "collapsed": false
   }
  },
  {
   "cell_type": "code",
   "execution_count": 3,
   "outputs": [],
   "source": [
    "config = Config(model=Musicnn(n_class=10),\n",
    "                # preprocessor=PreProcessor(input_path=\"../data/mtat/mp3\", output_path=\"../data/mtat/npy\", suffix=\"npy\", sr=16000),\n",
    "                # preprocessor=OpenL3PreProcessor(input_path=\"../data/mtat/mp3\", output_path=\"../data/mtat/emb\", suffix=\"npy\", sr=16000),\n",
    "                n_epochs=20,\n",
    "                batch_size=16,\n",
    "                lr=1e-4,\n",
    "                dataset_split_path=\"../split\",\n",
    "                model_filename_path=\"../models\",\n",
    "                data_path='../data',\n",
    "                dataset_name=\"mtat-10\",\n",
    "                log_step=100,\n",
    "                sr=16000,\n",
    "                input_length=3 * 16000)"
   ],
   "metadata": {
    "collapsed": false
   }
  },
  {
   "cell_type": "code",
   "execution_count": 4,
   "outputs": [
    {
     "name": "stdout",
     "output_type": "stream",
     "text": [
      "Random seed set as 123456\n"
     ]
    }
   ],
   "source": [
    "def set_seed(seed: int = 42) -> None:\n",
    "    np.random.seed(seed)\n",
    "    random.seed(seed)\n",
    "    torch.manual_seed(seed)\n",
    "    torch.cuda.manual_seed(seed)\n",
    "    os.environ[\"PYTHONHASHSEED\"] = str(seed)\n",
    "    print(f\"Random seed set as {seed}\")\n",
    "\n",
    "set_seed(123456)"
   ],
   "metadata": {
    "collapsed": false
   }
  },
  {
   "cell_type": "code",
   "execution_count": 5,
   "outputs": [
    {
     "name": "stdout",
     "output_type": "stream",
     "text": [
      "[2023-03-26 13:22:47] Trainer initialised with CUDA: True\n",
      "[2023-03-26 13:22:52] Tester initialised with CUDA: True and mode: VALID\n",
      "[2023-03-26 13:24:19] Epoch [1/20] Iter [100/772] Loss/train: 0.5009 Elapsed: 0:01:27.309335\n",
      "[2023-03-26 13:25:11] Epoch [1/20] Iter [200/772] Loss/train: 0.4313 Elapsed: 0:02:19.323607\n",
      "[2023-03-26 13:26:03] Epoch [1/20] Iter [300/772] Loss/train: 0.4073 Elapsed: 0:03:10.991093\n",
      "[2023-03-26 13:26:53] Epoch [1/20] Iter [400/772] Loss/train: 0.3725 Elapsed: 0:04:01.123950\n",
      "[2023-03-26 13:27:43] Epoch [1/20] Iter [500/772] Loss/train: 0.4002 Elapsed: 0:04:50.991227\n",
      "[2023-03-26 13:28:35] Epoch [1/20] Iter [600/772] Loss/train: 0.4395 Elapsed: 0:05:43.095370\n",
      "[2023-03-26 13:29:25] Epoch [1/20] Iter [700/772] Loss/train: 0.3788 Elapsed: 0:06:33.377163\n"
     ]
    },
    {
     "name": "stderr",
     "output_type": "stream",
     "text": [
      "100%|██████████| 2470/2470 [04:13<00:00,  9.75it/s]\n"
     ]
    },
    {
     "name": "stdout",
     "output_type": "stream",
     "text": [
      "[2023-03-26 13:34:17] Loss/valid: 0.3546\n",
      "[2023-03-26 13:34:17] AUC/ROC: 0.8694\n",
      "[2023-03-26 13:34:17] AUC/PR: 0.6184\n",
      "[2023-03-26 13:34:17] Found new best model\n",
      "[2023-03-26 13:35:07] Epoch [2/20] Iter [100/772] Loss/train: 0.2812 Elapsed: 0:12:15.388799\n",
      "[2023-03-26 13:35:58] Epoch [2/20] Iter [200/772] Loss/train: 0.4185 Elapsed: 0:13:06.635823\n",
      "[2023-03-26 13:36:57] Epoch [2/20] Iter [300/772] Loss/train: 0.3495 Elapsed: 0:14:04.881026\n",
      "[2023-03-26 13:37:51] Epoch [2/20] Iter [400/772] Loss/train: 0.3012 Elapsed: 0:14:59.182759\n",
      "[2023-03-26 13:38:42] Epoch [2/20] Iter [500/772] Loss/train: 0.3483 Elapsed: 0:15:50.504250\n",
      "[2023-03-26 13:39:31] Epoch [2/20] Iter [600/772] Loss/train: 0.4297 Elapsed: 0:16:39.362610\n",
      "[2023-03-26 13:40:22] Epoch [2/20] Iter [700/772] Loss/train: 0.2930 Elapsed: 0:17:29.690324\n"
     ]
    },
    {
     "name": "stderr",
     "output_type": "stream",
     "text": [
      "100%|██████████| 2470/2470 [04:22<00:00,  9.42it/s]\n"
     ]
    },
    {
     "name": "stdout",
     "output_type": "stream",
     "text": [
      "[2023-03-26 13:45:21] Loss/valid: 0.3331\n",
      "[2023-03-26 13:45:21] AUC/ROC: 0.8841\n",
      "[2023-03-26 13:45:21] AUC/PR: 0.6523\n",
      "[2023-03-26 13:45:21] Found new best model\n",
      "[2023-03-26 13:46:17] Epoch [3/20] Iter [100/772] Loss/train: 0.3028 Elapsed: 0:23:24.682809\n",
      "[2023-03-26 13:47:08] Epoch [3/20] Iter [200/772] Loss/train: 0.3812 Elapsed: 0:24:16.404591\n",
      "[2023-03-26 13:48:01] Epoch [3/20] Iter [300/772] Loss/train: 0.3111 Elapsed: 0:25:09.045630\n",
      "[2023-03-26 13:48:52] Epoch [3/20] Iter [400/772] Loss/train: 0.3866 Elapsed: 0:25:59.975365\n",
      "[2023-03-26 13:49:50] Epoch [3/20] Iter [500/772] Loss/train: 0.3086 Elapsed: 0:26:58.183185\n",
      "[2023-03-26 13:50:45] Epoch [3/20] Iter [600/772] Loss/train: 0.2578 Elapsed: 0:27:52.976632\n",
      "[2023-03-26 13:51:39] Epoch [3/20] Iter [700/772] Loss/train: 0.3655 Elapsed: 0:28:47.590988\n"
     ]
    },
    {
     "name": "stderr",
     "output_type": "stream",
     "text": [
      "100%|██████████| 2470/2470 [04:15<00:00,  9.68it/s]\n"
     ]
    },
    {
     "name": "stdout",
     "output_type": "stream",
     "text": [
      "[2023-03-26 13:56:36] Loss/valid: 0.3435\n",
      "[2023-03-26 13:56:36] AUC/ROC: 0.8774\n",
      "[2023-03-26 13:56:36] AUC/PR: 0.6469\n",
      "[2023-03-26 13:57:12] Epoch [4/20] Iter [100/772] Loss/train: 0.3242 Elapsed: 0:34:20.586133\n",
      "[2023-03-26 13:57:49] Epoch [4/20] Iter [200/772] Loss/train: 0.3592 Elapsed: 0:34:57.267417\n",
      "[2023-03-26 13:58:30] Epoch [4/20] Iter [300/772] Loss/train: 0.2952 Elapsed: 0:35:37.872013\n",
      "[2023-03-26 13:59:06] Epoch [4/20] Iter [400/772] Loss/train: 0.3705 Elapsed: 0:36:14.485519\n",
      "[2023-03-26 13:59:43] Epoch [4/20] Iter [500/772] Loss/train: 0.3702 Elapsed: 0:36:50.887591\n",
      "[2023-03-26 14:00:20] Epoch [4/20] Iter [600/772] Loss/train: 0.2706 Elapsed: 0:37:28.274665\n",
      "[2023-03-26 14:01:32] Epoch [4/20] Iter [700/772] Loss/train: 0.3058 Elapsed: 0:38:40.659643\n"
     ]
    },
    {
     "name": "stderr",
     "output_type": "stream",
     "text": [
      "100%|██████████| 2470/2470 [03:42<00:00, 11.12it/s]\n"
     ]
    },
    {
     "name": "stdout",
     "output_type": "stream",
     "text": [
      "[2023-03-26 14:05:48] Loss/valid: 0.3018\n",
      "[2023-03-26 14:05:48] AUC/ROC: 0.8991\n",
      "[2023-03-26 14:05:48] AUC/PR: 0.6788\n",
      "[2023-03-26 14:05:48] Found new best model\n",
      "[2023-03-26 14:06:24] Epoch [5/20] Iter [100/772] Loss/train: 0.2816 Elapsed: 0:43:32.562842\n",
      "[2023-03-26 14:07:00] Epoch [5/20] Iter [200/772] Loss/train: 0.2812 Elapsed: 0:44:08.125086\n",
      "[2023-03-26 14:07:37] Epoch [5/20] Iter [300/772] Loss/train: 0.3514 Elapsed: 0:44:44.881051\n",
      "[2023-03-26 14:08:17] Epoch [5/20] Iter [400/772] Loss/train: 0.2996 Elapsed: 0:45:25.232772\n",
      "[2023-03-26 14:08:58] Epoch [5/20] Iter [500/772] Loss/train: 0.2603 Elapsed: 0:46:06.413623\n",
      "[2023-03-26 14:09:37] Epoch [5/20] Iter [600/772] Loss/train: 0.2964 Elapsed: 0:46:45.104609\n",
      "[2023-03-26 14:10:21] Epoch [5/20] Iter [700/772] Loss/train: 0.2929 Elapsed: 0:47:28.979702\n"
     ]
    },
    {
     "name": "stderr",
     "output_type": "stream",
     "text": [
      "100%|██████████| 2470/2470 [04:04<00:00, 10.12it/s]\n"
     ]
    },
    {
     "name": "stdout",
     "output_type": "stream",
     "text": [
      "[2023-03-26 14:14:57] Loss/valid: 0.2994\n",
      "[2023-03-26 14:14:57] AUC/ROC: 0.9024\n",
      "[2023-03-26 14:14:57] AUC/PR: 0.6893\n",
      "[2023-03-26 14:14:57] Found new best model\n",
      "[2023-03-26 14:15:41] Epoch [6/20] Iter [100/772] Loss/train: 0.4341 Elapsed: 0:52:48.676392\n",
      "[2023-03-26 14:16:28] Epoch [6/20] Iter [200/772] Loss/train: 0.3530 Elapsed: 0:53:35.962801\n",
      "[2023-03-26 14:17:14] Epoch [6/20] Iter [300/772] Loss/train: 0.2771 Elapsed: 0:54:21.826982\n",
      "[2023-03-26 14:17:56] Epoch [6/20] Iter [400/772] Loss/train: 0.2409 Elapsed: 0:55:04.452820\n",
      "[2023-03-26 14:18:35] Epoch [6/20] Iter [500/772] Loss/train: 0.3247 Elapsed: 0:55:42.967382\n",
      "[2023-03-26 14:19:22] Epoch [6/20] Iter [600/772] Loss/train: 0.3074 Elapsed: 0:56:30.093054\n",
      "[2023-03-26 14:20:07] Epoch [6/20] Iter [700/772] Loss/train: 0.2269 Elapsed: 0:57:15.573283\n"
     ]
    },
    {
     "name": "stderr",
     "output_type": "stream",
     "text": [
      "100%|██████████| 2470/2470 [03:57<00:00, 10.41it/s]\n"
     ]
    },
    {
     "name": "stdout",
     "output_type": "stream",
     "text": [
      "[2023-03-26 14:24:41] Loss/valid: 0.3044\n",
      "[2023-03-26 14:24:41] AUC/ROC: 0.9023\n",
      "[2023-03-26 14:24:41] AUC/PR: 0.6918\n",
      "[2023-03-26 14:25:21] Epoch [7/20] Iter [100/772] Loss/train: 0.3002 Elapsed: 1:02:28.886934\n",
      "[2023-03-26 14:25:58] Epoch [7/20] Iter [200/772] Loss/train: 0.3684 Elapsed: 1:03:06.568022\n",
      "[2023-03-26 14:26:40] Epoch [7/20] Iter [300/772] Loss/train: 0.3124 Elapsed: 1:03:48.062811\n",
      "[2023-03-26 14:27:16] Epoch [7/20] Iter [400/772] Loss/train: 0.2194 Elapsed: 1:04:24.261637\n",
      "[2023-03-26 14:27:57] Epoch [7/20] Iter [500/772] Loss/train: 0.2918 Elapsed: 1:05:05.394022\n",
      "[2023-03-26 14:28:38] Epoch [7/20] Iter [600/772] Loss/train: 0.2543 Elapsed: 1:05:45.744813\n",
      "[2023-03-26 14:29:21] Epoch [7/20] Iter [700/772] Loss/train: 0.2867 Elapsed: 1:06:29.292049\n"
     ]
    },
    {
     "name": "stderr",
     "output_type": "stream",
     "text": [
      "100%|██████████| 2470/2470 [03:46<00:00, 10.91it/s]\n"
     ]
    },
    {
     "name": "stdout",
     "output_type": "stream",
     "text": [
      "[2023-03-26 14:33:41] Loss/valid: 0.2913\n",
      "[2023-03-26 14:33:41] AUC/ROC: 0.9115\n",
      "[2023-03-26 14:33:41] AUC/PR: 0.7042\n",
      "[2023-03-26 14:33:41] Found new best model\n",
      "[2023-03-26 14:34:17] Epoch [8/20] Iter [100/772] Loss/train: 0.2779 Elapsed: 1:11:25.485054\n",
      "[2023-03-26 14:34:52] Epoch [8/20] Iter [200/772] Loss/train: 0.2578 Elapsed: 1:12:00.538907\n",
      "[2023-03-26 14:35:31] Epoch [8/20] Iter [300/772] Loss/train: 0.3188 Elapsed: 1:12:38.830055\n",
      "[2023-03-26 14:36:07] Epoch [8/20] Iter [400/772] Loss/train: 0.2580 Elapsed: 1:13:15.586866\n",
      "[2023-03-26 14:36:52] Epoch [8/20] Iter [500/772] Loss/train: 0.2693 Elapsed: 1:14:00.194732\n",
      "[2023-03-26 14:37:30] Epoch [8/20] Iter [600/772] Loss/train: 0.2536 Elapsed: 1:14:38.207349\n",
      "[2023-03-26 14:38:09] Epoch [8/20] Iter [700/772] Loss/train: 0.3692 Elapsed: 1:15:16.935902\n"
     ]
    },
    {
     "name": "stderr",
     "output_type": "stream",
     "text": [
      "100%|██████████| 2470/2470 [03:53<00:00, 10.57it/s]\n"
     ]
    },
    {
     "name": "stdout",
     "output_type": "stream",
     "text": [
      "[2023-03-26 14:42:32] Loss/valid: 0.2928\n",
      "[2023-03-26 14:42:32] AUC/ROC: 0.9058\n",
      "[2023-03-26 14:42:32] AUC/PR: 0.6987\n",
      "[2023-03-26 14:43:12] Epoch [9/20] Iter [100/772] Loss/train: 0.3335 Elapsed: 1:20:20.368901\n",
      "[2023-03-26 14:43:54] Epoch [9/20] Iter [200/772] Loss/train: 0.2160 Elapsed: 1:21:02.061555\n",
      "[2023-03-26 14:44:33] Epoch [9/20] Iter [300/772] Loss/train: 0.2810 Elapsed: 1:21:41.380939\n",
      "[2023-03-26 14:45:13] Epoch [9/20] Iter [400/772] Loss/train: 0.3003 Elapsed: 1:22:21.475315\n",
      "[2023-03-26 14:45:53] Epoch [9/20] Iter [500/772] Loss/train: 0.2966 Elapsed: 1:23:01.031687\n",
      "[2023-03-26 14:46:32] Epoch [9/20] Iter [600/772] Loss/train: 0.2649 Elapsed: 1:23:39.822442\n",
      "[2023-03-26 14:47:11] Epoch [9/20] Iter [700/772] Loss/train: 0.2976 Elapsed: 1:24:19.161421\n"
     ]
    },
    {
     "name": "stderr",
     "output_type": "stream",
     "text": [
      "100%|██████████| 2470/2470 [04:46<00:00,  8.61it/s]\n"
     ]
    },
    {
     "name": "stdout",
     "output_type": "stream",
     "text": [
      "[2023-03-26 14:52:26] Loss/valid: 0.2893\n",
      "[2023-03-26 14:52:26] AUC/ROC: 0.9133\n",
      "[2023-03-26 14:52:26] AUC/PR: 0.7103\n",
      "[2023-03-26 14:52:26] Found new best model\n",
      "[2023-03-26 14:53:23] Epoch [10/20] Iter [100/772] Loss/train: 0.2340 Elapsed: 1:30:31.681636\n",
      "[2023-03-26 14:54:24] Epoch [10/20] Iter [200/772] Loss/train: 0.2737 Elapsed: 1:31:32.212467\n",
      "[2023-03-26 14:55:16] Epoch [10/20] Iter [300/772] Loss/train: 0.2569 Elapsed: 1:32:23.685813\n",
      "[2023-03-26 14:55:59] Epoch [10/20] Iter [400/772] Loss/train: 0.3605 Elapsed: 1:33:06.660071\n",
      "[2023-03-26 14:56:40] Epoch [10/20] Iter [500/772] Loss/train: 0.3011 Elapsed: 1:33:47.755475\n",
      "[2023-03-26 14:57:16] Epoch [10/20] Iter [600/772] Loss/train: 0.3283 Elapsed: 1:34:24.306396\n",
      "[2023-03-26 14:57:51] Epoch [10/20] Iter [700/772] Loss/train: 0.3086 Elapsed: 1:34:59.279486\n"
     ]
    },
    {
     "name": "stderr",
     "output_type": "stream",
     "text": [
      "100%|██████████| 2470/2470 [03:23<00:00, 12.12it/s]\n"
     ]
    },
    {
     "name": "stdout",
     "output_type": "stream",
     "text": [
      "[2023-03-26 15:01:39] Loss/valid: 0.3319\n",
      "[2023-03-26 15:01:39] AUC/ROC: 0.9036\n",
      "[2023-03-26 15:01:39] AUC/PR: 0.6977\n",
      "[2023-03-26 15:02:10] Epoch [11/20] Iter [100/772] Loss/train: 0.3297 Elapsed: 1:39:18.162271\n",
      "[2023-03-26 15:02:42] Epoch [11/20] Iter [200/772] Loss/train: 0.2673 Elapsed: 1:39:50.493908\n",
      "[2023-03-26 15:03:13] Epoch [11/20] Iter [300/772] Loss/train: 0.2832 Elapsed: 1:40:20.886387\n",
      "[2023-03-26 15:03:44] Epoch [11/20] Iter [400/772] Loss/train: 0.3039 Elapsed: 1:40:52.539976\n",
      "[2023-03-26 15:04:16] Epoch [11/20] Iter [500/772] Loss/train: 0.3200 Elapsed: 1:41:24.081736\n",
      "[2023-03-26 15:04:50] Epoch [11/20] Iter [600/772] Loss/train: 0.2596 Elapsed: 1:41:57.792228\n",
      "[2023-03-26 15:05:21] Epoch [11/20] Iter [700/772] Loss/train: 0.2749 Elapsed: 1:42:29.073410\n"
     ]
    },
    {
     "name": "stderr",
     "output_type": "stream",
     "text": [
      "100%|██████████| 2470/2470 [03:07<00:00, 13.21it/s]\n"
     ]
    },
    {
     "name": "stdout",
     "output_type": "stream",
     "text": [
      "[2023-03-26 15:08:52] Loss/valid: 0.2849\n",
      "[2023-03-26 15:08:52] AUC/ROC: 0.9139\n",
      "[2023-03-26 15:08:52] AUC/PR: 0.7151\n",
      "[2023-03-26 15:08:52] Found new best model\n",
      "[2023-03-26 15:09:22] Epoch [12/20] Iter [100/772] Loss/train: 0.2208 Elapsed: 1:46:30.536520\n",
      "[2023-03-26 15:09:52] Epoch [12/20] Iter [200/772] Loss/train: 0.3017 Elapsed: 1:47:00.116262\n",
      "[2023-03-26 15:10:22] Epoch [12/20] Iter [300/772] Loss/train: 0.2770 Elapsed: 1:47:29.687675\n",
      "[2023-03-26 15:10:52] Epoch [12/20] Iter [400/772] Loss/train: 0.2514 Elapsed: 1:48:00.086534\n",
      "[2023-03-26 15:11:26] Epoch [12/20] Iter [500/772] Loss/train: 0.2583 Elapsed: 1:48:34.230276\n",
      "[2023-03-26 15:12:09] Epoch [12/20] Iter [600/772] Loss/train: 0.2203 Elapsed: 1:49:17.050747\n",
      "[2023-03-26 15:12:40] Epoch [12/20] Iter [700/772] Loss/train: 0.3364 Elapsed: 1:49:48.307666\n"
     ]
    },
    {
     "name": "stderr",
     "output_type": "stream",
     "text": [
      "100%|██████████| 2470/2470 [03:46<00:00, 10.92it/s]\n"
     ]
    },
    {
     "name": "stdout",
     "output_type": "stream",
     "text": [
      "[2023-03-26 15:16:52] Loss/valid: 0.2961\n",
      "[2023-03-26 15:16:52] AUC/ROC: 0.9109\n",
      "[2023-03-26 15:16:52] AUC/PR: 0.7104\n",
      "[2023-03-26 15:17:25] Epoch [13/20] Iter [100/772] Loss/train: 0.2955 Elapsed: 1:54:33.016581\n",
      "[2023-03-26 15:17:59] Epoch [13/20] Iter [200/772] Loss/train: 0.3140 Elapsed: 1:55:07.468410\n",
      "[2023-03-26 15:18:45] Epoch [13/20] Iter [300/772] Loss/train: 0.2601 Elapsed: 1:55:53.173526\n",
      "[2023-03-26 15:19:25] Epoch [13/20] Iter [400/772] Loss/train: 0.3027 Elapsed: 1:56:33.144020\n",
      "[2023-03-26 15:20:03] Epoch [13/20] Iter [500/772] Loss/train: 0.2263 Elapsed: 1:57:10.785406\n",
      "[2023-03-26 15:20:39] Epoch [13/20] Iter [600/772] Loss/train: 0.3547 Elapsed: 1:57:47.493447\n",
      "[2023-03-26 15:21:18] Epoch [13/20] Iter [700/772] Loss/train: 0.2632 Elapsed: 1:58:26.541232\n"
     ]
    },
    {
     "name": "stderr",
     "output_type": "stream",
     "text": [
      "100%|██████████| 2470/2470 [04:00<00:00, 10.25it/s]\n"
     ]
    },
    {
     "name": "stdout",
     "output_type": "stream",
     "text": [
      "[2023-03-26 15:25:47] Loss/valid: 0.2875\n",
      "[2023-03-26 15:25:47] AUC/ROC: 0.9170\n",
      "[2023-03-26 15:25:47] AUC/PR: 0.7177\n",
      "[2023-03-26 15:26:42] Epoch [14/20] Iter [100/772] Loss/train: 0.3643 Elapsed: 2:03:49.865656\n",
      "[2023-03-26 15:27:36] Epoch [14/20] Iter [200/772] Loss/train: 0.2432 Elapsed: 2:04:44.379682\n",
      "[2023-03-26 15:28:36] Epoch [14/20] Iter [300/772] Loss/train: 0.2241 Elapsed: 2:05:44.446107\n",
      "[2023-03-26 15:29:35] Epoch [14/20] Iter [400/772] Loss/train: 0.2809 Elapsed: 2:06:42.941986\n",
      "[2023-03-26 15:30:31] Epoch [14/20] Iter [500/772] Loss/train: 0.3109 Elapsed: 2:07:39.081238\n",
      "[2023-03-26 15:31:27] Epoch [14/20] Iter [600/772] Loss/train: 0.2547 Elapsed: 2:08:35.557237\n",
      "[2023-03-26 15:32:28] Epoch [14/20] Iter [700/772] Loss/train: 0.2813 Elapsed: 2:09:35.806268\n"
     ]
    },
    {
     "name": "stderr",
     "output_type": "stream",
     "text": [
      "100%|██████████| 2470/2470 [03:46<00:00, 10.89it/s]\n"
     ]
    },
    {
     "name": "stdout",
     "output_type": "stream",
     "text": [
      "[2023-03-26 15:37:04] Loss/valid: 0.2773\n",
      "[2023-03-26 15:37:04] AUC/ROC: 0.9187\n",
      "[2023-03-26 15:37:04] AUC/PR: 0.7247\n",
      "[2023-03-26 15:37:04] Found new best model\n",
      "[2023-03-26 15:37:42] Epoch [15/20] Iter [100/772] Loss/train: 0.2172 Elapsed: 2:14:49.696174\n",
      "[2023-03-26 15:38:44] Epoch [15/20] Iter [200/772] Loss/train: 0.3706 Elapsed: 2:15:51.859187\n",
      "[2023-03-26 15:39:19] Epoch [15/20] Iter [300/772] Loss/train: 0.2723 Elapsed: 2:16:27.530031\n",
      "[2023-03-26 15:39:55] Epoch [15/20] Iter [400/772] Loss/train: 0.2241 Elapsed: 2:17:03.152962\n",
      "[2023-03-26 15:40:28] Epoch [15/20] Iter [500/772] Loss/train: 0.2889 Elapsed: 2:17:36.169179\n",
      "[2023-03-26 15:41:02] Epoch [15/20] Iter [600/772] Loss/train: 0.2850 Elapsed: 2:18:09.952876\n",
      "[2023-03-26 15:41:38] Epoch [15/20] Iter [700/772] Loss/train: 0.3438 Elapsed: 2:18:46.345447\n"
     ]
    },
    {
     "name": "stderr",
     "output_type": "stream",
     "text": [
      "100%|██████████| 2470/2470 [03:24<00:00, 12.06it/s]\n"
     ]
    },
    {
     "name": "stdout",
     "output_type": "stream",
     "text": [
      "[2023-03-26 15:45:26] Loss/valid: 0.2812\n",
      "[2023-03-26 15:45:26] AUC/ROC: 0.9184\n",
      "[2023-03-26 15:45:26] AUC/PR: 0.7246\n",
      "[2023-03-26 15:45:56] Epoch [16/20] Iter [100/772] Loss/train: 0.2659 Elapsed: 2:23:04.473855\n",
      "[2023-03-26 15:46:29] Epoch [16/20] Iter [200/772] Loss/train: 0.2618 Elapsed: 2:23:36.774997\n",
      "[2023-03-26 15:47:01] Epoch [16/20] Iter [300/772] Loss/train: 0.3203 Elapsed: 2:24:09.521138\n",
      "[2023-03-26 15:47:34] Epoch [16/20] Iter [400/772] Loss/train: 0.3120 Elapsed: 2:24:42.036799\n",
      "[2023-03-26 15:48:06] Epoch [16/20] Iter [500/772] Loss/train: 0.2427 Elapsed: 2:25:14.273929\n",
      "[2023-03-26 15:48:39] Epoch [16/20] Iter [600/772] Loss/train: 0.2236 Elapsed: 2:25:47.106636\n",
      "[2023-03-26 15:49:12] Epoch [16/20] Iter [700/772] Loss/train: 0.2443 Elapsed: 2:26:20.216002\n"
     ]
    },
    {
     "name": "stderr",
     "output_type": "stream",
     "text": [
      "100%|██████████| 2470/2470 [03:13<00:00, 12.77it/s]\n"
     ]
    },
    {
     "name": "stdout",
     "output_type": "stream",
     "text": [
      "[2023-03-26 15:52:49] Loss/valid: 0.2766\n",
      "[2023-03-26 15:52:49] AUC/ROC: 0.9205\n",
      "[2023-03-26 15:52:49] AUC/PR: 0.7294\n",
      "[2023-03-26 15:52:49] Found new best model\n",
      "[2023-03-26 15:53:19] Epoch [17/20] Iter [100/772] Loss/train: 0.2745 Elapsed: 2:30:26.669883\n",
      "[2023-03-26 15:53:49] Epoch [17/20] Iter [200/772] Loss/train: 0.3568 Elapsed: 2:30:57.072565\n",
      "[2023-03-26 15:54:21] Epoch [17/20] Iter [300/772] Loss/train: 0.2648 Elapsed: 2:31:29.342580\n",
      "[2023-03-26 15:54:53] Epoch [17/20] Iter [400/772] Loss/train: 0.3110 Elapsed: 2:32:01.573840\n",
      "[2023-03-26 15:55:25] Epoch [17/20] Iter [500/772] Loss/train: 0.2574 Elapsed: 2:32:33.339985\n",
      "[2023-03-26 15:55:57] Epoch [17/20] Iter [600/772] Loss/train: 0.2007 Elapsed: 2:33:05.575394\n",
      "[2023-03-26 15:56:29] Epoch [17/20] Iter [700/772] Loss/train: 0.2302 Elapsed: 2:33:37.304088\n"
     ]
    },
    {
     "name": "stderr",
     "output_type": "stream",
     "text": [
      "100%|██████████| 2470/2470 [03:16<00:00, 12.58it/s]\n"
     ]
    },
    {
     "name": "stdout",
     "output_type": "stream",
     "text": [
      "[2023-03-26 16:00:09] Loss/valid: 0.2774\n",
      "[2023-03-26 16:00:09] AUC/ROC: 0.9192\n",
      "[2023-03-26 16:00:09] AUC/PR: 0.7255\n",
      "[2023-03-26 16:00:40] Epoch [18/20] Iter [100/772] Loss/train: 0.2564 Elapsed: 2:37:48.236872\n",
      "[2023-03-26 16:01:10] Epoch [18/20] Iter [200/772] Loss/train: 0.2229 Elapsed: 2:38:18.593699\n",
      "[2023-03-26 16:01:41] Epoch [18/20] Iter [300/772] Loss/train: 0.2803 Elapsed: 2:38:49.016242\n",
      "[2023-03-26 16:02:11] Epoch [18/20] Iter [400/772] Loss/train: 0.3263 Elapsed: 2:39:19.352722\n",
      "[2023-03-26 16:02:44] Epoch [18/20] Iter [500/772] Loss/train: 0.2381 Elapsed: 2:39:52.301266\n",
      "[2023-03-26 16:03:18] Epoch [18/20] Iter [600/772] Loss/train: 0.2844 Elapsed: 2:40:25.819389\n",
      "[2023-03-26 16:03:50] Epoch [18/20] Iter [700/772] Loss/train: 0.3617 Elapsed: 2:40:58.582008\n"
     ]
    },
    {
     "name": "stderr",
     "output_type": "stream",
     "text": [
      "100%|██████████| 2470/2470 [03:21<00:00, 12.28it/s]\n"
     ]
    },
    {
     "name": "stdout",
     "output_type": "stream",
     "text": [
      "[2023-03-26 16:07:34] Loss/valid: 0.2710\n",
      "[2023-03-26 16:07:34] AUC/ROC: 0.9220\n",
      "[2023-03-26 16:07:34] AUC/PR: 0.7327\n",
      "[2023-03-26 16:07:34] Found new best model\n",
      "[2023-03-26 16:08:06] Epoch [19/20] Iter [100/772] Loss/train: 0.2368 Elapsed: 2:45:13.722217\n",
      "[2023-03-26 16:08:37] Epoch [19/20] Iter [200/772] Loss/train: 0.2798 Elapsed: 2:45:45.630935\n",
      "[2023-03-26 16:09:11] Epoch [19/20] Iter [300/772] Loss/train: 0.2750 Elapsed: 2:46:19.135583\n",
      "[2023-03-26 16:09:43] Epoch [19/20] Iter [400/772] Loss/train: 0.2811 Elapsed: 2:46:51.083336\n",
      "[2023-03-26 16:10:15] Epoch [19/20] Iter [500/772] Loss/train: 0.2657 Elapsed: 2:47:23.297795\n",
      "[2023-03-26 16:10:49] Epoch [19/20] Iter [600/772] Loss/train: 0.2499 Elapsed: 2:47:57.307555\n",
      "[2023-03-26 16:11:22] Epoch [19/20] Iter [700/772] Loss/train: 0.2305 Elapsed: 2:48:29.953646\n"
     ]
    },
    {
     "name": "stderr",
     "output_type": "stream",
     "text": [
      "100%|██████████| 2470/2470 [03:25<00:00, 12.03it/s]\n"
     ]
    },
    {
     "name": "stdout",
     "output_type": "stream",
     "text": [
      "[2023-03-26 16:15:11] Loss/valid: 0.2740\n",
      "[2023-03-26 16:15:11] AUC/ROC: 0.9208\n",
      "[2023-03-26 16:15:11] AUC/PR: 0.7289\n",
      "[2023-03-26 16:15:42] Epoch [20/20] Iter [100/772] Loss/train: 0.3197 Elapsed: 2:52:50.435921\n",
      "[2023-03-26 16:16:14] Epoch [20/20] Iter [200/772] Loss/train: 0.2903 Elapsed: 2:53:22.122218\n",
      "[2023-03-26 16:16:46] Epoch [20/20] Iter [300/772] Loss/train: 0.2569 Elapsed: 2:53:54.127520\n",
      "[2023-03-26 16:17:19] Epoch [20/20] Iter [400/772] Loss/train: 0.2923 Elapsed: 2:54:27.548599\n",
      "[2023-03-26 16:17:53] Epoch [20/20] Iter [500/772] Loss/train: 0.2511 Elapsed: 2:55:01.015054\n",
      "[2023-03-26 16:18:31] Epoch [20/20] Iter [600/772] Loss/train: 0.2983 Elapsed: 2:55:39.046453\n",
      "[2023-03-26 16:19:06] Epoch [20/20] Iter [700/772] Loss/train: 0.2687 Elapsed: 2:56:13.692003\n"
     ]
    },
    {
     "name": "stderr",
     "output_type": "stream",
     "text": [
      "100%|██████████| 2470/2470 [03:19<00:00, 12.36it/s]\n"
     ]
    },
    {
     "name": "stdout",
     "output_type": "stream",
     "text": [
      "[2023-03-26 16:22:49] Loss/valid: 0.2724\n",
      "[2023-03-26 16:22:49] AUC/ROC: 0.9228\n",
      "[2023-03-26 16:22:49] AUC/PR: 0.7323\n",
      "2023-03-26 16:22:49] Train finished. Elapsed: 2:59:56.921041\n"
     ]
    }
   ],
   "source": [
    "trainer = Trainer(config)\n",
    "trainer.train()"
   ],
   "metadata": {
    "collapsed": false
   }
  },
  {
   "cell_type": "code",
   "execution_count": 7,
   "outputs": [
    {
     "name": "stdout",
     "output_type": "stream",
     "text": [
      "[2023-03-26 16:32:51] Tester initialised with CUDA: True and mode: TEST\n"
     ]
    },
    {
     "name": "stderr",
     "output_type": "stream",
     "text": [
      "100%|██████████| 1648/1648 [01:54<00:00, 14.44it/s]"
     ]
    },
    {
     "name": "stdout",
     "output_type": "stream",
     "text": [
      "[2023-03-26 16:34:45] Loss/valid: 0.2717\n",
      "[2023-03-26 16:34:45] AUC/ROC: 0.9239\n",
      "[2023-03-26 16:34:45] AUC/PR: 0.7359\n"
     ]
    },
    {
     "name": "stderr",
     "output_type": "stream",
     "text": [
      "\n"
     ]
    }
   ],
   "source": [
    "tester = Tester(config, trainer.model_file_name)\n",
    "tester.test()"
   ],
   "metadata": {
    "collapsed": false
   }
  }
 ],
 "metadata": {
  "kernelspec": {
   "display_name": "Python 3",
   "language": "python",
   "name": "python3"
  },
  "language_info": {
   "codemirror_mode": {
    "name": "ipython",
    "version": 2
   },
   "file_extension": ".py",
   "mimetype": "text/x-python",
   "name": "python",
   "nbconvert_exporter": "python",
   "pygments_lexer": "ipython2",
   "version": "2.7.6"
  }
 },
 "nbformat": 4,
 "nbformat_minor": 0
}
