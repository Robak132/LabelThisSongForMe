{
 "cells": [
  {
   "cell_type": "code",
   "execution_count": 1,
   "metadata": {
    "collapsed": true,
    "ExecuteTime": {
     "start_time": "2023-05-01T18:12:00.859803Z",
     "end_time": "2023-05-01T18:12:04.149293Z"
    }
   },
   "outputs": [
    {
     "name": "stdout",
     "output_type": "stream",
     "text": [
      "Cannot use cuda for model, defaulting to cpu\n"
     ]
    }
   ],
   "source": [
    "from sklearn.neighbors import KNeighborsClassifier\n",
    "\n",
    "from components.config import Config\n",
    "from components.predictor import SklearnPredictor\n",
    "\n",
    "sklearn_config = Config(model=KNeighborsClassifier(),\n",
    "                model_filename_path = \"../models\",\n",
    "                data_path='../data',\n",
    "                dataset_split_path= \"../split\",\n",
    "                dataset_name=\"mtat-20\")\n",
    "sklearn_predictor = SklearnPredictor(sklearn_config, model_filename=\"model.bin\")"
   ]
  },
  {
   "cell_type": "code",
   "execution_count": 2,
   "outputs": [],
   "source": [
    "import numpy as np\n",
    "\n",
    "test_files = np.load(\"../split/mtat-20/test.npy\", allow_pickle=True)\n",
    "tags = np.load(\"../split/mtat-20/tags.npy\", allow_pickle=True)\n",
    "binary = {row[0]: row[1:] for row in np.load(\"../split/mtat-20/binary.npy\", allow_pickle=True)}"
   ],
   "metadata": {
    "collapsed": false,
    "ExecuteTime": {
     "start_time": "2023-05-01T18:12:04.151292Z",
     "end_time": "2023-05-01T18:12:04.238220Z"
    }
   }
  },
  {
   "cell_type": "code",
   "execution_count": 3,
   "outputs": [
    {
     "name": "stderr",
     "output_type": "stream",
     "text": [
      "100%|██████████| 1972/1972 [00:07<00:00, 280.49it/s]\n"
     ]
    }
   ],
   "source": [
    "from components.preprocessor import OpenL3PreProcessor\n",
    "\n",
    "preprocessor = OpenL3PreProcessor(input_path=\"../data/mtat/mp3\", output_path=\"../data/mtat/emb\", suffix=\"npy\", sr=16000)\n",
    "preprocessor.run(test_files[:, 1])"
   ],
   "metadata": {
    "collapsed": false,
    "ExecuteTime": {
     "start_time": "2023-05-01T18:12:04.241505Z",
     "end_time": "2023-05-01T18:12:11.285984Z"
    }
   }
  },
  {
   "cell_type": "code",
   "execution_count": 4,
   "outputs": [
    {
     "name": "stderr",
     "output_type": "stream",
     "text": [
      "100%|██████████| 1972/1972 [00:11<00:00, 166.37it/s]\n"
     ]
    }
   ],
   "source": [
    "import pathlib\n",
    "import os\n",
    "from tqdm import tqdm\n",
    "\n",
    "X = []\n",
    "Y_true = []\n",
    "for idx, file in tqdm(test_files):\n",
    "    file = os.path.join(\"../data/mtat/emb/\", pathlib.Path(file).with_suffix(f\".npy\"))\n",
    "    X.append(np.load(file, allow_pickle=True))\n",
    "    Y_true.append(binary[idx])\n",
    "Y_true = np.array(Y_true)"
   ],
   "metadata": {
    "collapsed": false,
    "ExecuteTime": {
     "start_time": "2023-05-01T18:12:11.289111Z",
     "end_time": "2023-05-01T18:12:23.148270Z"
    }
   }
  },
  {
   "cell_type": "code",
   "execution_count": 5,
   "outputs": [
    {
     "name": "stderr",
     "output_type": "stream",
     "text": [
      "100%|██████████| 50/50 [00:22<00:00,  2.18it/s]\n"
     ]
    }
   ],
   "source": [
    "Y_pred = []\n",
    "for x in tqdm(X[:50]):\n",
    "    Y_pred.append(sklearn_predictor.predict_data_prob(x))\n",
    "Y_pred = np.array(Y_pred)"
   ],
   "metadata": {
    "collapsed": false,
    "ExecuteTime": {
     "start_time": "2023-05-01T18:12:23.151270Z",
     "end_time": "2023-05-01T18:12:46.131811Z"
    }
   }
  },
  {
   "cell_type": "code",
   "execution_count": 12,
   "outputs": [],
   "source": [
    "Y_pred = Y_pred.reshape(Y_pred.shape[0], -1)"
   ],
   "metadata": {
    "collapsed": false,
    "ExecuteTime": {
     "start_time": "2023-05-01T18:13:24.609351Z",
     "end_time": "2023-05-01T18:13:24.613357Z"
    }
   }
  },
  {
   "cell_type": "code",
   "execution_count": 13,
   "outputs": [
    {
     "data": {
      "text/plain": "(50, 20)"
     },
     "execution_count": 13,
     "metadata": {},
     "output_type": "execute_result"
    }
   ],
   "source": [
    "Y_pred.shape"
   ],
   "metadata": {
    "collapsed": false,
    "ExecuteTime": {
     "start_time": "2023-05-01T18:13:25.163434Z",
     "end_time": "2023-05-01T18:13:25.167563Z"
    }
   }
  },
  {
   "cell_type": "code",
   "execution_count": 14,
   "outputs": [],
   "source": [
    "Y_true = Y_true[:50]"
   ],
   "metadata": {
    "collapsed": false,
    "ExecuteTime": {
     "start_time": "2023-05-01T18:13:26.725526Z",
     "end_time": "2023-05-01T18:13:26.730653Z"
    }
   }
  },
  {
   "cell_type": "code",
   "execution_count": 16,
   "outputs": [
    {
     "name": "stdout",
     "output_type": "stream",
     "text": [
      "[2023-05-01 18:13:39] Loss/Valid: 0.0000\n",
      "[2023-05-01 18:13:39] F1 Score: 0.6258\n",
      "[2023-05-01 18:13:39] AUC/ROC: 0.9637\n",
      "[2023-05-01 18:13:39] AUC/PR: 0.8290\n",
      "              precision    recall  f1-score   support\n",
      "\n",
      "      guitar       0.71      0.56      0.63         9\n",
      "   classical       0.92      0.71      0.80        17\n",
      "        slow       0.67      0.36      0.47        11\n",
      "      techno       1.00      1.00      1.00         7\n",
      "     strings       0.56      0.50      0.53        10\n",
      "       drums       1.00      0.71      0.83         7\n",
      "  electronic       1.00      0.50      0.67         6\n",
      "        rock       1.00      0.75      0.86         4\n",
      "        fast       1.00      0.44      0.62         9\n",
      "       piano       1.00      0.57      0.73         7\n",
      "     ambient       0.67      0.67      0.67         6\n",
      "        beat       1.00      0.71      0.83         7\n",
      "      violin       0.71      1.00      0.83         5\n",
      "       vocal       1.00      0.25      0.40         4\n",
      "       synth       1.00      0.25      0.40         8\n",
      "      female       1.00      0.40      0.57         5\n",
      "      indian       0.80      1.00      0.89         4\n",
      "       opera       1.00      0.67      0.80         3\n",
      "        male       0.00      0.00      0.00         5\n",
      "     singing       1.00      0.00      0.00         3\n",
      "\n",
      "   micro avg       0.84      0.56      0.67       137\n",
      "   macro avg       0.85      0.55      0.63       137\n",
      "weighted avg       0.85      0.56      0.64       137\n",
      " samples avg       0.85      0.62      0.66       137\n",
      "\n"
     ]
    }
   ],
   "source": [
    "from sklearn.metrics import classification_report\n",
    "from components.common import Statistics\n",
    "\n",
    "stats = Statistics(0, Y_pred, Y_true)\n",
    "est_bin_array = np.where(stats.est_array >= 0.5, 1, 0)\n",
    "print(classification_report(stats.gt_array, est_bin_array, target_names=list(sklearn_predictor.tags), zero_division=1))"
   ],
   "metadata": {
    "collapsed": false,
    "ExecuteTime": {
     "start_time": "2023-05-01T18:13:39.789662Z",
     "end_time": "2023-05-01T18:13:39.825643Z"
    }
   }
  },
  {
   "cell_type": "code",
   "execution_count": null,
   "outputs": [],
   "source": [],
   "metadata": {
    "collapsed": false
   }
  }
 ],
 "metadata": {
  "kernelspec": {
   "display_name": "Python 3",
   "language": "python",
   "name": "python3"
  },
  "language_info": {
   "codemirror_mode": {
    "name": "ipython",
    "version": 2
   },
   "file_extension": ".py",
   "mimetype": "text/x-python",
   "name": "python",
   "nbconvert_exporter": "python",
   "pygments_lexer": "ipython2",
   "version": "2.7.6"
  }
 },
 "nbformat": 4,
 "nbformat_minor": 0
}
