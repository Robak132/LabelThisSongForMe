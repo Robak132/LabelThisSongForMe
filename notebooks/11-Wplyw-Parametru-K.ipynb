{
 "cells": [
  {
   "cell_type": "code",
   "execution_count": 3,
   "metadata": {
    "ExecuteTime": {
     "start_time": "2023-05-02T20:21:02.340026Z",
     "end_time": "2023-05-02T20:21:02.358777Z"
    }
   },
   "outputs": [],
   "source": [
    "import os\n",
    "import random\n",
    "import numpy as np\n",
    "import torch\n",
    "import pathlib\n",
    "from tqdm import tqdm\n",
    "\n",
    "from utils.common import load_file_lists"
   ]
  },
  {
   "cell_type": "code",
   "execution_count": 4,
   "outputs": [],
   "source": [
    "def create_features(split_path):\n",
    "    binary = {row[0]: row[1:] for row in np.load(os.path.join(split_path, \"binary.npy\"), allow_pickle=True)}\n",
    "    X_train = []\n",
    "    Y_train = []\n",
    "    test_data = load_file_lists([os.path.join(split_path, \"train.npy\"), os.path.join(split_path, \"valid.npy\")])\n",
    "    for idx, filename in tqdm(test_data):\n",
    "        filename = os.path.join(\"../data/mtat/emb\", str(pathlib.Path(filename).with_suffix(\".npy\")))\n",
    "        file_data = np.load(filename, allow_pickle=True).flatten()\n",
    "        X_train.append(file_data)\n",
    "        Y_train.append(binary[int(idx)])\n",
    "    X_train = np.array(X_train)\n",
    "    Y_train = np.array(Y_train)\n",
    "    return X_train, Y_train"
   ],
   "metadata": {
    "collapsed": false,
    "ExecuteTime": {
     "start_time": "2023-05-02T20:21:02.347681Z",
     "end_time": "2023-05-02T20:21:02.362968Z"
    }
   }
  },
  {
   "cell_type": "code",
   "execution_count": 5,
   "outputs": [],
   "source": [
    "def set_seed(seed: int = 42) -> None:\n",
    "    np.random.seed(seed)\n",
    "    random.seed(seed)\n",
    "    torch.manual_seed(seed)\n",
    "    torch.cuda.manual_seed(seed)\n",
    "    os.environ[\"PYTHONHASHSEED\"] = str(seed)\n",
    "    print(f\"Random seed set as {seed}\")"
   ],
   "metadata": {
    "collapsed": false,
    "ExecuteTime": {
     "start_time": "2023-05-02T20:21:02.353680Z",
     "end_time": "2023-05-02T20:21:02.409108Z"
    }
   }
  },
  {
   "cell_type": "code",
   "execution_count": 6,
   "metadata": {
    "ExecuteTime": {
     "start_time": "2023-05-02T20:21:02.362968Z",
     "end_time": "2023-05-02T20:21:02.412111Z"
    }
   },
   "outputs": [
    {
     "name": "stdout",
     "output_type": "stream",
     "text": [
      "Random seed set as 123456\n"
     ]
    }
   ],
   "source": [
    "set_seed(123456)"
   ]
  },
  {
   "cell_type": "code",
   "execution_count": 7,
   "outputs": [
    {
     "name": "stderr",
     "output_type": "stream",
     "text": [
      "100%|██████████| 17746/17746 [02:12<00:00, 134.38it/s]\n"
     ]
    }
   ],
   "source": [
    "dataset_name = \"mtat-20\"\n",
    "split_path = \"../split\"\n",
    "features_path = \"../data/mtat/features/\"\n",
    "\n",
    "split_path = os.path.join(split_path, dataset_name)\n",
    "os.makedirs(split_path, exist_ok=True)\n",
    "X_train, Y_train = create_features(split_path)"
   ],
   "metadata": {
    "collapsed": false,
    "ExecuteTime": {
     "start_time": "2023-05-02T20:21:02.369962Z",
     "end_time": "2023-05-02T20:23:16.130975Z"
    }
   }
  },
  {
   "cell_type": "code",
   "execution_count": 8,
   "outputs": [
    {
     "data": {
      "text/plain": "array([[2.6140246 , 1.8475785 , 4.3649316 , ..., 1.1230563 , 3.333457  ,\n        2.867814  ],\n       [2.4309678 , 2.4298744 , 2.9125767 , ..., 1.5540198 , 3.5779722 ,\n        3.57896   ],\n       [2.5092711 , 2.2790258 , 2.4283175 , ..., 0.48853248, 3.4483852 ,\n        2.2871022 ],\n       ...,\n       [2.4309678 , 2.3061476 , 2.722368  , ..., 1.680212  , 3.0588841 ,\n        2.6399963 ],\n       [3.4527833 , 2.1705675 , 2.8483565 , ..., 1.5671974 , 3.0898876 ,\n        2.31349   ],\n       [2.4309678 , 3.3939528 , 3.5358424 , ..., 1.3863649 , 3.490217  ,\n        4.095427  ]], dtype=float32)"
     },
     "execution_count": 8,
     "metadata": {},
     "output_type": "execute_result"
    }
   ],
   "source": [
    "X_train"
   ],
   "metadata": {
    "collapsed": false,
    "ExecuteTime": {
     "start_time": "2023-05-02T20:23:16.138551Z",
     "end_time": "2023-05-02T20:23:16.145890Z"
    }
   }
  },
  {
   "cell_type": "code",
   "execution_count": 9,
   "outputs": [
    {
     "data": {
      "text/plain": "array([[0, 0, 0, ..., 0, 0, 0],\n       [1, 1, 1, ..., 0, 0, 0],\n       [0, 0, 0, ..., 1, 0, 0],\n       ...,\n       [0, 0, 0, ..., 0, 0, 0],\n       [0, 0, 0, ..., 0, 0, 0],\n       [1, 1, 0, ..., 0, 0, 0]])"
     },
     "execution_count": 9,
     "metadata": {},
     "output_type": "execute_result"
    }
   ],
   "source": [
    "Y_train"
   ],
   "metadata": {
    "collapsed": false,
    "ExecuteTime": {
     "start_time": "2023-05-02T20:23:16.202502Z",
     "end_time": "2023-05-02T20:23:16.222322Z"
    }
   }
  },
  {
   "cell_type": "code",
   "execution_count": 10,
   "outputs": [
    {
     "name": "stdout",
     "output_type": "stream",
     "text": [
      "[2023-05-02 20:23:17] Tester initialised with CUDA: False and mode: TEST\n",
      "Cannot use cuda for model, defaulting to cpu\n",
      "K = 1\n"
     ]
    },
    {
     "name": "stderr",
     "output_type": "stream",
     "text": [
      "100%|██████████| 1972/1972 [00:14<00:00, 132.08it/s]\n"
     ]
    },
    {
     "name": "stdout",
     "output_type": "stream",
     "text": [
      "[2023-05-02 20:23:56] F1 Score: 0.5092\n",
      "[2023-05-02 20:23:56] AUC/ROC: 0.7263\n",
      "[2023-05-02 20:23:56] AUC/PR: 0.3431\n",
      "K = 2\n"
     ]
    },
    {
     "name": "stderr",
     "output_type": "stream",
     "text": [
      "100%|██████████| 1972/1972 [00:13<00:00, 144.46it/s]\n"
     ]
    },
    {
     "name": "stdout",
     "output_type": "stream",
     "text": [
      "[2023-05-02 20:24:36] F1 Score: 0.5343\n",
      "[2023-05-02 20:24:36] AUC/ROC: 0.7851\n",
      "[2023-05-02 20:24:36] AUC/PR: 0.4208\n",
      "K = 3\n"
     ]
    },
    {
     "name": "stderr",
     "output_type": "stream",
     "text": [
      "100%|██████████| 1972/1972 [00:13<00:00, 140.96it/s]\n"
     ]
    },
    {
     "name": "stdout",
     "output_type": "stream",
     "text": [
      "[2023-05-02 20:25:15] F1 Score: 0.5189\n",
      "[2023-05-02 20:25:15] AUC/ROC: 0.8194\n",
      "[2023-05-02 20:25:15] AUC/PR: 0.4650\n",
      "K = 4\n"
     ]
    },
    {
     "name": "stderr",
     "output_type": "stream",
     "text": [
      "100%|██████████| 1972/1972 [00:14<00:00, 140.21it/s]\n"
     ]
    },
    {
     "name": "stdout",
     "output_type": "stream",
     "text": [
      "[2023-05-02 20:25:53] F1 Score: 0.5489\n",
      "[2023-05-02 20:25:53] AUC/ROC: 0.8410\n",
      "[2023-05-02 20:25:53] AUC/PR: 0.4929\n",
      "K = 5\n"
     ]
    },
    {
     "name": "stderr",
     "output_type": "stream",
     "text": [
      "100%|██████████| 1972/1972 [00:13<00:00, 142.55it/s]\n"
     ]
    },
    {
     "name": "stdout",
     "output_type": "stream",
     "text": [
      "[2023-05-02 20:26:33] F1 Score: 0.5121\n",
      "[2023-05-02 20:26:33] AUC/ROC: 0.8518\n",
      "[2023-05-02 20:26:33] AUC/PR: 0.5084\n",
      "K = 6\n"
     ]
    },
    {
     "name": "stderr",
     "output_type": "stream",
     "text": [
      "100%|██████████| 1972/1972 [00:13<00:00, 147.89it/s]\n"
     ]
    },
    {
     "name": "stdout",
     "output_type": "stream",
     "text": [
      "[2023-05-02 20:27:11] F1 Score: 0.5375\n",
      "[2023-05-02 20:27:11] AUC/ROC: 0.8609\n",
      "[2023-05-02 20:27:11] AUC/PR: 0.5194\n",
      "K = 7\n"
     ]
    },
    {
     "name": "stderr",
     "output_type": "stream",
     "text": [
      "100%|██████████| 1972/1972 [00:13<00:00, 150.92it/s]\n"
     ]
    },
    {
     "name": "stdout",
     "output_type": "stream",
     "text": [
      "[2023-05-02 20:27:47] F1 Score: 0.4981\n",
      "[2023-05-02 20:27:47] AUC/ROC: 0.8687\n",
      "[2023-05-02 20:27:47] AUC/PR: 0.5297\n",
      "K = 8\n"
     ]
    },
    {
     "name": "stderr",
     "output_type": "stream",
     "text": [
      "100%|██████████| 1972/1972 [00:13<00:00, 144.53it/s]\n"
     ]
    },
    {
     "name": "stdout",
     "output_type": "stream",
     "text": [
      "[2023-05-02 20:28:26] F1 Score: 0.5244\n",
      "[2023-05-02 20:28:26] AUC/ROC: 0.8747\n",
      "[2023-05-02 20:28:26] AUC/PR: 0.5375\n",
      "K = 9\n"
     ]
    },
    {
     "name": "stderr",
     "output_type": "stream",
     "text": [
      "100%|██████████| 1972/1972 [00:15<00:00, 124.64it/s]\n"
     ]
    },
    {
     "name": "stdout",
     "output_type": "stream",
     "text": [
      "[2023-05-02 20:29:05] F1 Score: 0.4947\n",
      "[2023-05-02 20:29:05] AUC/ROC: 0.8798\n",
      "[2023-05-02 20:29:05] AUC/PR: 0.5463\n",
      "K = 10\n"
     ]
    },
    {
     "name": "stderr",
     "output_type": "stream",
     "text": [
      "100%|██████████| 1972/1972 [00:13<00:00, 142.46it/s]\n"
     ]
    },
    {
     "name": "stdout",
     "output_type": "stream",
     "text": [
      "[2023-05-02 20:29:43] F1 Score: 0.5222\n",
      "[2023-05-02 20:29:43] AUC/ROC: 0.8843\n",
      "[2023-05-02 20:29:43] AUC/PR: 0.5531\n",
      "K = 11\n"
     ]
    },
    {
     "name": "stderr",
     "output_type": "stream",
     "text": [
      "100%|██████████| 1972/1972 [00:12<00:00, 153.00it/s]\n"
     ]
    },
    {
     "name": "stdout",
     "output_type": "stream",
     "text": [
      "[2023-05-02 20:30:19] F1 Score: 0.4908\n",
      "[2023-05-02 20:30:19] AUC/ROC: 0.8868\n",
      "[2023-05-02 20:30:19] AUC/PR: 0.5573\n",
      "K = 12\n"
     ]
    },
    {
     "name": "stderr",
     "output_type": "stream",
     "text": [
      "100%|██████████| 1972/1972 [00:12<00:00, 159.45it/s]\n"
     ]
    },
    {
     "name": "stdout",
     "output_type": "stream",
     "text": [
      "[2023-05-02 20:30:54] F1 Score: 0.5107\n",
      "[2023-05-02 20:30:54] AUC/ROC: 0.8890\n",
      "[2023-05-02 20:30:54] AUC/PR: 0.5568\n",
      "K = 13\n"
     ]
    },
    {
     "name": "stderr",
     "output_type": "stream",
     "text": [
      "100%|██████████| 1972/1972 [00:12<00:00, 153.41it/s]\n"
     ]
    },
    {
     "name": "stdout",
     "output_type": "stream",
     "text": [
      "[2023-05-02 20:31:30] F1 Score: 0.4860\n",
      "[2023-05-02 20:31:30] AUC/ROC: 0.8913\n",
      "[2023-05-02 20:31:30] AUC/PR: 0.5606\n",
      "K = 14\n"
     ]
    },
    {
     "name": "stderr",
     "output_type": "stream",
     "text": [
      "100%|██████████| 1972/1972 [00:15<00:00, 127.84it/s]\n"
     ]
    },
    {
     "name": "stdout",
     "output_type": "stream",
     "text": [
      "[2023-05-02 20:32:09] F1 Score: 0.5035\n",
      "[2023-05-02 20:32:09] AUC/ROC: 0.8927\n",
      "[2023-05-02 20:32:09] AUC/PR: 0.5622\n",
      "K = 15\n"
     ]
    },
    {
     "name": "stderr",
     "output_type": "stream",
     "text": [
      "100%|██████████| 1972/1972 [00:13<00:00, 149.98it/s]\n"
     ]
    },
    {
     "name": "stdout",
     "output_type": "stream",
     "text": [
      "[2023-05-02 20:32:46] F1 Score: 0.4806\n",
      "[2023-05-02 20:32:46] AUC/ROC: 0.8943\n",
      "[2023-05-02 20:32:46] AUC/PR: 0.5638\n"
     ]
    }
   ],
   "source": [
    "from components.tester import SklearnTester\n",
    "from utils.config import Config\n",
    "from sklearn.exceptions import UndefinedMetricWarning\n",
    "from sklearn.neighbors import KNeighborsClassifier\n",
    "import warnings\n",
    "warnings.simplefilter(action='ignore', category=UndefinedMetricWarning)\n",
    "\n",
    "config = Config(model=KNeighborsClassifier(), model_filename_path=\"../models\", data_path='../data',\n",
    "                dataset_split_path=\"../split\", dataset_name=f\"mtat-20\")\n",
    "tester = SklearnTester(config)\n",
    "\n",
    "results_20 = {}\n",
    "for i in range(1, 16):\n",
    "    print(f\"K = {i}\")\n",
    "    model = KNeighborsClassifier(n_neighbors=i)\n",
    "    model.fit(X_train, Y_train)\n",
    "    stats = tester.test(model)\n",
    "    results_20[i] = [stats.f1_score, stats.roc_auc, stats.pr_auc]"
   ],
   "metadata": {
    "collapsed": false,
    "ExecuteTime": {
     "start_time": "2023-05-02T20:23:16.203000Z",
     "end_time": "2023-05-02T20:32:46.712873Z"
    }
   }
  },
  {
   "cell_type": "code",
   "execution_count": 11,
   "outputs": [
    {
     "name": "stderr",
     "output_type": "stream",
     "text": [
      "100%|██████████| 14822/14822 [01:59<00:00, 124.28it/s]\n"
     ]
    }
   ],
   "source": [
    "dataset_name = \"mtat-10\"\n",
    "split_path = \"../split\"\n",
    "features_path = \"../data/mtat/features/\"\n",
    "\n",
    "split_path = os.path.join(split_path, dataset_name)\n",
    "os.makedirs(split_path, exist_ok=True)\n",
    "X_train, Y_train = create_features(split_path)"
   ],
   "metadata": {
    "collapsed": false,
    "ExecuteTime": {
     "start_time": "2023-05-02T20:32:46.714867Z",
     "end_time": "2023-05-02T20:34:47.210003Z"
    }
   }
  },
  {
   "cell_type": "code",
   "execution_count": 12,
   "outputs": [
    {
     "data": {
      "text/plain": "array([[2.4309678 , 2.0419495 , 2.9835021 , ..., 0.596608  , 3.3791773 ,\n        2.851194  ],\n       [2.4309678 , 2.2831523 , 3.713408  , ..., 2.5958302 , 3.2312474 ,\n        2.98357   ],\n       [2.4309678 , 2.447584  , 3.6947517 , ..., 1.0246372 , 3.075337  ,\n        2.389415  ],\n       ...,\n       [2.4309678 , 2.4188912 , 2.992663  , ..., 1.7392542 , 3.2222848 ,\n        2.2493355 ],\n       [2.4584339 , 2.48222   , 4.454659  , ..., 2.301653  , 3.4233615 ,\n        3.2996736 ],\n       [2.4309678 , 3.1145184 , 2.6744354 , ..., 0.98018384, 3.6385753 ,\n        3.348161  ]], dtype=float32)"
     },
     "execution_count": 12,
     "metadata": {},
     "output_type": "execute_result"
    }
   ],
   "source": [
    "X_train"
   ],
   "metadata": {
    "collapsed": false,
    "ExecuteTime": {
     "start_time": "2023-05-02T20:34:47.195981Z",
     "end_time": "2023-05-02T20:34:47.211002Z"
    }
   }
  },
  {
   "cell_type": "code",
   "execution_count": 13,
   "outputs": [
    {
     "data": {
      "text/plain": "array([[0, 1, 0, ..., 0, 0, 1],\n       [0, 0, 0, ..., 1, 0, 0],\n       [1, 0, 1, ..., 0, 0, 0],\n       ...,\n       [0, 0, 0, ..., 1, 0, 0],\n       [0, 0, 0, ..., 0, 0, 0],\n       [1, 0, 0, ..., 0, 0, 1]])"
     },
     "execution_count": 13,
     "metadata": {},
     "output_type": "execute_result"
    }
   ],
   "source": [
    "Y_train"
   ],
   "metadata": {
    "collapsed": false,
    "ExecuteTime": {
     "start_time": "2023-05-02T20:34:47.207003Z",
     "end_time": "2023-05-02T20:34:47.211522Z"
    }
   }
  },
  {
   "cell_type": "code",
   "execution_count": 14,
   "outputs": [
    {
     "name": "stdout",
     "output_type": "stream",
     "text": [
      "[2023-05-02 20:34:47] Tester initialised with CUDA: False and mode: TEST\n",
      "Cannot use cuda for model, defaulting to cpu\n",
      "K = 1\n"
     ]
    },
    {
     "name": "stderr",
     "output_type": "stream",
     "text": [
      "100%|██████████| 1648/1648 [00:13<00:00, 126.54it/s]\n"
     ]
    },
    {
     "name": "stdout",
     "output_type": "stream",
     "text": [
      "[2023-05-02 20:35:16] F1 Score: 0.6058\n",
      "[2023-05-02 20:35:16] AUC/ROC: 0.7591\n",
      "[2023-05-02 20:35:16] AUC/PR: 0.4586\n",
      "K = 2\n"
     ]
    },
    {
     "name": "stderr",
     "output_type": "stream",
     "text": [
      "100%|██████████| 1648/1648 [00:11<00:00, 148.11it/s]\n"
     ]
    },
    {
     "name": "stdout",
     "output_type": "stream",
     "text": [
      "[2023-05-02 20:35:44] F1 Score: 0.6370\n",
      "[2023-05-02 20:35:44] AUC/ROC: 0.8221\n",
      "[2023-05-02 20:35:44] AUC/PR: 0.5562\n",
      "K = 3\n"
     ]
    },
    {
     "name": "stderr",
     "output_type": "stream",
     "text": [
      "100%|██████████| 1648/1648 [00:11<00:00, 149.28it/s]\n"
     ]
    },
    {
     "name": "stdout",
     "output_type": "stream",
     "text": [
      "[2023-05-02 20:36:11] F1 Score: 0.6206\n",
      "[2023-05-02 20:36:11] AUC/ROC: 0.8470\n",
      "[2023-05-02 20:36:11] AUC/PR: 0.5940\n",
      "K = 4\n"
     ]
    },
    {
     "name": "stderr",
     "output_type": "stream",
     "text": [
      "100%|██████████| 1648/1648 [00:10<00:00, 152.71it/s]\n"
     ]
    },
    {
     "name": "stdout",
     "output_type": "stream",
     "text": [
      "[2023-05-02 20:36:37] F1 Score: 0.6469\n",
      "[2023-05-02 20:36:37] AUC/ROC: 0.8639\n",
      "[2023-05-02 20:36:37] AUC/PR: 0.6208\n",
      "K = 5\n"
     ]
    },
    {
     "name": "stderr",
     "output_type": "stream",
     "text": [
      "100%|██████████| 1648/1648 [00:10<00:00, 162.27it/s]\n"
     ]
    },
    {
     "name": "stdout",
     "output_type": "stream",
     "text": [
      "[2023-05-02 20:37:02] F1 Score: 0.6262\n",
      "[2023-05-02 20:37:02] AUC/ROC: 0.8744\n",
      "[2023-05-02 20:37:02] AUC/PR: 0.6349\n",
      "K = 6\n"
     ]
    },
    {
     "name": "stderr",
     "output_type": "stream",
     "text": [
      "100%|██████████| 1648/1648 [00:10<00:00, 164.61it/s]\n"
     ]
    },
    {
     "name": "stdout",
     "output_type": "stream",
     "text": [
      "[2023-05-02 20:37:28] F1 Score: 0.6449\n",
      "[2023-05-02 20:37:28] AUC/ROC: 0.8797\n",
      "[2023-05-02 20:37:28] AUC/PR: 0.6451\n",
      "K = 7\n"
     ]
    },
    {
     "name": "stderr",
     "output_type": "stream",
     "text": [
      "100%|██████████| 1648/1648 [00:09<00:00, 176.66it/s]\n"
     ]
    },
    {
     "name": "stdout",
     "output_type": "stream",
     "text": [
      "[2023-05-02 20:37:53] F1 Score: 0.6201\n",
      "[2023-05-02 20:37:53] AUC/ROC: 0.8851\n",
      "[2023-05-02 20:37:53] AUC/PR: 0.6562\n",
      "K = 8\n"
     ]
    },
    {
     "name": "stderr",
     "output_type": "stream",
     "text": [
      "100%|██████████| 1648/1648 [00:09<00:00, 166.58it/s]\n"
     ]
    },
    {
     "name": "stdout",
     "output_type": "stream",
     "text": [
      "[2023-05-02 20:38:18] F1 Score: 0.6370\n",
      "[2023-05-02 20:38:18] AUC/ROC: 0.8876\n",
      "[2023-05-02 20:38:18] AUC/PR: 0.6612\n",
      "K = 9\n"
     ]
    },
    {
     "name": "stderr",
     "output_type": "stream",
     "text": [
      "100%|██████████| 1648/1648 [00:10<00:00, 157.06it/s]\n"
     ]
    },
    {
     "name": "stdout",
     "output_type": "stream",
     "text": [
      "[2023-05-02 20:38:44] F1 Score: 0.6123\n",
      "[2023-05-02 20:38:44] AUC/ROC: 0.8906\n",
      "[2023-05-02 20:38:44] AUC/PR: 0.6652\n",
      "K = 10\n"
     ]
    },
    {
     "name": "stderr",
     "output_type": "stream",
     "text": [
      "100%|██████████| 1648/1648 [00:11<00:00, 148.32it/s]\n"
     ]
    },
    {
     "name": "stdout",
     "output_type": "stream",
     "text": [
      "[2023-05-02 20:39:12] F1 Score: 0.6355\n",
      "[2023-05-02 20:39:12] AUC/ROC: 0.8949\n",
      "[2023-05-02 20:39:12] AUC/PR: 0.6713\n",
      "K = 11\n"
     ]
    },
    {
     "name": "stderr",
     "output_type": "stream",
     "text": [
      "100%|██████████| 1648/1648 [00:10<00:00, 153.08it/s]\n"
     ]
    },
    {
     "name": "stdout",
     "output_type": "stream",
     "text": [
      "[2023-05-02 20:39:40] F1 Score: 0.6130\n",
      "[2023-05-02 20:39:40] AUC/ROC: 0.8976\n",
      "[2023-05-02 20:39:40] AUC/PR: 0.6741\n",
      "K = 12\n"
     ]
    },
    {
     "name": "stderr",
     "output_type": "stream",
     "text": [
      "100%|██████████| 1648/1648 [00:11<00:00, 139.46it/s]\n"
     ]
    },
    {
     "name": "stdout",
     "output_type": "stream",
     "text": [
      "[2023-05-02 20:40:09] F1 Score: 0.6298\n",
      "[2023-05-02 20:40:09] AUC/ROC: 0.8986\n",
      "[2023-05-02 20:40:09] AUC/PR: 0.6778\n",
      "K = 13\n"
     ]
    },
    {
     "name": "stderr",
     "output_type": "stream",
     "text": [
      "100%|██████████| 1648/1648 [00:09<00:00, 166.05it/s]\n"
     ]
    },
    {
     "name": "stdout",
     "output_type": "stream",
     "text": [
      "[2023-05-02 20:40:35] F1 Score: 0.6134\n",
      "[2023-05-02 20:40:35] AUC/ROC: 0.9000\n",
      "[2023-05-02 20:40:35] AUC/PR: 0.6808\n",
      "K = 14\n"
     ]
    },
    {
     "name": "stderr",
     "output_type": "stream",
     "text": [
      "100%|██████████| 1648/1648 [00:10<00:00, 155.24it/s]\n"
     ]
    },
    {
     "name": "stdout",
     "output_type": "stream",
     "text": [
      "[2023-05-02 20:41:03] F1 Score: 0.6290\n",
      "[2023-05-02 20:41:03] AUC/ROC: 0.9018\n",
      "[2023-05-02 20:41:03] AUC/PR: 0.6838\n",
      "K = 15\n"
     ]
    },
    {
     "name": "stderr",
     "output_type": "stream",
     "text": [
      "100%|██████████| 1648/1648 [00:10<00:00, 154.83it/s]\n"
     ]
    },
    {
     "name": "stdout",
     "output_type": "stream",
     "text": [
      "[2023-05-02 20:41:29] F1 Score: 0.6153\n",
      "[2023-05-02 20:41:29] AUC/ROC: 0.9025\n",
      "[2023-05-02 20:41:29] AUC/PR: 0.6870\n"
     ]
    }
   ],
   "source": [
    "from components.tester import SklearnTester\n",
    "from utils.config import Config\n",
    "from sklearn.exceptions import UndefinedMetricWarning\n",
    "from sklearn.neighbors import KNeighborsClassifier\n",
    "import warnings\n",
    "warnings.simplefilter(action='ignore', category=UndefinedMetricWarning)\n",
    "\n",
    "config = Config(model=KNeighborsClassifier(), model_filename_path=\"../models\", data_path='../data',\n",
    "                dataset_split_path=\"../split\", dataset_name=f\"mtat-10\")\n",
    "tester = SklearnTester(config)\n",
    "\n",
    "results_10 = {}\n",
    "for i in range(1, 16):\n",
    "    print(f\"K = {i}\")\n",
    "    model = KNeighborsClassifier(n_neighbors=i)\n",
    "    model.fit(X_train, Y_train)\n",
    "    stats = tester.test(model)\n",
    "    results_10[i] = [stats.f1_score, stats.roc_auc, stats.pr_auc]"
   ],
   "metadata": {
    "collapsed": false,
    "ExecuteTime": {
     "start_time": "2023-05-02T20:34:47.213518Z",
     "end_time": "2023-05-02T20:41:29.877311Z"
    }
   }
  },
  {
   "cell_type": "code",
   "execution_count": 15,
   "outputs": [
    {
     "data": {
      "text/plain": "    f1_score   auc_roc    auc_pr\n1   0.605759  0.759068  0.458636\n2   0.636979  0.822133  0.556212\n3   0.620557  0.847026  0.594049\n4   0.646890  0.863885  0.620804\n5   0.626241  0.874351  0.634899\n6   0.644876  0.879716  0.645081\n7   0.620055  0.885109  0.656168\n8   0.637034  0.887627  0.661191\n9   0.612339  0.890648  0.665248\n10  0.635542  0.894942  0.671304\n11  0.613042  0.897596  0.674104\n12  0.629768  0.898599  0.677823\n13  0.613366  0.899986  0.680788\n14  0.629024  0.901766  0.683848\n15  0.615276  0.902533  0.687035",
      "text/html": "<div>\n<style scoped>\n    .dataframe tbody tr th:only-of-type {\n        vertical-align: middle;\n    }\n\n    .dataframe tbody tr th {\n        vertical-align: top;\n    }\n\n    .dataframe thead th {\n        text-align: right;\n    }\n</style>\n<table border=\"1\" class=\"dataframe\">\n  <thead>\n    <tr style=\"text-align: right;\">\n      <th></th>\n      <th>f1_score</th>\n      <th>auc_roc</th>\n      <th>auc_pr</th>\n    </tr>\n  </thead>\n  <tbody>\n    <tr>\n      <th>1</th>\n      <td>0.605759</td>\n      <td>0.759068</td>\n      <td>0.458636</td>\n    </tr>\n    <tr>\n      <th>2</th>\n      <td>0.636979</td>\n      <td>0.822133</td>\n      <td>0.556212</td>\n    </tr>\n    <tr>\n      <th>3</th>\n      <td>0.620557</td>\n      <td>0.847026</td>\n      <td>0.594049</td>\n    </tr>\n    <tr>\n      <th>4</th>\n      <td>0.646890</td>\n      <td>0.863885</td>\n      <td>0.620804</td>\n    </tr>\n    <tr>\n      <th>5</th>\n      <td>0.626241</td>\n      <td>0.874351</td>\n      <td>0.634899</td>\n    </tr>\n    <tr>\n      <th>6</th>\n      <td>0.644876</td>\n      <td>0.879716</td>\n      <td>0.645081</td>\n    </tr>\n    <tr>\n      <th>7</th>\n      <td>0.620055</td>\n      <td>0.885109</td>\n      <td>0.656168</td>\n    </tr>\n    <tr>\n      <th>8</th>\n      <td>0.637034</td>\n      <td>0.887627</td>\n      <td>0.661191</td>\n    </tr>\n    <tr>\n      <th>9</th>\n      <td>0.612339</td>\n      <td>0.890648</td>\n      <td>0.665248</td>\n    </tr>\n    <tr>\n      <th>10</th>\n      <td>0.635542</td>\n      <td>0.894942</td>\n      <td>0.671304</td>\n    </tr>\n    <tr>\n      <th>11</th>\n      <td>0.613042</td>\n      <td>0.897596</td>\n      <td>0.674104</td>\n    </tr>\n    <tr>\n      <th>12</th>\n      <td>0.629768</td>\n      <td>0.898599</td>\n      <td>0.677823</td>\n    </tr>\n    <tr>\n      <th>13</th>\n      <td>0.613366</td>\n      <td>0.899986</td>\n      <td>0.680788</td>\n    </tr>\n    <tr>\n      <th>14</th>\n      <td>0.629024</td>\n      <td>0.901766</td>\n      <td>0.683848</td>\n    </tr>\n    <tr>\n      <th>15</th>\n      <td>0.615276</td>\n      <td>0.902533</td>\n      <td>0.687035</td>\n    </tr>\n  </tbody>\n</table>\n</div>"
     },
     "execution_count": 15,
     "metadata": {},
     "output_type": "execute_result"
    }
   ],
   "source": [
    "import pandas as pd\n",
    "df_10 = pd.DataFrame.from_dict(results_10, orient=\"index\", columns=[\"f1_score\", \"auc_roc\", \"auc_pr\"])\n",
    "df_10"
   ],
   "metadata": {
    "collapsed": false,
    "ExecuteTime": {
     "start_time": "2023-05-02T20:41:29.904310Z",
     "end_time": "2023-05-02T20:41:29.930307Z"
    }
   }
  },
  {
   "cell_type": "code",
   "execution_count": 16,
   "outputs": [
    {
     "data": {
      "text/plain": "    f1_score   auc_roc    auc_pr\n1   0.509241  0.726319  0.343053\n2   0.534299  0.785071  0.420765\n3   0.518905  0.819422  0.465024\n4   0.548916  0.840968  0.492936\n5   0.512107  0.851774  0.508350\n6   0.537480  0.860853  0.519420\n7   0.498075  0.868748  0.529737\n8   0.524424  0.874681  0.537454\n9   0.494672  0.879849  0.546305\n10  0.522233  0.884281  0.553077\n11  0.490828  0.886797  0.557331\n12  0.510663  0.888984  0.556830\n13  0.486038  0.891314  0.560603\n14  0.503452  0.892716  0.562186\n15  0.480605  0.894282  0.563791",
      "text/html": "<div>\n<style scoped>\n    .dataframe tbody tr th:only-of-type {\n        vertical-align: middle;\n    }\n\n    .dataframe tbody tr th {\n        vertical-align: top;\n    }\n\n    .dataframe thead th {\n        text-align: right;\n    }\n</style>\n<table border=\"1\" class=\"dataframe\">\n  <thead>\n    <tr style=\"text-align: right;\">\n      <th></th>\n      <th>f1_score</th>\n      <th>auc_roc</th>\n      <th>auc_pr</th>\n    </tr>\n  </thead>\n  <tbody>\n    <tr>\n      <th>1</th>\n      <td>0.509241</td>\n      <td>0.726319</td>\n      <td>0.343053</td>\n    </tr>\n    <tr>\n      <th>2</th>\n      <td>0.534299</td>\n      <td>0.785071</td>\n      <td>0.420765</td>\n    </tr>\n    <tr>\n      <th>3</th>\n      <td>0.518905</td>\n      <td>0.819422</td>\n      <td>0.465024</td>\n    </tr>\n    <tr>\n      <th>4</th>\n      <td>0.548916</td>\n      <td>0.840968</td>\n      <td>0.492936</td>\n    </tr>\n    <tr>\n      <th>5</th>\n      <td>0.512107</td>\n      <td>0.851774</td>\n      <td>0.508350</td>\n    </tr>\n    <tr>\n      <th>6</th>\n      <td>0.537480</td>\n      <td>0.860853</td>\n      <td>0.519420</td>\n    </tr>\n    <tr>\n      <th>7</th>\n      <td>0.498075</td>\n      <td>0.868748</td>\n      <td>0.529737</td>\n    </tr>\n    <tr>\n      <th>8</th>\n      <td>0.524424</td>\n      <td>0.874681</td>\n      <td>0.537454</td>\n    </tr>\n    <tr>\n      <th>9</th>\n      <td>0.494672</td>\n      <td>0.879849</td>\n      <td>0.546305</td>\n    </tr>\n    <tr>\n      <th>10</th>\n      <td>0.522233</td>\n      <td>0.884281</td>\n      <td>0.553077</td>\n    </tr>\n    <tr>\n      <th>11</th>\n      <td>0.490828</td>\n      <td>0.886797</td>\n      <td>0.557331</td>\n    </tr>\n    <tr>\n      <th>12</th>\n      <td>0.510663</td>\n      <td>0.888984</td>\n      <td>0.556830</td>\n    </tr>\n    <tr>\n      <th>13</th>\n      <td>0.486038</td>\n      <td>0.891314</td>\n      <td>0.560603</td>\n    </tr>\n    <tr>\n      <th>14</th>\n      <td>0.503452</td>\n      <td>0.892716</td>\n      <td>0.562186</td>\n    </tr>\n    <tr>\n      <th>15</th>\n      <td>0.480605</td>\n      <td>0.894282</td>\n      <td>0.563791</td>\n    </tr>\n  </tbody>\n</table>\n</div>"
     },
     "execution_count": 16,
     "metadata": {},
     "output_type": "execute_result"
    }
   ],
   "source": [
    "df_20 = pd.DataFrame.from_dict(results_20, orient=\"index\", columns=[\"f1_score\", \"auc_roc\", \"auc_pr\"])\n",
    "df_20"
   ],
   "metadata": {
    "collapsed": false,
    "ExecuteTime": {
     "start_time": "2023-05-02T20:41:29.929310Z",
     "end_time": "2023-05-02T20:41:29.938313Z"
    }
   }
  },
  {
   "cell_type": "code",
   "execution_count": 26,
   "outputs": [
    {
     "data": {
      "application/vnd.plotly.v1+json": {
       "data": [
        {
         "name": "mtat-10",
         "x": [
          1,
          2,
          3,
          4,
          5,
          6,
          7,
          8,
          9,
          10,
          11,
          12,
          13,
          14,
          15
         ],
         "y": [
          0.605759153272762,
          0.6369788519102535,
          0.620556894401617,
          0.6468901344599332,
          0.626241334480594,
          0.6448757447028262,
          0.6200546904401962,
          0.6370335076782748,
          0.6123394218359743,
          0.6355423742752198,
          0.6130415121970956,
          0.6297675982425921,
          0.6133664377827179,
          0.6290239826148971,
          0.6152757057222258
         ],
         "type": "scatter",
         "xaxis": "x",
         "yaxis": "y"
        },
        {
         "name": "mtat-20",
         "x": [
          1,
          2,
          3,
          4,
          5,
          6,
          7,
          8,
          9,
          10,
          11,
          12,
          13,
          14,
          15
         ],
         "y": [
          0.5092414005727386,
          0.5342988258527276,
          0.5189047353334939,
          0.5489157276828789,
          0.5121066641160071,
          0.5374802309654734,
          0.4980747075431508,
          0.5244239990838141,
          0.4946724812487311,
          0.5222325700757346,
          0.4908283997923929,
          0.5106631838123643,
          0.4860378680285343,
          0.5034515779416587,
          0.48060538294575084
         ],
         "type": "scatter",
         "xaxis": "x",
         "yaxis": "y"
        },
        {
         "name": "mtat-10",
         "x": [
          1,
          2,
          3,
          4,
          5,
          6,
          7,
          8,
          9,
          10,
          11,
          12,
          13,
          14,
          15
         ],
         "y": [
          0.7590682338334123,
          0.8221334660653887,
          0.8470263917561633,
          0.8638845472415289,
          0.8743510462213685,
          0.879716284949763,
          0.8851087180526997,
          0.8876268852098181,
          0.890648291907357,
          0.8949415038206545,
          0.8975963433244954,
          0.898598888287385,
          0.8999855600215669,
          0.9017658384677304,
          0.9025329274793721
         ],
         "type": "scatter",
         "xaxis": "x2",
         "yaxis": "y2"
        },
        {
         "name": "mtat-20",
         "x": [
          1,
          2,
          3,
          4,
          5,
          6,
          7,
          8,
          9,
          10,
          11,
          12,
          13,
          14,
          15
         ],
         "y": [
          0.7263190351097202,
          0.7850713106552261,
          0.8194215881321846,
          0.8409681180516916,
          0.851773717130085,
          0.8608528770916954,
          0.86874833236648,
          0.8746805027404545,
          0.8798493576060281,
          0.8842808702467673,
          0.8867972227401808,
          0.8889838525412139,
          0.8913139576069433,
          0.8927162304430881,
          0.8942815376924387
         ],
         "type": "scatter",
         "xaxis": "x2",
         "yaxis": "y2"
        },
        {
         "name": "mtat-10",
         "x": [
          1,
          2,
          3,
          4,
          5,
          6,
          7,
          8,
          9,
          10,
          11,
          12,
          13,
          14,
          15
         ],
         "y": [
          0.45863637649848804,
          0.5562118326179821,
          0.5940487320755298,
          0.6208040791974299,
          0.6348991300317705,
          0.6450809172718717,
          0.656168315299455,
          0.6611909829336735,
          0.6652480733111714,
          0.6713041223804807,
          0.6741040105727708,
          0.6778232491640777,
          0.6807879274187707,
          0.683847603406463,
          0.6870347680342299
         ],
         "type": "scatter",
         "xaxis": "x3",
         "yaxis": "y3"
        },
        {
         "name": "mtat-20",
         "x": [
          1,
          2,
          3,
          4,
          5,
          6,
          7,
          8,
          9,
          10,
          11,
          12,
          13,
          14,
          15
         ],
         "y": [
          0.34305342028592983,
          0.4207647825956829,
          0.4650238053264618,
          0.4929361051785528,
          0.5083503761507262,
          0.5194199137367893,
          0.529736995292575,
          0.5374535635835314,
          0.5463046517580619,
          0.5530769110899866,
          0.5573313875772612,
          0.5568296002861699,
          0.5606027251551662,
          0.5621855294909527,
          0.5637910509062004
         ],
         "type": "scatter",
         "xaxis": "x3",
         "yaxis": "y3"
        }
       ],
       "layout": {
        "template": {
         "data": {
          "barpolar": [
           {
            "marker": {
             "line": {
              "color": "white",
              "width": 0.5
             },
             "pattern": {
              "fillmode": "overlay",
              "size": 10,
              "solidity": 0.2
             }
            },
            "type": "barpolar"
           }
          ],
          "bar": [
           {
            "error_x": {
             "color": "#2a3f5f"
            },
            "error_y": {
             "color": "#2a3f5f"
            },
            "marker": {
             "line": {
              "color": "white",
              "width": 0.5
             },
             "pattern": {
              "fillmode": "overlay",
              "size": 10,
              "solidity": 0.2
             }
            },
            "type": "bar"
           }
          ],
          "carpet": [
           {
            "aaxis": {
             "endlinecolor": "#2a3f5f",
             "gridcolor": "#C8D4E3",
             "linecolor": "#C8D4E3",
             "minorgridcolor": "#C8D4E3",
             "startlinecolor": "#2a3f5f"
            },
            "baxis": {
             "endlinecolor": "#2a3f5f",
             "gridcolor": "#C8D4E3",
             "linecolor": "#C8D4E3",
             "minorgridcolor": "#C8D4E3",
             "startlinecolor": "#2a3f5f"
            },
            "type": "carpet"
           }
          ],
          "choropleth": [
           {
            "colorbar": {
             "outlinewidth": 0,
             "ticks": ""
            },
            "type": "choropleth"
           }
          ],
          "contourcarpet": [
           {
            "colorbar": {
             "outlinewidth": 0,
             "ticks": ""
            },
            "type": "contourcarpet"
           }
          ],
          "contour": [
           {
            "colorbar": {
             "outlinewidth": 0,
             "ticks": ""
            },
            "colorscale": [
             [
              0.0,
              "#0d0887"
             ],
             [
              0.1111111111111111,
              "#46039f"
             ],
             [
              0.2222222222222222,
              "#7201a8"
             ],
             [
              0.3333333333333333,
              "#9c179e"
             ],
             [
              0.4444444444444444,
              "#bd3786"
             ],
             [
              0.5555555555555556,
              "#d8576b"
             ],
             [
              0.6666666666666666,
              "#ed7953"
             ],
             [
              0.7777777777777778,
              "#fb9f3a"
             ],
             [
              0.8888888888888888,
              "#fdca26"
             ],
             [
              1.0,
              "#f0f921"
             ]
            ],
            "type": "contour"
           }
          ],
          "heatmapgl": [
           {
            "colorbar": {
             "outlinewidth": 0,
             "ticks": ""
            },
            "colorscale": [
             [
              0.0,
              "#0d0887"
             ],
             [
              0.1111111111111111,
              "#46039f"
             ],
             [
              0.2222222222222222,
              "#7201a8"
             ],
             [
              0.3333333333333333,
              "#9c179e"
             ],
             [
              0.4444444444444444,
              "#bd3786"
             ],
             [
              0.5555555555555556,
              "#d8576b"
             ],
             [
              0.6666666666666666,
              "#ed7953"
             ],
             [
              0.7777777777777778,
              "#fb9f3a"
             ],
             [
              0.8888888888888888,
              "#fdca26"
             ],
             [
              1.0,
              "#f0f921"
             ]
            ],
            "type": "heatmapgl"
           }
          ],
          "heatmap": [
           {
            "colorbar": {
             "outlinewidth": 0,
             "ticks": ""
            },
            "colorscale": [
             [
              0.0,
              "#0d0887"
             ],
             [
              0.1111111111111111,
              "#46039f"
             ],
             [
              0.2222222222222222,
              "#7201a8"
             ],
             [
              0.3333333333333333,
              "#9c179e"
             ],
             [
              0.4444444444444444,
              "#bd3786"
             ],
             [
              0.5555555555555556,
              "#d8576b"
             ],
             [
              0.6666666666666666,
              "#ed7953"
             ],
             [
              0.7777777777777778,
              "#fb9f3a"
             ],
             [
              0.8888888888888888,
              "#fdca26"
             ],
             [
              1.0,
              "#f0f921"
             ]
            ],
            "type": "heatmap"
           }
          ],
          "histogram2dcontour": [
           {
            "colorbar": {
             "outlinewidth": 0,
             "ticks": ""
            },
            "colorscale": [
             [
              0.0,
              "#0d0887"
             ],
             [
              0.1111111111111111,
              "#46039f"
             ],
             [
              0.2222222222222222,
              "#7201a8"
             ],
             [
              0.3333333333333333,
              "#9c179e"
             ],
             [
              0.4444444444444444,
              "#bd3786"
             ],
             [
              0.5555555555555556,
              "#d8576b"
             ],
             [
              0.6666666666666666,
              "#ed7953"
             ],
             [
              0.7777777777777778,
              "#fb9f3a"
             ],
             [
              0.8888888888888888,
              "#fdca26"
             ],
             [
              1.0,
              "#f0f921"
             ]
            ],
            "type": "histogram2dcontour"
           }
          ],
          "histogram2d": [
           {
            "colorbar": {
             "outlinewidth": 0,
             "ticks": ""
            },
            "colorscale": [
             [
              0.0,
              "#0d0887"
             ],
             [
              0.1111111111111111,
              "#46039f"
             ],
             [
              0.2222222222222222,
              "#7201a8"
             ],
             [
              0.3333333333333333,
              "#9c179e"
             ],
             [
              0.4444444444444444,
              "#bd3786"
             ],
             [
              0.5555555555555556,
              "#d8576b"
             ],
             [
              0.6666666666666666,
              "#ed7953"
             ],
             [
              0.7777777777777778,
              "#fb9f3a"
             ],
             [
              0.8888888888888888,
              "#fdca26"
             ],
             [
              1.0,
              "#f0f921"
             ]
            ],
            "type": "histogram2d"
           }
          ],
          "histogram": [
           {
            "marker": {
             "pattern": {
              "fillmode": "overlay",
              "size": 10,
              "solidity": 0.2
             }
            },
            "type": "histogram"
           }
          ],
          "mesh3d": [
           {
            "colorbar": {
             "outlinewidth": 0,
             "ticks": ""
            },
            "type": "mesh3d"
           }
          ],
          "parcoords": [
           {
            "line": {
             "colorbar": {
              "outlinewidth": 0,
              "ticks": ""
             }
            },
            "type": "parcoords"
           }
          ],
          "pie": [
           {
            "automargin": true,
            "type": "pie"
           }
          ],
          "scatter3d": [
           {
            "line": {
             "colorbar": {
              "outlinewidth": 0,
              "ticks": ""
             }
            },
            "marker": {
             "colorbar": {
              "outlinewidth": 0,
              "ticks": ""
             }
            },
            "type": "scatter3d"
           }
          ],
          "scattercarpet": [
           {
            "marker": {
             "colorbar": {
              "outlinewidth": 0,
              "ticks": ""
             }
            },
            "type": "scattercarpet"
           }
          ],
          "scattergeo": [
           {
            "marker": {
             "colorbar": {
              "outlinewidth": 0,
              "ticks": ""
             }
            },
            "type": "scattergeo"
           }
          ],
          "scattergl": [
           {
            "marker": {
             "colorbar": {
              "outlinewidth": 0,
              "ticks": ""
             }
            },
            "type": "scattergl"
           }
          ],
          "scattermapbox": [
           {
            "marker": {
             "colorbar": {
              "outlinewidth": 0,
              "ticks": ""
             }
            },
            "type": "scattermapbox"
           }
          ],
          "scatterpolargl": [
           {
            "marker": {
             "colorbar": {
              "outlinewidth": 0,
              "ticks": ""
             }
            },
            "type": "scatterpolargl"
           }
          ],
          "scatterpolar": [
           {
            "marker": {
             "colorbar": {
              "outlinewidth": 0,
              "ticks": ""
             }
            },
            "type": "scatterpolar"
           }
          ],
          "scatter": [
           {
            "fillpattern": {
             "fillmode": "overlay",
             "size": 10,
             "solidity": 0.2
            },
            "type": "scatter"
           }
          ],
          "scatterternary": [
           {
            "marker": {
             "colorbar": {
              "outlinewidth": 0,
              "ticks": ""
             }
            },
            "type": "scatterternary"
           }
          ],
          "surface": [
           {
            "colorbar": {
             "outlinewidth": 0,
             "ticks": ""
            },
            "colorscale": [
             [
              0.0,
              "#0d0887"
             ],
             [
              0.1111111111111111,
              "#46039f"
             ],
             [
              0.2222222222222222,
              "#7201a8"
             ],
             [
              0.3333333333333333,
              "#9c179e"
             ],
             [
              0.4444444444444444,
              "#bd3786"
             ],
             [
              0.5555555555555556,
              "#d8576b"
             ],
             [
              0.6666666666666666,
              "#ed7953"
             ],
             [
              0.7777777777777778,
              "#fb9f3a"
             ],
             [
              0.8888888888888888,
              "#fdca26"
             ],
             [
              1.0,
              "#f0f921"
             ]
            ],
            "type": "surface"
           }
          ],
          "table": [
           {
            "cells": {
             "fill": {
              "color": "#EBF0F8"
             },
             "line": {
              "color": "white"
             }
            },
            "header": {
             "fill": {
              "color": "#C8D4E3"
             },
             "line": {
              "color": "white"
             }
            },
            "type": "table"
           }
          ]
         },
         "layout": {
          "annotationdefaults": {
           "arrowcolor": "#2a3f5f",
           "arrowhead": 0,
           "arrowwidth": 1
          },
          "autotypenumbers": "strict",
          "coloraxis": {
           "colorbar": {
            "outlinewidth": 0,
            "ticks": ""
           }
          },
          "colorscale": {
           "diverging": [
            [
             0,
             "#8e0152"
            ],
            [
             0.1,
             "#c51b7d"
            ],
            [
             0.2,
             "#de77ae"
            ],
            [
             0.3,
             "#f1b6da"
            ],
            [
             0.4,
             "#fde0ef"
            ],
            [
             0.5,
             "#f7f7f7"
            ],
            [
             0.6,
             "#e6f5d0"
            ],
            [
             0.7,
             "#b8e186"
            ],
            [
             0.8,
             "#7fbc41"
            ],
            [
             0.9,
             "#4d9221"
            ],
            [
             1,
             "#276419"
            ]
           ],
           "sequential": [
            [
             0.0,
             "#0d0887"
            ],
            [
             0.1111111111111111,
             "#46039f"
            ],
            [
             0.2222222222222222,
             "#7201a8"
            ],
            [
             0.3333333333333333,
             "#9c179e"
            ],
            [
             0.4444444444444444,
             "#bd3786"
            ],
            [
             0.5555555555555556,
             "#d8576b"
            ],
            [
             0.6666666666666666,
             "#ed7953"
            ],
            [
             0.7777777777777778,
             "#fb9f3a"
            ],
            [
             0.8888888888888888,
             "#fdca26"
            ],
            [
             1.0,
             "#f0f921"
            ]
           ],
           "sequentialminus": [
            [
             0.0,
             "#0d0887"
            ],
            [
             0.1111111111111111,
             "#46039f"
            ],
            [
             0.2222222222222222,
             "#7201a8"
            ],
            [
             0.3333333333333333,
             "#9c179e"
            ],
            [
             0.4444444444444444,
             "#bd3786"
            ],
            [
             0.5555555555555556,
             "#d8576b"
            ],
            [
             0.6666666666666666,
             "#ed7953"
            ],
            [
             0.7777777777777778,
             "#fb9f3a"
            ],
            [
             0.8888888888888888,
             "#fdca26"
            ],
            [
             1.0,
             "#f0f921"
            ]
           ]
          },
          "colorway": [
           "#636efa",
           "#EF553B",
           "#00cc96",
           "#ab63fa",
           "#FFA15A",
           "#19d3f3",
           "#FF6692",
           "#B6E880",
           "#FF97FF",
           "#FECB52"
          ],
          "font": {
           "color": "#2a3f5f"
          },
          "geo": {
           "bgcolor": "white",
           "lakecolor": "white",
           "landcolor": "white",
           "showlakes": true,
           "showland": true,
           "subunitcolor": "#C8D4E3"
          },
          "hoverlabel": {
           "align": "left"
          },
          "hovermode": "closest",
          "mapbox": {
           "style": "light"
          },
          "paper_bgcolor": "white",
          "plot_bgcolor": "white",
          "polar": {
           "angularaxis": {
            "gridcolor": "#EBF0F8",
            "linecolor": "#EBF0F8",
            "ticks": ""
           },
           "bgcolor": "white",
           "radialaxis": {
            "gridcolor": "#EBF0F8",
            "linecolor": "#EBF0F8",
            "ticks": ""
           }
          },
          "scene": {
           "xaxis": {
            "backgroundcolor": "white",
            "gridcolor": "#DFE8F3",
            "gridwidth": 2,
            "linecolor": "#EBF0F8",
            "showbackground": true,
            "ticks": "",
            "zerolinecolor": "#EBF0F8"
           },
           "yaxis": {
            "backgroundcolor": "white",
            "gridcolor": "#DFE8F3",
            "gridwidth": 2,
            "linecolor": "#EBF0F8",
            "showbackground": true,
            "ticks": "",
            "zerolinecolor": "#EBF0F8"
           },
           "zaxis": {
            "backgroundcolor": "white",
            "gridcolor": "#DFE8F3",
            "gridwidth": 2,
            "linecolor": "#EBF0F8",
            "showbackground": true,
            "ticks": "",
            "zerolinecolor": "#EBF0F8"
           }
          },
          "shapedefaults": {
           "line": {
            "color": "#2a3f5f"
           }
          },
          "ternary": {
           "aaxis": {
            "gridcolor": "#DFE8F3",
            "linecolor": "#A2B1C6",
            "ticks": ""
           },
           "baxis": {
            "gridcolor": "#DFE8F3",
            "linecolor": "#A2B1C6",
            "ticks": ""
           },
           "bgcolor": "white",
           "caxis": {
            "gridcolor": "#DFE8F3",
            "linecolor": "#A2B1C6",
            "ticks": ""
           }
          },
          "title": {
           "x": 0.05
          },
          "xaxis": {
           "automargin": true,
           "gridcolor": "#EBF0F8",
           "linecolor": "#EBF0F8",
           "ticks": "",
           "title": {
            "standoff": 15
           },
           "zerolinecolor": "#EBF0F8",
           "zerolinewidth": 2
          },
          "yaxis": {
           "automargin": true,
           "gridcolor": "#EBF0F8",
           "linecolor": "#EBF0F8",
           "ticks": "",
           "title": {
            "standoff": 15
           },
           "zerolinecolor": "#EBF0F8",
           "zerolinewidth": 2
          }
         }
        },
        "xaxis": {
         "anchor": "y",
         "domain": [
          0.0,
          0.2888888888888889
         ]
        },
        "yaxis": {
         "anchor": "x",
         "domain": [
          0.0,
          1.0
         ]
        },
        "xaxis2": {
         "anchor": "y2",
         "domain": [
          0.35555555555555557,
          0.6444444444444445
         ]
        },
        "yaxis2": {
         "anchor": "x2",
         "domain": [
          0.0,
          1.0
         ]
        },
        "xaxis3": {
         "anchor": "y3",
         "domain": [
          0.7111111111111111,
          1.0
         ]
        },
        "yaxis3": {
         "anchor": "x3",
         "domain": [
          0.0,
          1.0
         ]
        },
        "annotations": [
         {
          "font": {
           "size": 16
          },
          "showarrow": false,
          "text": "F1 Score",
          "x": 0.14444444444444446,
          "xanchor": "center",
          "xref": "paper",
          "y": 1.0,
          "yanchor": "bottom",
          "yref": "paper"
         },
         {
          "font": {
           "size": 16
          },
          "showarrow": false,
          "text": "Area under ROC curve",
          "x": 0.5,
          "xanchor": "center",
          "xref": "paper",
          "y": 1.0,
          "yanchor": "bottom",
          "yref": "paper"
         },
         {
          "font": {
           "size": 16
          },
          "showarrow": false,
          "text": "Area under PR curve",
          "x": 0.8555555555555556,
          "xanchor": "center",
          "xref": "paper",
          "y": 1.0,
          "yanchor": "bottom",
          "yref": "paper"
         }
        ],
        "title": {
         "text": "Strojenie parametru K",
         "x": 0.5
        },
        "showlegend": true
       },
       "config": {
        "plotlyServerURL": "https://plot.ly"
       }
      },
      "text/html": "<div>                            <div id=\"4668bd85-6d0e-46fc-8f42-a07e739933ca\" class=\"plotly-graph-div\" style=\"height:525px; width:100%;\"></div>            <script type=\"text/javascript\">                require([\"plotly\"], function(Plotly) {                    window.PLOTLYENV=window.PLOTLYENV || {};                                    if (document.getElementById(\"4668bd85-6d0e-46fc-8f42-a07e739933ca\")) {                    Plotly.newPlot(                        \"4668bd85-6d0e-46fc-8f42-a07e739933ca\",                        [{\"name\":\"mtat-10\",\"x\":[1,2,3,4,5,6,7,8,9,10,11,12,13,14,15],\"y\":[0.605759153272762,0.6369788519102535,0.620556894401617,0.6468901344599332,0.626241334480594,0.6448757447028262,0.6200546904401962,0.6370335076782748,0.6123394218359743,0.6355423742752198,0.6130415121970956,0.6297675982425921,0.6133664377827179,0.6290239826148971,0.6152757057222258],\"type\":\"scatter\",\"xaxis\":\"x\",\"yaxis\":\"y\"},{\"name\":\"mtat-20\",\"x\":[1,2,3,4,5,6,7,8,9,10,11,12,13,14,15],\"y\":[0.5092414005727386,0.5342988258527276,0.5189047353334939,0.5489157276828789,0.5121066641160071,0.5374802309654734,0.4980747075431508,0.5244239990838141,0.4946724812487311,0.5222325700757346,0.4908283997923929,0.5106631838123643,0.4860378680285343,0.5034515779416587,0.48060538294575084],\"type\":\"scatter\",\"xaxis\":\"x\",\"yaxis\":\"y\"},{\"name\":\"mtat-10\",\"x\":[1,2,3,4,5,6,7,8,9,10,11,12,13,14,15],\"y\":[0.7590682338334123,0.8221334660653887,0.8470263917561633,0.8638845472415289,0.8743510462213685,0.879716284949763,0.8851087180526997,0.8876268852098181,0.890648291907357,0.8949415038206545,0.8975963433244954,0.898598888287385,0.8999855600215669,0.9017658384677304,0.9025329274793721],\"type\":\"scatter\",\"xaxis\":\"x2\",\"yaxis\":\"y2\"},{\"name\":\"mtat-20\",\"x\":[1,2,3,4,5,6,7,8,9,10,11,12,13,14,15],\"y\":[0.7263190351097202,0.7850713106552261,0.8194215881321846,0.8409681180516916,0.851773717130085,0.8608528770916954,0.86874833236648,0.8746805027404545,0.8798493576060281,0.8842808702467673,0.8867972227401808,0.8889838525412139,0.8913139576069433,0.8927162304430881,0.8942815376924387],\"type\":\"scatter\",\"xaxis\":\"x2\",\"yaxis\":\"y2\"},{\"name\":\"mtat-10\",\"x\":[1,2,3,4,5,6,7,8,9,10,11,12,13,14,15],\"y\":[0.45863637649848804,0.5562118326179821,0.5940487320755298,0.6208040791974299,0.6348991300317705,0.6450809172718717,0.656168315299455,0.6611909829336735,0.6652480733111714,0.6713041223804807,0.6741040105727708,0.6778232491640777,0.6807879274187707,0.683847603406463,0.6870347680342299],\"type\":\"scatter\",\"xaxis\":\"x3\",\"yaxis\":\"y3\"},{\"name\":\"mtat-20\",\"x\":[1,2,3,4,5,6,7,8,9,10,11,12,13,14,15],\"y\":[0.34305342028592983,0.4207647825956829,0.4650238053264618,0.4929361051785528,0.5083503761507262,0.5194199137367893,0.529736995292575,0.5374535635835314,0.5463046517580619,0.5530769110899866,0.5573313875772612,0.5568296002861699,0.5606027251551662,0.5621855294909527,0.5637910509062004],\"type\":\"scatter\",\"xaxis\":\"x3\",\"yaxis\":\"y3\"}],                        {\"template\":{\"data\":{\"barpolar\":[{\"marker\":{\"line\":{\"color\":\"white\",\"width\":0.5},\"pattern\":{\"fillmode\":\"overlay\",\"size\":10,\"solidity\":0.2}},\"type\":\"barpolar\"}],\"bar\":[{\"error_x\":{\"color\":\"#2a3f5f\"},\"error_y\":{\"color\":\"#2a3f5f\"},\"marker\":{\"line\":{\"color\":\"white\",\"width\":0.5},\"pattern\":{\"fillmode\":\"overlay\",\"size\":10,\"solidity\":0.2}},\"type\":\"bar\"}],\"carpet\":[{\"aaxis\":{\"endlinecolor\":\"#2a3f5f\",\"gridcolor\":\"#C8D4E3\",\"linecolor\":\"#C8D4E3\",\"minorgridcolor\":\"#C8D4E3\",\"startlinecolor\":\"#2a3f5f\"},\"baxis\":{\"endlinecolor\":\"#2a3f5f\",\"gridcolor\":\"#C8D4E3\",\"linecolor\":\"#C8D4E3\",\"minorgridcolor\":\"#C8D4E3\",\"startlinecolor\":\"#2a3f5f\"},\"type\":\"carpet\"}],\"choropleth\":[{\"colorbar\":{\"outlinewidth\":0,\"ticks\":\"\"},\"type\":\"choropleth\"}],\"contourcarpet\":[{\"colorbar\":{\"outlinewidth\":0,\"ticks\":\"\"},\"type\":\"contourcarpet\"}],\"contour\":[{\"colorbar\":{\"outlinewidth\":0,\"ticks\":\"\"},\"colorscale\":[[0.0,\"#0d0887\"],[0.1111111111111111,\"#46039f\"],[0.2222222222222222,\"#7201a8\"],[0.3333333333333333,\"#9c179e\"],[0.4444444444444444,\"#bd3786\"],[0.5555555555555556,\"#d8576b\"],[0.6666666666666666,\"#ed7953\"],[0.7777777777777778,\"#fb9f3a\"],[0.8888888888888888,\"#fdca26\"],[1.0,\"#f0f921\"]],\"type\":\"contour\"}],\"heatmapgl\":[{\"colorbar\":{\"outlinewidth\":0,\"ticks\":\"\"},\"colorscale\":[[0.0,\"#0d0887\"],[0.1111111111111111,\"#46039f\"],[0.2222222222222222,\"#7201a8\"],[0.3333333333333333,\"#9c179e\"],[0.4444444444444444,\"#bd3786\"],[0.5555555555555556,\"#d8576b\"],[0.6666666666666666,\"#ed7953\"],[0.7777777777777778,\"#fb9f3a\"],[0.8888888888888888,\"#fdca26\"],[1.0,\"#f0f921\"]],\"type\":\"heatmapgl\"}],\"heatmap\":[{\"colorbar\":{\"outlinewidth\":0,\"ticks\":\"\"},\"colorscale\":[[0.0,\"#0d0887\"],[0.1111111111111111,\"#46039f\"],[0.2222222222222222,\"#7201a8\"],[0.3333333333333333,\"#9c179e\"],[0.4444444444444444,\"#bd3786\"],[0.5555555555555556,\"#d8576b\"],[0.6666666666666666,\"#ed7953\"],[0.7777777777777778,\"#fb9f3a\"],[0.8888888888888888,\"#fdca26\"],[1.0,\"#f0f921\"]],\"type\":\"heatmap\"}],\"histogram2dcontour\":[{\"colorbar\":{\"outlinewidth\":0,\"ticks\":\"\"},\"colorscale\":[[0.0,\"#0d0887\"],[0.1111111111111111,\"#46039f\"],[0.2222222222222222,\"#7201a8\"],[0.3333333333333333,\"#9c179e\"],[0.4444444444444444,\"#bd3786\"],[0.5555555555555556,\"#d8576b\"],[0.6666666666666666,\"#ed7953\"],[0.7777777777777778,\"#fb9f3a\"],[0.8888888888888888,\"#fdca26\"],[1.0,\"#f0f921\"]],\"type\":\"histogram2dcontour\"}],\"histogram2d\":[{\"colorbar\":{\"outlinewidth\":0,\"ticks\":\"\"},\"colorscale\":[[0.0,\"#0d0887\"],[0.1111111111111111,\"#46039f\"],[0.2222222222222222,\"#7201a8\"],[0.3333333333333333,\"#9c179e\"],[0.4444444444444444,\"#bd3786\"],[0.5555555555555556,\"#d8576b\"],[0.6666666666666666,\"#ed7953\"],[0.7777777777777778,\"#fb9f3a\"],[0.8888888888888888,\"#fdca26\"],[1.0,\"#f0f921\"]],\"type\":\"histogram2d\"}],\"histogram\":[{\"marker\":{\"pattern\":{\"fillmode\":\"overlay\",\"size\":10,\"solidity\":0.2}},\"type\":\"histogram\"}],\"mesh3d\":[{\"colorbar\":{\"outlinewidth\":0,\"ticks\":\"\"},\"type\":\"mesh3d\"}],\"parcoords\":[{\"line\":{\"colorbar\":{\"outlinewidth\":0,\"ticks\":\"\"}},\"type\":\"parcoords\"}],\"pie\":[{\"automargin\":true,\"type\":\"pie\"}],\"scatter3d\":[{\"line\":{\"colorbar\":{\"outlinewidth\":0,\"ticks\":\"\"}},\"marker\":{\"colorbar\":{\"outlinewidth\":0,\"ticks\":\"\"}},\"type\":\"scatter3d\"}],\"scattercarpet\":[{\"marker\":{\"colorbar\":{\"outlinewidth\":0,\"ticks\":\"\"}},\"type\":\"scattercarpet\"}],\"scattergeo\":[{\"marker\":{\"colorbar\":{\"outlinewidth\":0,\"ticks\":\"\"}},\"type\":\"scattergeo\"}],\"scattergl\":[{\"marker\":{\"colorbar\":{\"outlinewidth\":0,\"ticks\":\"\"}},\"type\":\"scattergl\"}],\"scattermapbox\":[{\"marker\":{\"colorbar\":{\"outlinewidth\":0,\"ticks\":\"\"}},\"type\":\"scattermapbox\"}],\"scatterpolargl\":[{\"marker\":{\"colorbar\":{\"outlinewidth\":0,\"ticks\":\"\"}},\"type\":\"scatterpolargl\"}],\"scatterpolar\":[{\"marker\":{\"colorbar\":{\"outlinewidth\":0,\"ticks\":\"\"}},\"type\":\"scatterpolar\"}],\"scatter\":[{\"fillpattern\":{\"fillmode\":\"overlay\",\"size\":10,\"solidity\":0.2},\"type\":\"scatter\"}],\"scatterternary\":[{\"marker\":{\"colorbar\":{\"outlinewidth\":0,\"ticks\":\"\"}},\"type\":\"scatterternary\"}],\"surface\":[{\"colorbar\":{\"outlinewidth\":0,\"ticks\":\"\"},\"colorscale\":[[0.0,\"#0d0887\"],[0.1111111111111111,\"#46039f\"],[0.2222222222222222,\"#7201a8\"],[0.3333333333333333,\"#9c179e\"],[0.4444444444444444,\"#bd3786\"],[0.5555555555555556,\"#d8576b\"],[0.6666666666666666,\"#ed7953\"],[0.7777777777777778,\"#fb9f3a\"],[0.8888888888888888,\"#fdca26\"],[1.0,\"#f0f921\"]],\"type\":\"surface\"}],\"table\":[{\"cells\":{\"fill\":{\"color\":\"#EBF0F8\"},\"line\":{\"color\":\"white\"}},\"header\":{\"fill\":{\"color\":\"#C8D4E3\"},\"line\":{\"color\":\"white\"}},\"type\":\"table\"}]},\"layout\":{\"annotationdefaults\":{\"arrowcolor\":\"#2a3f5f\",\"arrowhead\":0,\"arrowwidth\":1},\"autotypenumbers\":\"strict\",\"coloraxis\":{\"colorbar\":{\"outlinewidth\":0,\"ticks\":\"\"}},\"colorscale\":{\"diverging\":[[0,\"#8e0152\"],[0.1,\"#c51b7d\"],[0.2,\"#de77ae\"],[0.3,\"#f1b6da\"],[0.4,\"#fde0ef\"],[0.5,\"#f7f7f7\"],[0.6,\"#e6f5d0\"],[0.7,\"#b8e186\"],[0.8,\"#7fbc41\"],[0.9,\"#4d9221\"],[1,\"#276419\"]],\"sequential\":[[0.0,\"#0d0887\"],[0.1111111111111111,\"#46039f\"],[0.2222222222222222,\"#7201a8\"],[0.3333333333333333,\"#9c179e\"],[0.4444444444444444,\"#bd3786\"],[0.5555555555555556,\"#d8576b\"],[0.6666666666666666,\"#ed7953\"],[0.7777777777777778,\"#fb9f3a\"],[0.8888888888888888,\"#fdca26\"],[1.0,\"#f0f921\"]],\"sequentialminus\":[[0.0,\"#0d0887\"],[0.1111111111111111,\"#46039f\"],[0.2222222222222222,\"#7201a8\"],[0.3333333333333333,\"#9c179e\"],[0.4444444444444444,\"#bd3786\"],[0.5555555555555556,\"#d8576b\"],[0.6666666666666666,\"#ed7953\"],[0.7777777777777778,\"#fb9f3a\"],[0.8888888888888888,\"#fdca26\"],[1.0,\"#f0f921\"]]},\"colorway\":[\"#636efa\",\"#EF553B\",\"#00cc96\",\"#ab63fa\",\"#FFA15A\",\"#19d3f3\",\"#FF6692\",\"#B6E880\",\"#FF97FF\",\"#FECB52\"],\"font\":{\"color\":\"#2a3f5f\"},\"geo\":{\"bgcolor\":\"white\",\"lakecolor\":\"white\",\"landcolor\":\"white\",\"showlakes\":true,\"showland\":true,\"subunitcolor\":\"#C8D4E3\"},\"hoverlabel\":{\"align\":\"left\"},\"hovermode\":\"closest\",\"mapbox\":{\"style\":\"light\"},\"paper_bgcolor\":\"white\",\"plot_bgcolor\":\"white\",\"polar\":{\"angularaxis\":{\"gridcolor\":\"#EBF0F8\",\"linecolor\":\"#EBF0F8\",\"ticks\":\"\"},\"bgcolor\":\"white\",\"radialaxis\":{\"gridcolor\":\"#EBF0F8\",\"linecolor\":\"#EBF0F8\",\"ticks\":\"\"}},\"scene\":{\"xaxis\":{\"backgroundcolor\":\"white\",\"gridcolor\":\"#DFE8F3\",\"gridwidth\":2,\"linecolor\":\"#EBF0F8\",\"showbackground\":true,\"ticks\":\"\",\"zerolinecolor\":\"#EBF0F8\"},\"yaxis\":{\"backgroundcolor\":\"white\",\"gridcolor\":\"#DFE8F3\",\"gridwidth\":2,\"linecolor\":\"#EBF0F8\",\"showbackground\":true,\"ticks\":\"\",\"zerolinecolor\":\"#EBF0F8\"},\"zaxis\":{\"backgroundcolor\":\"white\",\"gridcolor\":\"#DFE8F3\",\"gridwidth\":2,\"linecolor\":\"#EBF0F8\",\"showbackground\":true,\"ticks\":\"\",\"zerolinecolor\":\"#EBF0F8\"}},\"shapedefaults\":{\"line\":{\"color\":\"#2a3f5f\"}},\"ternary\":{\"aaxis\":{\"gridcolor\":\"#DFE8F3\",\"linecolor\":\"#A2B1C6\",\"ticks\":\"\"},\"baxis\":{\"gridcolor\":\"#DFE8F3\",\"linecolor\":\"#A2B1C6\",\"ticks\":\"\"},\"bgcolor\":\"white\",\"caxis\":{\"gridcolor\":\"#DFE8F3\",\"linecolor\":\"#A2B1C6\",\"ticks\":\"\"}},\"title\":{\"x\":0.05},\"xaxis\":{\"automargin\":true,\"gridcolor\":\"#EBF0F8\",\"linecolor\":\"#EBF0F8\",\"ticks\":\"\",\"title\":{\"standoff\":15},\"zerolinecolor\":\"#EBF0F8\",\"zerolinewidth\":2},\"yaxis\":{\"automargin\":true,\"gridcolor\":\"#EBF0F8\",\"linecolor\":\"#EBF0F8\",\"ticks\":\"\",\"title\":{\"standoff\":15},\"zerolinecolor\":\"#EBF0F8\",\"zerolinewidth\":2}}},\"xaxis\":{\"anchor\":\"y\",\"domain\":[0.0,0.2888888888888889]},\"yaxis\":{\"anchor\":\"x\",\"domain\":[0.0,1.0]},\"xaxis2\":{\"anchor\":\"y2\",\"domain\":[0.35555555555555557,0.6444444444444445]},\"yaxis2\":{\"anchor\":\"x2\",\"domain\":[0.0,1.0]},\"xaxis3\":{\"anchor\":\"y3\",\"domain\":[0.7111111111111111,1.0]},\"yaxis3\":{\"anchor\":\"x3\",\"domain\":[0.0,1.0]},\"annotations\":[{\"font\":{\"size\":16},\"showarrow\":false,\"text\":\"F1 Score\",\"x\":0.14444444444444446,\"xanchor\":\"center\",\"xref\":\"paper\",\"y\":1.0,\"yanchor\":\"bottom\",\"yref\":\"paper\"},{\"font\":{\"size\":16},\"showarrow\":false,\"text\":\"Area under ROC curve\",\"x\":0.5,\"xanchor\":\"center\",\"xref\":\"paper\",\"y\":1.0,\"yanchor\":\"bottom\",\"yref\":\"paper\"},{\"font\":{\"size\":16},\"showarrow\":false,\"text\":\"Area under PR curve\",\"x\":0.8555555555555556,\"xanchor\":\"center\",\"xref\":\"paper\",\"y\":1.0,\"yanchor\":\"bottom\",\"yref\":\"paper\"}],\"title\":{\"text\":\"Strojenie parametru K\",\"x\":0.5},\"showlegend\":true},                        {\"responsive\": true}                    ).then(function(){\n                            \nvar gd = document.getElementById('4668bd85-6d0e-46fc-8f42-a07e739933ca');\nvar x = new MutationObserver(function (mutations, observer) {{\n        var display = window.getComputedStyle(gd).display;\n        if (!display || display === 'none') {{\n            console.log([gd, 'removed!']);\n            Plotly.purge(gd);\n            observer.disconnect();\n        }}\n}});\n\n// Listen for the removal of the full notebook cells\nvar notebookContainer = gd.closest('#notebook-container');\nif (notebookContainer) {{\n    x.observe(notebookContainer, {childList: true});\n}}\n\n// Listen for the clearing of the current output cell\nvar outputEl = gd.closest('.output');\nif (outputEl) {{\n    x.observe(outputEl, {childList: true});\n}}\n\n                        })                };                });            </script>        </div>"
     },
     "metadata": {},
     "output_type": "display_data"
    }
   ],
   "source": [
    "from plotly.subplots import make_subplots\n",
    "import plotly.graph_objects as go\n",
    "\n",
    "fig = make_subplots(rows=1, cols=3, subplot_titles=['F1 Score', 'Area under ROC curve', 'Area under PR curve'])\n",
    "fig.add_trace(go.Scatter(x=df_10.index, y=df_10[\"f1_score\"], name='mtat-10'), col=1, row=1)\n",
    "fig.add_trace(go.Scatter(x=df_20.index, y=df_20[\"f1_score\"], name='mtat-20'), col=1, row=1)\n",
    "fig.add_trace(go.Scatter(x=df_10.index, y=df_10[\"auc_roc\"], name='mtat-10'), col=2, row=1)\n",
    "fig.add_trace(go.Scatter(x=df_20.index, y=df_20[\"auc_roc\"], name='mtat-20'), col=2, row=1)\n",
    "fig.add_trace(go.Scatter(x=df_10.index, y=df_10[\"auc_pr\"], name='mtat-10'), col=3, row=1)\n",
    "fig.add_trace(go.Scatter(x=df_20.index, y=df_20[\"auc_pr\"], name='mtat-20'), col=3, row=1)\n",
    "\n",
    "fig.update_layout(({\"title\": {\"text\": \"Strojenie parametru K\", \"x\": 0.5},\n",
    "                    \"showlegend\": True,\n",
    "                    \"template\": \"plotly_white\"}))\n",
    "fig.show()\n",
    "fig.write_image(\"images/fig9.png\", width=1000, height=500)"
   ],
   "metadata": {
    "collapsed": false,
    "ExecuteTime": {
     "start_time": "2023-05-02T20:49:33.342142Z",
     "end_time": "2023-05-02T20:49:33.499343Z"
    }
   }
  },
  {
   "cell_type": "code",
   "execution_count": 29,
   "outputs": [
    {
     "name": "stdout",
     "output_type": "stream",
     "text": [
      "[2023-05-02 21:00:29] Tester initialised with CUDA: False and mode: TEST\n",
      "Cannot use cuda for model, defaulting to cpu\n"
     ]
    },
    {
     "name": "stderr",
     "output_type": "stream",
     "text": [
      "100%|██████████| 14822/14822 [01:51<00:00, 133.28it/s]\n",
      "100%|██████████| 1648/1648 [00:12<00:00, 132.47it/s]\n"
     ]
    },
    {
     "name": "stdout",
     "output_type": "stream",
     "text": [
      "[2023-05-02 21:02:53] F1 Score: 0.6469\n",
      "[2023-05-02 21:02:53] AUC/ROC: 0.8639\n",
      "[2023-05-02 21:02:53] AUC/PR: 0.6208\n",
      "[2023-05-02 21:02:53] Tester initialised with CUDA: False and mode: TEST\n",
      "Cannot use cuda for model, defaulting to cpu\n"
     ]
    },
    {
     "name": "stderr",
     "output_type": "stream",
     "text": [
      "100%|██████████| 17746/17746 [02:20<00:00, 126.57it/s]\n",
      "100%|██████████| 1972/1972 [00:14<00:00, 132.50it/s]\n"
     ]
    },
    {
     "name": "stdout",
     "output_type": "stream",
     "text": [
      "[2023-05-02 21:06:33] F1 Score: 0.5489\n",
      "[2023-05-02 21:06:33] AUC/ROC: 0.8410\n",
      "[2023-05-02 21:06:33] AUC/PR: 0.4929\n"
     ]
    }
   ],
   "source": [
    "import pickle\n",
    "from components.tester import SklearnTester\n",
    "from utils.config import Config\n",
    "from sklearn.exceptions import UndefinedMetricWarning\n",
    "from sklearn.neighbors import KNeighborsClassifier\n",
    "import warnings\n",
    "warnings.simplefilter(action='ignore', category=UndefinedMetricWarning)\n",
    "\n",
    "for n in [10, 20]:\n",
    "    config = Config(model=KNeighborsClassifier(), model_filename_path=\"../models\", data_path='../data',\n",
    "                    dataset_split_path=\"../split\", dataset_name=f\"mtat-{n}\")\n",
    "    tester = SklearnTester(config)\n",
    "\n",
    "    dataset_name = f\"mtat-{n}\"\n",
    "    split_path = \"../split\"\n",
    "    features_path = \"../data/mtat/features/\"\n",
    "\n",
    "    split_path = os.path.join(split_path, dataset_name)\n",
    "    os.makedirs(split_path, exist_ok=True)\n",
    "    X_train, Y_train = create_features(split_path)\n",
    "\n",
    "    model = KNeighborsClassifier(n_neighbors=4)\n",
    "    model.fit(X_train, Y_train)\n",
    "    model_filename = os.path.join(\"../models\", model.__class__.__name__, config.dataset_name, \"model.bin\")\n",
    "    pickle.dump(model, open(model_filename, 'wb+'))\n",
    "    stats = tester.test(model)"
   ],
   "metadata": {
    "collapsed": false,
    "ExecuteTime": {
     "start_time": "2023-05-02T21:00:29.582412Z",
     "end_time": "2023-05-02T21:06:33.595341Z"
    }
   }
  },
  {
   "cell_type": "code",
   "execution_count": null,
   "outputs": [],
   "source": [],
   "metadata": {
    "collapsed": false
   }
  }
 ],
 "metadata": {
  "kernelspec": {
   "display_name": "Python 3 (ipykernel)",
   "language": "python",
   "name": "python3"
  },
  "language_info": {
   "codemirror_mode": {
    "name": "ipython",
    "version": 3
   },
   "file_extension": ".py",
   "mimetype": "text/x-python",
   "name": "python",
   "nbconvert_exporter": "python",
   "pygments_lexer": "ipython3",
   "version": "3.10.6"
  }
 },
 "nbformat": 4,
 "nbformat_minor": 1
}
