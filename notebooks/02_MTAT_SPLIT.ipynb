{
 "cells": [
  {
   "cell_type": "code",
   "execution_count": 43,
   "outputs": [
    {
     "data": {
      "text/plain": "'/mnt/c/Users/kubar/Documents/Sem7/labelthissongforme/notebooks'"
     },
     "execution_count": 43,
     "metadata": {},
     "output_type": "execute_result"
    }
   ],
   "source": [
    "%pwd"
   ],
   "metadata": {
    "collapsed": false
   }
  },
  {
   "cell_type": "code",
   "execution_count": 44,
   "outputs": [],
   "source": [
    "import numpy as np\n",
    "import pandas as pd\n",
    "import random\n",
    "import torch\n",
    "import os\n",
    "\n",
    "from sklearn.model_selection import train_test_split"
   ],
   "metadata": {
    "collapsed": false
   }
  },
  {
   "cell_type": "code",
   "execution_count": 45,
   "metadata": {},
   "outputs": [
    {
     "name": "stdout",
     "output_type": "stream",
     "text": [
      "Random seed set as 123456\n"
     ]
    }
   ],
   "source": [
    "def set_seed(seed: int = 42) -> None:\n",
    "    np.random.seed(seed)\n",
    "    random.seed(seed)\n",
    "    torch.manual_seed(seed)\n",
    "    torch.cuda.manual_seed(seed)\n",
    "    # Set a fixed value for the hash seed\n",
    "    os.environ[\"PYTHONHASHSEED\"] = str(seed)\n",
    "    print(f\"Random seed set as {seed}\")\n",
    "\n",
    "set_seed(123456)"
   ]
  },
  {
   "cell_type": "code",
   "execution_count": 46,
   "outputs": [],
   "source": [
    "split_path = \"../split/mtat/\"\n",
    "os.makedirs(split_path, exist_ok=True)\n",
    "n_tags = 50"
   ],
   "metadata": {
    "collapsed": false
   }
  },
  {
   "cell_type": "code",
   "execution_count": 47,
   "metadata": {},
   "outputs": [],
   "source": [
    "broken_tracks = [\n",
    "    \"6/norine_braun-now_and_zen-08-gently-117-146.mp3\",\n",
    "    \"8/jacob_heringman-josquin_des_prez_lute_settings-19-gintzler__pater_noster-204-233.mp3\",\n",
    "    \"9/american_baroque-dances_and_suites_of_rameau_and_couperin-25-le_petit_rien_xiveme_ordre_couperin-88-117.mp3\",\n",
    "    \"c/domased-new_memories-07-first_sun_rays-233-262.mp3\",\n",
    "    \"d/tim_rayborn-chordae-04-sempr_alegria-784-813.mp3\"\n",
    "]"
   ]
  },
  {
   "cell_type": "code",
   "execution_count": 48,
   "metadata": {},
   "outputs": [
    {
     "data": {
      "text/plain": "         no voice  singer  duet  plucking  hard rock  world  bongos  \\\nclip_id                                                               \n2               0       0     0         0          0      0       0   \n6               0       0     0         0          0      0       0   \n10              0       0     0         0          0      0       0   \n11              0       0     0         0          0      0       0   \n12              0       0     0         0          0      0       0   \n...           ...     ...   ...       ...        ...    ...     ...   \n58899           0       0     0         0          0      0       0   \n58906           0       0     0         0          0      0       0   \n58907           0       0     0         0          0      0       0   \n58908           0       0     0         0          0      0       0   \n58915           0       0     0         0          0      0       0   \n\n         harpsichord  female singing  clasical  ...  rap  metal  hip hop  \\\nclip_id                                         ...                        \n2                  0               0         0  ...    0      0        0   \n6                  0               0         0  ...    0      0        0   \n10                 0               0         0  ...    0      0        0   \n11                 0               0         0  ...    0      0        0   \n12                 0               0         0  ...    0      0        0   \n...              ...             ...       ...  ...  ...    ...      ...   \n58899              0               0         0  ...    0      0        0   \n58906              0               0         0  ...    0      0        0   \n58907              0               0         0  ...    0      0        0   \n58908              0               0         0  ...    0      0        0   \n58915              0               0         0  ...    0      0        0   \n\n         quick  water  baroque  women  fiddle  english  \\\nclip_id                                                  \n2            0      0        0      0       0        0   \n6            0      0        1      0       0        0   \n10           0      0        0      0       0        0   \n11           0      0        0      0       0        0   \n12           0      0        0      0       0        0   \n...        ...    ...      ...    ...     ...      ...   \n58899        0      0        0      0       0        0   \n58906        0      0        0      0       0        0   \n58907        0      0        0      0       0        0   \n58908        0      0        0      0       0        0   \n58915        0      0        0      0       0        0   \n\n                                                  mp3_path  \nclip_id                                                     \n2        f/american_bach_soloists-j_s__bach_solo_cantat...  \n6        f/american_bach_soloists-j_s__bach_solo_cantat...  \n10       f/american_bach_soloists-j_s__bach_solo_cantat...  \n11       f/american_bach_soloists-j_s__bach_solo_cantat...  \n12       f/american_bach_soloists-j_s__bach_solo_cantat...  \n...                                                    ...  \n58899    8/jacob_heringman-blame_not_my_lute-56-la_bres...  \n58906    8/jacob_heringman-blame_not_my_lute-57-lost_is...  \n58907    8/jacob_heringman-blame_not_my_lute-57-lost_is...  \n58908    8/jacob_heringman-blame_not_my_lute-57-lost_is...  \n58915    8/jacob_heringman-blame_not_my_lute-58-a_toy_f...  \n\n[25858 rows x 189 columns]",
      "text/html": "<div>\n<style scoped>\n    .dataframe tbody tr th:only-of-type {\n        vertical-align: middle;\n    }\n\n    .dataframe tbody tr th {\n        vertical-align: top;\n    }\n\n    .dataframe thead th {\n        text-align: right;\n    }\n</style>\n<table border=\"1\" class=\"dataframe\">\n  <thead>\n    <tr style=\"text-align: right;\">\n      <th></th>\n      <th>no voice</th>\n      <th>singer</th>\n      <th>duet</th>\n      <th>plucking</th>\n      <th>hard rock</th>\n      <th>world</th>\n      <th>bongos</th>\n      <th>harpsichord</th>\n      <th>female singing</th>\n      <th>clasical</th>\n      <th>...</th>\n      <th>rap</th>\n      <th>metal</th>\n      <th>hip hop</th>\n      <th>quick</th>\n      <th>water</th>\n      <th>baroque</th>\n      <th>women</th>\n      <th>fiddle</th>\n      <th>english</th>\n      <th>mp3_path</th>\n    </tr>\n    <tr>\n      <th>clip_id</th>\n      <th></th>\n      <th></th>\n      <th></th>\n      <th></th>\n      <th></th>\n      <th></th>\n      <th></th>\n      <th></th>\n      <th></th>\n      <th></th>\n      <th></th>\n      <th></th>\n      <th></th>\n      <th></th>\n      <th></th>\n      <th></th>\n      <th></th>\n      <th></th>\n      <th></th>\n      <th></th>\n      <th></th>\n    </tr>\n  </thead>\n  <tbody>\n    <tr>\n      <th>2</th>\n      <td>0</td>\n      <td>0</td>\n      <td>0</td>\n      <td>0</td>\n      <td>0</td>\n      <td>0</td>\n      <td>0</td>\n      <td>0</td>\n      <td>0</td>\n      <td>0</td>\n      <td>...</td>\n      <td>0</td>\n      <td>0</td>\n      <td>0</td>\n      <td>0</td>\n      <td>0</td>\n      <td>0</td>\n      <td>0</td>\n      <td>0</td>\n      <td>0</td>\n      <td>f/american_bach_soloists-j_s__bach_solo_cantat...</td>\n    </tr>\n    <tr>\n      <th>6</th>\n      <td>0</td>\n      <td>0</td>\n      <td>0</td>\n      <td>0</td>\n      <td>0</td>\n      <td>0</td>\n      <td>0</td>\n      <td>0</td>\n      <td>0</td>\n      <td>0</td>\n      <td>...</td>\n      <td>0</td>\n      <td>0</td>\n      <td>0</td>\n      <td>0</td>\n      <td>0</td>\n      <td>1</td>\n      <td>0</td>\n      <td>0</td>\n      <td>0</td>\n      <td>f/american_bach_soloists-j_s__bach_solo_cantat...</td>\n    </tr>\n    <tr>\n      <th>10</th>\n      <td>0</td>\n      <td>0</td>\n      <td>0</td>\n      <td>0</td>\n      <td>0</td>\n      <td>0</td>\n      <td>0</td>\n      <td>0</td>\n      <td>0</td>\n      <td>0</td>\n      <td>...</td>\n      <td>0</td>\n      <td>0</td>\n      <td>0</td>\n      <td>0</td>\n      <td>0</td>\n      <td>0</td>\n      <td>0</td>\n      <td>0</td>\n      <td>0</td>\n      <td>f/american_bach_soloists-j_s__bach_solo_cantat...</td>\n    </tr>\n    <tr>\n      <th>11</th>\n      <td>0</td>\n      <td>0</td>\n      <td>0</td>\n      <td>0</td>\n      <td>0</td>\n      <td>0</td>\n      <td>0</td>\n      <td>0</td>\n      <td>0</td>\n      <td>0</td>\n      <td>...</td>\n      <td>0</td>\n      <td>0</td>\n      <td>0</td>\n      <td>0</td>\n      <td>0</td>\n      <td>0</td>\n      <td>0</td>\n      <td>0</td>\n      <td>0</td>\n      <td>f/american_bach_soloists-j_s__bach_solo_cantat...</td>\n    </tr>\n    <tr>\n      <th>12</th>\n      <td>0</td>\n      <td>0</td>\n      <td>0</td>\n      <td>0</td>\n      <td>0</td>\n      <td>0</td>\n      <td>0</td>\n      <td>0</td>\n      <td>0</td>\n      <td>0</td>\n      <td>...</td>\n      <td>0</td>\n      <td>0</td>\n      <td>0</td>\n      <td>0</td>\n      <td>0</td>\n      <td>0</td>\n      <td>0</td>\n      <td>0</td>\n      <td>0</td>\n      <td>f/american_bach_soloists-j_s__bach_solo_cantat...</td>\n    </tr>\n    <tr>\n      <th>...</th>\n      <td>...</td>\n      <td>...</td>\n      <td>...</td>\n      <td>...</td>\n      <td>...</td>\n      <td>...</td>\n      <td>...</td>\n      <td>...</td>\n      <td>...</td>\n      <td>...</td>\n      <td>...</td>\n      <td>...</td>\n      <td>...</td>\n      <td>...</td>\n      <td>...</td>\n      <td>...</td>\n      <td>...</td>\n      <td>...</td>\n      <td>...</td>\n      <td>...</td>\n      <td>...</td>\n    </tr>\n    <tr>\n      <th>58899</th>\n      <td>0</td>\n      <td>0</td>\n      <td>0</td>\n      <td>0</td>\n      <td>0</td>\n      <td>0</td>\n      <td>0</td>\n      <td>0</td>\n      <td>0</td>\n      <td>0</td>\n      <td>...</td>\n      <td>0</td>\n      <td>0</td>\n      <td>0</td>\n      <td>0</td>\n      <td>0</td>\n      <td>0</td>\n      <td>0</td>\n      <td>0</td>\n      <td>0</td>\n      <td>8/jacob_heringman-blame_not_my_lute-56-la_bres...</td>\n    </tr>\n    <tr>\n      <th>58906</th>\n      <td>0</td>\n      <td>0</td>\n      <td>0</td>\n      <td>0</td>\n      <td>0</td>\n      <td>0</td>\n      <td>0</td>\n      <td>0</td>\n      <td>0</td>\n      <td>0</td>\n      <td>...</td>\n      <td>0</td>\n      <td>0</td>\n      <td>0</td>\n      <td>0</td>\n      <td>0</td>\n      <td>0</td>\n      <td>0</td>\n      <td>0</td>\n      <td>0</td>\n      <td>8/jacob_heringman-blame_not_my_lute-57-lost_is...</td>\n    </tr>\n    <tr>\n      <th>58907</th>\n      <td>0</td>\n      <td>0</td>\n      <td>0</td>\n      <td>0</td>\n      <td>0</td>\n      <td>0</td>\n      <td>0</td>\n      <td>0</td>\n      <td>0</td>\n      <td>0</td>\n      <td>...</td>\n      <td>0</td>\n      <td>0</td>\n      <td>0</td>\n      <td>0</td>\n      <td>0</td>\n      <td>0</td>\n      <td>0</td>\n      <td>0</td>\n      <td>0</td>\n      <td>8/jacob_heringman-blame_not_my_lute-57-lost_is...</td>\n    </tr>\n    <tr>\n      <th>58908</th>\n      <td>0</td>\n      <td>0</td>\n      <td>0</td>\n      <td>0</td>\n      <td>0</td>\n      <td>0</td>\n      <td>0</td>\n      <td>0</td>\n      <td>0</td>\n      <td>0</td>\n      <td>...</td>\n      <td>0</td>\n      <td>0</td>\n      <td>0</td>\n      <td>0</td>\n      <td>0</td>\n      <td>0</td>\n      <td>0</td>\n      <td>0</td>\n      <td>0</td>\n      <td>8/jacob_heringman-blame_not_my_lute-57-lost_is...</td>\n    </tr>\n    <tr>\n      <th>58915</th>\n      <td>0</td>\n      <td>0</td>\n      <td>0</td>\n      <td>0</td>\n      <td>0</td>\n      <td>0</td>\n      <td>0</td>\n      <td>0</td>\n      <td>0</td>\n      <td>0</td>\n      <td>...</td>\n      <td>0</td>\n      <td>0</td>\n      <td>0</td>\n      <td>0</td>\n      <td>0</td>\n      <td>0</td>\n      <td>0</td>\n      <td>0</td>\n      <td>0</td>\n      <td>8/jacob_heringman-blame_not_my_lute-58-a_toy_f...</td>\n    </tr>\n  </tbody>\n</table>\n<p>25858 rows × 189 columns</p>\n</div>"
     },
     "execution_count": 48,
     "metadata": {},
     "output_type": "execute_result"
    }
   ],
   "source": [
    "adnotations = pd.read_csv('../data/mtat/annotations_final.csv', sep='\\t', index_col=\"clip_id\")\n",
    "adnotations = adnotations[~adnotations[\"mp3_path\"].isin(broken_tracks)]\n",
    "adnotations"
   ]
  },
  {
   "cell_type": "code",
   "execution_count": 49,
   "metadata": {},
   "outputs": [
    {
     "data": {
      "text/plain": "       clip_id  track_number                    title                  artist  \\\n0            2             1           BWV54 - I Aria  American Bach Soloists   \n1            6             1           BWV54 - I Aria  American Bach Soloists   \n2           10             1           BWV54 - I Aria  American Bach Soloists   \n3           11             1           BWV54 - I Aria  American Bach Soloists   \n4           12             1           BWV54 - I Aria  American Bach Soloists   \n...        ...           ...                      ...                     ...   \n31377    58899            56            La Bressanina         Jacob Heringman   \n31378    58906            57       Lost is my Lyberty         Jacob Heringman   \n31379    58907            57       Lost is my Lyberty         Jacob Heringman   \n31380    58908            57       Lost is my Lyberty         Jacob Heringman   \n31381    58915            58  A Toy for Monica Bishop         Jacob Heringman   \n\n                         album  \\\n0      J.S. Bach Solo Cantatas   \n1      J.S. Bach Solo Cantatas   \n2      J.S. Bach Solo Cantatas   \n3      J.S. Bach Solo Cantatas   \n4      J.S. Bach Solo Cantatas   \n...                        ...   \n31377        Blame Not My Lute   \n31378        Blame Not My Lute   \n31379        Blame Not My Lute   \n31380        Blame Not My Lute   \n31381        Blame Not My Lute   \n\n                                                     url  segmentStart  \\\n0      http://www.magnatune.com/artists/albums/abs-so...            30   \n1      http://www.magnatune.com/artists/albums/abs-so...           146   \n2      http://www.magnatune.com/artists/albums/abs-so...           262   \n3      http://www.magnatune.com/artists/albums/abs-so...           291   \n4      http://www.magnatune.com/artists/albums/abs-so...           320   \n...                                                  ...           ...   \n31377  http://www.magnatune.com/artists/albums/hering...            88   \n31378  http://www.magnatune.com/artists/albums/hering...             0   \n31379  http://www.magnatune.com/artists/albums/hering...            30   \n31380  http://www.magnatune.com/artists/albums/hering...            59   \n31381  http://www.magnatune.com/artists/albums/hering...             0   \n\n       segmentEnd                                       original_url  \\\n0              59  http://he3.magnatune.com/all/01--BWV54%20-%20I...   \n1             175  http://he3.magnatune.com/all/01--BWV54%20-%20I...   \n2             291  http://he3.magnatune.com/all/01--BWV54%20-%20I...   \n3             320  http://he3.magnatune.com/all/01--BWV54%20-%20I...   \n4             349  http://he3.magnatune.com/all/01--BWV54%20-%20I...   \n...           ...                                                ...   \n31377         117  http://he3.magnatune.com/all/56-La%20Bressanin...   \n31378          29  http://he3.magnatune.com/all/57-Lost%20is%20my...   \n31379          59  http://he3.magnatune.com/all/57-Lost%20is%20my...   \n31380          88  http://he3.magnatune.com/all/57-Lost%20is%20my...   \n31381          29  http://he3.magnatune.com/all/58-A%20Toy%20for%...   \n\n                                                mp3_path  \n0      f/american_bach_soloists-j_s__bach_solo_cantat...  \n1      f/american_bach_soloists-j_s__bach_solo_cantat...  \n2      f/american_bach_soloists-j_s__bach_solo_cantat...  \n3      f/american_bach_soloists-j_s__bach_solo_cantat...  \n4      f/american_bach_soloists-j_s__bach_solo_cantat...  \n...                                                  ...  \n31377  8/jacob_heringman-blame_not_my_lute-56-la_bres...  \n31378  8/jacob_heringman-blame_not_my_lute-57-lost_is...  \n31379  8/jacob_heringman-blame_not_my_lute-57-lost_is...  \n31380  8/jacob_heringman-blame_not_my_lute-57-lost_is...  \n31381  8/jacob_heringman-blame_not_my_lute-58-a_toy_f...  \n\n[31382 rows x 10 columns]",
      "text/html": "<div>\n<style scoped>\n    .dataframe tbody tr th:only-of-type {\n        vertical-align: middle;\n    }\n\n    .dataframe tbody tr th {\n        vertical-align: top;\n    }\n\n    .dataframe thead th {\n        text-align: right;\n    }\n</style>\n<table border=\"1\" class=\"dataframe\">\n  <thead>\n    <tr style=\"text-align: right;\">\n      <th></th>\n      <th>clip_id</th>\n      <th>track_number</th>\n      <th>title</th>\n      <th>artist</th>\n      <th>album</th>\n      <th>url</th>\n      <th>segmentStart</th>\n      <th>segmentEnd</th>\n      <th>original_url</th>\n      <th>mp3_path</th>\n    </tr>\n  </thead>\n  <tbody>\n    <tr>\n      <th>0</th>\n      <td>2</td>\n      <td>1</td>\n      <td>BWV54 - I Aria</td>\n      <td>American Bach Soloists</td>\n      <td>J.S. Bach Solo Cantatas</td>\n      <td>http://www.magnatune.com/artists/albums/abs-so...</td>\n      <td>30</td>\n      <td>59</td>\n      <td>http://he3.magnatune.com/all/01--BWV54%20-%20I...</td>\n      <td>f/american_bach_soloists-j_s__bach_solo_cantat...</td>\n    </tr>\n    <tr>\n      <th>1</th>\n      <td>6</td>\n      <td>1</td>\n      <td>BWV54 - I Aria</td>\n      <td>American Bach Soloists</td>\n      <td>J.S. Bach Solo Cantatas</td>\n      <td>http://www.magnatune.com/artists/albums/abs-so...</td>\n      <td>146</td>\n      <td>175</td>\n      <td>http://he3.magnatune.com/all/01--BWV54%20-%20I...</td>\n      <td>f/american_bach_soloists-j_s__bach_solo_cantat...</td>\n    </tr>\n    <tr>\n      <th>2</th>\n      <td>10</td>\n      <td>1</td>\n      <td>BWV54 - I Aria</td>\n      <td>American Bach Soloists</td>\n      <td>J.S. Bach Solo Cantatas</td>\n      <td>http://www.magnatune.com/artists/albums/abs-so...</td>\n      <td>262</td>\n      <td>291</td>\n      <td>http://he3.magnatune.com/all/01--BWV54%20-%20I...</td>\n      <td>f/american_bach_soloists-j_s__bach_solo_cantat...</td>\n    </tr>\n    <tr>\n      <th>3</th>\n      <td>11</td>\n      <td>1</td>\n      <td>BWV54 - I Aria</td>\n      <td>American Bach Soloists</td>\n      <td>J.S. Bach Solo Cantatas</td>\n      <td>http://www.magnatune.com/artists/albums/abs-so...</td>\n      <td>291</td>\n      <td>320</td>\n      <td>http://he3.magnatune.com/all/01--BWV54%20-%20I...</td>\n      <td>f/american_bach_soloists-j_s__bach_solo_cantat...</td>\n    </tr>\n    <tr>\n      <th>4</th>\n      <td>12</td>\n      <td>1</td>\n      <td>BWV54 - I Aria</td>\n      <td>American Bach Soloists</td>\n      <td>J.S. Bach Solo Cantatas</td>\n      <td>http://www.magnatune.com/artists/albums/abs-so...</td>\n      <td>320</td>\n      <td>349</td>\n      <td>http://he3.magnatune.com/all/01--BWV54%20-%20I...</td>\n      <td>f/american_bach_soloists-j_s__bach_solo_cantat...</td>\n    </tr>\n    <tr>\n      <th>...</th>\n      <td>...</td>\n      <td>...</td>\n      <td>...</td>\n      <td>...</td>\n      <td>...</td>\n      <td>...</td>\n      <td>...</td>\n      <td>...</td>\n      <td>...</td>\n      <td>...</td>\n    </tr>\n    <tr>\n      <th>31377</th>\n      <td>58899</td>\n      <td>56</td>\n      <td>La Bressanina</td>\n      <td>Jacob Heringman</td>\n      <td>Blame Not My Lute</td>\n      <td>http://www.magnatune.com/artists/albums/hering...</td>\n      <td>88</td>\n      <td>117</td>\n      <td>http://he3.magnatune.com/all/56-La%20Bressanin...</td>\n      <td>8/jacob_heringman-blame_not_my_lute-56-la_bres...</td>\n    </tr>\n    <tr>\n      <th>31378</th>\n      <td>58906</td>\n      <td>57</td>\n      <td>Lost is my Lyberty</td>\n      <td>Jacob Heringman</td>\n      <td>Blame Not My Lute</td>\n      <td>http://www.magnatune.com/artists/albums/hering...</td>\n      <td>0</td>\n      <td>29</td>\n      <td>http://he3.magnatune.com/all/57-Lost%20is%20my...</td>\n      <td>8/jacob_heringman-blame_not_my_lute-57-lost_is...</td>\n    </tr>\n    <tr>\n      <th>31379</th>\n      <td>58907</td>\n      <td>57</td>\n      <td>Lost is my Lyberty</td>\n      <td>Jacob Heringman</td>\n      <td>Blame Not My Lute</td>\n      <td>http://www.magnatune.com/artists/albums/hering...</td>\n      <td>30</td>\n      <td>59</td>\n      <td>http://he3.magnatune.com/all/57-Lost%20is%20my...</td>\n      <td>8/jacob_heringman-blame_not_my_lute-57-lost_is...</td>\n    </tr>\n    <tr>\n      <th>31380</th>\n      <td>58908</td>\n      <td>57</td>\n      <td>Lost is my Lyberty</td>\n      <td>Jacob Heringman</td>\n      <td>Blame Not My Lute</td>\n      <td>http://www.magnatune.com/artists/albums/hering...</td>\n      <td>59</td>\n      <td>88</td>\n      <td>http://he3.magnatune.com/all/57-Lost%20is%20my...</td>\n      <td>8/jacob_heringman-blame_not_my_lute-57-lost_is...</td>\n    </tr>\n    <tr>\n      <th>31381</th>\n      <td>58915</td>\n      <td>58</td>\n      <td>A Toy for Monica Bishop</td>\n      <td>Jacob Heringman</td>\n      <td>Blame Not My Lute</td>\n      <td>http://www.magnatune.com/artists/albums/hering...</td>\n      <td>0</td>\n      <td>29</td>\n      <td>http://he3.magnatune.com/all/58-A%20Toy%20for%...</td>\n      <td>8/jacob_heringman-blame_not_my_lute-58-a_toy_f...</td>\n    </tr>\n  </tbody>\n</table>\n<p>31382 rows × 10 columns</p>\n</div>"
     },
     "execution_count": 49,
     "metadata": {},
     "output_type": "execute_result"
    }
   ],
   "source": [
    "clip_info = pd.read_csv('../data/mtat/clip_info_final.csv', sep='\\t')\n",
    "clip_info"
   ]
  },
  {
   "cell_type": "markdown",
   "metadata": {},
   "source": [
    "# n tags with the largest quantity in dataset"
   ]
  },
  {
   "cell_type": "code",
   "execution_count": 50,
   "metadata": {},
   "outputs": [
    {
     "data": {
      "text/plain": "guitar          4851\nclassical       4269\nslow            3547\ntechno          2953\nstrings         2726\ndrums           2598\nelectronic      2519\nrock            2371\nfast            2304\npiano           2056\nambient         1956\nbeat            1906\nviolin          1826\nvocal           1729\nsynth           1716\nfemale          1474\nindian          1395\nopera           1296\nmale            1279\nsinging         1211\nvocals          1184\nno vocals       1158\nharpsichord     1092\nloud            1086\nquiet           1055\nflute           1024\nwoman           1016\nmale vocal      1002\nno vocal         995\npop              995\nsoft             985\nsitar            925\nsolo             826\nman              741\nclassic          690\nchoir            688\nvoice            665\nnew age          650\ndance            649\nmale voice       644\nfemale vocal     644\nbeats            634\nharp             621\ncello            575\nno voice         573\nweird            557\ncountry          541\nfemale voice     505\nmetal            505\nchoral           490\ndtype: int64"
     },
     "execution_count": 50,
     "metadata": {},
     "output_type": "execute_result"
    }
   ],
   "source": [
    "tags = adnotations.filter(regex='[^mp3_path]').sum().nlargest(n_tags)\n",
    "tags"
   ]
  },
  {
   "cell_type": "code",
   "execution_count": 51,
   "metadata": {},
   "outputs": [
    {
     "data": {
      "text/plain": "array(['guitar', 'classical', 'slow', 'techno', 'strings', 'drums',\n       'electronic', 'rock', 'fast', 'piano', 'ambient', 'beat', 'violin',\n       'vocal', 'synth', 'female', 'indian', 'opera', 'male', 'singing',\n       'vocals', 'no vocals', 'harpsichord', 'loud', 'quiet', 'flute',\n       'woman', 'male vocal', 'no vocal', 'pop', 'soft', 'sitar', 'solo',\n       'man', 'classic', 'choir', 'voice', 'new age', 'dance',\n       'male voice', 'female vocal', 'beats', 'harp', 'cello', 'no voice',\n       'weird', 'country', 'female voice', 'metal', 'choral'],\n      dtype='<U12')"
     },
     "execution_count": 51,
     "metadata": {},
     "output_type": "execute_result"
    }
   ],
   "source": [
    "tags = tags.keys().to_numpy('str')\n",
    "np.save(os.path.join(split_path, 'tags.npy'), tags)\n",
    "tags"
   ]
  },
  {
   "cell_type": "markdown",
   "metadata": {},
   "source": [
    "# Binary tags"
   ]
  },
  {
   "cell_type": "code",
   "execution_count": 52,
   "metadata": {},
   "outputs": [
    {
     "data": {
      "text/plain": "         guitar  classical  slow  techno  strings  drums  electronic  rock  \\\nclip_id                                                                      \n2             0          1     0       0        1      0           0     0   \n6             0          1     0       0        1      0           0     0   \n10            0          1     0       0        0      0           0     0   \n11            0          0     0       0        0      0           0     0   \n12            0          1     0       0        1      0           0     0   \n...         ...        ...   ...     ...      ...    ...         ...   ...   \n58899         1          0     0       0        0      0           0     0   \n58906         1          0     1       0        1      0           0     0   \n58907         1          1     1       0        1      0           0     0   \n58908         1          1     1       0        0      0           0     0   \n58915         1          1     1       0        0      0           0     0   \n\n         fast  piano  ...  female vocal  beats  harp  cello  no voice  weird  \\\nclip_id               ...                                                      \n2           0      0  ...             0      0     0      0         0      0   \n6           0      0  ...             0      0     0      0         0      0   \n10          0      0  ...             0      0     0      0         0      0   \n11          0      0  ...             0      0     0      0         0      0   \n12          0      0  ...             0      0     0      0         0      0   \n...       ...    ...  ...           ...    ...   ...    ...       ...    ...   \n58899       0      0  ...             0      0     0      0         0      0   \n58906       0      0  ...             0      0     1      0         0      0   \n58907       0      0  ...             0      0     0      0         0      0   \n58908       0      0  ...             0      0     0      0         0      0   \n58915       0      0  ...             0      0     0      0         0      0   \n\n         country  female voice  metal  choral  \nclip_id                                        \n2              0             0      0       0  \n6              0             0      0       0  \n10             0             0      0       0  \n11             0             0      0       0  \n12             0             0      0       0  \n...          ...           ...    ...     ...  \n58899          0             0      0       0  \n58906          0             0      0       0  \n58907          0             0      0       0  \n58908          0             0      0       0  \n58915          0             0      0       0  \n\n[25858 rows x 50 columns]",
      "text/html": "<div>\n<style scoped>\n    .dataframe tbody tr th:only-of-type {\n        vertical-align: middle;\n    }\n\n    .dataframe tbody tr th {\n        vertical-align: top;\n    }\n\n    .dataframe thead th {\n        text-align: right;\n    }\n</style>\n<table border=\"1\" class=\"dataframe\">\n  <thead>\n    <tr style=\"text-align: right;\">\n      <th></th>\n      <th>guitar</th>\n      <th>classical</th>\n      <th>slow</th>\n      <th>techno</th>\n      <th>strings</th>\n      <th>drums</th>\n      <th>electronic</th>\n      <th>rock</th>\n      <th>fast</th>\n      <th>piano</th>\n      <th>...</th>\n      <th>female vocal</th>\n      <th>beats</th>\n      <th>harp</th>\n      <th>cello</th>\n      <th>no voice</th>\n      <th>weird</th>\n      <th>country</th>\n      <th>female voice</th>\n      <th>metal</th>\n      <th>choral</th>\n    </tr>\n    <tr>\n      <th>clip_id</th>\n      <th></th>\n      <th></th>\n      <th></th>\n      <th></th>\n      <th></th>\n      <th></th>\n      <th></th>\n      <th></th>\n      <th></th>\n      <th></th>\n      <th></th>\n      <th></th>\n      <th></th>\n      <th></th>\n      <th></th>\n      <th></th>\n      <th></th>\n      <th></th>\n      <th></th>\n      <th></th>\n      <th></th>\n    </tr>\n  </thead>\n  <tbody>\n    <tr>\n      <th>2</th>\n      <td>0</td>\n      <td>1</td>\n      <td>0</td>\n      <td>0</td>\n      <td>1</td>\n      <td>0</td>\n      <td>0</td>\n      <td>0</td>\n      <td>0</td>\n      <td>0</td>\n      <td>...</td>\n      <td>0</td>\n      <td>0</td>\n      <td>0</td>\n      <td>0</td>\n      <td>0</td>\n      <td>0</td>\n      <td>0</td>\n      <td>0</td>\n      <td>0</td>\n      <td>0</td>\n    </tr>\n    <tr>\n      <th>6</th>\n      <td>0</td>\n      <td>1</td>\n      <td>0</td>\n      <td>0</td>\n      <td>1</td>\n      <td>0</td>\n      <td>0</td>\n      <td>0</td>\n      <td>0</td>\n      <td>0</td>\n      <td>...</td>\n      <td>0</td>\n      <td>0</td>\n      <td>0</td>\n      <td>0</td>\n      <td>0</td>\n      <td>0</td>\n      <td>0</td>\n      <td>0</td>\n      <td>0</td>\n      <td>0</td>\n    </tr>\n    <tr>\n      <th>10</th>\n      <td>0</td>\n      <td>1</td>\n      <td>0</td>\n      <td>0</td>\n      <td>0</td>\n      <td>0</td>\n      <td>0</td>\n      <td>0</td>\n      <td>0</td>\n      <td>0</td>\n      <td>...</td>\n      <td>0</td>\n      <td>0</td>\n      <td>0</td>\n      <td>0</td>\n      <td>0</td>\n      <td>0</td>\n      <td>0</td>\n      <td>0</td>\n      <td>0</td>\n      <td>0</td>\n    </tr>\n    <tr>\n      <th>11</th>\n      <td>0</td>\n      <td>0</td>\n      <td>0</td>\n      <td>0</td>\n      <td>0</td>\n      <td>0</td>\n      <td>0</td>\n      <td>0</td>\n      <td>0</td>\n      <td>0</td>\n      <td>...</td>\n      <td>0</td>\n      <td>0</td>\n      <td>0</td>\n      <td>0</td>\n      <td>0</td>\n      <td>0</td>\n      <td>0</td>\n      <td>0</td>\n      <td>0</td>\n      <td>0</td>\n    </tr>\n    <tr>\n      <th>12</th>\n      <td>0</td>\n      <td>1</td>\n      <td>0</td>\n      <td>0</td>\n      <td>1</td>\n      <td>0</td>\n      <td>0</td>\n      <td>0</td>\n      <td>0</td>\n      <td>0</td>\n      <td>...</td>\n      <td>0</td>\n      <td>0</td>\n      <td>0</td>\n      <td>0</td>\n      <td>0</td>\n      <td>0</td>\n      <td>0</td>\n      <td>0</td>\n      <td>0</td>\n      <td>0</td>\n    </tr>\n    <tr>\n      <th>...</th>\n      <td>...</td>\n      <td>...</td>\n      <td>...</td>\n      <td>...</td>\n      <td>...</td>\n      <td>...</td>\n      <td>...</td>\n      <td>...</td>\n      <td>...</td>\n      <td>...</td>\n      <td>...</td>\n      <td>...</td>\n      <td>...</td>\n      <td>...</td>\n      <td>...</td>\n      <td>...</td>\n      <td>...</td>\n      <td>...</td>\n      <td>...</td>\n      <td>...</td>\n      <td>...</td>\n    </tr>\n    <tr>\n      <th>58899</th>\n      <td>1</td>\n      <td>0</td>\n      <td>0</td>\n      <td>0</td>\n      <td>0</td>\n      <td>0</td>\n      <td>0</td>\n      <td>0</td>\n      <td>0</td>\n      <td>0</td>\n      <td>...</td>\n      <td>0</td>\n      <td>0</td>\n      <td>0</td>\n      <td>0</td>\n      <td>0</td>\n      <td>0</td>\n      <td>0</td>\n      <td>0</td>\n      <td>0</td>\n      <td>0</td>\n    </tr>\n    <tr>\n      <th>58906</th>\n      <td>1</td>\n      <td>0</td>\n      <td>1</td>\n      <td>0</td>\n      <td>1</td>\n      <td>0</td>\n      <td>0</td>\n      <td>0</td>\n      <td>0</td>\n      <td>0</td>\n      <td>...</td>\n      <td>0</td>\n      <td>0</td>\n      <td>1</td>\n      <td>0</td>\n      <td>0</td>\n      <td>0</td>\n      <td>0</td>\n      <td>0</td>\n      <td>0</td>\n      <td>0</td>\n    </tr>\n    <tr>\n      <th>58907</th>\n      <td>1</td>\n      <td>1</td>\n      <td>1</td>\n      <td>0</td>\n      <td>1</td>\n      <td>0</td>\n      <td>0</td>\n      <td>0</td>\n      <td>0</td>\n      <td>0</td>\n      <td>...</td>\n      <td>0</td>\n      <td>0</td>\n      <td>0</td>\n      <td>0</td>\n      <td>0</td>\n      <td>0</td>\n      <td>0</td>\n      <td>0</td>\n      <td>0</td>\n      <td>0</td>\n    </tr>\n    <tr>\n      <th>58908</th>\n      <td>1</td>\n      <td>1</td>\n      <td>1</td>\n      <td>0</td>\n      <td>0</td>\n      <td>0</td>\n      <td>0</td>\n      <td>0</td>\n      <td>0</td>\n      <td>0</td>\n      <td>...</td>\n      <td>0</td>\n      <td>0</td>\n      <td>0</td>\n      <td>0</td>\n      <td>0</td>\n      <td>0</td>\n      <td>0</td>\n      <td>0</td>\n      <td>0</td>\n      <td>0</td>\n    </tr>\n    <tr>\n      <th>58915</th>\n      <td>1</td>\n      <td>1</td>\n      <td>1</td>\n      <td>0</td>\n      <td>0</td>\n      <td>0</td>\n      <td>0</td>\n      <td>0</td>\n      <td>0</td>\n      <td>0</td>\n      <td>...</td>\n      <td>0</td>\n      <td>0</td>\n      <td>0</td>\n      <td>0</td>\n      <td>0</td>\n      <td>0</td>\n      <td>0</td>\n      <td>0</td>\n      <td>0</td>\n      <td>0</td>\n    </tr>\n  </tbody>\n</table>\n<p>25858 rows × 50 columns</p>\n</div>"
     },
     "execution_count": 52,
     "metadata": {},
     "output_type": "execute_result"
    }
   ],
   "source": [
    "binary = adnotations[tags]\n",
    "binary"
   ]
  },
  {
   "cell_type": "code",
   "execution_count": 53,
   "outputs": [
    {
     "data": {
      "text/plain": "array([    2,     6,    10, ..., 58907, 58908, 58915])"
     },
     "execution_count": 53,
     "metadata": {},
     "output_type": "execute_result"
    }
   ],
   "source": [
    "indexes_to_keep = binary[binary.sum(axis=1) != 0].index.values\n",
    "indexes_to_keep"
   ],
   "metadata": {
    "collapsed": false
   }
  },
  {
   "cell_type": "code",
   "execution_count": 54,
   "metadata": {},
   "outputs": [
    {
     "data": {
      "text/plain": "         clip_id  guitar  classical  slow  techno  strings  drums  electronic  \\\nclip_id                                                                         \n2              2       0          1     0       0        1      0           0   \n6              6       0          1     0       0        1      0           0   \n10            10       0          1     0       0        0      0           0   \n11            11       0          0     0       0        0      0           0   \n12            12       0          1     0       0        1      0           0   \n...          ...     ...        ...   ...     ...      ...    ...         ...   \n58899      58899       1          0     0       0        0      0           0   \n58906      58906       1          0     1       0        1      0           0   \n58907      58907       1          1     1       0        1      0           0   \n58908      58908       1          1     1       0        0      0           0   \n58915      58915       1          1     1       0        0      0           0   \n\n         rock  fast  ...  female vocal  beats  harp  cello  no voice  weird  \\\nclip_id              ...                                                      \n2           0     0  ...             0      0     0      0         0      0   \n6           0     0  ...             0      0     0      0         0      0   \n10          0     0  ...             0      0     0      0         0      0   \n11          0     0  ...             0      0     0      0         0      0   \n12          0     0  ...             0      0     0      0         0      0   \n...       ...   ...  ...           ...    ...   ...    ...       ...    ...   \n58899       0     0  ...             0      0     0      0         0      0   \n58906       0     0  ...             0      0     1      0         0      0   \n58907       0     0  ...             0      0     0      0         0      0   \n58908       0     0  ...             0      0     0      0         0      0   \n58915       0     0  ...             0      0     0      0         0      0   \n\n         country  female voice  metal  choral  \nclip_id                                        \n2              0             0      0       0  \n6              0             0      0       0  \n10             0             0      0       0  \n11             0             0      0       0  \n12             0             0      0       0  \n...          ...           ...    ...     ...  \n58899          0             0      0       0  \n58906          0             0      0       0  \n58907          0             0      0       0  \n58908          0             0      0       0  \n58915          0             0      0       0  \n\n[21106 rows x 51 columns]",
      "text/html": "<div>\n<style scoped>\n    .dataframe tbody tr th:only-of-type {\n        vertical-align: middle;\n    }\n\n    .dataframe tbody tr th {\n        vertical-align: top;\n    }\n\n    .dataframe thead th {\n        text-align: right;\n    }\n</style>\n<table border=\"1\" class=\"dataframe\">\n  <thead>\n    <tr style=\"text-align: right;\">\n      <th></th>\n      <th>clip_id</th>\n      <th>guitar</th>\n      <th>classical</th>\n      <th>slow</th>\n      <th>techno</th>\n      <th>strings</th>\n      <th>drums</th>\n      <th>electronic</th>\n      <th>rock</th>\n      <th>fast</th>\n      <th>...</th>\n      <th>female vocal</th>\n      <th>beats</th>\n      <th>harp</th>\n      <th>cello</th>\n      <th>no voice</th>\n      <th>weird</th>\n      <th>country</th>\n      <th>female voice</th>\n      <th>metal</th>\n      <th>choral</th>\n    </tr>\n    <tr>\n      <th>clip_id</th>\n      <th></th>\n      <th></th>\n      <th></th>\n      <th></th>\n      <th></th>\n      <th></th>\n      <th></th>\n      <th></th>\n      <th></th>\n      <th></th>\n      <th></th>\n      <th></th>\n      <th></th>\n      <th></th>\n      <th></th>\n      <th></th>\n      <th></th>\n      <th></th>\n      <th></th>\n      <th></th>\n      <th></th>\n    </tr>\n  </thead>\n  <tbody>\n    <tr>\n      <th>2</th>\n      <td>2</td>\n      <td>0</td>\n      <td>1</td>\n      <td>0</td>\n      <td>0</td>\n      <td>1</td>\n      <td>0</td>\n      <td>0</td>\n      <td>0</td>\n      <td>0</td>\n      <td>...</td>\n      <td>0</td>\n      <td>0</td>\n      <td>0</td>\n      <td>0</td>\n      <td>0</td>\n      <td>0</td>\n      <td>0</td>\n      <td>0</td>\n      <td>0</td>\n      <td>0</td>\n    </tr>\n    <tr>\n      <th>6</th>\n      <td>6</td>\n      <td>0</td>\n      <td>1</td>\n      <td>0</td>\n      <td>0</td>\n      <td>1</td>\n      <td>0</td>\n      <td>0</td>\n      <td>0</td>\n      <td>0</td>\n      <td>...</td>\n      <td>0</td>\n      <td>0</td>\n      <td>0</td>\n      <td>0</td>\n      <td>0</td>\n      <td>0</td>\n      <td>0</td>\n      <td>0</td>\n      <td>0</td>\n      <td>0</td>\n    </tr>\n    <tr>\n      <th>10</th>\n      <td>10</td>\n      <td>0</td>\n      <td>1</td>\n      <td>0</td>\n      <td>0</td>\n      <td>0</td>\n      <td>0</td>\n      <td>0</td>\n      <td>0</td>\n      <td>0</td>\n      <td>...</td>\n      <td>0</td>\n      <td>0</td>\n      <td>0</td>\n      <td>0</td>\n      <td>0</td>\n      <td>0</td>\n      <td>0</td>\n      <td>0</td>\n      <td>0</td>\n      <td>0</td>\n    </tr>\n    <tr>\n      <th>11</th>\n      <td>11</td>\n      <td>0</td>\n      <td>0</td>\n      <td>0</td>\n      <td>0</td>\n      <td>0</td>\n      <td>0</td>\n      <td>0</td>\n      <td>0</td>\n      <td>0</td>\n      <td>...</td>\n      <td>0</td>\n      <td>0</td>\n      <td>0</td>\n      <td>0</td>\n      <td>0</td>\n      <td>0</td>\n      <td>0</td>\n      <td>0</td>\n      <td>0</td>\n      <td>0</td>\n    </tr>\n    <tr>\n      <th>12</th>\n      <td>12</td>\n      <td>0</td>\n      <td>1</td>\n      <td>0</td>\n      <td>0</td>\n      <td>1</td>\n      <td>0</td>\n      <td>0</td>\n      <td>0</td>\n      <td>0</td>\n      <td>...</td>\n      <td>0</td>\n      <td>0</td>\n      <td>0</td>\n      <td>0</td>\n      <td>0</td>\n      <td>0</td>\n      <td>0</td>\n      <td>0</td>\n      <td>0</td>\n      <td>0</td>\n    </tr>\n    <tr>\n      <th>...</th>\n      <td>...</td>\n      <td>...</td>\n      <td>...</td>\n      <td>...</td>\n      <td>...</td>\n      <td>...</td>\n      <td>...</td>\n      <td>...</td>\n      <td>...</td>\n      <td>...</td>\n      <td>...</td>\n      <td>...</td>\n      <td>...</td>\n      <td>...</td>\n      <td>...</td>\n      <td>...</td>\n      <td>...</td>\n      <td>...</td>\n      <td>...</td>\n      <td>...</td>\n      <td>...</td>\n    </tr>\n    <tr>\n      <th>58899</th>\n      <td>58899</td>\n      <td>1</td>\n      <td>0</td>\n      <td>0</td>\n      <td>0</td>\n      <td>0</td>\n      <td>0</td>\n      <td>0</td>\n      <td>0</td>\n      <td>0</td>\n      <td>...</td>\n      <td>0</td>\n      <td>0</td>\n      <td>0</td>\n      <td>0</td>\n      <td>0</td>\n      <td>0</td>\n      <td>0</td>\n      <td>0</td>\n      <td>0</td>\n      <td>0</td>\n    </tr>\n    <tr>\n      <th>58906</th>\n      <td>58906</td>\n      <td>1</td>\n      <td>0</td>\n      <td>1</td>\n      <td>0</td>\n      <td>1</td>\n      <td>0</td>\n      <td>0</td>\n      <td>0</td>\n      <td>0</td>\n      <td>...</td>\n      <td>0</td>\n      <td>0</td>\n      <td>1</td>\n      <td>0</td>\n      <td>0</td>\n      <td>0</td>\n      <td>0</td>\n      <td>0</td>\n      <td>0</td>\n      <td>0</td>\n    </tr>\n    <tr>\n      <th>58907</th>\n      <td>58907</td>\n      <td>1</td>\n      <td>1</td>\n      <td>1</td>\n      <td>0</td>\n      <td>1</td>\n      <td>0</td>\n      <td>0</td>\n      <td>0</td>\n      <td>0</td>\n      <td>...</td>\n      <td>0</td>\n      <td>0</td>\n      <td>0</td>\n      <td>0</td>\n      <td>0</td>\n      <td>0</td>\n      <td>0</td>\n      <td>0</td>\n      <td>0</td>\n      <td>0</td>\n    </tr>\n    <tr>\n      <th>58908</th>\n      <td>58908</td>\n      <td>1</td>\n      <td>1</td>\n      <td>1</td>\n      <td>0</td>\n      <td>0</td>\n      <td>0</td>\n      <td>0</td>\n      <td>0</td>\n      <td>0</td>\n      <td>...</td>\n      <td>0</td>\n      <td>0</td>\n      <td>0</td>\n      <td>0</td>\n      <td>0</td>\n      <td>0</td>\n      <td>0</td>\n      <td>0</td>\n      <td>0</td>\n      <td>0</td>\n    </tr>\n    <tr>\n      <th>58915</th>\n      <td>58915</td>\n      <td>1</td>\n      <td>1</td>\n      <td>1</td>\n      <td>0</td>\n      <td>0</td>\n      <td>0</td>\n      <td>0</td>\n      <td>0</td>\n      <td>0</td>\n      <td>...</td>\n      <td>0</td>\n      <td>0</td>\n      <td>0</td>\n      <td>0</td>\n      <td>0</td>\n      <td>0</td>\n      <td>0</td>\n      <td>0</td>\n      <td>0</td>\n      <td>0</td>\n    </tr>\n  </tbody>\n</table>\n<p>21106 rows × 51 columns</p>\n</div>"
     },
     "execution_count": 54,
     "metadata": {},
     "output_type": "execute_result"
    }
   ],
   "source": [
    "binary = binary[binary.index.isin(indexes_to_keep)]\n",
    "binary.insert(0, \"clip_id\", binary.index)\n",
    "binary"
   ]
  },
  {
   "cell_type": "code",
   "execution_count": 55,
   "metadata": {},
   "outputs": [
    {
     "data": {
      "text/plain": "array([[    2,     0,     1, ...,     0,     0,     0],\n       [    6,     0,     1, ...,     0,     0,     0],\n       [   10,     0,     1, ...,     0,     0,     0],\n       ...,\n       [58907,     1,     1, ...,     0,     0,     0],\n       [58908,     1,     1, ...,     0,     0,     0],\n       [58915,     1,     1, ...,     0,     0,     0]])"
     },
     "execution_count": 55,
     "metadata": {},
     "output_type": "execute_result"
    }
   ],
   "source": [
    "binary_np = binary.to_numpy()\n",
    "np.save(os.path.join(split_path, 'binary.npy'), binary_np)\n",
    "binary_np"
   ]
  },
  {
   "cell_type": "code",
   "execution_count": 56,
   "outputs": [
    {
     "data": {
      "text/plain": "clip_id\n2        f/american_bach_soloists-j_s__bach_solo_cantat...\n6        f/american_bach_soloists-j_s__bach_solo_cantat...\n10       f/american_bach_soloists-j_s__bach_solo_cantat...\n11       f/american_bach_soloists-j_s__bach_solo_cantat...\n12       f/american_bach_soloists-j_s__bach_solo_cantat...\n                               ...                        \n58899    8/jacob_heringman-blame_not_my_lute-56-la_bres...\n58906    8/jacob_heringman-blame_not_my_lute-57-lost_is...\n58907    8/jacob_heringman-blame_not_my_lute-57-lost_is...\n58908    8/jacob_heringman-blame_not_my_lute-57-lost_is...\n58915    8/jacob_heringman-blame_not_my_lute-58-a_toy_f...\nName: mp3_path, Length: 21106, dtype: object"
     },
     "execution_count": 56,
     "metadata": {},
     "output_type": "execute_result"
    }
   ],
   "source": [
    "adnotations = adnotations[adnotations.index.isin(indexes_to_keep)]\n",
    "adnotations = adnotations['mp3_path']\n",
    "adnotations"
   ],
   "metadata": {
    "collapsed": false
   }
  },
  {
   "cell_type": "markdown",
   "metadata": {},
   "source": [
    "# Spliting dataset to train, valid and test datasets"
   ]
  },
  {
   "cell_type": "code",
   "execution_count": 57,
   "metadata": {},
   "outputs": [
    {
     "data": {
      "text/plain": "           idx                                           mp3_path\nclip_id                                                          \n2            2  f/american_bach_soloists-j_s__bach_solo_cantat...\n6            6  f/american_bach_soloists-j_s__bach_solo_cantat...\n10          10  f/american_bach_soloists-j_s__bach_solo_cantat...\n11          11  f/american_bach_soloists-j_s__bach_solo_cantat...\n12          12  f/american_bach_soloists-j_s__bach_solo_cantat...\n...        ...                                                ...\n58899    58899  8/jacob_heringman-blame_not_my_lute-56-la_bres...\n58906    58906  8/jacob_heringman-blame_not_my_lute-57-lost_is...\n58907    58907  8/jacob_heringman-blame_not_my_lute-57-lost_is...\n58908    58908  8/jacob_heringman-blame_not_my_lute-57-lost_is...\n58915    58915  8/jacob_heringman-blame_not_my_lute-58-a_toy_f...\n\n[21106 rows x 2 columns]",
      "text/html": "<div>\n<style scoped>\n    .dataframe tbody tr th:only-of-type {\n        vertical-align: middle;\n    }\n\n    .dataframe tbody tr th {\n        vertical-align: top;\n    }\n\n    .dataframe thead th {\n        text-align: right;\n    }\n</style>\n<table border=\"1\" class=\"dataframe\">\n  <thead>\n    <tr style=\"text-align: right;\">\n      <th></th>\n      <th>idx</th>\n      <th>mp3_path</th>\n    </tr>\n    <tr>\n      <th>clip_id</th>\n      <th></th>\n      <th></th>\n    </tr>\n  </thead>\n  <tbody>\n    <tr>\n      <th>2</th>\n      <td>2</td>\n      <td>f/american_bach_soloists-j_s__bach_solo_cantat...</td>\n    </tr>\n    <tr>\n      <th>6</th>\n      <td>6</td>\n      <td>f/american_bach_soloists-j_s__bach_solo_cantat...</td>\n    </tr>\n    <tr>\n      <th>10</th>\n      <td>10</td>\n      <td>f/american_bach_soloists-j_s__bach_solo_cantat...</td>\n    </tr>\n    <tr>\n      <th>11</th>\n      <td>11</td>\n      <td>f/american_bach_soloists-j_s__bach_solo_cantat...</td>\n    </tr>\n    <tr>\n      <th>12</th>\n      <td>12</td>\n      <td>f/american_bach_soloists-j_s__bach_solo_cantat...</td>\n    </tr>\n    <tr>\n      <th>...</th>\n      <td>...</td>\n      <td>...</td>\n    </tr>\n    <tr>\n      <th>58899</th>\n      <td>58899</td>\n      <td>8/jacob_heringman-blame_not_my_lute-56-la_bres...</td>\n    </tr>\n    <tr>\n      <th>58906</th>\n      <td>58906</td>\n      <td>8/jacob_heringman-blame_not_my_lute-57-lost_is...</td>\n    </tr>\n    <tr>\n      <th>58907</th>\n      <td>58907</td>\n      <td>8/jacob_heringman-blame_not_my_lute-57-lost_is...</td>\n    </tr>\n    <tr>\n      <th>58908</th>\n      <td>58908</td>\n      <td>8/jacob_heringman-blame_not_my_lute-57-lost_is...</td>\n    </tr>\n    <tr>\n      <th>58915</th>\n      <td>58915</td>\n      <td>8/jacob_heringman-blame_not_my_lute-58-a_toy_f...</td>\n    </tr>\n  </tbody>\n</table>\n<p>21106 rows × 2 columns</p>\n</div>"
     },
     "execution_count": 57,
     "metadata": {},
     "output_type": "execute_result"
    }
   ],
   "source": [
    "dataset = pd.DataFrame(adnotations, columns=['idx', 'mp3_path'])\n",
    "dataset[\"idx\"] = dataset.index\n",
    "dataset"
   ]
  },
  {
   "cell_type": "code",
   "execution_count": 58,
   "metadata": {},
   "outputs": [
    {
     "data": {
      "text/plain": "array([[2,\n        'f/american_bach_soloists-j_s__bach_solo_cantatas-01-bwv54__i_aria-30-59.mp3'],\n       [6,\n        'f/american_bach_soloists-j_s__bach_solo_cantatas-01-bwv54__i_aria-146-175.mp3'],\n       [10,\n        'f/american_bach_soloists-j_s__bach_solo_cantatas-01-bwv54__i_aria-262-291.mp3'],\n       ...,\n       [58907,\n        '8/jacob_heringman-blame_not_my_lute-57-lost_is_my_lyberty-30-59.mp3'],\n       [58908,\n        '8/jacob_heringman-blame_not_my_lute-57-lost_is_my_lyberty-59-88.mp3'],\n       [58915,\n        '8/jacob_heringman-blame_not_my_lute-58-a_toy_for_monica_bishop-0-29.mp3']],\n      dtype=object)"
     },
     "execution_count": 58,
     "metadata": {},
     "output_type": "execute_result"
    }
   ],
   "source": [
    "dataset.to_numpy()"
   ]
  },
  {
   "cell_type": "code",
   "execution_count": 59,
   "outputs": [],
   "source": [
    "train_ratio = 0.75\n",
    "valid_ratio = 0.15\n",
    "test_ratio = 0.1"
   ],
   "metadata": {
    "collapsed": false
   }
  },
  {
   "cell_type": "code",
   "execution_count": 60,
   "outputs": [],
   "source": [
    "train, test = train_test_split(dataset, test_size=1 - train_ratio)\n",
    "valid, test = train_test_split(test, test_size=test_ratio/(test_ratio + valid_ratio))"
   ],
   "metadata": {
    "collapsed": false
   }
  },
  {
   "cell_type": "code",
   "execution_count": 61,
   "metadata": {},
   "outputs": [
    {
     "data": {
      "text/plain": "array([[47962, 'f/strojovna_07-dirnix-12-ezachrum-0-29.mp3'],\n       [45240,\n        'f/heavy_mellow-acoustic_abstracts-11-bright_side-0-29.mp3'],\n       [54127,\n        '1/vito_paternoster-cd1bach_cello_suites-16-suite_vi_in_re_magiore__sarabande-146-175.mp3'],\n       ...,\n       [8501,\n        'c/jay_kishor-the_payans_concert-02-nat_malhar-1074-1103.mp3'],\n       [58382,\n        'c/edward_martin-art_of_the_lute_in_renaissance_france-28-premier_branle_de_bourgogne_le_roy-30-59.mp3'],\n       [16974,\n        '4/american_bach_soloists-j_s__bach__favorite_cantatas-04-chorale__zion_hort_die_wachter_singen-175-204.mp3']],\n      dtype=object)"
     },
     "execution_count": 61,
     "metadata": {},
     "output_type": "execute_result"
    }
   ],
   "source": [
    "dataset_train = train.to_numpy()\n",
    "np.save(os.path.join(split_path, 'train.npy'), dataset_train)\n",
    "dataset_train"
   ]
  },
  {
   "cell_type": "code",
   "execution_count": 62,
   "metadata": {},
   "outputs": [
    {
     "data": {
      "text/plain": "array([[5952,\n        '9/suzanne_teng-enchanted_wind-02-above_the_clouds-146-175.mp3'],\n       [8392,\n        '9/various_artists-the_2007_magnatune_records_sampler-02-moonrise_yongen-0-29.mp3'],\n       [5312,\n        '7/dac_crowell-the_sea_and_the_sky-01-tidal_motion-958-987.mp3'],\n       ...,\n       [58146,\n        'd/katherine_roberts_perl-j_s__bach_french_suites-26-suite_no_5_in_g_major_bwv_816_gigue-146-175.mp3'],\n       [18635, 'a/tilopa-by_the_way-04-moving_on-30-59.mp3'],\n       [21251,\n        '4/john_williams-long_ride_home-05-anything_at_all-175-204.mp3']],\n      dtype=object)"
     },
     "execution_count": 62,
     "metadata": {},
     "output_type": "execute_result"
    }
   ],
   "source": [
    "dataset_valid = valid.to_numpy()\n",
    "np.save(os.path.join(split_path, 'valid.npy'), dataset_valid)\n",
    "dataset_valid"
   ]
  },
  {
   "cell_type": "code",
   "execution_count": 63,
   "metadata": {},
   "outputs": [
    {
     "data": {
      "text/plain": "array([[33148,\n        '8/magnatune-red_hat_summit_compilation-07-shane_jackman__what_i_did_on_my_vacation-204-233.mp3'],\n       [53033,\n        '3/jan_hanford-24_preludes_for_solo_piano-15-prelude_no__15_in_a_minor-59-88.mp3'],\n       [44098, 'b/solar_cycle-sunlight-10-shaman_night-0-29.mp3'],\n       ...,\n       [37862,\n        'e/c_layne-the_sun_will_come_out_to_blind_you-08-the_king-175-204.mp3'],\n       [10024,\n        'c/vito_paternoster-cd1bach_sonatas_and_partitas_for_solo_violin-02-sonata_prima_in_do_minore__fuga_allegro-146-175.mp3'],\n       [34890, 'e/shira_kammen-music_of_waters-08-boathag-117-146.mp3']],\n      dtype=object)"
     },
     "execution_count": 63,
     "metadata": {},
     "output_type": "execute_result"
    }
   ],
   "source": [
    "dataset_test = test.to_numpy()\n",
    "np.save(os.path.join(split_path, 'test.npy'), dataset_test)\n",
    "dataset_test"
   ]
  }
 ],
 "metadata": {
  "kernelspec": {
   "display_name": "Python 3 (ipykernel)",
   "language": "python",
   "name": "python3"
  },
  "language_info": {
   "codemirror_mode": {
    "name": "ipython",
    "version": 3
   },
   "file_extension": ".py",
   "mimetype": "text/x-python",
   "name": "python",
   "nbconvert_exporter": "python",
   "pygments_lexer": "ipython3",
   "version": "3.10.6"
  }
 },
 "nbformat": 4,
 "nbformat_minor": 1
}
