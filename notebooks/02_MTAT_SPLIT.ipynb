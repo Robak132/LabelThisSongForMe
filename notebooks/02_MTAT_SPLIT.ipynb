{
 "cells": [
  {
   "cell_type": "code",
   "execution_count": 2,
   "outputs": [
    {
     "data": {
      "text/plain": "'/mnt/c/Users/kubar/Documents/Sem7/labelthissongforme/notebooks'"
     },
     "execution_count": 1,
     "metadata": {},
     "output_type": "execute_result"
    },
    {
     "data": {
      "text/plain": "'/mnt/c/Users/kubar/Documents/Sem7/labelthissongforme/notebooks'"
     },
     "execution_count": 2,
     "metadata": {},
     "output_type": "execute_result"
    }
   ],
   "source": [
    "%pwd"
   ],
   "metadata": {
    "collapsed": false
   }
  },
  {
   "cell_type": "code",
   "execution_count": 3,
   "outputs": [],
   "source": [
    "import numpy as np\n",
    "import pandas as pd\n",
    "import random\n",
    "import torch\n",
    "import os\n",
    "\n",
    "from sklearn.model_selection import train_test_split"
   ],
   "metadata": {
    "collapsed": false
   }
  },
  {
   "cell_type": "code",
   "execution_count": 4,
   "metadata": {},
   "outputs": [
    {
     "name": "stdout",
     "output_type": "stream",
     "text": [
      "Random seed set as 123456\n"
     ]
    }
   ],
   "source": [
    "def set_seed(seed: int = 42) -> None:\n",
    "    np.random.seed(seed)\n",
    "    random.seed(seed)\n",
    "    torch.manual_seed(seed)\n",
    "    torch.cuda.manual_seed(seed)\n",
    "    # Set a fixed value for the hash seed\n",
    "    os.environ[\"PYTHONHASHSEED\"] = str(seed)\n",
    "    print(f\"Random seed set as {seed}\")\n",
    "\n",
    "set_seed(123456)"
   ]
  },
  {
   "cell_type": "code",
   "execution_count": 5,
   "outputs": [],
   "source": [
    "split_path = \"../split/mtat-20/\"\n",
    "os.makedirs(split_path, exist_ok=True)\n",
    "n_tags = 20"
   ],
   "metadata": {
    "collapsed": false
   }
  },
  {
   "cell_type": "code",
   "execution_count": 6,
   "metadata": {},
   "outputs": [],
   "source": [
    "broken_tracks = [\n",
    "    \"6/norine_braun-now_and_zen-08-gently-117-146.mp3\",\n",
    "    \"8/jacob_heringman-josquin_des_prez_lute_settings-19-gintzler__pater_noster-204-233.mp3\",\n",
    "    \"9/american_baroque-dances_and_suites_of_rameau_and_couperin-25-le_petit_rien_xiveme_ordre_couperin-88-117.mp3\",\n",
    "    \"c/domased-new_memories-07-first_sun_rays-233-262.mp3\",\n",
    "    \"d/tim_rayborn-chordae-04-sempr_alegria-784-813.mp3\"\n",
    "]"
   ]
  },
  {
   "cell_type": "code",
   "execution_count": 7,
   "metadata": {},
   "outputs": [
    {
     "data": {
      "text/plain": "         no voice  singer  duet  plucking  hard rock  world  bongos  \\\nclip_id                                                               \n2               0       0     0         0          0      0       0   \n6               0       0     0         0          0      0       0   \n10              0       0     0         0          0      0       0   \n11              0       0     0         0          0      0       0   \n12              0       0     0         0          0      0       0   \n...           ...     ...   ...       ...        ...    ...     ...   \n58899           0       0     0         0          0      0       0   \n58906           0       0     0         0          0      0       0   \n58907           0       0     0         0          0      0       0   \n58908           0       0     0         0          0      0       0   \n58915           0       0     0         0          0      0       0   \n\n         harpsichord  female singing  clasical  ...  rap  metal  hip hop  \\\nclip_id                                         ...                        \n2                  0               0         0  ...    0      0        0   \n6                  0               0         0  ...    0      0        0   \n10                 0               0         0  ...    0      0        0   \n11                 0               0         0  ...    0      0        0   \n12                 0               0         0  ...    0      0        0   \n...              ...             ...       ...  ...  ...    ...      ...   \n58899              0               0         0  ...    0      0        0   \n58906              0               0         0  ...    0      0        0   \n58907              0               0         0  ...    0      0        0   \n58908              0               0         0  ...    0      0        0   \n58915              0               0         0  ...    0      0        0   \n\n         quick  water  baroque  women  fiddle  english  \\\nclip_id                                                  \n2            0      0        0      0       0        0   \n6            0      0        1      0       0        0   \n10           0      0        0      0       0        0   \n11           0      0        0      0       0        0   \n12           0      0        0      0       0        0   \n...        ...    ...      ...    ...     ...      ...   \n58899        0      0        0      0       0        0   \n58906        0      0        0      0       0        0   \n58907        0      0        0      0       0        0   \n58908        0      0        0      0       0        0   \n58915        0      0        0      0       0        0   \n\n                                                  mp3_path  \nclip_id                                                     \n2        f/american_bach_soloists-j_s__bach_solo_cantat...  \n6        f/american_bach_soloists-j_s__bach_solo_cantat...  \n10       f/american_bach_soloists-j_s__bach_solo_cantat...  \n11       f/american_bach_soloists-j_s__bach_solo_cantat...  \n12       f/american_bach_soloists-j_s__bach_solo_cantat...  \n...                                                    ...  \n58899    8/jacob_heringman-blame_not_my_lute-56-la_bres...  \n58906    8/jacob_heringman-blame_not_my_lute-57-lost_is...  \n58907    8/jacob_heringman-blame_not_my_lute-57-lost_is...  \n58908    8/jacob_heringman-blame_not_my_lute-57-lost_is...  \n58915    8/jacob_heringman-blame_not_my_lute-58-a_toy_f...  \n\n[25858 rows x 189 columns]",
      "text/html": "<div>\n<style scoped>\n    .dataframe tbody tr th:only-of-type {\n        vertical-align: middle;\n    }\n\n    .dataframe tbody tr th {\n        vertical-align: top;\n    }\n\n    .dataframe thead th {\n        text-align: right;\n    }\n</style>\n<table border=\"1\" class=\"dataframe\">\n  <thead>\n    <tr style=\"text-align: right;\">\n      <th></th>\n      <th>no voice</th>\n      <th>singer</th>\n      <th>duet</th>\n      <th>plucking</th>\n      <th>hard rock</th>\n      <th>world</th>\n      <th>bongos</th>\n      <th>harpsichord</th>\n      <th>female singing</th>\n      <th>clasical</th>\n      <th>...</th>\n      <th>rap</th>\n      <th>metal</th>\n      <th>hip hop</th>\n      <th>quick</th>\n      <th>water</th>\n      <th>baroque</th>\n      <th>women</th>\n      <th>fiddle</th>\n      <th>english</th>\n      <th>mp3_path</th>\n    </tr>\n    <tr>\n      <th>clip_id</th>\n      <th></th>\n      <th></th>\n      <th></th>\n      <th></th>\n      <th></th>\n      <th></th>\n      <th></th>\n      <th></th>\n      <th></th>\n      <th></th>\n      <th></th>\n      <th></th>\n      <th></th>\n      <th></th>\n      <th></th>\n      <th></th>\n      <th></th>\n      <th></th>\n      <th></th>\n      <th></th>\n      <th></th>\n    </tr>\n  </thead>\n  <tbody>\n    <tr>\n      <th>2</th>\n      <td>0</td>\n      <td>0</td>\n      <td>0</td>\n      <td>0</td>\n      <td>0</td>\n      <td>0</td>\n      <td>0</td>\n      <td>0</td>\n      <td>0</td>\n      <td>0</td>\n      <td>...</td>\n      <td>0</td>\n      <td>0</td>\n      <td>0</td>\n      <td>0</td>\n      <td>0</td>\n      <td>0</td>\n      <td>0</td>\n      <td>0</td>\n      <td>0</td>\n      <td>f/american_bach_soloists-j_s__bach_solo_cantat...</td>\n    </tr>\n    <tr>\n      <th>6</th>\n      <td>0</td>\n      <td>0</td>\n      <td>0</td>\n      <td>0</td>\n      <td>0</td>\n      <td>0</td>\n      <td>0</td>\n      <td>0</td>\n      <td>0</td>\n      <td>0</td>\n      <td>...</td>\n      <td>0</td>\n      <td>0</td>\n      <td>0</td>\n      <td>0</td>\n      <td>0</td>\n      <td>1</td>\n      <td>0</td>\n      <td>0</td>\n      <td>0</td>\n      <td>f/american_bach_soloists-j_s__bach_solo_cantat...</td>\n    </tr>\n    <tr>\n      <th>10</th>\n      <td>0</td>\n      <td>0</td>\n      <td>0</td>\n      <td>0</td>\n      <td>0</td>\n      <td>0</td>\n      <td>0</td>\n      <td>0</td>\n      <td>0</td>\n      <td>0</td>\n      <td>...</td>\n      <td>0</td>\n      <td>0</td>\n      <td>0</td>\n      <td>0</td>\n      <td>0</td>\n      <td>0</td>\n      <td>0</td>\n      <td>0</td>\n      <td>0</td>\n      <td>f/american_bach_soloists-j_s__bach_solo_cantat...</td>\n    </tr>\n    <tr>\n      <th>11</th>\n      <td>0</td>\n      <td>0</td>\n      <td>0</td>\n      <td>0</td>\n      <td>0</td>\n      <td>0</td>\n      <td>0</td>\n      <td>0</td>\n      <td>0</td>\n      <td>0</td>\n      <td>...</td>\n      <td>0</td>\n      <td>0</td>\n      <td>0</td>\n      <td>0</td>\n      <td>0</td>\n      <td>0</td>\n      <td>0</td>\n      <td>0</td>\n      <td>0</td>\n      <td>f/american_bach_soloists-j_s__bach_solo_cantat...</td>\n    </tr>\n    <tr>\n      <th>12</th>\n      <td>0</td>\n      <td>0</td>\n      <td>0</td>\n      <td>0</td>\n      <td>0</td>\n      <td>0</td>\n      <td>0</td>\n      <td>0</td>\n      <td>0</td>\n      <td>0</td>\n      <td>...</td>\n      <td>0</td>\n      <td>0</td>\n      <td>0</td>\n      <td>0</td>\n      <td>0</td>\n      <td>0</td>\n      <td>0</td>\n      <td>0</td>\n      <td>0</td>\n      <td>f/american_bach_soloists-j_s__bach_solo_cantat...</td>\n    </tr>\n    <tr>\n      <th>...</th>\n      <td>...</td>\n      <td>...</td>\n      <td>...</td>\n      <td>...</td>\n      <td>...</td>\n      <td>...</td>\n      <td>...</td>\n      <td>...</td>\n      <td>...</td>\n      <td>...</td>\n      <td>...</td>\n      <td>...</td>\n      <td>...</td>\n      <td>...</td>\n      <td>...</td>\n      <td>...</td>\n      <td>...</td>\n      <td>...</td>\n      <td>...</td>\n      <td>...</td>\n      <td>...</td>\n    </tr>\n    <tr>\n      <th>58899</th>\n      <td>0</td>\n      <td>0</td>\n      <td>0</td>\n      <td>0</td>\n      <td>0</td>\n      <td>0</td>\n      <td>0</td>\n      <td>0</td>\n      <td>0</td>\n      <td>0</td>\n      <td>...</td>\n      <td>0</td>\n      <td>0</td>\n      <td>0</td>\n      <td>0</td>\n      <td>0</td>\n      <td>0</td>\n      <td>0</td>\n      <td>0</td>\n      <td>0</td>\n      <td>8/jacob_heringman-blame_not_my_lute-56-la_bres...</td>\n    </tr>\n    <tr>\n      <th>58906</th>\n      <td>0</td>\n      <td>0</td>\n      <td>0</td>\n      <td>0</td>\n      <td>0</td>\n      <td>0</td>\n      <td>0</td>\n      <td>0</td>\n      <td>0</td>\n      <td>0</td>\n      <td>...</td>\n      <td>0</td>\n      <td>0</td>\n      <td>0</td>\n      <td>0</td>\n      <td>0</td>\n      <td>0</td>\n      <td>0</td>\n      <td>0</td>\n      <td>0</td>\n      <td>8/jacob_heringman-blame_not_my_lute-57-lost_is...</td>\n    </tr>\n    <tr>\n      <th>58907</th>\n      <td>0</td>\n      <td>0</td>\n      <td>0</td>\n      <td>0</td>\n      <td>0</td>\n      <td>0</td>\n      <td>0</td>\n      <td>0</td>\n      <td>0</td>\n      <td>0</td>\n      <td>...</td>\n      <td>0</td>\n      <td>0</td>\n      <td>0</td>\n      <td>0</td>\n      <td>0</td>\n      <td>0</td>\n      <td>0</td>\n      <td>0</td>\n      <td>0</td>\n      <td>8/jacob_heringman-blame_not_my_lute-57-lost_is...</td>\n    </tr>\n    <tr>\n      <th>58908</th>\n      <td>0</td>\n      <td>0</td>\n      <td>0</td>\n      <td>0</td>\n      <td>0</td>\n      <td>0</td>\n      <td>0</td>\n      <td>0</td>\n      <td>0</td>\n      <td>0</td>\n      <td>...</td>\n      <td>0</td>\n      <td>0</td>\n      <td>0</td>\n      <td>0</td>\n      <td>0</td>\n      <td>0</td>\n      <td>0</td>\n      <td>0</td>\n      <td>0</td>\n      <td>8/jacob_heringman-blame_not_my_lute-57-lost_is...</td>\n    </tr>\n    <tr>\n      <th>58915</th>\n      <td>0</td>\n      <td>0</td>\n      <td>0</td>\n      <td>0</td>\n      <td>0</td>\n      <td>0</td>\n      <td>0</td>\n      <td>0</td>\n      <td>0</td>\n      <td>0</td>\n      <td>...</td>\n      <td>0</td>\n      <td>0</td>\n      <td>0</td>\n      <td>0</td>\n      <td>0</td>\n      <td>0</td>\n      <td>0</td>\n      <td>0</td>\n      <td>0</td>\n      <td>8/jacob_heringman-blame_not_my_lute-58-a_toy_f...</td>\n    </tr>\n  </tbody>\n</table>\n<p>25858 rows × 189 columns</p>\n</div>"
     },
     "execution_count": 7,
     "metadata": {},
     "output_type": "execute_result"
    }
   ],
   "source": [
    "adnotations = pd.read_csv('../data/mtat/annotations_final.csv', sep='\\t', index_col=\"clip_id\")\n",
    "adnotations = adnotations[~adnotations[\"mp3_path\"].isin(broken_tracks)]\n",
    "adnotations"
   ]
  },
  {
   "cell_type": "code",
   "execution_count": 8,
   "metadata": {},
   "outputs": [
    {
     "data": {
      "text/plain": "       clip_id  track_number                    title                  artist  \\\n0            2             1           BWV54 - I Aria  American Bach Soloists   \n1            6             1           BWV54 - I Aria  American Bach Soloists   \n2           10             1           BWV54 - I Aria  American Bach Soloists   \n3           11             1           BWV54 - I Aria  American Bach Soloists   \n4           12             1           BWV54 - I Aria  American Bach Soloists   \n...        ...           ...                      ...                     ...   \n31377    58899            56            La Bressanina         Jacob Heringman   \n31378    58906            57       Lost is my Lyberty         Jacob Heringman   \n31379    58907            57       Lost is my Lyberty         Jacob Heringman   \n31380    58908            57       Lost is my Lyberty         Jacob Heringman   \n31381    58915            58  A Toy for Monica Bishop         Jacob Heringman   \n\n                         album  \\\n0      J.S. Bach Solo Cantatas   \n1      J.S. Bach Solo Cantatas   \n2      J.S. Bach Solo Cantatas   \n3      J.S. Bach Solo Cantatas   \n4      J.S. Bach Solo Cantatas   \n...                        ...   \n31377        Blame Not My Lute   \n31378        Blame Not My Lute   \n31379        Blame Not My Lute   \n31380        Blame Not My Lute   \n31381        Blame Not My Lute   \n\n                                                     url  segmentStart  \\\n0      http://www.magnatune.com/artists/albums/abs-so...            30   \n1      http://www.magnatune.com/artists/albums/abs-so...           146   \n2      http://www.magnatune.com/artists/albums/abs-so...           262   \n3      http://www.magnatune.com/artists/albums/abs-so...           291   \n4      http://www.magnatune.com/artists/albums/abs-so...           320   \n...                                                  ...           ...   \n31377  http://www.magnatune.com/artists/albums/hering...            88   \n31378  http://www.magnatune.com/artists/albums/hering...             0   \n31379  http://www.magnatune.com/artists/albums/hering...            30   \n31380  http://www.magnatune.com/artists/albums/hering...            59   \n31381  http://www.magnatune.com/artists/albums/hering...             0   \n\n       segmentEnd                                       original_url  \\\n0              59  http://he3.magnatune.com/all/01--BWV54%20-%20I...   \n1             175  http://he3.magnatune.com/all/01--BWV54%20-%20I...   \n2             291  http://he3.magnatune.com/all/01--BWV54%20-%20I...   \n3             320  http://he3.magnatune.com/all/01--BWV54%20-%20I...   \n4             349  http://he3.magnatune.com/all/01--BWV54%20-%20I...   \n...           ...                                                ...   \n31377         117  http://he3.magnatune.com/all/56-La%20Bressanin...   \n31378          29  http://he3.magnatune.com/all/57-Lost%20is%20my...   \n31379          59  http://he3.magnatune.com/all/57-Lost%20is%20my...   \n31380          88  http://he3.magnatune.com/all/57-Lost%20is%20my...   \n31381          29  http://he3.magnatune.com/all/58-A%20Toy%20for%...   \n\n                                                mp3_path  \n0      f/american_bach_soloists-j_s__bach_solo_cantat...  \n1      f/american_bach_soloists-j_s__bach_solo_cantat...  \n2      f/american_bach_soloists-j_s__bach_solo_cantat...  \n3      f/american_bach_soloists-j_s__bach_solo_cantat...  \n4      f/american_bach_soloists-j_s__bach_solo_cantat...  \n...                                                  ...  \n31377  8/jacob_heringman-blame_not_my_lute-56-la_bres...  \n31378  8/jacob_heringman-blame_not_my_lute-57-lost_is...  \n31379  8/jacob_heringman-blame_not_my_lute-57-lost_is...  \n31380  8/jacob_heringman-blame_not_my_lute-57-lost_is...  \n31381  8/jacob_heringman-blame_not_my_lute-58-a_toy_f...  \n\n[31382 rows x 10 columns]",
      "text/html": "<div>\n<style scoped>\n    .dataframe tbody tr th:only-of-type {\n        vertical-align: middle;\n    }\n\n    .dataframe tbody tr th {\n        vertical-align: top;\n    }\n\n    .dataframe thead th {\n        text-align: right;\n    }\n</style>\n<table border=\"1\" class=\"dataframe\">\n  <thead>\n    <tr style=\"text-align: right;\">\n      <th></th>\n      <th>clip_id</th>\n      <th>track_number</th>\n      <th>title</th>\n      <th>artist</th>\n      <th>album</th>\n      <th>url</th>\n      <th>segmentStart</th>\n      <th>segmentEnd</th>\n      <th>original_url</th>\n      <th>mp3_path</th>\n    </tr>\n  </thead>\n  <tbody>\n    <tr>\n      <th>0</th>\n      <td>2</td>\n      <td>1</td>\n      <td>BWV54 - I Aria</td>\n      <td>American Bach Soloists</td>\n      <td>J.S. Bach Solo Cantatas</td>\n      <td>http://www.magnatune.com/artists/albums/abs-so...</td>\n      <td>30</td>\n      <td>59</td>\n      <td>http://he3.magnatune.com/all/01--BWV54%20-%20I...</td>\n      <td>f/american_bach_soloists-j_s__bach_solo_cantat...</td>\n    </tr>\n    <tr>\n      <th>1</th>\n      <td>6</td>\n      <td>1</td>\n      <td>BWV54 - I Aria</td>\n      <td>American Bach Soloists</td>\n      <td>J.S. Bach Solo Cantatas</td>\n      <td>http://www.magnatune.com/artists/albums/abs-so...</td>\n      <td>146</td>\n      <td>175</td>\n      <td>http://he3.magnatune.com/all/01--BWV54%20-%20I...</td>\n      <td>f/american_bach_soloists-j_s__bach_solo_cantat...</td>\n    </tr>\n    <tr>\n      <th>2</th>\n      <td>10</td>\n      <td>1</td>\n      <td>BWV54 - I Aria</td>\n      <td>American Bach Soloists</td>\n      <td>J.S. Bach Solo Cantatas</td>\n      <td>http://www.magnatune.com/artists/albums/abs-so...</td>\n      <td>262</td>\n      <td>291</td>\n      <td>http://he3.magnatune.com/all/01--BWV54%20-%20I...</td>\n      <td>f/american_bach_soloists-j_s__bach_solo_cantat...</td>\n    </tr>\n    <tr>\n      <th>3</th>\n      <td>11</td>\n      <td>1</td>\n      <td>BWV54 - I Aria</td>\n      <td>American Bach Soloists</td>\n      <td>J.S. Bach Solo Cantatas</td>\n      <td>http://www.magnatune.com/artists/albums/abs-so...</td>\n      <td>291</td>\n      <td>320</td>\n      <td>http://he3.magnatune.com/all/01--BWV54%20-%20I...</td>\n      <td>f/american_bach_soloists-j_s__bach_solo_cantat...</td>\n    </tr>\n    <tr>\n      <th>4</th>\n      <td>12</td>\n      <td>1</td>\n      <td>BWV54 - I Aria</td>\n      <td>American Bach Soloists</td>\n      <td>J.S. Bach Solo Cantatas</td>\n      <td>http://www.magnatune.com/artists/albums/abs-so...</td>\n      <td>320</td>\n      <td>349</td>\n      <td>http://he3.magnatune.com/all/01--BWV54%20-%20I...</td>\n      <td>f/american_bach_soloists-j_s__bach_solo_cantat...</td>\n    </tr>\n    <tr>\n      <th>...</th>\n      <td>...</td>\n      <td>...</td>\n      <td>...</td>\n      <td>...</td>\n      <td>...</td>\n      <td>...</td>\n      <td>...</td>\n      <td>...</td>\n      <td>...</td>\n      <td>...</td>\n    </tr>\n    <tr>\n      <th>31377</th>\n      <td>58899</td>\n      <td>56</td>\n      <td>La Bressanina</td>\n      <td>Jacob Heringman</td>\n      <td>Blame Not My Lute</td>\n      <td>http://www.magnatune.com/artists/albums/hering...</td>\n      <td>88</td>\n      <td>117</td>\n      <td>http://he3.magnatune.com/all/56-La%20Bressanin...</td>\n      <td>8/jacob_heringman-blame_not_my_lute-56-la_bres...</td>\n    </tr>\n    <tr>\n      <th>31378</th>\n      <td>58906</td>\n      <td>57</td>\n      <td>Lost is my Lyberty</td>\n      <td>Jacob Heringman</td>\n      <td>Blame Not My Lute</td>\n      <td>http://www.magnatune.com/artists/albums/hering...</td>\n      <td>0</td>\n      <td>29</td>\n      <td>http://he3.magnatune.com/all/57-Lost%20is%20my...</td>\n      <td>8/jacob_heringman-blame_not_my_lute-57-lost_is...</td>\n    </tr>\n    <tr>\n      <th>31379</th>\n      <td>58907</td>\n      <td>57</td>\n      <td>Lost is my Lyberty</td>\n      <td>Jacob Heringman</td>\n      <td>Blame Not My Lute</td>\n      <td>http://www.magnatune.com/artists/albums/hering...</td>\n      <td>30</td>\n      <td>59</td>\n      <td>http://he3.magnatune.com/all/57-Lost%20is%20my...</td>\n      <td>8/jacob_heringman-blame_not_my_lute-57-lost_is...</td>\n    </tr>\n    <tr>\n      <th>31380</th>\n      <td>58908</td>\n      <td>57</td>\n      <td>Lost is my Lyberty</td>\n      <td>Jacob Heringman</td>\n      <td>Blame Not My Lute</td>\n      <td>http://www.magnatune.com/artists/albums/hering...</td>\n      <td>59</td>\n      <td>88</td>\n      <td>http://he3.magnatune.com/all/57-Lost%20is%20my...</td>\n      <td>8/jacob_heringman-blame_not_my_lute-57-lost_is...</td>\n    </tr>\n    <tr>\n      <th>31381</th>\n      <td>58915</td>\n      <td>58</td>\n      <td>A Toy for Monica Bishop</td>\n      <td>Jacob Heringman</td>\n      <td>Blame Not My Lute</td>\n      <td>http://www.magnatune.com/artists/albums/hering...</td>\n      <td>0</td>\n      <td>29</td>\n      <td>http://he3.magnatune.com/all/58-A%20Toy%20for%...</td>\n      <td>8/jacob_heringman-blame_not_my_lute-58-a_toy_f...</td>\n    </tr>\n  </tbody>\n</table>\n<p>31382 rows × 10 columns</p>\n</div>"
     },
     "execution_count": 8,
     "metadata": {},
     "output_type": "execute_result"
    }
   ],
   "source": [
    "clip_info = pd.read_csv('../data/mtat/clip_info_final.csv', sep='\\t')\n",
    "clip_info"
   ]
  },
  {
   "cell_type": "markdown",
   "metadata": {},
   "source": [
    "# n tags with the largest quantity in dataset"
   ]
  },
  {
   "cell_type": "code",
   "execution_count": 9,
   "metadata": {},
   "outputs": [
    {
     "data": {
      "text/plain": "guitar        4851\nclassical     4269\nslow          3547\ntechno        2953\nstrings       2726\ndrums         2598\nelectronic    2519\nrock          2371\nfast          2304\npiano         2056\nambient       1956\nbeat          1906\nviolin        1826\nvocal         1729\nsynth         1716\nfemale        1474\nindian        1395\nopera         1296\nmale          1279\nsinging       1211\ndtype: int64"
     },
     "execution_count": 9,
     "metadata": {},
     "output_type": "execute_result"
    }
   ],
   "source": [
    "tags = adnotations.filter(regex='[^mp3_path]').sum().nlargest(n_tags)\n",
    "tags"
   ]
  },
  {
   "cell_type": "code",
   "execution_count": 10,
   "metadata": {},
   "outputs": [
    {
     "data": {
      "text/plain": "array(['guitar', 'classical', 'slow', 'techno', 'strings', 'drums',\n       'electronic', 'rock', 'fast', 'piano', 'ambient', 'beat', 'violin',\n       'vocal', 'synth', 'female', 'indian', 'opera', 'male', 'singing'],\n      dtype='<U10')"
     },
     "execution_count": 10,
     "metadata": {},
     "output_type": "execute_result"
    }
   ],
   "source": [
    "tags = tags.keys().to_numpy('str')\n",
    "np.save(open(os.path.join(split_path, 'tags.npy'), 'wb'), tags)\n",
    "tags"
   ]
  },
  {
   "cell_type": "markdown",
   "metadata": {},
   "source": [
    "# Binary tags"
   ]
  },
  {
   "cell_type": "code",
   "execution_count": 11,
   "metadata": {},
   "outputs": [
    {
     "data": {
      "text/plain": "         guitar  classical  slow  techno  strings  drums  electronic  rock  \\\nclip_id                                                                      \n2             0          1     0       0        1      0           0     0   \n6             0          1     0       0        1      0           0     0   \n10            0          1     0       0        0      0           0     0   \n11            0          0     0       0        0      0           0     0   \n12            0          1     0       0        1      0           0     0   \n...         ...        ...   ...     ...      ...    ...         ...   ...   \n58899         1          0     0       0        0      0           0     0   \n58906         1          0     1       0        1      0           0     0   \n58907         1          1     1       0        1      0           0     0   \n58908         1          1     1       0        0      0           0     0   \n58915         1          1     1       0        0      0           0     0   \n\n         fast  piano  ambient  beat  violin  vocal  synth  female  indian  \\\nclip_id                                                                     \n2           0      0        0     0       1      0      0       0       0   \n6           0      0        0     0       1      0      0       0       0   \n10          0      0        0     0       0      0      0       0       0   \n11          0      0        0     0       0      0      0       0       0   \n12          0      0        0     0       1      0      0       0       0   \n...       ...    ...      ...   ...     ...    ...    ...     ...     ...   \n58899       0      0        0     0       0      0      0       0       0   \n58906       0      0        0     0       0      0      0       0       0   \n58907       0      0        0     0       0      0      0       0       0   \n58908       0      0        0     0       0      0      0       0       0   \n58915       0      0        0     0       0      0      0       0       0   \n\n         opera  male  singing  \nclip_id                        \n2            1     0        0  \n6            1     0        0  \n10           1     0        0  \n11           1     0        0  \n12           0     0        0  \n...        ...   ...      ...  \n58899        0     0        0  \n58906        0     0        0  \n58907        0     0        0  \n58908        0     0        0  \n58915        0     0        0  \n\n[25858 rows x 20 columns]",
      "text/html": "<div>\n<style scoped>\n    .dataframe tbody tr th:only-of-type {\n        vertical-align: middle;\n    }\n\n    .dataframe tbody tr th {\n        vertical-align: top;\n    }\n\n    .dataframe thead th {\n        text-align: right;\n    }\n</style>\n<table border=\"1\" class=\"dataframe\">\n  <thead>\n    <tr style=\"text-align: right;\">\n      <th></th>\n      <th>guitar</th>\n      <th>classical</th>\n      <th>slow</th>\n      <th>techno</th>\n      <th>strings</th>\n      <th>drums</th>\n      <th>electronic</th>\n      <th>rock</th>\n      <th>fast</th>\n      <th>piano</th>\n      <th>ambient</th>\n      <th>beat</th>\n      <th>violin</th>\n      <th>vocal</th>\n      <th>synth</th>\n      <th>female</th>\n      <th>indian</th>\n      <th>opera</th>\n      <th>male</th>\n      <th>singing</th>\n    </tr>\n    <tr>\n      <th>clip_id</th>\n      <th></th>\n      <th></th>\n      <th></th>\n      <th></th>\n      <th></th>\n      <th></th>\n      <th></th>\n      <th></th>\n      <th></th>\n      <th></th>\n      <th></th>\n      <th></th>\n      <th></th>\n      <th></th>\n      <th></th>\n      <th></th>\n      <th></th>\n      <th></th>\n      <th></th>\n      <th></th>\n    </tr>\n  </thead>\n  <tbody>\n    <tr>\n      <th>2</th>\n      <td>0</td>\n      <td>1</td>\n      <td>0</td>\n      <td>0</td>\n      <td>1</td>\n      <td>0</td>\n      <td>0</td>\n      <td>0</td>\n      <td>0</td>\n      <td>0</td>\n      <td>0</td>\n      <td>0</td>\n      <td>1</td>\n      <td>0</td>\n      <td>0</td>\n      <td>0</td>\n      <td>0</td>\n      <td>1</td>\n      <td>0</td>\n      <td>0</td>\n    </tr>\n    <tr>\n      <th>6</th>\n      <td>0</td>\n      <td>1</td>\n      <td>0</td>\n      <td>0</td>\n      <td>1</td>\n      <td>0</td>\n      <td>0</td>\n      <td>0</td>\n      <td>0</td>\n      <td>0</td>\n      <td>0</td>\n      <td>0</td>\n      <td>1</td>\n      <td>0</td>\n      <td>0</td>\n      <td>0</td>\n      <td>0</td>\n      <td>1</td>\n      <td>0</td>\n      <td>0</td>\n    </tr>\n    <tr>\n      <th>10</th>\n      <td>0</td>\n      <td>1</td>\n      <td>0</td>\n      <td>0</td>\n      <td>0</td>\n      <td>0</td>\n      <td>0</td>\n      <td>0</td>\n      <td>0</td>\n      <td>0</td>\n      <td>0</td>\n      <td>0</td>\n      <td>0</td>\n      <td>0</td>\n      <td>0</td>\n      <td>0</td>\n      <td>0</td>\n      <td>1</td>\n      <td>0</td>\n      <td>0</td>\n    </tr>\n    <tr>\n      <th>11</th>\n      <td>0</td>\n      <td>0</td>\n      <td>0</td>\n      <td>0</td>\n      <td>0</td>\n      <td>0</td>\n      <td>0</td>\n      <td>0</td>\n      <td>0</td>\n      <td>0</td>\n      <td>0</td>\n      <td>0</td>\n      <td>0</td>\n      <td>0</td>\n      <td>0</td>\n      <td>0</td>\n      <td>0</td>\n      <td>1</td>\n      <td>0</td>\n      <td>0</td>\n    </tr>\n    <tr>\n      <th>12</th>\n      <td>0</td>\n      <td>1</td>\n      <td>0</td>\n      <td>0</td>\n      <td>1</td>\n      <td>0</td>\n      <td>0</td>\n      <td>0</td>\n      <td>0</td>\n      <td>0</td>\n      <td>0</td>\n      <td>0</td>\n      <td>1</td>\n      <td>0</td>\n      <td>0</td>\n      <td>0</td>\n      <td>0</td>\n      <td>0</td>\n      <td>0</td>\n      <td>0</td>\n    </tr>\n    <tr>\n      <th>...</th>\n      <td>...</td>\n      <td>...</td>\n      <td>...</td>\n      <td>...</td>\n      <td>...</td>\n      <td>...</td>\n      <td>...</td>\n      <td>...</td>\n      <td>...</td>\n      <td>...</td>\n      <td>...</td>\n      <td>...</td>\n      <td>...</td>\n      <td>...</td>\n      <td>...</td>\n      <td>...</td>\n      <td>...</td>\n      <td>...</td>\n      <td>...</td>\n      <td>...</td>\n    </tr>\n    <tr>\n      <th>58899</th>\n      <td>1</td>\n      <td>0</td>\n      <td>0</td>\n      <td>0</td>\n      <td>0</td>\n      <td>0</td>\n      <td>0</td>\n      <td>0</td>\n      <td>0</td>\n      <td>0</td>\n      <td>0</td>\n      <td>0</td>\n      <td>0</td>\n      <td>0</td>\n      <td>0</td>\n      <td>0</td>\n      <td>0</td>\n      <td>0</td>\n      <td>0</td>\n      <td>0</td>\n    </tr>\n    <tr>\n      <th>58906</th>\n      <td>1</td>\n      <td>0</td>\n      <td>1</td>\n      <td>0</td>\n      <td>1</td>\n      <td>0</td>\n      <td>0</td>\n      <td>0</td>\n      <td>0</td>\n      <td>0</td>\n      <td>0</td>\n      <td>0</td>\n      <td>0</td>\n      <td>0</td>\n      <td>0</td>\n      <td>0</td>\n      <td>0</td>\n      <td>0</td>\n      <td>0</td>\n      <td>0</td>\n    </tr>\n    <tr>\n      <th>58907</th>\n      <td>1</td>\n      <td>1</td>\n      <td>1</td>\n      <td>0</td>\n      <td>1</td>\n      <td>0</td>\n      <td>0</td>\n      <td>0</td>\n      <td>0</td>\n      <td>0</td>\n      <td>0</td>\n      <td>0</td>\n      <td>0</td>\n      <td>0</td>\n      <td>0</td>\n      <td>0</td>\n      <td>0</td>\n      <td>0</td>\n      <td>0</td>\n      <td>0</td>\n    </tr>\n    <tr>\n      <th>58908</th>\n      <td>1</td>\n      <td>1</td>\n      <td>1</td>\n      <td>0</td>\n      <td>0</td>\n      <td>0</td>\n      <td>0</td>\n      <td>0</td>\n      <td>0</td>\n      <td>0</td>\n      <td>0</td>\n      <td>0</td>\n      <td>0</td>\n      <td>0</td>\n      <td>0</td>\n      <td>0</td>\n      <td>0</td>\n      <td>0</td>\n      <td>0</td>\n      <td>0</td>\n    </tr>\n    <tr>\n      <th>58915</th>\n      <td>1</td>\n      <td>1</td>\n      <td>1</td>\n      <td>0</td>\n      <td>0</td>\n      <td>0</td>\n      <td>0</td>\n      <td>0</td>\n      <td>0</td>\n      <td>0</td>\n      <td>0</td>\n      <td>0</td>\n      <td>0</td>\n      <td>0</td>\n      <td>0</td>\n      <td>0</td>\n      <td>0</td>\n      <td>0</td>\n      <td>0</td>\n      <td>0</td>\n    </tr>\n  </tbody>\n</table>\n<p>25858 rows × 20 columns</p>\n</div>"
     },
     "execution_count": 11,
     "metadata": {},
     "output_type": "execute_result"
    }
   ],
   "source": [
    "binary = adnotations[tags]\n",
    "binary"
   ]
  },
  {
   "cell_type": "code",
   "execution_count": 12,
   "outputs": [
    {
     "data": {
      "text/plain": "array([    2,     6,    10, ..., 58907, 58908, 58915])"
     },
     "execution_count": 12,
     "metadata": {},
     "output_type": "execute_result"
    }
   ],
   "source": [
    "indexes_to_keep = binary[binary.sum(axis=1) != 0].index.values\n",
    "indexes_to_keep"
   ],
   "metadata": {
    "collapsed": false
   }
  },
  {
   "cell_type": "code",
   "execution_count": 13,
   "metadata": {},
   "outputs": [
    {
     "data": {
      "text/plain": "         clip_id  guitar  classical  slow  techno  strings  drums  electronic  \\\nclip_id                                                                         \n2              2       0          1     0       0        1      0           0   \n6              6       0          1     0       0        1      0           0   \n10            10       0          1     0       0        0      0           0   \n11            11       0          0     0       0        0      0           0   \n12            12       0          1     0       0        1      0           0   \n...          ...     ...        ...   ...     ...      ...    ...         ...   \n58899      58899       1          0     0       0        0      0           0   \n58906      58906       1          0     1       0        1      0           0   \n58907      58907       1          1     1       0        1      0           0   \n58908      58908       1          1     1       0        0      0           0   \n58915      58915       1          1     1       0        0      0           0   \n\n         rock  fast  ...  ambient  beat  violin  vocal  synth  female  indian  \\\nclip_id              ...                                                        \n2           0     0  ...        0     0       1      0      0       0       0   \n6           0     0  ...        0     0       1      0      0       0       0   \n10          0     0  ...        0     0       0      0      0       0       0   \n11          0     0  ...        0     0       0      0      0       0       0   \n12          0     0  ...        0     0       1      0      0       0       0   \n...       ...   ...  ...      ...   ...     ...    ...    ...     ...     ...   \n58899       0     0  ...        0     0       0      0      0       0       0   \n58906       0     0  ...        0     0       0      0      0       0       0   \n58907       0     0  ...        0     0       0      0      0       0       0   \n58908       0     0  ...        0     0       0      0      0       0       0   \n58915       0     0  ...        0     0       0      0      0       0       0   \n\n         opera  male  singing  \nclip_id                        \n2            1     0        0  \n6            1     0        0  \n10           1     0        0  \n11           1     0        0  \n12           0     0        0  \n...        ...   ...      ...  \n58899        0     0        0  \n58906        0     0        0  \n58907        0     0        0  \n58908        0     0        0  \n58915        0     0        0  \n\n[19718 rows x 21 columns]",
      "text/html": "<div>\n<style scoped>\n    .dataframe tbody tr th:only-of-type {\n        vertical-align: middle;\n    }\n\n    .dataframe tbody tr th {\n        vertical-align: top;\n    }\n\n    .dataframe thead th {\n        text-align: right;\n    }\n</style>\n<table border=\"1\" class=\"dataframe\">\n  <thead>\n    <tr style=\"text-align: right;\">\n      <th></th>\n      <th>clip_id</th>\n      <th>guitar</th>\n      <th>classical</th>\n      <th>slow</th>\n      <th>techno</th>\n      <th>strings</th>\n      <th>drums</th>\n      <th>electronic</th>\n      <th>rock</th>\n      <th>fast</th>\n      <th>...</th>\n      <th>ambient</th>\n      <th>beat</th>\n      <th>violin</th>\n      <th>vocal</th>\n      <th>synth</th>\n      <th>female</th>\n      <th>indian</th>\n      <th>opera</th>\n      <th>male</th>\n      <th>singing</th>\n    </tr>\n    <tr>\n      <th>clip_id</th>\n      <th></th>\n      <th></th>\n      <th></th>\n      <th></th>\n      <th></th>\n      <th></th>\n      <th></th>\n      <th></th>\n      <th></th>\n      <th></th>\n      <th></th>\n      <th></th>\n      <th></th>\n      <th></th>\n      <th></th>\n      <th></th>\n      <th></th>\n      <th></th>\n      <th></th>\n      <th></th>\n      <th></th>\n    </tr>\n  </thead>\n  <tbody>\n    <tr>\n      <th>2</th>\n      <td>2</td>\n      <td>0</td>\n      <td>1</td>\n      <td>0</td>\n      <td>0</td>\n      <td>1</td>\n      <td>0</td>\n      <td>0</td>\n      <td>0</td>\n      <td>0</td>\n      <td>...</td>\n      <td>0</td>\n      <td>0</td>\n      <td>1</td>\n      <td>0</td>\n      <td>0</td>\n      <td>0</td>\n      <td>0</td>\n      <td>1</td>\n      <td>0</td>\n      <td>0</td>\n    </tr>\n    <tr>\n      <th>6</th>\n      <td>6</td>\n      <td>0</td>\n      <td>1</td>\n      <td>0</td>\n      <td>0</td>\n      <td>1</td>\n      <td>0</td>\n      <td>0</td>\n      <td>0</td>\n      <td>0</td>\n      <td>...</td>\n      <td>0</td>\n      <td>0</td>\n      <td>1</td>\n      <td>0</td>\n      <td>0</td>\n      <td>0</td>\n      <td>0</td>\n      <td>1</td>\n      <td>0</td>\n      <td>0</td>\n    </tr>\n    <tr>\n      <th>10</th>\n      <td>10</td>\n      <td>0</td>\n      <td>1</td>\n      <td>0</td>\n      <td>0</td>\n      <td>0</td>\n      <td>0</td>\n      <td>0</td>\n      <td>0</td>\n      <td>0</td>\n      <td>...</td>\n      <td>0</td>\n      <td>0</td>\n      <td>0</td>\n      <td>0</td>\n      <td>0</td>\n      <td>0</td>\n      <td>0</td>\n      <td>1</td>\n      <td>0</td>\n      <td>0</td>\n    </tr>\n    <tr>\n      <th>11</th>\n      <td>11</td>\n      <td>0</td>\n      <td>0</td>\n      <td>0</td>\n      <td>0</td>\n      <td>0</td>\n      <td>0</td>\n      <td>0</td>\n      <td>0</td>\n      <td>0</td>\n      <td>...</td>\n      <td>0</td>\n      <td>0</td>\n      <td>0</td>\n      <td>0</td>\n      <td>0</td>\n      <td>0</td>\n      <td>0</td>\n      <td>1</td>\n      <td>0</td>\n      <td>0</td>\n    </tr>\n    <tr>\n      <th>12</th>\n      <td>12</td>\n      <td>0</td>\n      <td>1</td>\n      <td>0</td>\n      <td>0</td>\n      <td>1</td>\n      <td>0</td>\n      <td>0</td>\n      <td>0</td>\n      <td>0</td>\n      <td>...</td>\n      <td>0</td>\n      <td>0</td>\n      <td>1</td>\n      <td>0</td>\n      <td>0</td>\n      <td>0</td>\n      <td>0</td>\n      <td>0</td>\n      <td>0</td>\n      <td>0</td>\n    </tr>\n    <tr>\n      <th>...</th>\n      <td>...</td>\n      <td>...</td>\n      <td>...</td>\n      <td>...</td>\n      <td>...</td>\n      <td>...</td>\n      <td>...</td>\n      <td>...</td>\n      <td>...</td>\n      <td>...</td>\n      <td>...</td>\n      <td>...</td>\n      <td>...</td>\n      <td>...</td>\n      <td>...</td>\n      <td>...</td>\n      <td>...</td>\n      <td>...</td>\n      <td>...</td>\n      <td>...</td>\n      <td>...</td>\n    </tr>\n    <tr>\n      <th>58899</th>\n      <td>58899</td>\n      <td>1</td>\n      <td>0</td>\n      <td>0</td>\n      <td>0</td>\n      <td>0</td>\n      <td>0</td>\n      <td>0</td>\n      <td>0</td>\n      <td>0</td>\n      <td>...</td>\n      <td>0</td>\n      <td>0</td>\n      <td>0</td>\n      <td>0</td>\n      <td>0</td>\n      <td>0</td>\n      <td>0</td>\n      <td>0</td>\n      <td>0</td>\n      <td>0</td>\n    </tr>\n    <tr>\n      <th>58906</th>\n      <td>58906</td>\n      <td>1</td>\n      <td>0</td>\n      <td>1</td>\n      <td>0</td>\n      <td>1</td>\n      <td>0</td>\n      <td>0</td>\n      <td>0</td>\n      <td>0</td>\n      <td>...</td>\n      <td>0</td>\n      <td>0</td>\n      <td>0</td>\n      <td>0</td>\n      <td>0</td>\n      <td>0</td>\n      <td>0</td>\n      <td>0</td>\n      <td>0</td>\n      <td>0</td>\n    </tr>\n    <tr>\n      <th>58907</th>\n      <td>58907</td>\n      <td>1</td>\n      <td>1</td>\n      <td>1</td>\n      <td>0</td>\n      <td>1</td>\n      <td>0</td>\n      <td>0</td>\n      <td>0</td>\n      <td>0</td>\n      <td>...</td>\n      <td>0</td>\n      <td>0</td>\n      <td>0</td>\n      <td>0</td>\n      <td>0</td>\n      <td>0</td>\n      <td>0</td>\n      <td>0</td>\n      <td>0</td>\n      <td>0</td>\n    </tr>\n    <tr>\n      <th>58908</th>\n      <td>58908</td>\n      <td>1</td>\n      <td>1</td>\n      <td>1</td>\n      <td>0</td>\n      <td>0</td>\n      <td>0</td>\n      <td>0</td>\n      <td>0</td>\n      <td>0</td>\n      <td>...</td>\n      <td>0</td>\n      <td>0</td>\n      <td>0</td>\n      <td>0</td>\n      <td>0</td>\n      <td>0</td>\n      <td>0</td>\n      <td>0</td>\n      <td>0</td>\n      <td>0</td>\n    </tr>\n    <tr>\n      <th>58915</th>\n      <td>58915</td>\n      <td>1</td>\n      <td>1</td>\n      <td>1</td>\n      <td>0</td>\n      <td>0</td>\n      <td>0</td>\n      <td>0</td>\n      <td>0</td>\n      <td>0</td>\n      <td>...</td>\n      <td>0</td>\n      <td>0</td>\n      <td>0</td>\n      <td>0</td>\n      <td>0</td>\n      <td>0</td>\n      <td>0</td>\n      <td>0</td>\n      <td>0</td>\n      <td>0</td>\n    </tr>\n  </tbody>\n</table>\n<p>19718 rows × 21 columns</p>\n</div>"
     },
     "execution_count": 13,
     "metadata": {},
     "output_type": "execute_result"
    }
   ],
   "source": [
    "binary = binary[binary.index.isin(indexes_to_keep)]\n",
    "binary.insert(0, \"clip_id\", binary.index)\n",
    "binary"
   ]
  },
  {
   "cell_type": "code",
   "execution_count": 14,
   "metadata": {},
   "outputs": [
    {
     "data": {
      "text/plain": "array([[    2,     0,     1, ...,     1,     0,     0],\n       [    6,     0,     1, ...,     1,     0,     0],\n       [   10,     0,     1, ...,     1,     0,     0],\n       ...,\n       [58907,     1,     1, ...,     0,     0,     0],\n       [58908,     1,     1, ...,     0,     0,     0],\n       [58915,     1,     1, ...,     0,     0,     0]])"
     },
     "execution_count": 14,
     "metadata": {},
     "output_type": "execute_result"
    }
   ],
   "source": [
    "binary_np = binary.to_numpy()\n",
    "np.save(os.path.join(split_path, 'binary.npy'), binary_np)\n",
    "binary_np"
   ]
  },
  {
   "cell_type": "code",
   "execution_count": 15,
   "outputs": [
    {
     "data": {
      "text/plain": "clip_id\n2        f/american_bach_soloists-j_s__bach_solo_cantat...\n6        f/american_bach_soloists-j_s__bach_solo_cantat...\n10       f/american_bach_soloists-j_s__bach_solo_cantat...\n11       f/american_bach_soloists-j_s__bach_solo_cantat...\n12       f/american_bach_soloists-j_s__bach_solo_cantat...\n                               ...                        \n58899    8/jacob_heringman-blame_not_my_lute-56-la_bres...\n58906    8/jacob_heringman-blame_not_my_lute-57-lost_is...\n58907    8/jacob_heringman-blame_not_my_lute-57-lost_is...\n58908    8/jacob_heringman-blame_not_my_lute-57-lost_is...\n58915    8/jacob_heringman-blame_not_my_lute-58-a_toy_f...\nName: mp3_path, Length: 19718, dtype: object"
     },
     "execution_count": 15,
     "metadata": {},
     "output_type": "execute_result"
    }
   ],
   "source": [
    "adnotations = adnotations[adnotations.index.isin(indexes_to_keep)]\n",
    "adnotations = adnotations['mp3_path']\n",
    "adnotations"
   ],
   "metadata": {
    "collapsed": false
   }
  },
  {
   "cell_type": "markdown",
   "metadata": {},
   "source": [
    "# Spliting dataset to train, valid and test datasets"
   ]
  },
  {
   "cell_type": "code",
   "execution_count": 16,
   "metadata": {},
   "outputs": [
    {
     "data": {
      "text/plain": "           idx                                           mp3_path\nclip_id                                                          \n2            2  f/american_bach_soloists-j_s__bach_solo_cantat...\n6            6  f/american_bach_soloists-j_s__bach_solo_cantat...\n10          10  f/american_bach_soloists-j_s__bach_solo_cantat...\n11          11  f/american_bach_soloists-j_s__bach_solo_cantat...\n12          12  f/american_bach_soloists-j_s__bach_solo_cantat...\n...        ...                                                ...\n58899    58899  8/jacob_heringman-blame_not_my_lute-56-la_bres...\n58906    58906  8/jacob_heringman-blame_not_my_lute-57-lost_is...\n58907    58907  8/jacob_heringman-blame_not_my_lute-57-lost_is...\n58908    58908  8/jacob_heringman-blame_not_my_lute-57-lost_is...\n58915    58915  8/jacob_heringman-blame_not_my_lute-58-a_toy_f...\n\n[19718 rows x 2 columns]",
      "text/html": "<div>\n<style scoped>\n    .dataframe tbody tr th:only-of-type {\n        vertical-align: middle;\n    }\n\n    .dataframe tbody tr th {\n        vertical-align: top;\n    }\n\n    .dataframe thead th {\n        text-align: right;\n    }\n</style>\n<table border=\"1\" class=\"dataframe\">\n  <thead>\n    <tr style=\"text-align: right;\">\n      <th></th>\n      <th>idx</th>\n      <th>mp3_path</th>\n    </tr>\n    <tr>\n      <th>clip_id</th>\n      <th></th>\n      <th></th>\n    </tr>\n  </thead>\n  <tbody>\n    <tr>\n      <th>2</th>\n      <td>2</td>\n      <td>f/american_bach_soloists-j_s__bach_solo_cantat...</td>\n    </tr>\n    <tr>\n      <th>6</th>\n      <td>6</td>\n      <td>f/american_bach_soloists-j_s__bach_solo_cantat...</td>\n    </tr>\n    <tr>\n      <th>10</th>\n      <td>10</td>\n      <td>f/american_bach_soloists-j_s__bach_solo_cantat...</td>\n    </tr>\n    <tr>\n      <th>11</th>\n      <td>11</td>\n      <td>f/american_bach_soloists-j_s__bach_solo_cantat...</td>\n    </tr>\n    <tr>\n      <th>12</th>\n      <td>12</td>\n      <td>f/american_bach_soloists-j_s__bach_solo_cantat...</td>\n    </tr>\n    <tr>\n      <th>...</th>\n      <td>...</td>\n      <td>...</td>\n    </tr>\n    <tr>\n      <th>58899</th>\n      <td>58899</td>\n      <td>8/jacob_heringman-blame_not_my_lute-56-la_bres...</td>\n    </tr>\n    <tr>\n      <th>58906</th>\n      <td>58906</td>\n      <td>8/jacob_heringman-blame_not_my_lute-57-lost_is...</td>\n    </tr>\n    <tr>\n      <th>58907</th>\n      <td>58907</td>\n      <td>8/jacob_heringman-blame_not_my_lute-57-lost_is...</td>\n    </tr>\n    <tr>\n      <th>58908</th>\n      <td>58908</td>\n      <td>8/jacob_heringman-blame_not_my_lute-57-lost_is...</td>\n    </tr>\n    <tr>\n      <th>58915</th>\n      <td>58915</td>\n      <td>8/jacob_heringman-blame_not_my_lute-58-a_toy_f...</td>\n    </tr>\n  </tbody>\n</table>\n<p>19718 rows × 2 columns</p>\n</div>"
     },
     "execution_count": 16,
     "metadata": {},
     "output_type": "execute_result"
    }
   ],
   "source": [
    "dataset = pd.DataFrame(adnotations, columns=['idx', 'mp3_path'])\n",
    "dataset[\"idx\"] = dataset.index\n",
    "dataset"
   ]
  },
  {
   "cell_type": "code",
   "execution_count": 17,
   "metadata": {},
   "outputs": [
    {
     "data": {
      "text/plain": "array([[2,\n        'f/american_bach_soloists-j_s__bach_solo_cantatas-01-bwv54__i_aria-30-59.mp3'],\n       [6,\n        'f/american_bach_soloists-j_s__bach_solo_cantatas-01-bwv54__i_aria-146-175.mp3'],\n       [10,\n        'f/american_bach_soloists-j_s__bach_solo_cantatas-01-bwv54__i_aria-262-291.mp3'],\n       ...,\n       [58907,\n        '8/jacob_heringman-blame_not_my_lute-57-lost_is_my_lyberty-30-59.mp3'],\n       [58908,\n        '8/jacob_heringman-blame_not_my_lute-57-lost_is_my_lyberty-59-88.mp3'],\n       [58915,\n        '8/jacob_heringman-blame_not_my_lute-58-a_toy_for_monica_bishop-0-29.mp3']],\n      dtype=object)"
     },
     "execution_count": 17,
     "metadata": {},
     "output_type": "execute_result"
    }
   ],
   "source": [
    "dataset.to_numpy()"
   ]
  },
  {
   "cell_type": "code",
   "execution_count": 18,
   "outputs": [],
   "source": [
    "train_ratio = 0.75\n",
    "valid_ratio = 0.15\n",
    "test_ratio = 0.1"
   ],
   "metadata": {
    "collapsed": false
   }
  },
  {
   "cell_type": "code",
   "execution_count": 19,
   "outputs": [],
   "source": [
    "train, test = train_test_split(dataset, test_size=1 - train_ratio)\n",
    "valid, test = train_test_split(test, test_size=test_ratio/(test_ratio + valid_ratio))"
   ],
   "metadata": {
    "collapsed": false
   }
  },
  {
   "cell_type": "code",
   "execution_count": 20,
   "metadata": {},
   "outputs": [
    {
     "data": {
      "text/plain": "array([[6595,\n        '6/dr_kuch-analog_disease-02-completly_mysticism-117-146.mp3'],\n       [7400, 'd/tim_rayborn-chordae-02-fors_souvenir-59-88.mp3'],\n       [11678,\n        '4/magnatune-romantic_dinner_classical_compilation-03-asteria__vive_ma_dame-262-291.mp3'],\n       ...,\n       [10511,\n        '5/human_response-survival-02-the_rainy_season-146-175.mp3'],\n       [8986,\n        '2/maryse_carlin-rameau__pieces_de_clavecin_en_concerts__forqueray_suites_4_and_5-02-premier_concert__la_livri_rameau-30-59.mp3'],\n       [18180,\n        'a/asteria-soyes_loyal-04-jatendray_tant_guillaume_dufay-30-59.mp3']],\n      dtype=object)"
     },
     "execution_count": 20,
     "metadata": {},
     "output_type": "execute_result"
    }
   ],
   "source": [
    "dataset_train = train.to_numpy()\n",
    "np.save(open(os.path.join(split_path, 'train.npy'), 'wb'), dataset_train)\n",
    "dataset_train"
   ]
  },
  {
   "cell_type": "code",
   "execution_count": 21,
   "metadata": {},
   "outputs": [
    {
     "data": {
      "text/plain": "array([[17712, '1/jeff_wahl-guinevere-04-freedom-146-175.mp3'],\n       [34917,\n        '8/kourosh_zolani-peaceful_planet-08-butterflies-117-146.mp3'],\n       [26644,\n        'b/seismic_anamoly-dead_mans_hand-06-deep_blue_eee-59-88.mp3'],\n       ...,\n       [3046,\n        '7/jeni_melia-the_last_of_old_england-01-o_waly_waly_trad-146-175.mp3'],\n       [17116,\n        'd/ambient_teknology-the_all_seeing_eye_project-04-confusion_says-0-29.mp3'],\n       [34436,\n        '1/jacob_heringman-holburns_passion-08-a_french_toy_cittern-0-29.mp3']],\n      dtype=object)"
     },
     "execution_count": 21,
     "metadata": {},
     "output_type": "execute_result"
    }
   ],
   "source": [
    "dataset_valid = valid.to_numpy()\n",
    "np.save(open(os.path.join(split_path, 'valid.npy'), 'wb'), dataset_valid)\n",
    "dataset_valid"
   ]
  },
  {
   "cell_type": "code",
   "execution_count": 22,
   "metadata": {},
   "outputs": [
    {
     "data": {
      "text/plain": "array([[13782, '2/indidginus-seismic-03-master_of_masters-349-378.mp3'],\n       [31415,\n        '7/american_bach_soloists-j_s__bach__mass_in_b_minor_cd2-07-et_in_spiritum_sanctum_dominum-262-291.mp3'],\n       [5814,\n        '0/jeffrey_luck_lucas-what_we_whisper-01-you_knew_it_well-175-204.mp3'],\n       ...,\n       [47511, '0/apa_ya-apa_ya-12-african_wedding_song-146-175.mp3'],\n       [35566,\n        'f/kenji_williams-faces_of_epiphany-08-free_energy-88-117.mp3'],\n       [30965, '3/jag-four_strings-07-country_romp-30-59.mp3']],\n      dtype=object)"
     },
     "execution_count": 22,
     "metadata": {},
     "output_type": "execute_result"
    }
   ],
   "source": [
    "dataset_test = test.to_numpy()\n",
    "np.save(open(os.path.join(split_path, 'test.npy'), 'wb'), dataset_test)\n",
    "dataset_test"
   ]
  }
 ],
 "metadata": {
  "kernelspec": {
   "display_name": "Python 3 (ipykernel)",
   "language": "python",
   "name": "python3"
  },
  "language_info": {
   "codemirror_mode": {
    "name": "ipython",
    "version": 3
   },
   "file_extension": ".py",
   "mimetype": "text/x-python",
   "name": "python",
   "nbconvert_exporter": "python",
   "pygments_lexer": "ipython3",
   "version": "3.10.6"
  }
 },
 "nbformat": 4,
 "nbformat_minor": 1
}
