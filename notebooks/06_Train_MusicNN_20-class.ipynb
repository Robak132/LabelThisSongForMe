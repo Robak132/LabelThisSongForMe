{
 "cells": [
  {
   "cell_type": "code",
   "execution_count": 1,
   "metadata": {
    "collapsed": true
   },
   "outputs": [
    {
     "data": {
      "text/plain": "'/mnt/c/Users/kubar/Documents/Sem7/labelthissongforme/notebooks'"
     },
     "execution_count": 1,
     "metadata": {},
     "output_type": "execute_result"
    }
   ],
   "source": [
    "%pwd"
   ]
  },
  {
   "cell_type": "code",
   "execution_count": 2,
   "outputs": [],
   "source": [
    "import os\n",
    "import random\n",
    "import numpy as np\n",
    "import torch\n",
    "import pathlib\n",
    "\n",
    "from external.model import Musicnn\n",
    "from models.preprocessor import PreProcessor\n",
    "from models.common import Config\n",
    "from models.trainer import Trainer\n",
    "from models.tester import Tester"
   ],
   "metadata": {
    "collapsed": false
   }
  },
  {
   "cell_type": "code",
   "execution_count": 3,
   "outputs": [],
   "source": [
    "config = Config(model=Musicnn(n_class=20),\n",
    "                # preprocessor=PreProcessor(input_path=\"../data/mtat/mp3\", output_path=\"../data/mtat/npy\", suffix=\"npy\", sr=16000),\n",
    "                # preprocessor=OpenL3PreProcessor(input_path=\"../data/mtat/mp3\", output_path=\"../data/mtat/emb\", suffix=\"npy\", sr=16000),\n",
    "                n_epochs=20,\n",
    "                batch_size=16,\n",
    "                lr=1e-4,\n",
    "                dataset_split_path=\"../split\",\n",
    "                model_filename_path=\"../models\",\n",
    "                dataset_name=\"mtat-20\",\n",
    "                data_path='../data',\n",
    "                log_step=100,\n",
    "                sr=16000,\n",
    "                input_length=3 * 16000)"
   ],
   "metadata": {
    "collapsed": false
   }
  },
  {
   "cell_type": "code",
   "execution_count": 4,
   "outputs": [
    {
     "name": "stdout",
     "output_type": "stream",
     "text": [
      "Random seed set as 123456\n"
     ]
    }
   ],
   "source": [
    "def set_seed(seed: int = 42) -> None:\n",
    "    np.random.seed(seed)\n",
    "    random.seed(seed)\n",
    "    torch.manual_seed(seed)\n",
    "    torch.cuda.manual_seed(seed)\n",
    "    # Set a fixed value for the hash seed\n",
    "    os.environ[\"PYTHONHASHSEED\"] = str(seed)\n",
    "    print(f\"Random seed set as {seed}\")\n",
    "\n",
    "set_seed(123456)"
   ],
   "metadata": {
    "collapsed": false
   }
  },
  {
   "cell_type": "code",
   "execution_count": 5,
   "outputs": [
    {
     "name": "stdout",
     "output_type": "stream",
     "text": [
      "[2023-03-27 11:49:20] Trainer initialised with CUDA: True\n",
      "[2023-03-27 11:49:27] Tester initialised with CUDA: True and mode: VALID\n",
      "[2023-03-27 11:51:38] Epoch [1/20] Iter [100/925] Loss/train: 0.4805 Elapsed: 0:02:10.248925\n",
      "[2023-03-27 11:52:25] Epoch [1/20] Iter [200/925] Loss/train: 0.4136 Elapsed: 0:02:57.464853\n",
      "[2023-03-27 11:53:14] Epoch [1/20] Iter [300/925] Loss/train: 0.3357 Elapsed: 0:03:46.978153\n",
      "[2023-03-27 11:54:00] Epoch [1/20] Iter [400/925] Loss/train: 0.3002 Elapsed: 0:04:32.469420\n",
      "[2023-03-27 11:54:47] Epoch [1/20] Iter [500/925] Loss/train: 0.3262 Elapsed: 0:05:19.146526\n",
      "[2023-03-27 11:56:25] Epoch [1/20] Iter [600/925] Loss/train: 0.2890 Elapsed: 0:07:35.978143\n",
      "[2023-03-27 11:58:26] Epoch [1/20] Iter [700/925] Loss/train: 0.2910 Elapsed: 0:08:58.871797\n",
      "[2023-03-27 11:59:47] Epoch [1/20] Iter [800/925] Loss/train: 0.2599 Elapsed: 0:10:20.017105\n",
      "[2023-03-27 12:00:56] Epoch [1/20] Iter [900/925] Loss/train: 0.2504 Elapsed: 0:11:28.707205\n"
     ]
    },
    {
     "name": "stderr",
     "output_type": "stream",
     "text": [
      "100%|██████████| 2958/2958 [07:02<00:00,  7.00it/s]\n"
     ]
    },
    {
     "name": "stdout",
     "output_type": "stream",
     "text": [
      "[2023-03-27 12:08:15] Loss/valid: 0.2739\n",
      "[2023-03-27 12:08:15] AUC/ROC: 0.8594\n",
      "[2023-03-27 12:08:15] AUC/PR: 0.4816\n",
      "[2023-03-27 12:08:15] Found new best model\n",
      "[2023-03-27 12:09:02] Epoch [2/20] Iter [100/925] Loss/train: 0.2976 Elapsed: 0:19:35.096162\n",
      "[2023-03-27 12:09:47] Epoch [2/20] Iter [200/925] Loss/train: 0.2424 Elapsed: 0:20:19.868040\n",
      "[2023-03-27 12:10:41] Epoch [2/20] Iter [300/925] Loss/train: 0.2564 Elapsed: 0:21:13.794583\n",
      "[2023-03-27 12:11:22] Epoch [2/20] Iter [400/925] Loss/train: 0.3813 Elapsed: 0:21:54.354488\n",
      "[2023-03-27 12:12:06] Epoch [2/20] Iter [500/925] Loss/train: 0.2513 Elapsed: 0:22:38.197324\n",
      "[2023-03-27 12:12:51] Epoch [2/20] Iter [600/925] Loss/train: 0.2748 Elapsed: 0:23:23.346131\n",
      "[2023-03-27 12:13:35] Epoch [2/20] Iter [700/925] Loss/train: 0.2705 Elapsed: 0:24:07.730410\n",
      "[2023-03-27 12:14:28] Epoch [2/20] Iter [800/925] Loss/train: 0.2530 Elapsed: 0:25:00.725203\n",
      "[2023-03-27 12:15:13] Epoch [2/20] Iter [900/925] Loss/train: 0.2327 Elapsed: 0:25:45.655794\n"
     ]
    },
    {
     "name": "stderr",
     "output_type": "stream",
     "text": [
      "100%|██████████| 2958/2958 [06:35<00:00,  7.48it/s]\n"
     ]
    },
    {
     "name": "stdout",
     "output_type": "stream",
     "text": [
      "[2023-03-27 12:21:58] Loss/valid: 0.2490\n",
      "[2023-03-27 12:21:58] AUC/ROC: 0.8888\n",
      "[2023-03-27 12:21:58] AUC/PR: 0.5379\n",
      "[2023-03-27 12:21:58] Found new best model\n",
      "[2023-03-27 12:22:58] Epoch [3/20] Iter [100/925] Loss/train: 0.2457 Elapsed: 0:33:30.812832\n",
      "[2023-03-27 12:24:04] Epoch [3/20] Iter [200/925] Loss/train: 0.2773 Elapsed: 0:34:36.630625\n",
      "[2023-03-27 12:25:03] Epoch [3/20] Iter [300/925] Loss/train: 0.2486 Elapsed: 0:35:35.543292\n",
      "[2023-03-27 12:26:02] Epoch [3/20] Iter [400/925] Loss/train: 0.2849 Elapsed: 0:36:34.552830\n",
      "[2023-03-27 12:26:52] Epoch [3/20] Iter [500/925] Loss/train: 0.2677 Elapsed: 0:37:25.009482\n",
      "[2023-03-27 12:27:49] Epoch [3/20] Iter [600/925] Loss/train: 0.2374 Elapsed: 0:38:21.830017\n",
      "[2023-03-27 12:28:52] Epoch [3/20] Iter [700/925] Loss/train: 0.1989 Elapsed: 0:39:25.002120\n",
      "[2023-03-27 12:29:46] Epoch [3/20] Iter [800/925] Loss/train: 0.2503 Elapsed: 0:40:19.102154\n",
      "[2023-03-27 12:30:43] Epoch [3/20] Iter [900/925] Loss/train: 0.2888 Elapsed: 0:41:15.894010\n"
     ]
    },
    {
     "name": "stderr",
     "output_type": "stream",
     "text": [
      "100%|██████████| 2958/2958 [06:57<00:00,  7.09it/s]\n"
     ]
    },
    {
     "name": "stdout",
     "output_type": "stream",
     "text": [
      "[2023-03-27 12:37:51] Loss/valid: 0.2411\n",
      "[2023-03-27 12:37:51] AUC/ROC: 0.8982\n",
      "[2023-03-27 12:37:51] AUC/PR: 0.5550\n",
      "[2023-03-27 12:37:51] Found new best model\n",
      "[2023-03-27 12:38:30] Epoch [4/20] Iter [100/925] Loss/train: 0.2824 Elapsed: 0:49:02.274469\n",
      "[2023-03-27 12:39:10] Epoch [4/20] Iter [200/925] Loss/train: 0.2516 Elapsed: 0:49:43.050416\n",
      "[2023-03-27 12:39:52] Epoch [4/20] Iter [300/925] Loss/train: 0.3075 Elapsed: 0:50:24.242966\n",
      "[2023-03-27 12:40:29] Epoch [4/20] Iter [400/925] Loss/train: 0.2480 Elapsed: 0:51:01.386390\n",
      "[2023-03-27 12:41:06] Epoch [4/20] Iter [500/925] Loss/train: 0.2667 Elapsed: 0:51:39.132462\n",
      "[2023-03-27 12:41:44] Epoch [4/20] Iter [600/925] Loss/train: 0.2459 Elapsed: 0:52:17.100416\n",
      "[2023-03-27 12:42:22] Epoch [4/20] Iter [700/925] Loss/train: 0.2269 Elapsed: 0:52:54.833789\n",
      "[2023-03-27 12:43:00] Epoch [4/20] Iter [800/925] Loss/train: 0.2911 Elapsed: 0:53:32.673294\n",
      "[2023-03-27 12:43:38] Epoch [4/20] Iter [900/925] Loss/train: 0.2765 Elapsed: 0:54:10.936610\n"
     ]
    },
    {
     "name": "stderr",
     "output_type": "stream",
     "text": [
      "100%|██████████| 2958/2958 [06:12<00:00,  7.94it/s]\n"
     ]
    },
    {
     "name": "stdout",
     "output_type": "stream",
     "text": [
      "[2023-03-27 12:50:00] Loss/valid: 0.2411\n",
      "[2023-03-27 12:50:00] AUC/ROC: 0.8995\n",
      "[2023-03-27 12:50:00] AUC/PR: 0.5618\n",
      "[2023-03-27 12:50:38] Epoch [5/20] Iter [100/925] Loss/train: 0.2546 Elapsed: 1:01:10.432929\n",
      "[2023-03-27 12:51:21] Epoch [5/20] Iter [200/925] Loss/train: 0.2266 Elapsed: 1:01:54.082165\n",
      "[2023-03-27 12:52:02] Epoch [5/20] Iter [300/925] Loss/train: 0.1846 Elapsed: 1:02:35.117137\n",
      "[2023-03-27 12:52:41] Epoch [5/20] Iter [400/925] Loss/train: 0.2399 Elapsed: 1:03:13.580868\n",
      "[2023-03-27 12:53:19] Epoch [5/20] Iter [500/925] Loss/train: 0.2347 Elapsed: 1:03:51.398568\n",
      "[2023-03-27 12:53:56] Epoch [5/20] Iter [600/925] Loss/train: 0.1944 Elapsed: 1:04:28.419449\n",
      "[2023-03-27 12:54:33] Epoch [5/20] Iter [700/925] Loss/train: 0.2437 Elapsed: 1:05:05.720216\n",
      "[2023-03-27 12:55:13] Epoch [5/20] Iter [800/925] Loss/train: 0.2059 Elapsed: 1:05:45.868428\n",
      "[2023-03-27 12:55:54] Epoch [5/20] Iter [900/925] Loss/train: 0.2144 Elapsed: 1:06:27.136491\n"
     ]
    },
    {
     "name": "stderr",
     "output_type": "stream",
     "text": [
      "100%|██████████| 2958/2958 [06:24<00:00,  7.70it/s]\n"
     ]
    },
    {
     "name": "stdout",
     "output_type": "stream",
     "text": [
      "[2023-03-27 13:02:28] Loss/valid: 0.2295\n",
      "[2023-03-27 13:02:28] AUC/ROC: 0.9084\n",
      "[2023-03-27 13:02:28] AUC/PR: 0.5792\n",
      "[2023-03-27 13:02:28] Found new best model\n",
      "[2023-03-27 13:03:08] Epoch [6/20] Iter [100/925] Loss/train: 0.2414 Elapsed: 1:13:40.545369\n",
      "[2023-03-27 13:03:48] Epoch [6/20] Iter [200/925] Loss/train: 0.3445 Elapsed: 1:14:20.152783\n",
      "[2023-03-27 13:04:27] Epoch [6/20] Iter [300/925] Loss/train: 0.2654 Elapsed: 1:14:59.504909\n",
      "[2023-03-27 13:05:04] Epoch [6/20] Iter [400/925] Loss/train: 0.2580 Elapsed: 1:15:36.300464\n",
      "[2023-03-27 13:05:42] Epoch [6/20] Iter [500/925] Loss/train: 0.2563 Elapsed: 1:16:15.103236\n",
      "[2023-03-27 13:06:22] Epoch [6/20] Iter [600/925] Loss/train: 0.2244 Elapsed: 1:16:54.361135\n",
      "[2023-03-27 13:07:11] Epoch [6/20] Iter [700/925] Loss/train: 0.2057 Elapsed: 1:17:43.299074\n",
      "[2023-03-27 13:07:58] Epoch [6/20] Iter [800/925] Loss/train: 0.2812 Elapsed: 1:18:30.629921\n",
      "[2023-03-27 13:08:37] Epoch [6/20] Iter [900/925] Loss/train: 0.2862 Elapsed: 1:19:10.109858\n"
     ]
    },
    {
     "name": "stderr",
     "output_type": "stream",
     "text": [
      "100%|██████████| 2958/2958 [06:13<00:00,  7.92it/s]\n"
     ]
    },
    {
     "name": "stdout",
     "output_type": "stream",
     "text": [
      "[2023-03-27 13:15:01] Loss/valid: 0.2299\n",
      "[2023-03-27 13:15:01] AUC/ROC: 0.9114\n",
      "[2023-03-27 13:15:01] AUC/PR: 0.5816\n",
      "[2023-03-27 13:15:39] Epoch [7/20] Iter [100/925] Loss/train: 0.2094 Elapsed: 1:26:11.261528\n",
      "[2023-03-27 13:16:16] Epoch [7/20] Iter [200/925] Loss/train: 0.2882 Elapsed: 1:26:49.112003\n",
      "[2023-03-27 13:16:56] Epoch [7/20] Iter [300/925] Loss/train: 0.2107 Elapsed: 1:27:28.413829\n",
      "[2023-03-27 13:17:42] Epoch [7/20] Iter [400/925] Loss/train: 0.2434 Elapsed: 1:28:14.970108\n",
      "[2023-03-27 13:18:21] Epoch [7/20] Iter [500/925] Loss/train: 0.2500 Elapsed: 1:28:53.833818\n",
      "[2023-03-27 13:18:59] Epoch [7/20] Iter [600/925] Loss/train: 0.2903 Elapsed: 1:29:31.398871\n",
      "[2023-03-27 13:19:36] Epoch [7/20] Iter [700/925] Loss/train: 0.2448 Elapsed: 1:30:08.789792\n",
      "[2023-03-27 13:20:15] Epoch [7/20] Iter [800/925] Loss/train: 0.1920 Elapsed: 1:30:47.386569\n",
      "[2023-03-27 13:20:53] Epoch [7/20] Iter [900/925] Loss/train: 0.2211 Elapsed: 1:31:25.337677\n"
     ]
    },
    {
     "name": "stderr",
     "output_type": "stream",
     "text": [
      "100%|██████████| 2958/2958 [06:09<00:00,  8.01it/s]\n"
     ]
    },
    {
     "name": "stdout",
     "output_type": "stream",
     "text": [
      "[2023-03-27 13:27:12] Loss/valid: 0.2263\n",
      "[2023-03-27 13:27:12] AUC/ROC: 0.9114\n",
      "[2023-03-27 13:27:12] AUC/PR: 0.5823\n",
      "[2023-03-27 13:27:12] Found new best model\n",
      "[2023-03-27 13:27:48] Epoch [8/20] Iter [100/925] Loss/train: 0.2192 Elapsed: 1:38:20.936717\n",
      "[2023-03-27 13:28:25] Epoch [8/20] Iter [200/925] Loss/train: 0.2107 Elapsed: 1:38:57.678457\n",
      "[2023-03-27 13:29:05] Epoch [8/20] Iter [300/925] Loss/train: 0.2366 Elapsed: 1:39:37.226788\n",
      "[2023-03-27 13:29:45] Epoch [8/20] Iter [400/925] Loss/train: 0.2618 Elapsed: 1:40:18.012627\n",
      "[2023-03-27 13:30:25] Epoch [8/20] Iter [500/925] Loss/train: 0.2227 Elapsed: 1:40:57.207676\n",
      "[2023-03-27 13:31:02] Epoch [8/20] Iter [600/925] Loss/train: 0.2230 Elapsed: 1:41:34.271082\n",
      "[2023-03-27 13:31:41] Epoch [8/20] Iter [700/925] Loss/train: 0.2143 Elapsed: 1:42:13.416387\n",
      "[2023-03-27 13:32:19] Epoch [8/20] Iter [800/925] Loss/train: 0.2070 Elapsed: 1:42:51.563321\n",
      "[2023-03-27 13:32:58] Epoch [8/20] Iter [900/925] Loss/train: 0.2470 Elapsed: 1:43:30.933737\n"
     ]
    },
    {
     "name": "stderr",
     "output_type": "stream",
     "text": [
      "100%|██████████| 2958/2958 [06:07<00:00,  8.05it/s]\n"
     ]
    },
    {
     "name": "stdout",
     "output_type": "stream",
     "text": [
      "[2023-03-27 13:39:16] Loss/valid: 0.2284\n",
      "[2023-03-27 13:39:16] AUC/ROC: 0.9152\n",
      "[2023-03-27 13:39:16] AUC/PR: 0.5958\n",
      "[2023-03-27 13:40:09] Epoch [9/20] Iter [100/925] Loss/train: 0.2093 Elapsed: 1:50:41.652746\n",
      "[2023-03-27 13:41:00] Epoch [9/20] Iter [200/925] Loss/train: 0.2180 Elapsed: 1:51:32.164086\n",
      "[2023-03-27 13:41:45] Epoch [9/20] Iter [300/925] Loss/train: 0.2100 Elapsed: 1:52:17.718580\n",
      "[2023-03-27 13:42:37] Epoch [9/20] Iter [400/925] Loss/train: 0.2117 Elapsed: 1:53:09.615865\n",
      "[2023-03-27 13:43:26] Epoch [9/20] Iter [500/925] Loss/train: 0.2784 Elapsed: 1:53:58.547310\n",
      "[2023-03-27 13:44:13] Epoch [9/20] Iter [600/925] Loss/train: 0.2197 Elapsed: 1:54:45.513878\n",
      "[2023-03-27 13:44:58] Epoch [9/20] Iter [700/925] Loss/train: 0.2031 Elapsed: 1:55:30.221751\n",
      "[2023-03-27 13:45:47] Epoch [9/20] Iter [800/925] Loss/train: 0.2817 Elapsed: 1:56:19.684888\n",
      "[2023-03-27 13:46:39] Epoch [9/20] Iter [900/925] Loss/train: 0.2527 Elapsed: 1:57:11.738051\n"
     ]
    },
    {
     "name": "stderr",
     "output_type": "stream",
     "text": [
      "100%|██████████| 2958/2958 [06:07<00:00,  8.05it/s]\n"
     ]
    },
    {
     "name": "stdout",
     "output_type": "stream",
     "text": [
      "[2023-03-27 13:52:59] Loss/valid: 0.2229\n",
      "[2023-03-27 13:52:59] AUC/ROC: 0.9160\n",
      "[2023-03-27 13:52:59] AUC/PR: 0.5938\n",
      "[2023-03-27 13:52:59] Found new best model\n",
      "[2023-03-27 13:53:46] Epoch [10/20] Iter [100/925] Loss/train: 0.1976 Elapsed: 2:04:18.949032\n",
      "[2023-03-27 13:54:32] Epoch [10/20] Iter [200/925] Loss/train: 0.2298 Elapsed: 2:05:04.933228\n",
      "[2023-03-27 13:55:19] Epoch [10/20] Iter [300/925] Loss/train: 0.2384 Elapsed: 2:05:51.894428\n",
      "[2023-03-27 13:56:05] Epoch [10/20] Iter [400/925] Loss/train: 0.1988 Elapsed: 2:06:37.383782\n",
      "[2023-03-27 13:56:54] Epoch [10/20] Iter [500/925] Loss/train: 0.1892 Elapsed: 2:07:26.746505\n",
      "[2023-03-27 13:57:46] Epoch [10/20] Iter [600/925] Loss/train: 0.3090 Elapsed: 2:08:18.313066\n",
      "[2023-03-27 13:58:43] Epoch [10/20] Iter [700/925] Loss/train: 0.2448 Elapsed: 2:09:15.480001\n",
      "[2023-03-27 13:59:26] Epoch [10/20] Iter [800/925] Loss/train: 0.2212 Elapsed: 2:09:58.246708\n",
      "[2023-03-27 14:00:10] Epoch [10/20] Iter [900/925] Loss/train: 0.2343 Elapsed: 2:10:42.834834\n"
     ]
    },
    {
     "name": "stderr",
     "output_type": "stream",
     "text": [
      "100%|██████████| 2958/2958 [06:04<00:00,  8.11it/s]\n"
     ]
    },
    {
     "name": "stdout",
     "output_type": "stream",
     "text": [
      "[2023-03-27 14:06:26] Loss/valid: 0.2249\n",
      "[2023-03-27 14:06:26] AUC/ROC: 0.9149\n",
      "[2023-03-27 14:06:26] AUC/PR: 0.5941\n",
      "[2023-03-27 14:07:03] Epoch [11/20] Iter [100/925] Loss/train: 0.2585 Elapsed: 2:17:35.394234\n",
      "[2023-03-27 14:07:41] Epoch [11/20] Iter [200/925] Loss/train: 0.2876 Elapsed: 2:18:13.600088\n",
      "[2023-03-27 14:08:24] Epoch [11/20] Iter [300/925] Loss/train: 0.2472 Elapsed: 2:18:56.275951\n",
      "[2023-03-27 14:09:06] Epoch [11/20] Iter [400/925] Loss/train: 0.2770 Elapsed: 2:19:38.738161\n",
      "[2023-03-27 14:09:54] Epoch [11/20] Iter [500/925] Loss/train: 0.2455 Elapsed: 2:20:26.960457\n",
      "[2023-03-27 14:10:45] Epoch [11/20] Iter [600/925] Loss/train: 0.2840 Elapsed: 2:21:17.820739\n",
      "[2023-03-27 14:11:27] Epoch [11/20] Iter [700/925] Loss/train: 0.2172 Elapsed: 2:21:59.339040\n",
      "[2023-03-27 14:12:12] Epoch [11/20] Iter [800/925] Loss/train: 0.2276 Elapsed: 2:22:44.668361\n",
      "[2023-03-27 14:12:55] Epoch [11/20] Iter [900/925] Loss/train: 0.2745 Elapsed: 2:23:27.745543\n"
     ]
    },
    {
     "name": "stderr",
     "output_type": "stream",
     "text": [
      "100%|██████████| 2958/2958 [06:05<00:00,  8.10it/s]\n"
     ]
    },
    {
     "name": "stdout",
     "output_type": "stream",
     "text": [
      "[2023-03-27 14:19:12] Loss/valid: 0.2187\n",
      "[2023-03-27 14:19:12] AUC/ROC: 0.9197\n",
      "[2023-03-27 14:19:12] AUC/PR: 0.6029\n",
      "[2023-03-27 14:19:12] Found new best model\n",
      "[2023-03-27 14:19:50] Epoch [12/20] Iter [100/925] Loss/train: 0.2444 Elapsed: 2:30:22.273513\n",
      "[2023-03-27 14:20:30] Epoch [12/20] Iter [200/925] Loss/train: 0.2305 Elapsed: 2:31:02.522822\n",
      "[2023-03-27 14:21:09] Epoch [12/20] Iter [300/925] Loss/train: 0.2921 Elapsed: 2:31:41.807487\n",
      "[2023-03-27 14:21:51] Epoch [12/20] Iter [400/925] Loss/train: 0.2500 Elapsed: 2:32:23.204298\n",
      "[2023-03-27 14:22:33] Epoch [12/20] Iter [500/925] Loss/train: 0.2250 Elapsed: 2:33:05.945765\n",
      "[2023-03-27 14:23:15] Epoch [12/20] Iter [600/925] Loss/train: 0.2220 Elapsed: 2:33:47.491054\n",
      "[2023-03-27 14:23:53] Epoch [12/20] Iter [700/925] Loss/train: 0.2019 Elapsed: 2:34:25.317336\n",
      "[2023-03-27 14:24:31] Epoch [12/20] Iter [800/925] Loss/train: 0.1985 Elapsed: 2:35:03.685520\n",
      "[2023-03-27 14:25:13] Epoch [12/20] Iter [900/925] Loss/train: 0.2990 Elapsed: 2:35:45.265225\n"
     ]
    },
    {
     "name": "stderr",
     "output_type": "stream",
     "text": [
      "100%|██████████| 2958/2958 [05:45<00:00,  8.57it/s]\n"
     ]
    },
    {
     "name": "stdout",
     "output_type": "stream",
     "text": [
      "[2023-03-27 14:31:09] Loss/valid: 0.2180\n",
      "[2023-03-27 14:31:09] AUC/ROC: 0.9203\n",
      "[2023-03-27 14:31:09] AUC/PR: 0.6051\n",
      "[2023-03-27 14:31:09] Found new best model\n",
      "[2023-03-27 14:31:52] Epoch [13/20] Iter [100/925] Loss/train: 0.2535 Elapsed: 2:42:24.230845\n",
      "[2023-03-27 14:32:31] Epoch [13/20] Iter [200/925] Loss/train: 0.2728 Elapsed: 2:43:03.783952\n",
      "[2023-03-27 14:33:10] Epoch [13/20] Iter [300/925] Loss/train: 0.2040 Elapsed: 2:43:42.387753\n",
      "[2023-03-27 14:33:47] Epoch [13/20] Iter [400/925] Loss/train: 0.2051 Elapsed: 2:44:19.786187\n",
      "[2023-03-27 14:34:28] Epoch [13/20] Iter [500/925] Loss/train: 0.1889 Elapsed: 2:45:00.808429\n",
      "[2023-03-27 14:35:08] Epoch [13/20] Iter [600/925] Loss/train: 0.2423 Elapsed: 2:45:40.233313\n",
      "[2023-03-27 14:35:47] Epoch [13/20] Iter [700/925] Loss/train: 0.1854 Elapsed: 2:46:19.972538\n",
      "[2023-03-27 14:36:28] Epoch [13/20] Iter [800/925] Loss/train: 0.2025 Elapsed: 2:47:00.799766\n",
      "[2023-03-27 14:37:06] Epoch [13/20] Iter [900/925] Loss/train: 0.1624 Elapsed: 2:47:38.625383\n"
     ]
    },
    {
     "name": "stderr",
     "output_type": "stream",
     "text": [
      "100%|██████████| 2958/2958 [05:54<00:00,  8.34it/s]\n"
     ]
    },
    {
     "name": "stdout",
     "output_type": "stream",
     "text": [
      "[2023-03-27 14:43:10] Loss/valid: 0.2188\n",
      "[2023-03-27 14:43:10] AUC/ROC: 0.9193\n",
      "[2023-03-27 14:43:10] AUC/PR: 0.6079\n",
      "[2023-03-27 14:43:57] Epoch [14/20] Iter [100/925] Loss/train: 0.2955 Elapsed: 2:54:29.469501\n",
      "[2023-03-27 14:44:36] Epoch [14/20] Iter [200/925] Loss/train: 0.2265 Elapsed: 2:55:08.952664\n",
      "[2023-03-27 14:45:13] Epoch [14/20] Iter [300/925] Loss/train: 0.2307 Elapsed: 2:55:45.567441\n",
      "[2023-03-27 14:45:50] Epoch [14/20] Iter [400/925] Loss/train: 0.2204 Elapsed: 2:56:22.519186\n",
      "[2023-03-27 14:46:26] Epoch [14/20] Iter [500/925] Loss/train: 0.2069 Elapsed: 2:56:58.467292\n",
      "[2023-03-27 14:47:00] Epoch [14/20] Iter [600/925] Loss/train: 0.2554 Elapsed: 2:57:32.263654\n",
      "[2023-03-27 14:47:34] Epoch [14/20] Iter [700/925] Loss/train: 0.2037 Elapsed: 2:58:07.065360\n",
      "[2023-03-27 14:48:11] Epoch [14/20] Iter [800/925] Loss/train: 0.2858 Elapsed: 2:58:43.348256\n",
      "[2023-03-27 14:48:47] Epoch [14/20] Iter [900/925] Loss/train: 0.1915 Elapsed: 2:59:19.346930\n"
     ]
    },
    {
     "name": "stderr",
     "output_type": "stream",
     "text": [
      "100%|██████████| 2958/2958 [05:54<00:00,  8.35it/s]\n"
     ]
    },
    {
     "name": "stdout",
     "output_type": "stream",
     "text": [
      "[2023-03-27 14:54:50] Loss/valid: 0.2180\n",
      "[2023-03-27 14:54:50] AUC/ROC: 0.9203\n",
      "[2023-03-27 14:54:50] AUC/PR: 0.6075\n",
      "[2023-03-27 14:55:33] Epoch [15/20] Iter [100/925] Loss/train: 0.1883 Elapsed: 3:06:05.598205\n",
      "[2023-03-27 14:56:20] Epoch [15/20] Iter [200/925] Loss/train: 0.2415 Elapsed: 3:06:52.190671\n",
      "[2023-03-27 14:56:59] Epoch [15/20] Iter [300/925] Loss/train: 0.2061 Elapsed: 3:07:31.199487\n",
      "[2023-03-27 14:57:37] Epoch [15/20] Iter [400/925] Loss/train: 0.2069 Elapsed: 3:08:10.045475\n",
      "[2023-03-27 14:58:20] Epoch [15/20] Iter [500/925] Loss/train: 0.2058 Elapsed: 3:08:53.099542\n",
      "[2023-03-27 14:59:00] Epoch [15/20] Iter [600/925] Loss/train: 0.2548 Elapsed: 3:09:33.093161\n",
      "[2023-03-27 14:59:42] Epoch [15/20] Iter [700/925] Loss/train: 0.2296 Elapsed: 3:10:14.949978\n",
      "[2023-03-27 15:00:25] Epoch [15/20] Iter [800/925] Loss/train: 0.1963 Elapsed: 3:10:57.641828\n",
      "[2023-03-27 15:01:07] Epoch [15/20] Iter [900/925] Loss/train: 0.2566 Elapsed: 3:11:39.500570\n"
     ]
    },
    {
     "name": "stderr",
     "output_type": "stream",
     "text": [
      "100%|██████████| 2958/2958 [05:58<00:00,  8.24it/s]\n"
     ]
    },
    {
     "name": "stdout",
     "output_type": "stream",
     "text": [
      "[2023-03-27 15:07:16] Loss/valid: 0.2179\n",
      "[2023-03-27 15:07:16] AUC/ROC: 0.9204\n",
      "[2023-03-27 15:07:16] AUC/PR: 0.6081\n",
      "[2023-03-27 15:07:16] Found new best model\n",
      "[2023-03-27 15:07:56] Epoch [16/20] Iter [100/925] Loss/train: 0.2542 Elapsed: 3:18:28.306074\n",
      "[2023-03-27 15:08:34] Epoch [16/20] Iter [200/925] Loss/train: 0.2259 Elapsed: 3:19:06.542143\n",
      "[2023-03-27 15:09:09] Epoch [16/20] Iter [300/925] Loss/train: 0.2336 Elapsed: 3:19:41.689785\n",
      "[2023-03-27 15:09:43] Epoch [16/20] Iter [400/925] Loss/train: 0.2823 Elapsed: 3:20:16.002178\n",
      "[2023-03-27 15:10:19] Epoch [16/20] Iter [500/925] Loss/train: 0.2451 Elapsed: 3:20:51.657439\n",
      "[2023-03-27 15:10:57] Epoch [16/20] Iter [600/925] Loss/train: 0.2733 Elapsed: 3:21:29.476904\n",
      "[2023-03-27 15:11:35] Epoch [16/20] Iter [700/925] Loss/train: 0.2485 Elapsed: 3:22:07.930175\n",
      "[2023-03-27 15:12:11] Epoch [16/20] Iter [800/925] Loss/train: 0.1849 Elapsed: 3:22:43.715311\n",
      "[2023-03-27 15:12:48] Epoch [16/20] Iter [900/925] Loss/train: 0.1944 Elapsed: 3:23:20.476935\n"
     ]
    },
    {
     "name": "stderr",
     "output_type": "stream",
     "text": [
      "100%|██████████| 2958/2958 [05:54<00:00,  8.34it/s]\n"
     ]
    },
    {
     "name": "stdout",
     "output_type": "stream",
     "text": [
      "[2023-03-27 15:18:52] Loss/valid: 0.2207\n",
      "[2023-03-27 15:18:52] AUC/ROC: 0.9186\n",
      "[2023-03-27 15:18:52] AUC/PR: 0.6053\n",
      "[2023-03-27 15:19:36] Epoch [17/20] Iter [100/925] Loss/train: 0.2993 Elapsed: 3:30:08.942686\n",
      "[2023-03-27 15:20:17] Epoch [17/20] Iter [200/925] Loss/train: 0.2175 Elapsed: 3:30:49.489285\n",
      "[2023-03-27 15:20:56] Epoch [17/20] Iter [300/925] Loss/train: 0.1975 Elapsed: 3:31:28.823296\n",
      "[2023-03-27 15:21:37] Epoch [17/20] Iter [400/925] Loss/train: 0.2266 Elapsed: 3:32:09.185923\n",
      "[2023-03-27 15:22:15] Epoch [17/20] Iter [500/925] Loss/train: 0.1978 Elapsed: 3:32:47.919231\n",
      "[2023-03-27 15:22:52] Epoch [17/20] Iter [600/925] Loss/train: 0.1836 Elapsed: 3:33:24.988986\n",
      "[2023-03-27 15:23:29] Epoch [17/20] Iter [700/925] Loss/train: 0.2410 Elapsed: 3:34:01.409184\n",
      "[2023-03-27 15:24:07] Epoch [17/20] Iter [800/925] Loss/train: 0.2656 Elapsed: 3:34:39.768610\n",
      "[2023-03-27 15:24:53] Epoch [17/20] Iter [900/925] Loss/train: 0.2236 Elapsed: 3:35:26.122185\n"
     ]
    },
    {
     "name": "stderr",
     "output_type": "stream",
     "text": [
      "100%|██████████| 2958/2958 [06:07<00:00,  8.04it/s]\n"
     ]
    },
    {
     "name": "stdout",
     "output_type": "stream",
     "text": [
      "[2023-03-27 15:31:11] Loss/valid: 0.2158\n",
      "[2023-03-27 15:31:11] AUC/ROC: 0.9209\n",
      "[2023-03-27 15:31:11] AUC/PR: 0.6104\n",
      "[2023-03-27 15:31:11] Found new best model\n",
      "[2023-03-27 15:32:06] Epoch [18/20] Iter [100/925] Loss/train: 0.1958 Elapsed: 3:42:38.505975\n",
      "[2023-03-27 15:33:04] Epoch [18/20] Iter [200/925] Loss/train: 0.2533 Elapsed: 3:43:36.831171\n",
      "[2023-03-27 15:34:01] Epoch [18/20] Iter [300/925] Loss/train: 0.2178 Elapsed: 3:44:33.184434\n",
      "[2023-03-27 15:34:48] Epoch [18/20] Iter [400/925] Loss/train: 0.2666 Elapsed: 3:45:21.121015\n",
      "[2023-03-27 15:35:38] Epoch [18/20] Iter [500/925] Loss/train: 0.2382 Elapsed: 3:46:10.726328\n",
      "[2023-03-27 15:36:25] Epoch [18/20] Iter [600/925] Loss/train: 0.2109 Elapsed: 3:46:58.019690\n",
      "[2023-03-27 15:37:14] Epoch [18/20] Iter [700/925] Loss/train: 0.2272 Elapsed: 3:47:46.488504\n",
      "[2023-03-27 15:38:08] Epoch [18/20] Iter [800/925] Loss/train: 0.2301 Elapsed: 3:48:41.049660\n",
      "[2023-03-27 15:38:53] Epoch [18/20] Iter [900/925] Loss/train: 0.2310 Elapsed: 3:49:25.874687\n"
     ]
    },
    {
     "name": "stderr",
     "output_type": "stream",
     "text": [
      "100%|██████████| 2958/2958 [06:13<00:00,  7.91it/s]\n"
     ]
    },
    {
     "name": "stdout",
     "output_type": "stream",
     "text": [
      "[2023-03-27 15:45:20] Loss/valid: 0.2155\n",
      "[2023-03-27 15:45:20] AUC/ROC: 0.9241\n",
      "[2023-03-27 15:45:20] AUC/PR: 0.6156\n",
      "[2023-03-27 15:45:20] Found new best model\n",
      "[2023-03-27 15:46:03] Epoch [19/20] Iter [100/925] Loss/train: 0.1982 Elapsed: 3:56:36.089938\n",
      "[2023-03-27 15:46:44] Epoch [19/20] Iter [200/925] Loss/train: 0.2569 Elapsed: 3:57:17.090828\n",
      "[2023-03-27 15:47:22] Epoch [19/20] Iter [300/925] Loss/train: 0.2255 Elapsed: 3:57:54.581572\n",
      "[2023-03-27 15:47:57] Epoch [19/20] Iter [400/925] Loss/train: 0.2296 Elapsed: 3:58:29.953851\n",
      "[2023-03-27 15:48:39] Epoch [19/20] Iter [500/925] Loss/train: 0.2126 Elapsed: 3:59:12.031319\n",
      "[2023-03-27 15:49:23] Epoch [19/20] Iter [600/925] Loss/train: 0.2111 Elapsed: 3:59:55.341844\n",
      "[2023-03-27 15:50:04] Epoch [19/20] Iter [700/925] Loss/train: 0.2441 Elapsed: 4:00:37.064361\n",
      "[2023-03-27 15:50:43] Epoch [19/20] Iter [800/925] Loss/train: 0.2166 Elapsed: 4:01:15.553249\n",
      "[2023-03-27 15:51:28] Epoch [19/20] Iter [900/925] Loss/train: 0.1541 Elapsed: 4:02:00.718422\n"
     ]
    },
    {
     "name": "stderr",
     "output_type": "stream",
     "text": [
      "100%|██████████| 2958/2958 [06:23<00:00,  7.71it/s]\n"
     ]
    },
    {
     "name": "stdout",
     "output_type": "stream",
     "text": [
      "[2023-03-27 15:58:03] Loss/valid: 0.2142\n",
      "[2023-03-27 15:58:03] AUC/ROC: 0.9236\n",
      "[2023-03-27 15:58:03] AUC/PR: 0.6165\n",
      "[2023-03-27 15:58:03] Found new best model\n",
      "[2023-03-27 15:58:47] Epoch [20/20] Iter [100/925] Loss/train: 0.2179 Elapsed: 4:09:19.601491\n",
      "[2023-03-27 15:59:35] Epoch [20/20] Iter [200/925] Loss/train: 0.2297 Elapsed: 4:10:07.368969\n",
      "[2023-03-27 16:00:20] Epoch [20/20] Iter [300/925] Loss/train: 0.2598 Elapsed: 4:10:52.947864\n",
      "[2023-03-27 16:01:05] Epoch [20/20] Iter [400/925] Loss/train: 0.2337 Elapsed: 4:11:38.097774\n",
      "[2023-03-27 16:01:49] Epoch [20/20] Iter [500/925] Loss/train: 0.2219 Elapsed: 4:12:21.370053\n",
      "[2023-03-27 16:02:24] Epoch [20/20] Iter [600/925] Loss/train: 0.1639 Elapsed: 4:12:56.289242\n",
      "[2023-03-27 16:02:58] Epoch [20/20] Iter [700/925] Loss/train: 0.2479 Elapsed: 4:13:30.757251\n",
      "[2023-03-27 16:03:34] Epoch [20/20] Iter [800/925] Loss/train: 0.2121 Elapsed: 4:14:06.748544\n",
      "[2023-03-27 16:04:09] Epoch [20/20] Iter [900/925] Loss/train: 0.1843 Elapsed: 4:14:41.355793\n"
     ]
    },
    {
     "name": "stderr",
     "output_type": "stream",
     "text": [
      "100%|██████████| 2958/2958 [05:53<00:00,  8.36it/s]"
     ]
    },
    {
     "name": "stdout",
     "output_type": "stream",
     "text": [
      "[2023-03-27 16:10:11] Loss/valid: 0.2149\n",
      "[2023-03-27 16:10:11] AUC/ROC: 0.9223\n",
      "[2023-03-27 16:10:11] AUC/PR: 0.6144\n",
      "2023-03-27 16:10:11] Train finished. Elapsed: 4:20:43.539643\n"
     ]
    },
    {
     "name": "stderr",
     "output_type": "stream",
     "text": [
      "\n"
     ]
    }
   ],
   "source": [
    "trainer = Trainer(config)\n",
    "trainer.train()"
   ],
   "metadata": {
    "collapsed": false
   }
  },
  {
   "cell_type": "code",
   "execution_count": null,
   "outputs": [
    {
     "name": "stdout",
     "output_type": "stream",
     "text": [
      "[2023-03-27 16:10:11] Tester initialised with CUDA: True and mode: TEST\n"
     ]
    },
    {
     "name": "stderr",
     "output_type": "stream",
     "text": [
      "100%|██████████| 1972/1972 [04:38<00:00,  7.07it/s]\n"
     ]
    },
    {
     "name": "stdout",
     "output_type": "stream",
     "text": [
      "[2023-03-27 16:14:50] Loss/valid: 0.2136\n",
      "[2023-03-27 16:14:50] AUC/ROC: 0.9239\n",
      "[2023-03-27 16:14:50] AUC/PR: 0.6157\n"
     ]
    }
   ],
   "source": [
    "tester = Tester(config, trainer.model_file_name)\n",
    "tester.test()"
   ],
   "metadata": {
    "collapsed": false,
    "pycharm": {
     "is_executing": true
    }
   }
  }
 ],
 "metadata": {
  "kernelspec": {
   "display_name": "Python 3",
   "language": "python",
   "name": "python3"
  },
  "language_info": {
   "codemirror_mode": {
    "name": "ipython",
    "version": 2
   },
   "file_extension": ".py",
   "mimetype": "text/x-python",
   "name": "python",
   "nbconvert_exporter": "python",
   "pygments_lexer": "ipython2",
   "version": "2.7.6"
  }
 },
 "nbformat": 4,
 "nbformat_minor": 0
}
