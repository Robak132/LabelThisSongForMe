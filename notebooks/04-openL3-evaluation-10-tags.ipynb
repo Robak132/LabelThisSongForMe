{
 "cells": [
  {
   "cell_type": "code",
   "execution_count": 1,
   "metadata": {
    "ExecuteTime": {
     "start_time": "2023-05-04T13:12:33.793130Z",
     "end_time": "2023-05-04T13:12:36.869703Z"
    }
   },
   "outputs": [],
   "source": [
    "import os\n",
    "import pathlib\n",
    "import random\n",
    "\n",
    "import numpy as np\n",
    "import torch\n",
    "from tqdm import tqdm\n",
    "\n",
    "from utils.common import load_file_lists"
   ]
  },
  {
   "cell_type": "code",
   "execution_count": 2,
   "outputs": [],
   "source": [
    "def create_features(split_path):\n",
    "    binary = {row[0]: row[1:] for row in np.load(os.path.join(split_path, \"binary.npy\"), allow_pickle=True)}\n",
    "    X_train = []\n",
    "    Y_train = []\n",
    "    test_data = load_file_lists([os.path.join(split_path, \"train.npy\"), os.path.join(split_path, \"valid.npy\")])\n",
    "    for idx, filename in tqdm(test_data):\n",
    "        filename = os.path.join(\"../data/mtat/emb\", str(pathlib.Path(filename).with_suffix(\".npy\")))\n",
    "        file_data = np.load(filename, allow_pickle=True).flatten()\n",
    "        X_train.append(file_data)\n",
    "        Y_train.append(binary[int(idx)])\n",
    "    X_train = np.array(X_train)\n",
    "    Y_train = np.array(Y_train)\n",
    "    return X_train, Y_train"
   ],
   "metadata": {
    "collapsed": false,
    "ExecuteTime": {
     "start_time": "2023-05-04T13:12:36.876610Z",
     "end_time": "2023-05-04T13:12:36.880247Z"
    }
   }
  },
  {
   "cell_type": "code",
   "execution_count": 3,
   "outputs": [],
   "source": [
    "def set_seed(seed: int = 42) -> None:\n",
    "    np.random.seed(seed)\n",
    "    random.seed(seed)\n",
    "    torch.manual_seed(seed)\n",
    "    torch.cuda.manual_seed(seed)\n",
    "    # Set a fixed value for the hash seed\n",
    "    os.environ[\"PYTHONHASHSEED\"] = str(seed)\n",
    "    print(f\"Random seed set as {seed}\")"
   ],
   "metadata": {
    "collapsed": false,
    "ExecuteTime": {
     "start_time": "2023-05-04T13:12:36.880247Z",
     "end_time": "2023-05-04T13:12:36.884244Z"
    }
   }
  },
  {
   "cell_type": "code",
   "execution_count": 4,
   "metadata": {
    "ExecuteTime": {
     "start_time": "2023-05-04T13:12:36.886245Z",
     "end_time": "2023-05-04T13:12:36.893599Z"
    }
   },
   "outputs": [
    {
     "name": "stdout",
     "output_type": "stream",
     "text": [
      "Random seed set as 123456\n"
     ]
    }
   ],
   "source": [
    "set_seed(123456)"
   ]
  },
  {
   "cell_type": "code",
   "execution_count": null,
   "outputs": [
    {
     "name": "stderr",
     "output_type": "stream",
     "text": [
      " 96%|█████████▌| 14233/14822 [02:10<00:04, 140.18it/s]"
     ]
    }
   ],
   "source": [
    "dataset_name = \"mtat-10\"\n",
    "split_path = \"../split\"\n",
    "features_path = \"../data/mtat/features/\"\n",
    "\n",
    "split_path = os.path.join(split_path, dataset_name)\n",
    "os.makedirs(split_path, exist_ok=True)\n",
    "X_train, Y_train = create_features(split_path)"
   ],
   "metadata": {
    "collapsed": false,
    "ExecuteTime": {
     "start_time": "2023-05-04T12:59:07.041092Z",
     "end_time": "2023-05-04T13:01:47.440463Z"
    },
    "pycharm": {
     "is_executing": true
    }
   }
  },
  {
   "cell_type": "code",
   "execution_count": null,
   "metadata": {
    "ExecuteTime": {
     "start_time": "2023-05-04T13:01:47.440463Z",
     "end_time": "2023-05-04T13:01:47.504871Z"
    },
    "pycharm": {
     "is_executing": true
    }
   },
   "outputs": [],
   "source": [
    "X_train"
   ]
  },
  {
   "cell_type": "code",
   "execution_count": null,
   "metadata": {
    "ExecuteTime": {
     "start_time": "2023-05-04T13:01:47.510071Z",
     "end_time": "2023-05-04T13:01:47.512071Z"
    },
    "pycharm": {
     "is_executing": true
    }
   },
   "outputs": [],
   "source": [
    "Y_train"
   ]
  },
  {
   "cell_type": "code",
   "execution_count": null,
   "outputs": [],
   "source": [
    "from sklearn.exceptions import UndefinedMetricWarning\n",
    "from utils.config import Config\n",
    "from components.tester import SklearnTester\n",
    "from sklearn.ensemble import RandomForestClassifier\n",
    "from sklearn.tree import DecisionTreeClassifier\n",
    "from sklearn.neighbors import KNeighborsClassifier, RadiusNeighborsClassifier\n",
    "\n",
    "import warnings\n",
    "warnings.simplefilter(action='ignore', category=UndefinedMetricWarning)\n",
    "\n",
    "\n",
    "config = Config(model=None, model_filename_path=\"../models\", data_path='../data',\n",
    "                dataset_split_path=\"../split\", dataset_name=f\"mtat-10\")\n",
    "tester = SklearnTester(config)\n",
    "\n",
    "models = [\n",
    "    RandomForestClassifier(bootstrap=True,\n",
    "                           max_depth=20,\n",
    "                           max_features='sqrt',\n",
    "                           n_jobs=4,\n",
    "                           random_state=1,\n",
    "                           warm_start=True),\n",
    "    DecisionTreeClassifier(max_depth=20,\n",
    "                           max_features='sqrt',\n",
    "                           random_state=1),\n",
    "    KNeighborsClassifier(),\n",
    "    RadiusNeighborsClassifier(radius=100.)\n",
    "]\n",
    "for model in models:\n",
    "    model.fit(X_train, Y_train)\n",
    "    stats = tester.test(model)"
   ],
   "metadata": {
    "collapsed": false,
    "ExecuteTime": {
     "start_time": "2023-05-04T13:05:40.639896Z",
     "end_time": "2023-05-04T13:09:11.283237Z"
    },
    "pycharm": {
     "is_executing": true
    }
   }
  },
  {
   "cell_type": "code",
   "execution_count": null,
   "outputs": [],
   "source": [],
   "metadata": {
    "collapsed": false,
    "pycharm": {
     "is_executing": true
    }
   }
  }
 ],
 "metadata": {
  "kernelspec": {
   "display_name": "Python 3 (ipykernel)",
   "language": "python",
   "name": "python3"
  },
  "language_info": {
   "codemirror_mode": {
    "name": "ipython",
    "version": 3
   },
   "file_extension": ".py",
   "mimetype": "text/x-python",
   "name": "python",
   "nbconvert_exporter": "python",
   "pygments_lexer": "ipython3",
   "version": "3.10.6"
  }
 },
 "nbformat": 4,
 "nbformat_minor": 1
}
