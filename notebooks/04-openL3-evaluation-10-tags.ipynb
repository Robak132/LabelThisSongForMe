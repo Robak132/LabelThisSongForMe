{
 "cells": [
  {
   "cell_type": "code",
   "execution_count": 1,
   "metadata": {
    "ExecuteTime": {
     "start_time": "2023-05-04T13:12:33.793130Z",
     "end_time": "2023-05-04T13:12:36.869703Z"
    }
   },
   "outputs": [],
   "source": [
    "import os\n",
    "import pathlib\n",
    "import random\n",
    "\n",
    "import numpy as np\n",
    "import torch\n",
    "from tqdm import tqdm\n",
    "\n",
    "from utils.common import load_file_lists"
   ]
  },
  {
   "cell_type": "code",
   "execution_count": 2,
   "outputs": [],
   "source": [
    "def create_features(split_path):\n",
    "    binary = {row[0]: row[1:] for row in np.load(os.path.join(split_path, \"binary.npy\"), allow_pickle=True)}\n",
    "    X_train = []\n",
    "    Y_train = []\n",
    "    test_data = load_file_lists([os.path.join(split_path, \"train.npy\"), os.path.join(split_path, \"valid.npy\")])\n",
    "    for idx, filename in tqdm(test_data):\n",
    "        filename = os.path.join(\"../data/mtat/emb\", str(pathlib.Path(filename).with_suffix(\".npy\")))\n",
    "        file_data = np.load(filename, allow_pickle=True).flatten()\n",
    "        X_train.append(file_data)\n",
    "        Y_train.append(binary[int(idx)])\n",
    "    X_train = np.array(X_train)\n",
    "    Y_train = np.array(Y_train)\n",
    "    return X_train, Y_train"
   ],
   "metadata": {
    "collapsed": false,
    "ExecuteTime": {
     "start_time": "2023-05-04T13:12:36.876610Z",
     "end_time": "2023-05-04T13:12:36.880247Z"
    }
   }
  },
  {
   "cell_type": "code",
   "execution_count": 3,
   "outputs": [],
   "source": [
    "def set_seed(seed: int = 42) -> None:\n",
    "    np.random.seed(seed)\n",
    "    random.seed(seed)\n",
    "    torch.manual_seed(seed)\n",
    "    torch.cuda.manual_seed(seed)\n",
    "    # Set a fixed value for the hash seed\n",
    "    os.environ[\"PYTHONHASHSEED\"] = str(seed)\n",
    "    print(f\"Random seed set as {seed}\")"
   ],
   "metadata": {
    "collapsed": false,
    "ExecuteTime": {
     "start_time": "2023-05-04T13:12:36.880247Z",
     "end_time": "2023-05-04T13:12:36.884244Z"
    }
   }
  },
  {
   "cell_type": "code",
   "execution_count": 4,
   "metadata": {
    "ExecuteTime": {
     "start_time": "2023-05-04T13:12:36.886245Z",
     "end_time": "2023-05-04T13:12:36.893599Z"
    }
   },
   "outputs": [
    {
     "name": "stdout",
     "output_type": "stream",
     "text": [
      "Random seed set as 123456\n"
     ]
    }
   ],
   "source": [
    "set_seed(123456)"
   ]
  },
  {
   "cell_type": "code",
   "execution_count": 5,
   "outputs": [
    {
     "name": "stderr",
     "output_type": "stream",
     "text": [
      "100%|██████████| 14822/14822 [02:15<00:00, 109.32it/s]\n"
     ]
    }
   ],
   "source": [
    "dataset_name = \"mtat-10\"\n",
    "split_path = \"../split\"\n",
    "features_path = \"../data/mtat/features/\"\n",
    "\n",
    "split_path = os.path.join(split_path, dataset_name)\n",
    "os.makedirs(split_path, exist_ok=True)\n",
    "X_train, Y_train = create_features(split_path)"
   ],
   "metadata": {
    "collapsed": false,
    "ExecuteTime": {
     "start_time": "2023-05-04T13:12:36.935597Z",
     "end_time": "2023-05-04T13:14:54.532605Z"
    }
   }
  },
  {
   "cell_type": "code",
   "execution_count": 6,
   "metadata": {
    "ExecuteTime": {
     "start_time": "2023-05-04T13:14:54.532605Z",
     "end_time": "2023-05-04T13:14:54.551353Z"
    }
   },
   "outputs": [
    {
     "data": {
      "text/plain": "array([[2.4309678 , 2.0419495 , 2.9835021 , ..., 0.596608  , 3.3791773 ,\n        2.851194  ],\n       [2.4309678 , 2.2831523 , 3.713408  , ..., 2.5958302 , 3.2312474 ,\n        2.98357   ],\n       [2.4309678 , 2.447584  , 3.6947517 , ..., 1.0246372 , 3.075337  ,\n        2.389415  ],\n       ...,\n       [2.4309678 , 2.4188912 , 2.992663  , ..., 1.7392542 , 3.2222848 ,\n        2.2493355 ],\n       [2.4584339 , 2.48222   , 4.454659  , ..., 2.301653  , 3.4233615 ,\n        3.2996736 ],\n       [2.4309678 , 3.1145184 , 2.6744354 , ..., 0.98018384, 3.6385753 ,\n        3.348161  ]], dtype=float32)"
     },
     "execution_count": 6,
     "metadata": {},
     "output_type": "execute_result"
    }
   ],
   "source": [
    "X_train"
   ]
  },
  {
   "cell_type": "code",
   "execution_count": 7,
   "metadata": {
    "ExecuteTime": {
     "start_time": "2023-05-04T13:14:54.554352Z",
     "end_time": "2023-05-04T13:14:54.560351Z"
    }
   },
   "outputs": [
    {
     "data": {
      "text/plain": "array([[0, 1, 0, ..., 0, 0, 1],\n       [0, 0, 0, ..., 1, 0, 0],\n       [1, 0, 1, ..., 0, 0, 0],\n       ...,\n       [0, 0, 0, ..., 1, 0, 0],\n       [0, 0, 0, ..., 0, 0, 0],\n       [1, 0, 0, ..., 0, 0, 1]])"
     },
     "execution_count": 7,
     "metadata": {},
     "output_type": "execute_result"
    }
   ],
   "source": [
    "Y_train"
   ]
  },
  {
   "cell_type": "code",
   "execution_count": 9,
   "outputs": [
    {
     "name": "stdout",
     "output_type": "stream",
     "text": [
      "[2023-05-04 13:24:06] Tester initialised with CUDA: False and mode: TEST\n",
      "Cannot use cuda for model, defaulting to cpu\n"
     ]
    },
    {
     "name": "stderr",
     "output_type": "stream",
     "text": [
      "100%|██████████| 1648/1648 [00:11<00:00, 139.58it/s]\n"
     ]
    },
    {
     "name": "stdout",
     "output_type": "stream",
     "text": [
      "[2023-05-04 13:28:37] F1 Score: 0.4837\n",
      "[2023-05-04 13:28:37] AUC/ROC: 0.8994\n",
      "[2023-05-04 13:28:37] AUC/PR: 0.6859\n"
     ]
    },
    {
     "ename": "KeyboardInterrupt",
     "evalue": "",
     "output_type": "error",
     "traceback": [
      "\u001B[0;31m---------------------------------------------------------------------------\u001B[0m",
      "\u001B[0;31mKeyboardInterrupt\u001B[0m                         Traceback (most recent call last)",
      "Cell \u001B[0;32mIn[9], line 23\u001B[0m\n\u001B[1;32m     16\u001B[0m models \u001B[38;5;241m=\u001B[39m [\n\u001B[1;32m     17\u001B[0m     RandomForestClassifier(),\n\u001B[1;32m     18\u001B[0m     DecisionTreeClassifier(),\n\u001B[1;32m     19\u001B[0m     KNeighborsClassifier(),\n\u001B[1;32m     20\u001B[0m     RadiusNeighborsClassifier()\n\u001B[1;32m     21\u001B[0m ]\n\u001B[1;32m     22\u001B[0m \u001B[38;5;28;01mfor\u001B[39;00m model \u001B[38;5;129;01min\u001B[39;00m models:\n\u001B[0;32m---> 23\u001B[0m     \u001B[43mmodel\u001B[49m\u001B[38;5;241;43m.\u001B[39;49m\u001B[43mfit\u001B[49m\u001B[43m(\u001B[49m\u001B[43mX_train\u001B[49m\u001B[43m,\u001B[49m\u001B[43m \u001B[49m\u001B[43mY_train\u001B[49m\u001B[43m)\u001B[49m\n\u001B[1;32m     24\u001B[0m     stats \u001B[38;5;241m=\u001B[39m tester\u001B[38;5;241m.\u001B[39mtest(model)\n",
      "File \u001B[0;32m~/.virtualenvs/labelthissongforme/lib/python3.10/site-packages/sklearn/tree/_classes.py:889\u001B[0m, in \u001B[0;36mDecisionTreeClassifier.fit\u001B[0;34m(self, X, y, sample_weight, check_input)\u001B[0m\n\u001B[1;32m    859\u001B[0m \u001B[38;5;28;01mdef\u001B[39;00m \u001B[38;5;21mfit\u001B[39m(\u001B[38;5;28mself\u001B[39m, X, y, sample_weight\u001B[38;5;241m=\u001B[39m\u001B[38;5;28;01mNone\u001B[39;00m, check_input\u001B[38;5;241m=\u001B[39m\u001B[38;5;28;01mTrue\u001B[39;00m):\n\u001B[1;32m    860\u001B[0m \u001B[38;5;250m    \u001B[39m\u001B[38;5;124;03m\"\"\"Build a decision tree classifier from the training set (X, y).\u001B[39;00m\n\u001B[1;32m    861\u001B[0m \n\u001B[1;32m    862\u001B[0m \u001B[38;5;124;03m    Parameters\u001B[39;00m\n\u001B[0;32m   (...)\u001B[0m\n\u001B[1;32m    886\u001B[0m \u001B[38;5;124;03m        Fitted estimator.\u001B[39;00m\n\u001B[1;32m    887\u001B[0m \u001B[38;5;124;03m    \"\"\"\u001B[39;00m\n\u001B[0;32m--> 889\u001B[0m     \u001B[38;5;28;43msuper\u001B[39;49m\u001B[43m(\u001B[49m\u001B[43m)\u001B[49m\u001B[38;5;241;43m.\u001B[39;49m\u001B[43mfit\u001B[49m\u001B[43m(\u001B[49m\n\u001B[1;32m    890\u001B[0m \u001B[43m        \u001B[49m\u001B[43mX\u001B[49m\u001B[43m,\u001B[49m\n\u001B[1;32m    891\u001B[0m \u001B[43m        \u001B[49m\u001B[43my\u001B[49m\u001B[43m,\u001B[49m\n\u001B[1;32m    892\u001B[0m \u001B[43m        \u001B[49m\u001B[43msample_weight\u001B[49m\u001B[38;5;241;43m=\u001B[39;49m\u001B[43msample_weight\u001B[49m\u001B[43m,\u001B[49m\n\u001B[1;32m    893\u001B[0m \u001B[43m        \u001B[49m\u001B[43mcheck_input\u001B[49m\u001B[38;5;241;43m=\u001B[39;49m\u001B[43mcheck_input\u001B[49m\u001B[43m,\u001B[49m\n\u001B[1;32m    894\u001B[0m \u001B[43m    \u001B[49m\u001B[43m)\u001B[49m\n\u001B[1;32m    895\u001B[0m     \u001B[38;5;28;01mreturn\u001B[39;00m \u001B[38;5;28mself\u001B[39m\n",
      "File \u001B[0;32m~/.virtualenvs/labelthissongforme/lib/python3.10/site-packages/sklearn/tree/_classes.py:379\u001B[0m, in \u001B[0;36mBaseDecisionTree.fit\u001B[0;34m(self, X, y, sample_weight, check_input)\u001B[0m\n\u001B[1;32m    368\u001B[0m \u001B[38;5;28;01melse\u001B[39;00m:\n\u001B[1;32m    369\u001B[0m     builder \u001B[38;5;241m=\u001B[39m BestFirstTreeBuilder(\n\u001B[1;32m    370\u001B[0m         splitter,\n\u001B[1;32m    371\u001B[0m         min_samples_split,\n\u001B[0;32m   (...)\u001B[0m\n\u001B[1;32m    376\u001B[0m         \u001B[38;5;28mself\u001B[39m\u001B[38;5;241m.\u001B[39mmin_impurity_decrease,\n\u001B[1;32m    377\u001B[0m     )\n\u001B[0;32m--> 379\u001B[0m \u001B[43mbuilder\u001B[49m\u001B[38;5;241;43m.\u001B[39;49m\u001B[43mbuild\u001B[49m\u001B[43m(\u001B[49m\u001B[38;5;28;43mself\u001B[39;49m\u001B[38;5;241;43m.\u001B[39;49m\u001B[43mtree_\u001B[49m\u001B[43m,\u001B[49m\u001B[43m \u001B[49m\u001B[43mX\u001B[49m\u001B[43m,\u001B[49m\u001B[43m \u001B[49m\u001B[43my\u001B[49m\u001B[43m,\u001B[49m\u001B[43m \u001B[49m\u001B[43msample_weight\u001B[49m\u001B[43m)\u001B[49m\n\u001B[1;32m    381\u001B[0m \u001B[38;5;28;01mif\u001B[39;00m \u001B[38;5;28mself\u001B[39m\u001B[38;5;241m.\u001B[39mn_outputs_ \u001B[38;5;241m==\u001B[39m \u001B[38;5;241m1\u001B[39m \u001B[38;5;129;01mand\u001B[39;00m is_classifier(\u001B[38;5;28mself\u001B[39m):\n\u001B[1;32m    382\u001B[0m     \u001B[38;5;28mself\u001B[39m\u001B[38;5;241m.\u001B[39mn_classes_ \u001B[38;5;241m=\u001B[39m \u001B[38;5;28mself\u001B[39m\u001B[38;5;241m.\u001B[39mn_classes_[\u001B[38;5;241m0\u001B[39m]\n",
      "\u001B[0;31mKeyboardInterrupt\u001B[0m: "
     ]
    }
   ],
   "source": [
    "from sklearn.exceptions import UndefinedMetricWarning\n",
    "from utils.config import Config\n",
    "from components.tester import SklearnTester\n",
    "from sklearn.ensemble import RandomForestClassifier\n",
    "from sklearn.tree import DecisionTreeClassifier\n",
    "from sklearn.neighbors import KNeighborsClassifier, RadiusNeighborsClassifier\n",
    "\n",
    "import warnings\n",
    "warnings.simplefilter(action='ignore', category=UndefinedMetricWarning)\n",
    "\n",
    "\n",
    "config = Config(model=None, model_filename_path=\"../models\", data_path='../data',\n",
    "                dataset_split_path=\"../split\", dataset_name=f\"mtat-10\")\n",
    "tester = SklearnTester(config)\n",
    "\n",
    "models = [\n",
    "    RandomForestClassifier(),\n",
    "    DecisionTreeClassifier(),\n",
    "    KNeighborsClassifier(),\n",
    "    RadiusNeighborsClassifier()\n",
    "]\n",
    "for model in models:\n",
    "    model.fit(X_train, Y_train)\n",
    "    stats = tester.test(model)"
   ],
   "metadata": {
    "collapsed": false,
    "ExecuteTime": {
     "start_time": "2023-05-04T13:14:54.571656Z",
     "end_time": "2023-05-04T13:17:35.746788Z"
    }
   }
  },
  {
   "cell_type": "code",
   "execution_count": 8,
   "outputs": [],
   "source": [],
   "metadata": {
    "collapsed": false,
    "ExecuteTime": {
     "start_time": "2023-05-04T13:17:35.746788Z",
     "end_time": "2023-05-04T13:17:35.749823Z"
    }
   }
  }
 ],
 "metadata": {
  "kernelspec": {
   "display_name": "Python 3 (ipykernel)",
   "language": "python",
   "name": "python3"
  },
  "language_info": {
   "codemirror_mode": {
    "name": "ipython",
    "version": 3
   },
   "file_extension": ".py",
   "mimetype": "text/x-python",
   "name": "python",
   "nbconvert_exporter": "python",
   "pygments_lexer": "ipython3",
   "version": "3.10.6"
  }
 },
 "nbformat": 4,
 "nbformat_minor": 1
}
