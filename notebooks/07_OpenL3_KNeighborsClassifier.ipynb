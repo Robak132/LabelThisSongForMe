{
 "cells": [
  {
   "cell_type": "code",
   "execution_count": 9,
   "metadata": {},
   "outputs": [],
   "source": [
    "import os\n",
    "import random\n",
    "import numpy as np\n",
    "import torch\n",
    "import pathlib\n",
    "\n",
    "from sklearn.model_selection import train_test_split\n",
    "from components.common import load_file_lists"
   ]
  },
  {
   "cell_type": "code",
   "execution_count": 10,
   "outputs": [],
   "source": [
    "def create_features(features_path, split_path):\n",
    "    try:\n",
    "        X_np = np.load(os.path.join(features_path, \"X.npy\"), allow_pickle=True)\n",
    "        Y_np = np.load(os.path.join(features_path, \"Y.npy\"), allow_pickle=True)\n",
    "    except OSError:\n",
    "        X = []\n",
    "        Y = []\n",
    "        data = load_file_lists([\n",
    "            os.path.join(split_path, \"train.npy\"),\n",
    "            os.path.join(split_path, \"valid.npy\"),\n",
    "            os.path.join(split_path, \"test.npy\")\n",
    "        ])\n",
    "        binary = {row[0]: row[1:] for row in np.load(os.path.join(split_path, \"binary.npy\"), allow_pickle=True)}\n",
    "        for idx, filename in data:\n",
    "            filename = os.path.join(\"../data/mtat/emb\", str(pathlib.Path(filename).with_suffix(\".npy\")))\n",
    "            file_data = np.load(filename, allow_pickle=True).flatten()\n",
    "            X.append(file_data)\n",
    "            Y.append(binary[int(idx)])\n",
    "        X_np = np.array(X)\n",
    "        Y_np = np.array(Y)\n",
    "        np.save(os.path.join(features_path, \"X.npy\"), X_np)\n",
    "        np.save(os.path.join(features_path, \"y.npy\"), Y_np)\n",
    "    return X_np, Y_np"
   ],
   "metadata": {
    "collapsed": false
   }
  },
  {
   "cell_type": "code",
   "execution_count": 11,
   "outputs": [],
   "source": [
    "def set_seed(seed: int = 42) -> None:\n",
    "    np.random.seed(seed)\n",
    "    random.seed(seed)\n",
    "    torch.manual_seed(seed)\n",
    "    torch.cuda.manual_seed(seed)\n",
    "    os.environ[\"PYTHONHASHSEED\"] = str(seed)\n",
    "    print(f\"Random seed set as {seed}\")"
   ],
   "metadata": {
    "collapsed": false
   }
  },
  {
   "cell_type": "code",
   "execution_count": 12,
   "metadata": {},
   "outputs": [
    {
     "name": "stdout",
     "output_type": "stream",
     "text": [
      "Random seed set as 123456\n"
     ]
    }
   ],
   "source": [
    "set_seed(123456)"
   ]
  },
  {
   "cell_type": "code",
   "execution_count": 13,
   "outputs": [],
   "source": [
    "dataset_name = \"mtat-10\"\n",
    "split_path = \"../split\"\n",
    "features_path = \"../data/mtat/features/\"\n",
    "\n",
    "split_path = os.path.join(split_path, dataset_name)\n",
    "features_path = os.path.join(features_path, dataset_name)\n",
    "os.makedirs(split_path, exist_ok=True)\n",
    "os.makedirs(features_path, exist_ok=True)"
   ],
   "metadata": {
    "collapsed": false
   }
  },
  {
   "cell_type": "code",
   "execution_count": 14,
   "outputs": [],
   "source": [
    "X_np, Y_np = create_features(features_path, split_path)"
   ],
   "metadata": {
    "collapsed": false
   }
  },
  {
   "cell_type": "code",
   "execution_count": 15,
   "outputs": [],
   "source": [
    "X_train, X_test, Y_train, Y_test = train_test_split(X_np, Y_np, random_state=1)"
   ],
   "metadata": {
    "collapsed": false
   }
  },
  {
   "cell_type": "code",
   "execution_count": 16,
   "outputs": [
    {
     "data": {
      "text/plain": "array([[2.4309678 , 2.4448533 , 3.1502523 , ..., 0.85035396, 2.9974988 ,\n        3.2850015 ],\n       [2.4309678 , 1.9828519 , 3.3692758 , ..., 1.6137261 , 2.9836583 ,\n        3.2943852 ],\n       [2.4978356 , 2.1299543 , 3.7867532 , ..., 0.62893057, 3.4161572 ,\n        2.7701974 ],\n       ...,\n       [2.4309678 , 1.7141281 , 4.028397  , ..., 1.3595996 , 3.1440217 ,\n        1.9053471 ],\n       [2.4309678 , 2.0564501 , 3.5084522 , ..., 1.5454353 , 3.202906  ,\n        1.5542096 ],\n       [1.3508505 , 0.7575466 , 1.0809858 , ..., 0.34313738, 3.5183105 ,\n        1.4912078 ]], dtype=float32)"
     },
     "execution_count": 16,
     "metadata": {},
     "output_type": "execute_result"
    }
   ],
   "source": [
    "X_train"
   ],
   "metadata": {
    "collapsed": false
   }
  },
  {
   "cell_type": "code",
   "execution_count": 17,
   "outputs": [
    {
     "name": "stdout",
     "output_type": "stream",
     "text": [
      "(12352, 15360)\n",
      "(4118, 15360)\n",
      "(12352, 10)\n",
      "(4118, 10)\n"
     ]
    }
   ],
   "source": [
    "print(X_train.shape)\n",
    "print(X_test.shape)\n",
    "print(Y_train.shape)\n",
    "print(Y_test.shape)"
   ],
   "metadata": {
    "collapsed": false
   }
  },
  {
   "cell_type": "code",
   "execution_count": 18,
   "outputs": [
    {
     "name": "stdout",
     "output_type": "stream",
     "text": [
      "              precision    recall  f1-score   support\n",
      "\n",
      "           0       0.73      0.82      0.77      1043\n",
      "           1       0.80      0.75      0.77      1166\n",
      "           2       0.41      0.64      0.50       583\n",
      "           3       0.77      0.74      0.75       771\n",
      "           4       0.51      0.59      0.55       592\n",
      "           5       0.45      0.58      0.50       492\n",
      "           6       0.40      0.54      0.46       461\n",
      "           7       0.79      0.87      0.83       499\n",
      "           8       0.44      0.46      0.45       562\n",
      "           9       0.54      0.83      0.66       347\n",
      "\n",
      "   micro avg       0.60      0.70      0.65      6516\n",
      "   macro avg       0.58      0.68      0.62      6516\n",
      "weighted avg       0.62      0.70      0.65      6516\n",
      " samples avg       0.65      0.70      0.63      6516\n",
      "\n"
     ]
    }
   ],
   "source": [
    "import pickle\n",
    "from sklearn.exceptions import UndefinedMetricWarning\n",
    "from sklearn.metrics import classification_report\n",
    "from sklearn.neighbors import KNeighborsClassifier\n",
    "\n",
    "import warnings\n",
    "warnings.simplefilter(action='ignore', category=UndefinedMetricWarning)\n",
    "\n",
    "model = KNeighborsClassifier()\n",
    "model.fit(X_train, Y_train)\n",
    "y_pred = model.predict(X_test)\n",
    "print(classification_report(y_pred, Y_test))"
   ],
   "metadata": {
    "collapsed": false
   }
  },
  {
   "cell_type": "code",
   "execution_count": 19,
   "outputs": [],
   "source": [
    "model_filename_path = os.path.join(\"../models\", model.__class__.__name__)\n",
    "os.makedirs(model_filename_path, exist_ok=True)\n",
    "model_filename = os.path.join(model_filename_path, f\"{dataset_name}.bin\")\n",
    "pickle.dump(model, open(model_filename, 'wb+'))"
   ],
   "metadata": {
    "collapsed": false
   }
  },
  {
   "cell_type": "code",
   "execution_count": 20,
   "outputs": [
    {
     "name": "stdout",
     "output_type": "stream",
     "text": [
      "              precision    recall  f1-score   support\n",
      "\n",
      "           0       0.73      0.82      0.77      1043\n",
      "           1       0.80      0.75      0.77      1166\n",
      "           2       0.41      0.64      0.50       583\n",
      "           3       0.77      0.74      0.75       771\n",
      "           4       0.51      0.59      0.55       592\n",
      "           5       0.45      0.58      0.50       492\n",
      "           6       0.40      0.54      0.46       461\n",
      "           7       0.79      0.87      0.83       499\n",
      "           8       0.44      0.46      0.45       562\n",
      "           9       0.54      0.83      0.66       347\n",
      "\n",
      "   micro avg       0.60      0.70      0.65      6516\n",
      "   macro avg       0.58      0.68      0.62      6516\n",
      "weighted avg       0.62      0.70      0.65      6516\n",
      " samples avg       0.65      0.70      0.63      6516\n",
      "\n"
     ]
    }
   ],
   "source": [
    "loaded_model = pickle.load(open(\"../models/KNeighborsClassifier/mtat-10.bin\", 'rb'))\n",
    "y_pred = loaded_model.predict(X_test)\n",
    "print(classification_report(y_pred, Y_test))"
   ],
   "metadata": {
    "collapsed": false
   }
  },
  {
   "cell_type": "code",
   "execution_count": 24,
   "outputs": [],
   "source": [
    "import pandas as pd\n",
    "from src.components.preprocessor import OpenL3PreProcessor\n",
    "from src.components.common import Config\n",
    "\n",
    "\n",
    "class SklearnPredictor:\n",
    "    def __init__(self, config: Config, model_filename: str = None, cuda: bool = None):\n",
    "        if config is None:\n",
    "            config = Config()\n",
    "\n",
    "        tags_path = os.path.join(config.dataset_split_path, config.dataset_name, \"tags.npy\")\n",
    "        self.tags = np.load(tags_path, allow_pickle=True)\n",
    "\n",
    "        self.model_filename_path = config.model_filename_path\n",
    "        self.model_filename = model_filename\n",
    "\n",
    "        # cuda\n",
    "        self.is_cuda = torch.cuda.is_available() if cuda is None else cuda\n",
    "\n",
    "        self.data_path = config.data_path\n",
    "        self.input_length = config.input_length\n",
    "\n",
    "        self.preprocessor = OpenL3PreProcessor()\n",
    "\n",
    "    def predict_tags(self, mp3_file, model=None) -> pd.DataFrame:\n",
    "        if model is None:\n",
    "            model = pickle.load(open(os.path.join(self.model_filename_path, self.model_filename), \"rb\"))\n",
    "\n",
    "        out = self.predict_file(mp3_file, model).T\n",
    "        df = pd.DataFrame(out, index=self.tags)\n",
    "        df = df.reindex(df.mean(axis=1).sort_values(ascending=False).index)\n",
    "        return df\n",
    "\n",
    "    def predict_file(self, mp3_file, model=None):\n",
    "        if model is None:\n",
    "            model = pickle.load(open(os.path.join(self.model_filename_path, self.model_filename), \"rb\"))\n",
    "\n",
    "        return self.predict_data(self.preprocessor.process(mp3_file), model)\n",
    "\n",
    "    def predict_data(self, x, model=None):\n",
    "        if model is None:\n",
    "            model = pickle.load(open(os.path.join(self.model_filename_path, self.model_filename), \"rb\"))\n",
    "\n",
    "        return model.predict(x.reshape(1, -1))"
   ],
   "metadata": {
    "collapsed": false
   }
  },
  {
   "cell_type": "code",
   "execution_count": 25,
   "outputs": [],
   "source": [
    "file = \"../data/mtat/mp3/6/barry_phillips-trad-03-bisonpolska-88-117.mp3\"\n",
    "predictor = SklearnPredictor(Config(dataset_split_path=\"../split\", model_filename_path=\"../models\", dataset_name=\"mtat-10\"),\n",
    "                             model_filename=\"KNeighborsClassifier/mtat-10/model.bin\")"
   ],
   "metadata": {
    "collapsed": false
   }
  },
  {
   "cell_type": "code",
   "execution_count": 26,
   "outputs": [
    {
     "name": "stderr",
     "output_type": "stream",
     "text": [
      "/home/robak/.virtualenvs/labelthissongforme/lib/python3.10/site-packages/torchopenl3/models.py:200: UserWarning: Empty filters detected in mel frequency basis. Some channels will produce empty responses. Try increasing your sampling rate (and fmax) or reducing n_mels.\n",
      "  mel_basis = librosa.filters.mel(\n"
     ]
    },
    {
     "data": {
      "text/plain": "array([[0, 1, 0, 0, 1, 0, 0, 0, 0, 0, 0, 0, 1, 0, 0, 0, 0, 0, 0, 0, 0, 0,\n        0, 0, 0, 0, 0, 0, 0, 0, 0, 0, 0, 0, 0, 0, 0, 0, 0, 0, 0, 0, 0, 0,\n        0, 0, 0, 0, 0, 0]])"
     },
     "execution_count": 26,
     "metadata": {},
     "output_type": "execute_result"
    }
   ],
   "source": [
    "predictor.predict_file(file)"
   ],
   "metadata": {
    "collapsed": false
   }
  },
  {
   "cell_type": "code",
   "execution_count": null,
   "outputs": [],
   "source": [],
   "metadata": {
    "collapsed": false
   }
  }
 ],
 "metadata": {
  "kernelspec": {
   "display_name": "Python 3 (ipykernel)",
   "language": "python",
   "name": "python3"
  },
  "language_info": {
   "codemirror_mode": {
    "name": "ipython",
    "version": 3
   },
   "file_extension": ".py",
   "mimetype": "text/x-python",
   "name": "python",
   "nbconvert_exporter": "python",
   "pygments_lexer": "ipython3",
   "version": "3.10.6"
  }
 },
 "nbformat": 4,
 "nbformat_minor": 1
}
