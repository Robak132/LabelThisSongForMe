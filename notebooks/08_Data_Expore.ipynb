{
 "cells": [
  {
   "cell_type": "markdown",
   "metadata": {},
   "source": [
    "# Imports"
   ]
  },
  {
   "cell_type": "code",
   "execution_count": 1,
   "metadata": {
    "ExecuteTime": {
     "start_time": "2023-05-02T14:52:31.823927Z",
     "end_time": "2023-05-02T14:52:32.488863Z"
    }
   },
   "outputs": [],
   "source": [
    "import os\n",
    "import pandas as pd"
   ]
  },
  {
   "cell_type": "markdown",
   "metadata": {},
   "source": [
    "# Settings"
   ]
  },
  {
   "cell_type": "code",
   "execution_count": 2,
   "metadata": {
    "ExecuteTime": {
     "start_time": "2023-05-02T14:52:32.491863Z",
     "end_time": "2023-05-02T14:52:32.496862Z"
    }
   },
   "outputs": [],
   "source": [
    "file = \"../data/mtat/mp3/8/beth_quist-lucidity-01-crazy-204-233.mp3\"\n",
    "sr = 16000\n",
    "broken_tracks = [\n",
    "    \"6/norine_braun-now_and_zen-08-gently-117-146.mp3\",\n",
    "    \"8/jacob_heringman-josquin_des_prez_lute_settings-19-gintzler__pater_noster-204-233.mp3\",\n",
    "    \"9/american_baroque-dances_and_suites_of_rameau_and_couperin-25-le_petit_rien_xiveme_ordre_couperin-88-117.mp3\",\n",
    "    \"c/domased-new_memories-07-first_sun_rays-233-262.mp3\",\n",
    "    \"d/tim_rayborn-chordae-04-sempr_alegria-784-813.mp3\"\n",
    "]\n",
    "\n",
    "if not os.path.exists(\"images\"):\n",
    "    os.mkdir(\"images\")"
   ]
  },
  {
   "cell_type": "code",
   "execution_count": 3,
   "metadata": {
    "ExecuteTime": {
     "start_time": "2023-05-02T14:52:32.497865Z",
     "end_time": "2023-05-02T14:52:32.919559Z"
    }
   },
   "outputs": [
    {
     "data": {
      "text/plain": "         no voice  singer  duet  plucking  hard rock  world  bongos  \\\nclip_id                                                               \n2               0       0     0         0          0      0       0   \n6               0       0     0         0          0      0       0   \n10              0       0     0         0          0      0       0   \n11              0       0     0         0          0      0       0   \n12              0       0     0         0          0      0       0   \n...           ...     ...   ...       ...        ...    ...     ...   \n58899           0       0     0         0          0      0       0   \n58906           0       0     0         0          0      0       0   \n58907           0       0     0         0          0      0       0   \n58908           0       0     0         0          0      0       0   \n58915           0       0     0         0          0      0       0   \n\n         harpsichord  female singing  clasical  ...  female singer  rap  \\\nclip_id                                         ...                       \n2                  0               0         0  ...              0    0   \n6                  0               0         0  ...              0    0   \n10                 0               0         0  ...              0    0   \n11                 0               0         0  ...              0    0   \n12                 0               0         0  ...              0    0   \n...              ...             ...       ...  ...            ...  ...   \n58899              0               0         0  ...              0    0   \n58906              0               0         0  ...              0    0   \n58907              0               0         0  ...              0    0   \n58908              0               0         0  ...              0    0   \n58915              0               0         0  ...              0    0   \n\n         metal  hip hop  quick  water  baroque  women  fiddle  english  \nclip_id                                                                 \n2            0        0      0      0        0      0       0        0  \n6            0        0      0      0        1      0       0        0  \n10           0        0      0      0        0      0       0        0  \n11           0        0      0      0        0      0       0        0  \n12           0        0      0      0        0      0       0        0  \n...        ...      ...    ...    ...      ...    ...     ...      ...  \n58899        0        0      0      0        0      0       0        0  \n58906        0        0      0      0        0      0       0        0  \n58907        0        0      0      0        0      0       0        0  \n58908        0        0      0      0        0      0       0        0  \n58915        0        0      0      0        0      0       0        0  \n\n[25858 rows x 188 columns]",
      "text/html": "<div>\n<style scoped>\n    .dataframe tbody tr th:only-of-type {\n        vertical-align: middle;\n    }\n\n    .dataframe tbody tr th {\n        vertical-align: top;\n    }\n\n    .dataframe thead th {\n        text-align: right;\n    }\n</style>\n<table border=\"1\" class=\"dataframe\">\n  <thead>\n    <tr style=\"text-align: right;\">\n      <th></th>\n      <th>no voice</th>\n      <th>singer</th>\n      <th>duet</th>\n      <th>plucking</th>\n      <th>hard rock</th>\n      <th>world</th>\n      <th>bongos</th>\n      <th>harpsichord</th>\n      <th>female singing</th>\n      <th>clasical</th>\n      <th>...</th>\n      <th>female singer</th>\n      <th>rap</th>\n      <th>metal</th>\n      <th>hip hop</th>\n      <th>quick</th>\n      <th>water</th>\n      <th>baroque</th>\n      <th>women</th>\n      <th>fiddle</th>\n      <th>english</th>\n    </tr>\n    <tr>\n      <th>clip_id</th>\n      <th></th>\n      <th></th>\n      <th></th>\n      <th></th>\n      <th></th>\n      <th></th>\n      <th></th>\n      <th></th>\n      <th></th>\n      <th></th>\n      <th></th>\n      <th></th>\n      <th></th>\n      <th></th>\n      <th></th>\n      <th></th>\n      <th></th>\n      <th></th>\n      <th></th>\n      <th></th>\n      <th></th>\n    </tr>\n  </thead>\n  <tbody>\n    <tr>\n      <th>2</th>\n      <td>0</td>\n      <td>0</td>\n      <td>0</td>\n      <td>0</td>\n      <td>0</td>\n      <td>0</td>\n      <td>0</td>\n      <td>0</td>\n      <td>0</td>\n      <td>0</td>\n      <td>...</td>\n      <td>0</td>\n      <td>0</td>\n      <td>0</td>\n      <td>0</td>\n      <td>0</td>\n      <td>0</td>\n      <td>0</td>\n      <td>0</td>\n      <td>0</td>\n      <td>0</td>\n    </tr>\n    <tr>\n      <th>6</th>\n      <td>0</td>\n      <td>0</td>\n      <td>0</td>\n      <td>0</td>\n      <td>0</td>\n      <td>0</td>\n      <td>0</td>\n      <td>0</td>\n      <td>0</td>\n      <td>0</td>\n      <td>...</td>\n      <td>0</td>\n      <td>0</td>\n      <td>0</td>\n      <td>0</td>\n      <td>0</td>\n      <td>0</td>\n      <td>1</td>\n      <td>0</td>\n      <td>0</td>\n      <td>0</td>\n    </tr>\n    <tr>\n      <th>10</th>\n      <td>0</td>\n      <td>0</td>\n      <td>0</td>\n      <td>0</td>\n      <td>0</td>\n      <td>0</td>\n      <td>0</td>\n      <td>0</td>\n      <td>0</td>\n      <td>0</td>\n      <td>...</td>\n      <td>0</td>\n      <td>0</td>\n      <td>0</td>\n      <td>0</td>\n      <td>0</td>\n      <td>0</td>\n      <td>0</td>\n      <td>0</td>\n      <td>0</td>\n      <td>0</td>\n    </tr>\n    <tr>\n      <th>11</th>\n      <td>0</td>\n      <td>0</td>\n      <td>0</td>\n      <td>0</td>\n      <td>0</td>\n      <td>0</td>\n      <td>0</td>\n      <td>0</td>\n      <td>0</td>\n      <td>0</td>\n      <td>...</td>\n      <td>0</td>\n      <td>0</td>\n      <td>0</td>\n      <td>0</td>\n      <td>0</td>\n      <td>0</td>\n      <td>0</td>\n      <td>0</td>\n      <td>0</td>\n      <td>0</td>\n    </tr>\n    <tr>\n      <th>12</th>\n      <td>0</td>\n      <td>0</td>\n      <td>0</td>\n      <td>0</td>\n      <td>0</td>\n      <td>0</td>\n      <td>0</td>\n      <td>0</td>\n      <td>0</td>\n      <td>0</td>\n      <td>...</td>\n      <td>0</td>\n      <td>0</td>\n      <td>0</td>\n      <td>0</td>\n      <td>0</td>\n      <td>0</td>\n      <td>0</td>\n      <td>0</td>\n      <td>0</td>\n      <td>0</td>\n    </tr>\n    <tr>\n      <th>...</th>\n      <td>...</td>\n      <td>...</td>\n      <td>...</td>\n      <td>...</td>\n      <td>...</td>\n      <td>...</td>\n      <td>...</td>\n      <td>...</td>\n      <td>...</td>\n      <td>...</td>\n      <td>...</td>\n      <td>...</td>\n      <td>...</td>\n      <td>...</td>\n      <td>...</td>\n      <td>...</td>\n      <td>...</td>\n      <td>...</td>\n      <td>...</td>\n      <td>...</td>\n      <td>...</td>\n    </tr>\n    <tr>\n      <th>58899</th>\n      <td>0</td>\n      <td>0</td>\n      <td>0</td>\n      <td>0</td>\n      <td>0</td>\n      <td>0</td>\n      <td>0</td>\n      <td>0</td>\n      <td>0</td>\n      <td>0</td>\n      <td>...</td>\n      <td>0</td>\n      <td>0</td>\n      <td>0</td>\n      <td>0</td>\n      <td>0</td>\n      <td>0</td>\n      <td>0</td>\n      <td>0</td>\n      <td>0</td>\n      <td>0</td>\n    </tr>\n    <tr>\n      <th>58906</th>\n      <td>0</td>\n      <td>0</td>\n      <td>0</td>\n      <td>0</td>\n      <td>0</td>\n      <td>0</td>\n      <td>0</td>\n      <td>0</td>\n      <td>0</td>\n      <td>0</td>\n      <td>...</td>\n      <td>0</td>\n      <td>0</td>\n      <td>0</td>\n      <td>0</td>\n      <td>0</td>\n      <td>0</td>\n      <td>0</td>\n      <td>0</td>\n      <td>0</td>\n      <td>0</td>\n    </tr>\n    <tr>\n      <th>58907</th>\n      <td>0</td>\n      <td>0</td>\n      <td>0</td>\n      <td>0</td>\n      <td>0</td>\n      <td>0</td>\n      <td>0</td>\n      <td>0</td>\n      <td>0</td>\n      <td>0</td>\n      <td>...</td>\n      <td>0</td>\n      <td>0</td>\n      <td>0</td>\n      <td>0</td>\n      <td>0</td>\n      <td>0</td>\n      <td>0</td>\n      <td>0</td>\n      <td>0</td>\n      <td>0</td>\n    </tr>\n    <tr>\n      <th>58908</th>\n      <td>0</td>\n      <td>0</td>\n      <td>0</td>\n      <td>0</td>\n      <td>0</td>\n      <td>0</td>\n      <td>0</td>\n      <td>0</td>\n      <td>0</td>\n      <td>0</td>\n      <td>...</td>\n      <td>0</td>\n      <td>0</td>\n      <td>0</td>\n      <td>0</td>\n      <td>0</td>\n      <td>0</td>\n      <td>0</td>\n      <td>0</td>\n      <td>0</td>\n      <td>0</td>\n    </tr>\n    <tr>\n      <th>58915</th>\n      <td>0</td>\n      <td>0</td>\n      <td>0</td>\n      <td>0</td>\n      <td>0</td>\n      <td>0</td>\n      <td>0</td>\n      <td>0</td>\n      <td>0</td>\n      <td>0</td>\n      <td>...</td>\n      <td>0</td>\n      <td>0</td>\n      <td>0</td>\n      <td>0</td>\n      <td>0</td>\n      <td>0</td>\n      <td>0</td>\n      <td>0</td>\n      <td>0</td>\n      <td>0</td>\n    </tr>\n  </tbody>\n</table>\n<p>25858 rows × 188 columns</p>\n</div>"
     },
     "execution_count": 3,
     "metadata": {},
     "output_type": "execute_result"
    }
   ],
   "source": [
    "adnotations = pd.read_csv('../data/mtat/annotations_final.csv', sep='\\t', index_col=\"clip_id\")\n",
    "adnotations = adnotations[~adnotations[\"mp3_path\"].isin(broken_tracks)]\n",
    "adnotations = adnotations.filter(regex='[^mp3_path]')\n",
    "adnotations"
   ]
  },
  {
   "cell_type": "code",
   "execution_count": 4,
   "outputs": [
    {
     "data": {
      "text/plain": "no voice     573\nsinger       147\nduet          74\nplucking      69\nhard rock    274\n            ... \nwater         83\nbaroque      296\nwomen        100\nfiddle        86\nenglish       61\nLength: 188, dtype: int64"
     },
     "execution_count": 4,
     "metadata": {},
     "output_type": "execute_result"
    }
   ],
   "source": [
    "all_tags = adnotations.sum()\n",
    "all_tags"
   ],
   "metadata": {
    "collapsed": false,
    "ExecuteTime": {
     "start_time": "2023-05-02T14:52:32.919559Z",
     "end_time": "2023-05-02T14:52:32.927477Z"
    }
   }
  },
  {
   "cell_type": "markdown",
   "source": [
    "## Analiza dla 20 najbardziej licznych tagów"
   ],
   "metadata": {
    "collapsed": false
   }
  },
  {
   "cell_type": "code",
   "execution_count": 5,
   "outputs": [
    {
     "data": {
      "text/plain": "guitar        4851\nclassical     4269\nslow          3547\ntechno        2953\nstrings       2726\ndrums         2598\nelectronic    2519\nrock          2371\nfast          2304\npiano         2056\nambient       1956\nbeat          1906\nviolin        1826\nvocal         1729\nsynth         1716\nfemale        1474\nindian        1395\nopera         1296\nmale          1279\nsinging       1211\ndtype: int64"
     },
     "execution_count": 5,
     "metadata": {},
     "output_type": "execute_result"
    }
   ],
   "source": [
    "tags = adnotations.sum().nlargest(20)\n",
    "tags"
   ],
   "metadata": {
    "collapsed": false,
    "ExecuteTime": {
     "start_time": "2023-05-02T14:52:32.927477Z",
     "end_time": "2023-05-02T14:52:32.940173Z"
    }
   }
  },
  {
   "cell_type": "code",
   "execution_count": 6,
   "outputs": [
    {
     "data": {
      "text/plain": "         guitar  classical  slow  techno  strings  drums  electronic  rock  \\\nclip_id                                                                      \n2             0          1     0       0        1      0           0     0   \n6             0          1     0       0        1      0           0     0   \n10            0          1     0       0        0      0           0     0   \n11            0          0     0       0        0      0           0     0   \n12            0          1     0       0        1      0           0     0   \n...         ...        ...   ...     ...      ...    ...         ...   ...   \n58899         1          0     0       0        0      0           0     0   \n58906         1          0     1       0        1      0           0     0   \n58907         1          1     1       0        1      0           0     0   \n58908         1          1     1       0        0      0           0     0   \n58915         1          1     1       0        0      0           0     0   \n\n         fast  piano  ambient  beat  violin  vocal  synth  female  indian  \\\nclip_id                                                                     \n2           0      0        0     0       1      0      0       0       0   \n6           0      0        0     0       1      0      0       0       0   \n10          0      0        0     0       0      0      0       0       0   \n11          0      0        0     0       0      0      0       0       0   \n12          0      0        0     0       1      0      0       0       0   \n...       ...    ...      ...   ...     ...    ...    ...     ...     ...   \n58899       0      0        0     0       0      0      0       0       0   \n58906       0      0        0     0       0      0      0       0       0   \n58907       0      0        0     0       0      0      0       0       0   \n58908       0      0        0     0       0      0      0       0       0   \n58915       0      0        0     0       0      0      0       0       0   \n\n         opera  male  singing  \nclip_id                        \n2            1     0        0  \n6            1     0        0  \n10           1     0        0  \n11           1     0        0  \n12           0     0        0  \n...        ...   ...      ...  \n58899        0     0        0  \n58906        0     0        0  \n58907        0     0        0  \n58908        0     0        0  \n58915        0     0        0  \n\n[19718 rows x 20 columns]",
      "text/html": "<div>\n<style scoped>\n    .dataframe tbody tr th:only-of-type {\n        vertical-align: middle;\n    }\n\n    .dataframe tbody tr th {\n        vertical-align: top;\n    }\n\n    .dataframe thead th {\n        text-align: right;\n    }\n</style>\n<table border=\"1\" class=\"dataframe\">\n  <thead>\n    <tr style=\"text-align: right;\">\n      <th></th>\n      <th>guitar</th>\n      <th>classical</th>\n      <th>slow</th>\n      <th>techno</th>\n      <th>strings</th>\n      <th>drums</th>\n      <th>electronic</th>\n      <th>rock</th>\n      <th>fast</th>\n      <th>piano</th>\n      <th>ambient</th>\n      <th>beat</th>\n      <th>violin</th>\n      <th>vocal</th>\n      <th>synth</th>\n      <th>female</th>\n      <th>indian</th>\n      <th>opera</th>\n      <th>male</th>\n      <th>singing</th>\n    </tr>\n    <tr>\n      <th>clip_id</th>\n      <th></th>\n      <th></th>\n      <th></th>\n      <th></th>\n      <th></th>\n      <th></th>\n      <th></th>\n      <th></th>\n      <th></th>\n      <th></th>\n      <th></th>\n      <th></th>\n      <th></th>\n      <th></th>\n      <th></th>\n      <th></th>\n      <th></th>\n      <th></th>\n      <th></th>\n      <th></th>\n    </tr>\n  </thead>\n  <tbody>\n    <tr>\n      <th>2</th>\n      <td>0</td>\n      <td>1</td>\n      <td>0</td>\n      <td>0</td>\n      <td>1</td>\n      <td>0</td>\n      <td>0</td>\n      <td>0</td>\n      <td>0</td>\n      <td>0</td>\n      <td>0</td>\n      <td>0</td>\n      <td>1</td>\n      <td>0</td>\n      <td>0</td>\n      <td>0</td>\n      <td>0</td>\n      <td>1</td>\n      <td>0</td>\n      <td>0</td>\n    </tr>\n    <tr>\n      <th>6</th>\n      <td>0</td>\n      <td>1</td>\n      <td>0</td>\n      <td>0</td>\n      <td>1</td>\n      <td>0</td>\n      <td>0</td>\n      <td>0</td>\n      <td>0</td>\n      <td>0</td>\n      <td>0</td>\n      <td>0</td>\n      <td>1</td>\n      <td>0</td>\n      <td>0</td>\n      <td>0</td>\n      <td>0</td>\n      <td>1</td>\n      <td>0</td>\n      <td>0</td>\n    </tr>\n    <tr>\n      <th>10</th>\n      <td>0</td>\n      <td>1</td>\n      <td>0</td>\n      <td>0</td>\n      <td>0</td>\n      <td>0</td>\n      <td>0</td>\n      <td>0</td>\n      <td>0</td>\n      <td>0</td>\n      <td>0</td>\n      <td>0</td>\n      <td>0</td>\n      <td>0</td>\n      <td>0</td>\n      <td>0</td>\n      <td>0</td>\n      <td>1</td>\n      <td>0</td>\n      <td>0</td>\n    </tr>\n    <tr>\n      <th>11</th>\n      <td>0</td>\n      <td>0</td>\n      <td>0</td>\n      <td>0</td>\n      <td>0</td>\n      <td>0</td>\n      <td>0</td>\n      <td>0</td>\n      <td>0</td>\n      <td>0</td>\n      <td>0</td>\n      <td>0</td>\n      <td>0</td>\n      <td>0</td>\n      <td>0</td>\n      <td>0</td>\n      <td>0</td>\n      <td>1</td>\n      <td>0</td>\n      <td>0</td>\n    </tr>\n    <tr>\n      <th>12</th>\n      <td>0</td>\n      <td>1</td>\n      <td>0</td>\n      <td>0</td>\n      <td>1</td>\n      <td>0</td>\n      <td>0</td>\n      <td>0</td>\n      <td>0</td>\n      <td>0</td>\n      <td>0</td>\n      <td>0</td>\n      <td>1</td>\n      <td>0</td>\n      <td>0</td>\n      <td>0</td>\n      <td>0</td>\n      <td>0</td>\n      <td>0</td>\n      <td>0</td>\n    </tr>\n    <tr>\n      <th>...</th>\n      <td>...</td>\n      <td>...</td>\n      <td>...</td>\n      <td>...</td>\n      <td>...</td>\n      <td>...</td>\n      <td>...</td>\n      <td>...</td>\n      <td>...</td>\n      <td>...</td>\n      <td>...</td>\n      <td>...</td>\n      <td>...</td>\n      <td>...</td>\n      <td>...</td>\n      <td>...</td>\n      <td>...</td>\n      <td>...</td>\n      <td>...</td>\n      <td>...</td>\n    </tr>\n    <tr>\n      <th>58899</th>\n      <td>1</td>\n      <td>0</td>\n      <td>0</td>\n      <td>0</td>\n      <td>0</td>\n      <td>0</td>\n      <td>0</td>\n      <td>0</td>\n      <td>0</td>\n      <td>0</td>\n      <td>0</td>\n      <td>0</td>\n      <td>0</td>\n      <td>0</td>\n      <td>0</td>\n      <td>0</td>\n      <td>0</td>\n      <td>0</td>\n      <td>0</td>\n      <td>0</td>\n    </tr>\n    <tr>\n      <th>58906</th>\n      <td>1</td>\n      <td>0</td>\n      <td>1</td>\n      <td>0</td>\n      <td>1</td>\n      <td>0</td>\n      <td>0</td>\n      <td>0</td>\n      <td>0</td>\n      <td>0</td>\n      <td>0</td>\n      <td>0</td>\n      <td>0</td>\n      <td>0</td>\n      <td>0</td>\n      <td>0</td>\n      <td>0</td>\n      <td>0</td>\n      <td>0</td>\n      <td>0</td>\n    </tr>\n    <tr>\n      <th>58907</th>\n      <td>1</td>\n      <td>1</td>\n      <td>1</td>\n      <td>0</td>\n      <td>1</td>\n      <td>0</td>\n      <td>0</td>\n      <td>0</td>\n      <td>0</td>\n      <td>0</td>\n      <td>0</td>\n      <td>0</td>\n      <td>0</td>\n      <td>0</td>\n      <td>0</td>\n      <td>0</td>\n      <td>0</td>\n      <td>0</td>\n      <td>0</td>\n      <td>0</td>\n    </tr>\n    <tr>\n      <th>58908</th>\n      <td>1</td>\n      <td>1</td>\n      <td>1</td>\n      <td>0</td>\n      <td>0</td>\n      <td>0</td>\n      <td>0</td>\n      <td>0</td>\n      <td>0</td>\n      <td>0</td>\n      <td>0</td>\n      <td>0</td>\n      <td>0</td>\n      <td>0</td>\n      <td>0</td>\n      <td>0</td>\n      <td>0</td>\n      <td>0</td>\n      <td>0</td>\n      <td>0</td>\n    </tr>\n    <tr>\n      <th>58915</th>\n      <td>1</td>\n      <td>1</td>\n      <td>1</td>\n      <td>0</td>\n      <td>0</td>\n      <td>0</td>\n      <td>0</td>\n      <td>0</td>\n      <td>0</td>\n      <td>0</td>\n      <td>0</td>\n      <td>0</td>\n      <td>0</td>\n      <td>0</td>\n      <td>0</td>\n      <td>0</td>\n      <td>0</td>\n      <td>0</td>\n      <td>0</td>\n      <td>0</td>\n    </tr>\n  </tbody>\n</table>\n<p>19718 rows × 20 columns</p>\n</div>"
     },
     "execution_count": 6,
     "metadata": {},
     "output_type": "execute_result"
    }
   ],
   "source": [
    "adnotations_n = adnotations[tags.keys().to_numpy('str')]\n",
    "indexes_to_keep = adnotations_n[adnotations_n.sum(axis=1) != 0].index.values\n",
    "adnotations_n = adnotations_n[adnotations_n.index.isin(indexes_to_keep)]\n",
    "adnotations_n"
   ],
   "metadata": {
    "collapsed": false,
    "ExecuteTime": {
     "start_time": "2023-05-02T14:52:32.944694Z",
     "end_time": "2023-05-02T14:52:32.982192Z"
    }
   }
  },
  {
   "cell_type": "markdown",
   "source": [
    "### Liczba tagów"
   ],
   "metadata": {
    "collapsed": false
   }
  },
  {
   "cell_type": "code",
   "execution_count": 7,
   "outputs": [
    {
     "data": {
      "text/plain": "               0\nguitar      4851\nclassical   4269\nslow        3547\ntechno      2953\nstrings     2726\ndrums       2598\nelectronic  2519\nrock        2371\nfast        2304\npiano       2056\nambient     1956\nbeat        1906\nviolin      1826\nvocal       1729\nsynth       1716\nfemale      1474\nindian      1395\nopera       1296\nmale        1279\nsinging     1211",
      "text/html": "<div>\n<style scoped>\n    .dataframe tbody tr th:only-of-type {\n        vertical-align: middle;\n    }\n\n    .dataframe tbody tr th {\n        vertical-align: top;\n    }\n\n    .dataframe thead th {\n        text-align: right;\n    }\n</style>\n<table border=\"1\" class=\"dataframe\">\n  <thead>\n    <tr style=\"text-align: right;\">\n      <th></th>\n      <th>0</th>\n    </tr>\n  </thead>\n  <tbody>\n    <tr>\n      <th>guitar</th>\n      <td>4851</td>\n    </tr>\n    <tr>\n      <th>classical</th>\n      <td>4269</td>\n    </tr>\n    <tr>\n      <th>slow</th>\n      <td>3547</td>\n    </tr>\n    <tr>\n      <th>techno</th>\n      <td>2953</td>\n    </tr>\n    <tr>\n      <th>strings</th>\n      <td>2726</td>\n    </tr>\n    <tr>\n      <th>drums</th>\n      <td>2598</td>\n    </tr>\n    <tr>\n      <th>electronic</th>\n      <td>2519</td>\n    </tr>\n    <tr>\n      <th>rock</th>\n      <td>2371</td>\n    </tr>\n    <tr>\n      <th>fast</th>\n      <td>2304</td>\n    </tr>\n    <tr>\n      <th>piano</th>\n      <td>2056</td>\n    </tr>\n    <tr>\n      <th>ambient</th>\n      <td>1956</td>\n    </tr>\n    <tr>\n      <th>beat</th>\n      <td>1906</td>\n    </tr>\n    <tr>\n      <th>violin</th>\n      <td>1826</td>\n    </tr>\n    <tr>\n      <th>vocal</th>\n      <td>1729</td>\n    </tr>\n    <tr>\n      <th>synth</th>\n      <td>1716</td>\n    </tr>\n    <tr>\n      <th>female</th>\n      <td>1474</td>\n    </tr>\n    <tr>\n      <th>indian</th>\n      <td>1395</td>\n    </tr>\n    <tr>\n      <th>opera</th>\n      <td>1296</td>\n    </tr>\n    <tr>\n      <th>male</th>\n      <td>1279</td>\n    </tr>\n    <tr>\n      <th>singing</th>\n      <td>1211</td>\n    </tr>\n  </tbody>\n</table>\n</div>"
     },
     "execution_count": 7,
     "metadata": {},
     "output_type": "execute_result"
    }
   ],
   "source": [
    "tags_count = tags.to_frame()\n",
    "tags_count"
   ],
   "metadata": {
    "collapsed": false,
    "ExecuteTime": {
     "start_time": "2023-05-02T14:52:32.965980Z",
     "end_time": "2023-05-02T14:52:33.022625Z"
    }
   }
  },
  {
   "cell_type": "code",
   "execution_count": null,
   "outputs": [],
   "source": [
    "import plotly.graph_objs as go\n",
    "\n",
    "data = [go.Bar(y=tags_count.index,\n",
    "               x=tags_count[0],\n",
    "               text=tags_count[0],\n",
    "               textposition=\"outside\",\n",
    "               orientation = 'h')]\n",
    "layout = ({\"title\": {\"text\":\"Liczba utworów otagowanych przez określoną etykietę (30 najbardziej licznych etykiet)\", \"x\": 0.5},\n",
    "           \"yaxis\": {\"title\":\"Etykieta\", \"autorange\": \"reversed\"},\n",
    "           \"xaxis\": {\"title\":\"Liczba utwórów\"},\n",
    "           \"showlegend\": False,\n",
    "           \"template\": \"plotly_white\"})\n",
    "\n",
    "fig = go.Figure(data = data, layout = layout)\n",
    "fig.show()\n",
    "fig.write_image(\"images/fig1.png\", width=1000, height=750)"
   ],
   "metadata": {
    "collapsed": false,
    "ExecuteTime": {
     "start_time": "2023-04-17T22:49:08.906817Z",
     "end_time": "2023-04-17T22:49:10.598011Z"
    },
    "pycharm": {
     "is_executing": true
    }
   }
  },
  {
   "cell_type": "markdown",
   "source": [
    "### Liczba unikalnych tagów (tylko 1 przy utworze)"
   ],
   "metadata": {
    "collapsed": false
   }
  },
  {
   "cell_type": "code",
   "execution_count": null,
   "outputs": [],
   "source": [
    "unique_tags = adnotations_n[adnotations_n.sum(axis=1) == 1]\n",
    "unique_tags = unique_tags.sum().sort_values(ascending=False).to_frame()\n",
    "unique_tags"
   ],
   "metadata": {
    "collapsed": false,
    "ExecuteTime": {
     "start_time": "2023-04-17T22:49:10.602174Z",
     "end_time": "2023-04-17T22:49:10.631566Z"
    },
    "pycharm": {
     "is_executing": true
    }
   }
  },
  {
   "cell_type": "code",
   "execution_count": null,
   "outputs": [],
   "source": [
    "import plotly.graph_objs as go\n",
    "\n",
    "data = [go.Bar(y=unique_tags.index,\n",
    "               x=unique_tags[0],\n",
    "               text=unique_tags[0],\n",
    "               textposition=\"outside\",\n",
    "               orientation = 'h')]\n",
    "layout = ({\"title\": {\"text\":\"Liczba utworów otagowanych przez tylko jedną etykietę (30 najbardziej licznych etykiet)\", \"x\": 0.5},\n",
    "           \"yaxis\": {\"title\":\"Etykieta\", \"autorange\": \"reversed\"},\n",
    "           \"xaxis\": {\"title\":\"Liczba utwórów\"},\n",
    "           \"showlegend\": False,\n",
    "           \"template\": \"plotly_white\"})\n",
    "\n",
    "fig = go.Figure(data = data, layout = layout)\n",
    "fig.show()\n",
    "fig.write_image(\"images/fig2.png\", width=1000, height=750)"
   ],
   "metadata": {
    "collapsed": false,
    "ExecuteTime": {
     "start_time": "2023-04-17T22:49:10.626381Z",
     "end_time": "2023-04-17T22:49:11.045619Z"
    },
    "pycharm": {
     "is_executing": true
    }
   }
  },
  {
   "cell_type": "code",
   "execution_count": null,
   "outputs": [],
   "source": [
    "tags_unique_ratio = tags_count.rename(columns={0: \"all\"}).join(unique_tags.rename(columns={0: \"unique\"}))\n",
    "tags_unique_ratio[\"ratio\"] = tags_unique_ratio[\"unique\"] / tags_unique_ratio[\"all\"]\n",
    "tags_unique_ratio = tags_unique_ratio.sort_values(by=['ratio'], ascending=False)\n",
    "tags_unique_ratio"
   ],
   "metadata": {
    "collapsed": false,
    "ExecuteTime": {
     "start_time": "2023-04-17T22:49:10.748791Z",
     "end_time": "2023-04-17T22:49:11.045619Z"
    },
    "pycharm": {
     "is_executing": true
    }
   }
  },
  {
   "cell_type": "code",
   "execution_count": null,
   "outputs": [],
   "source": [
    "import plotly.graph_objs as go\n",
    "\n",
    "data = [go.Bar(y=tags_unique_ratio.index,\n",
    "               x=tags_unique_ratio.ratio,\n",
    "               text=round(tags_unique_ratio.ratio, 4),\n",
    "               textposition=\"outside\",\n",
    "               orientation = 'h')]\n",
    "layout = ({\"title\": {\"text\":\"Stosunek liczby utworów z unikalnym tagiem do wszystkich utworów etykietowanych tym tagiem\", \"x\": 0.5},\n",
    "           \"yaxis\": {\"title\":\"Etykieta\", \"autorange\": \"reversed\"},\n",
    "           \"xaxis\": {\"title\":\"Utwory z unikalnym tagiem / wszystkie utwory z tagiem\"},\n",
    "           \"showlegend\": False,\n",
    "           \"template\": \"plotly_white\"})\n",
    "\n",
    "fig = go.Figure(data = data, layout = layout)\n",
    "fig.show()\n",
    "fig.write_image(\"images/fig4.png\", width=1100, height=750)"
   ],
   "metadata": {
    "collapsed": false,
    "ExecuteTime": {
     "start_time": "2023-04-17T22:49:10.766682Z",
     "end_time": "2023-04-17T22:49:11.046677Z"
    },
    "pycharm": {
     "is_executing": true
    }
   }
  },
  {
   "cell_type": "markdown",
   "source": [
    "### Liczba etykiet przy utworze"
   ],
   "metadata": {
    "collapsed": false
   }
  },
  {
   "cell_type": "code",
   "execution_count": null,
   "outputs": [],
   "source": [
    "import numpy as np\n",
    "tags_hist = adnotations_n.sum(axis=1).sort_values(ascending=False).to_frame()\n",
    "tags_hist"
   ],
   "metadata": {
    "collapsed": false,
    "ExecuteTime": {
     "start_time": "2023-04-17T22:49:10.903209Z",
     "end_time": "2023-04-17T22:49:11.046677Z"
    },
    "pycharm": {
     "is_executing": true
    }
   }
  },
  {
   "cell_type": "code",
   "execution_count": null,
   "outputs": [],
   "source": [
    "print(f\"Min: {np.round(np.min(tags_hist.values), 2)}\")\n",
    "print(f\"Mean: {np.round(np.mean(tags_hist.values), 2)}\")\n",
    "print(f\"Median: {np.round(np.median(tags_hist.values), 2)}\")\n",
    "print(f\"Std: {np.round(np.std(tags_hist.values), 2)}\")\n",
    "print(f\"Max: {np.round(np.max(tags_hist.values), 2)}\")"
   ],
   "metadata": {
    "collapsed": false,
    "ExecuteTime": {
     "start_time": "2023-04-17T22:49:10.917457Z",
     "end_time": "2023-04-17T22:49:11.047184Z"
    },
    "pycharm": {
     "is_executing": true
    }
   }
  },
  {
   "cell_type": "code",
   "execution_count": null,
   "outputs": [],
   "source": [
    "import plotly.graph_objs as go\n",
    "\n",
    "counts, bins = np.histogram(tags_hist[0], bins=range(1, 12))\n",
    "data = [go.Bar(x=bins, y=counts, text=counts, textposition=\"outside\")]\n",
    "layout = ({\"title\": {\"text\":\"Liczba tagów przypisanych do utworu (30 najbardziej licznych etykiet)\", \"x\": 0.5},\n",
    "           \"yaxis\": {\"title\":\"Liczba utworów\"},\n",
    "           \"xaxis\": {\"title\":\"Liczba tagów\", \"tickmode\": 'linear'},\n",
    "           \"showlegend\": False,\n",
    "           \"template\": \"plotly_white\"})\n",
    "\n",
    "fig = go.Figure(data = data, layout = layout)\n",
    "fig.update_traces(textposition='outside')\n",
    "fig.show()\n",
    "fig.write_image(\"images/fig3.png\", width=750, height=500)"
   ],
   "metadata": {
    "collapsed": false,
    "ExecuteTime": {
     "start_time": "2023-04-17T23:01:25.445083Z",
     "end_time": "2023-04-17T23:01:25.554763Z"
    },
    "pycharm": {
     "is_executing": true
    }
   }
  },
  {
   "cell_type": "markdown",
   "metadata": {},
   "source": [
    "# MelSpectrogram"
   ]
  },
  {
   "cell_type": "code",
   "execution_count": null,
   "metadata": {
    "ExecuteTime": {
     "start_time": "2023-04-17T22:49:11.020121Z",
     "end_time": "2023-04-17T22:49:14.856862Z"
    },
    "pycharm": {
     "is_executing": true
    }
   },
   "outputs": [],
   "source": [
    "from torch import Tensor, flatten\n",
    "from components.common import convert_mp3_to_npy\n",
    "from torchaudio.transforms import AmplitudeToDB, MelSpectrogram\n",
    "\n",
    "to_db = AmplitudeToDB()\n",
    "spec = MelSpectrogram(sample_rate=sr,\n",
    "                             n_fft=512,\n",
    "                             f_min=0.0,\n",
    "                             f_max=8000.0,\n",
    "                             n_mels=50)\n",
    "data = convert_mp3_to_npy(file, sr)\n",
    "data = Tensor(data.reshape(1, -1))\n",
    "data = spec(data)\n",
    "print(data.shape)\n",
    "print(flatten(data).shape)\n",
    "data"
   ]
  },
  {
   "cell_type": "markdown",
   "metadata": {},
   "source": [
    "# OpenL3"
   ]
  },
  {
   "cell_type": "code",
   "execution_count": null,
   "metadata": {
    "ExecuteTime": {
     "start_time": "2023-04-17T22:49:14.857862Z",
     "end_time": "2023-04-17T22:50:24.787825Z"
    },
    "pycharm": {
     "is_executing": true
    }
   },
   "outputs": [],
   "source": [
    "from components.preprocessor import OpenL3PreProcessor\n",
    "\n",
    "preprocessor = OpenL3PreProcessor()\n",
    "data = preprocessor.process(file)\n",
    "print(data.shape)\n",
    "print(data.flatten().shape)\n",
    "data"
   ]
  },
  {
   "cell_type": "code",
   "execution_count": null,
   "metadata": {
    "ExecuteTime": {
     "start_time": "2023-04-17T22:50:24.748000Z",
     "end_time": "2023-04-17T22:50:24.794922Z"
    },
    "pycharm": {
     "is_executing": true
    }
   },
   "outputs": [],
   "source": []
  }
 ],
 "metadata": {
  "kernelspec": {
   "display_name": "Python 3 (ipykernel)",
   "language": "python",
   "name": "python3"
  },
  "language_info": {
   "codemirror_mode": {
    "name": "ipython",
    "version": 3
   },
   "file_extension": ".py",
   "mimetype": "text/x-python",
   "name": "python",
   "nbconvert_exporter": "python",
   "pygments_lexer": "ipython3",
   "version": "3.10.6"
  }
 },
 "nbformat": 4,
 "nbformat_minor": 1
}
